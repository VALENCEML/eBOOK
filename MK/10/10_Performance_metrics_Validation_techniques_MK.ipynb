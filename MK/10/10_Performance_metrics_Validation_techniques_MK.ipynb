{
 "cells": [
  {
   "cell_type": "markdown",
   "id": "0d747a30",
   "metadata": {
    "id": "0d747a30"
   },
   "source": [
    "# 10. Метрики за перформансот на моделите и техники на валидација  \n",
    "\n",
    "(од Ѓорѓи Новески, Институт Јожеф Штефан, Словенија)  "
   ]
  },
  {
   "cell_type": "markdown",
   "id": "a1875736",
   "metadata": {
    "id": "a1875736"
   },
   "source": [
    "Оценувањето на алгоритмите за машинско учење е суштински дел од секој проект. Во ова поглавје ќе ги опфатиме стандардните метрики и техники за евалуација на дадениот модел. Ќе почнеме со увоз на вообичаени ML пакети.  "
   ]
  },
  {
   "cell_type": "code",
   "execution_count": 1,
   "id": "KCrgF8CdT4EZ",
   "metadata": {
    "id": "KCrgF8CdT4EZ"
   },
   "outputs": [],
   "source": [
    "import pandas\n",
    "import numpy as np\n",
    "from sklearn.svm import SVC\n",
    "from sklearn.model_selection import train_test_split, cross_val_score\n",
    "from sklearn.metrics import confusion_matrix, ConfusionMatrixDisplay, precision_score, accuracy_score, recall_score, roc_curve, auc, RocCurveDisplay\n",
    "np.random.seed(41)"
   ]
  },
  {
   "cell_type": "markdown",
   "id": "k-po0_ORT4Ea",
   "metadata": {
    "id": "k-po0_ORT4Ea"
   },
   "source": [
    "Во овој пример ќе разгледаме една заедничка база на податоци која е за типот на цвеќе на ирисот. Има информации за 3 типа цветови на ирис, ирис-сетоза, ирис-виргиница, ирис-версиколор. Има 4 карактеристики кои претставуваат димензии на делови од цветот.  "
   ]
  },
  {
   "cell_type": "code",
   "execution_count": 2,
   "id": "sGyVRhM2T4Eb",
   "metadata": {
    "id": "sGyVRhM2T4Eb"
   },
   "outputs": [],
   "source": [
    "flower_dataset = pandas.read_csv('https://raw.githubusercontent.com/VALENCEML/eBOOK/main/EN/10/iris.csv')\n",
    "flower_dataset.drop('Id', axis=1, inplace=True)"
   ]
  },
  {
   "cell_type": "code",
   "execution_count": 3,
   "id": "fTKL_ViaT4Ec",
   "metadata": {
    "id": "fTKL_ViaT4Ec",
    "outputId": "5765cbe3-0bc6-4adb-fd04-617bd3658df0"
   },
   "outputs": [
    {
     "data": {
      "text/html": [
       "<div>\n",
       "<style scoped>\n",
       "    .dataframe tbody tr th:only-of-type {\n",
       "        vertical-align: middle;\n",
       "    }\n",
       "\n",
       "    .dataframe tbody tr th {\n",
       "        vertical-align: top;\n",
       "    }\n",
       "\n",
       "    .dataframe thead th {\n",
       "        text-align: right;\n",
       "    }\n",
       "</style>\n",
       "<table border=\"1\" class=\"dataframe\">\n",
       "  <thead>\n",
       "    <tr style=\"text-align: right;\">\n",
       "      <th></th>\n",
       "      <th>SepalLengthCm</th>\n",
       "      <th>SepalWidthCm</th>\n",
       "      <th>PetalLengthCm</th>\n",
       "      <th>PetalWidthCm</th>\n",
       "      <th>Species</th>\n",
       "    </tr>\n",
       "  </thead>\n",
       "  <tbody>\n",
       "    <tr>\n",
       "      <th>0</th>\n",
       "      <td>5.1</td>\n",
       "      <td>3.5</td>\n",
       "      <td>1.4</td>\n",
       "      <td>0.2</td>\n",
       "      <td>Iris-setosa</td>\n",
       "    </tr>\n",
       "    <tr>\n",
       "      <th>1</th>\n",
       "      <td>4.9</td>\n",
       "      <td>3.0</td>\n",
       "      <td>1.4</td>\n",
       "      <td>0.2</td>\n",
       "      <td>Iris-setosa</td>\n",
       "    </tr>\n",
       "    <tr>\n",
       "      <th>2</th>\n",
       "      <td>4.7</td>\n",
       "      <td>3.2</td>\n",
       "      <td>1.3</td>\n",
       "      <td>0.2</td>\n",
       "      <td>Iris-setosa</td>\n",
       "    </tr>\n",
       "    <tr>\n",
       "      <th>3</th>\n",
       "      <td>4.6</td>\n",
       "      <td>3.1</td>\n",
       "      <td>1.5</td>\n",
       "      <td>0.2</td>\n",
       "      <td>Iris-setosa</td>\n",
       "    </tr>\n",
       "    <tr>\n",
       "      <th>4</th>\n",
       "      <td>5.0</td>\n",
       "      <td>3.6</td>\n",
       "      <td>1.4</td>\n",
       "      <td>0.2</td>\n",
       "      <td>Iris-setosa</td>\n",
       "    </tr>\n",
       "  </tbody>\n",
       "</table>\n",
       "</div>"
      ],
      "text/plain": [
       "   SepalLengthCm  SepalWidthCm  PetalLengthCm  PetalWidthCm      Species\n",
       "0            5.1           3.5            1.4           0.2  Iris-setosa\n",
       "1            4.9           3.0            1.4           0.2  Iris-setosa\n",
       "2            4.7           3.2            1.3           0.2  Iris-setosa\n",
       "3            4.6           3.1            1.5           0.2  Iris-setosa\n",
       "4            5.0           3.6            1.4           0.2  Iris-setosa"
      ]
     },
     "execution_count": 3,
     "metadata": {},
     "output_type": "execute_result"
    }
   ],
   "source": [
    "flower_dataset.head()"
   ]
  },
  {
   "cell_type": "markdown",
   "id": "k1dQWqH_T4Ec",
   "metadata": {
    "id": "k1dQWqH_T4Ec"
   },
   "source": [
    "Со цел да се обучи модел на машинско учење, податоците ги делиме во база на податоци за тренирање и тестирање. Целната променлива е колоната „Видови“, додека останатите 4 колони ќе бидат влез (обележја) во моделот.  "
   ]
  },
  {
   "cell_type": "code",
   "execution_count": 4,
   "id": "KwiIGJ73T4Ed",
   "metadata": {
    "id": "KwiIGJ73T4Ed"
   },
   "outputs": [],
   "source": [
    "x = flower_dataset.iloc[:, :-1]\n",
    "y = flower_dataset.iloc[:, -1]\n",
    "x_train, x_test, y_train, y_test = train_test_split(x,y, test_size=0.4)"
   ]
  },
  {
   "cell_type": "markdown",
   "id": "qjnMyzXMT4Ee",
   "metadata": {
    "id": "qjnMyzXMT4Ee"
   },
   "source": [
    "## 10.1. Модел  "
   ]
  },
  {
   "cell_type": "markdown",
   "id": "i51Gry59T4Ee",
   "metadata": {
    "id": "i51Gry59T4Ee"
   },
   "source": [
    "Моделот кој ќе го користиме за тренирање и предвидување на типовите на ирис ќе биде направен со алгоритмот наречен **машини со поддржувачки вектори (анг. support vector machines - SVM)**.  "
   ]
  },
  {
   "cell_type": "code",
   "execution_count": 5,
   "id": "KSNs1ra9T4Ef",
   "metadata": {
    "id": "KSNs1ra9T4Ef"
   },
   "outputs": [],
   "source": [
    "model = SVC(random_state=42, probability=True)\n",
    "model.fit(x_train, y_train)\n",
    "y_predicted = model.predict(x_test)"
   ]
  },
  {
   "cell_type": "markdown",
   "id": "QsN4Ba7pT4Eg",
   "metadata": {
    "id": "QsN4Ba7pT4Eg"
   },
   "source": [
    "### 10.1.1. Генерирање на матрица на конфузија  "
   ]
  },
  {
   "cell_type": "markdown",
   "id": "sy205_ZET4Eg",
   "metadata": {
    "id": "sy205_ZET4Eg"
   },
   "source": [
    "Матрицата за конфузија е алатка која ни помага да видиме колку добро функционира моделот. Таа е дводимензионална, при што едната оска ја претставува предвидената класа, а другата оска ја претставува вистинската класа на податоците. Од матрицата можеме да увидиме многу работи и да ги изведеме следните метрики:  \n",
    "- Вистински позитивни податоци (анг. true positive)  \n",
    "- Лажно позитивни податоци (анг. false positive)  \n",
    "- Вистински негативни податоци (анг. true negative)  \n",
    "- Лажно негативни податоци (анг. false negative)  \n",
    "\n",
    "Оваа метрика ни кажува дали еден податочен примерок е правилно или неправилно класифициран во позитивна или негативна класа соодветно. Подобро можеме да разбереме како оваа матрица функционира со визуелен приказ.  "
   ]
  },
  {
   "cell_type": "code",
   "execution_count": 6,
   "id": "TVozh0f2T4Eh",
   "metadata": {
    "id": "TVozh0f2T4Eh",
    "outputId": "0f384874-b0a4-4578-92eb-800227a6782d"
   },
   "outputs": [
    {
     "data": {
      "text/plain": [
       "<sklearn.metrics._plot.confusion_matrix.ConfusionMatrixDisplay at 0x276fbda0388>"
      ]
     },
     "execution_count": 6,
     "metadata": {},
     "output_type": "execute_result"
    },
    {
     "data": {
      "image/png": "[encoded data removed]",
      "text/plain": [
       "<Figure size 640x480 with 2 Axes>"
      ]
     },
     "metadata": {},
     "output_type": "display_data"
    }
   ],
   "source": [
    "matrix = confusion_matrix(y_test, y_predicted)\n",
    "display = ConfusionMatrixDisplay(matrix, display_labels=model.classes_)\n",
    "display.plot()"
   ]
  },
  {
   "cell_type": "markdown",
   "id": "UggUBIqTT4Ei",
   "metadata": {
    "id": "UggUBIqTT4Ei"
   },
   "source": [
    "## 10.2. Метрики  "
   ]
  },
  {
   "cell_type": "markdown",
   "id": "I2feoHYqT4Ei",
   "metadata": {
    "id": "I2feoHYqT4Ei"
   },
   "source": [
    "Постојат многу различни метрики што може да се искористат за да се измери колку добро функционира еден моделот за класификација во машинско учење. На прв поглед тие може да дадат сличен или ист резултат, но во зависност од проблемот со кој се занимаваме и од податоците, некои метрики се посоодветни од другите. Во следните делови ќе објасниме и ќе покажеме различни метрики што може да се користат при мерење на перформансите на моделот за машинско учење.  \n",
    "Важно е да се разберат разликите помеѓу метриките. Кога споменуваме „позитивен пример“ мислиме на набљудување на податоците што припаѓаат на целната класа што сакаме да ја предвидиме. На пример, ако имаме проблем со класификација на слики и треба да класифицираме дали сликата содржи мачка, тогаш оние слики што содржат мачка се нарекуваат „позитивни примери“, а оние што не содржат се нарекуваат „негативни примери“.  "
   ]
  },
  {
   "cell_type": "markdown",
   "id": "cAf6ZjAbT4Ej",
   "metadata": {
    "id": "cAf6ZjAbT4Ej"
   },
   "source": [
    "## 10.3. Точност  "
   ]
  },
  {
   "cell_type": "markdown",
   "id": "Qo0cic0NT4Ej",
   "metadata": {
    "id": "Qo0cic0NT4Ej"
   },
   "source": [
    "Метриката за **точност (анг. accuracy)** ги зема предвид сите предвидувања што ги направил моделот и го претставува процентот од предвидувањата што моделот ги направил правилно. Во однос на задачата за бинарна класификација, точноста е процентот од точните предвидувања **во однос на сите предвидувања**. Важно е да се разбере дека на пример во нашата ситуација, кога се занимаваме со базата на ирис, предвидувањето дека ирисот е од типот Iris-setosa додека всушност типот на ирисот е Iris-Virginica, има ефект врз оваа метрика.  "
   ]
  },
  {
   "cell_type": "code",
   "execution_count": null,
   "id": "lkroFAzvT4El",
   "metadata": {
    "id": "lkroFAzvT4El"
   },
   "outputs": [],
   "source": [
    "accuracy = accuracy_score(y_true=y_test, y_pred=y_predicted)"
   ]
  },
  {
   "cell_type": "code",
   "execution_count": null,
   "id": "YKlPzG07T4El",
   "metadata": {
    "id": "YKlPzG07T4El",
    "outputId": "b0f692cc-1c1b-422f-853d-984303bcf8f8"
   },
   "outputs": [
    {
     "data": {
      "text/plain": [
       "0.9166666666666666"
      ]
     },
     "execution_count": 8,
     "metadata": {},
     "output_type": "execute_result"
    }
   ],
   "source": [
    "accuracy"
   ]
  },
  {
   "cell_type": "markdown",
   "id": "lnq1Py8VT4Em",
   "metadata": {
    "id": "lnq1Py8VT4Em"
   },
   "source": [
    "### 10.3.1. Тежинска точност  "
   ]
  },
  {
   "cell_type": "markdown",
   "id": "DYoO-3G1T4Em",
   "metadata": {
    "id": "DYoO-3G1T4Em"
   },
   "source": [
    "Друг тип на метрика за точност е тежинската точност (анг. cost-sensitive accuracy).  \n",
    "\n",
    "Има ситуации кога во нашата база на податоци имаме многу малку податоци од целната класа во споредба со друга класа. На пример, ако сакаме да класифицираме дали пациентот има рак или не, може да имаме база на податоци што се состои од само 100 примероци со пациенти кои имаат рак и 900 примероци без. Во овие ситуации, сакаме да му кажеме на алгоритмот дека е поважно да може да се одберат пациентите со рак и дека погрешната класификација на нив треба да има повисока \"казна\". Ова се прави со користење на тежинска точност. Ние им доделуваме тежини на нашите примероци на податоци, при што даваме поголеми тежини на примероците што ни се важни и сакаме да ги класифицираме.  "
   ]
  },
  {
   "cell_type": "code",
   "execution_count": 9,
   "id": "UgShVMHGT4Em",
   "metadata": {
    "id": "UgShVMHGT4Em"
   },
   "outputs": [],
   "source": [
    "model = SVC(random_state=42, probability=True, class_weight='balanced')\n",
    "model.fit(x_train, y_train)\n",
    "y_predicted = model.predict(x_test)"
   ]
  },
  {
   "cell_type": "markdown",
   "id": "g5LqVdOdT4En",
   "metadata": {
    "id": "g5LqVdOdT4En"
   },
   "source": [
    "Овде го обучуваме моделот користејќи тежинска точност преку обезбедување на дополнителен параметар „**class_weight**“. Вредноста „balanced“ (балансирано) автоматски на сите класи им доделува тежини кои се обратно пропорционални со честотата на секоја класа.  "
   ]
  },
  {
   "cell_type": "markdown",
   "id": "SVySpjXfT4En",
   "metadata": {
    "id": "SVySpjXfT4En"
   },
   "source": [
    "## 10.4. Прецизност  "
   ]
  },
  {
   "cell_type": "markdown",
   "id": "maKhjBk9T4En",
   "metadata": {
    "id": "maKhjBk9T4En"
   },
   "source": [
    "**Прецизноста (анг. precision)** како метрика зема предвид само една класа во исто време. Таа има за цел да открие колку од нашите предвидувања за одредена класа се всушност точни. Со други зборови, прецизноста е дел од точните предвидувања **меѓу позитивните <u>предвидувања</u>**.\n",
    "Во нашето сценарио, не можеме да ја користиме прецизноста како метрика ако сакаме да кажеме колку добро функционирал моделот на сите класи од типот ирис, но може да користиме прецизност за да кажеме колку добро функционирал на секоја од трите класи поединечно.  "
   ]
  },
  {
   "cell_type": "code",
   "execution_count": 10,
   "id": "F9-fruJzT4En",
   "metadata": {
    "id": "F9-fruJzT4En"
   },
   "outputs": [],
   "source": [
    "precision = precision_score(y_true=y_test, y_pred=y_predicted, average=None)"
   ]
  },
  {
   "cell_type": "code",
   "execution_count": 11,
   "id": "qouqbwaqT4En",
   "metadata": {
    "id": "qouqbwaqT4En",
    "outputId": "4324b2e3-95b3-4059-ba9f-78cbac5818ba"
   },
   "outputs": [
    {
     "data": {
      "text/plain": [
       "array([1.        , 0.86956522, 0.9       ])"
      ]
     },
     "execution_count": 11,
     "metadata": {},
     "output_type": "execute_result"
    }
   ],
   "source": [
    "precision"
   ]
  },
  {
   "cell_type": "markdown",
   "id": "Z6YSrdo2T4Eo",
   "metadata": {
    "id": "Z6YSrdo2T4Eo"
   },
   "source": [
    "## 10.5. Опфатност  "
   ]
  },
  {
   "cell_type": "markdown",
   "id": "RcpoJ-l_T4Eo",
   "metadata": {
    "id": "RcpoJ-l_T4Eo"
   },
   "source": [
    "Опфатноста (анг. recall), исто како и прецизноста, зема предвид само една класа во исто време. Опфатноста ја користиме кога сакаме да видиме колку добро нашиот модел ја открива целната класа. Таа го претставува процентот на точни предвидувања **меѓу позитивните <u>примери</u>**. Кога велиме позитивни примери, мислиме на целната класа за нашиот проблем.  "
   ]
  },
  {
   "cell_type": "code",
   "execution_count": 13,
   "id": "2DzkTWWwT4Eo",
   "metadata": {
    "id": "2DzkTWWwT4Eo",
    "outputId": "12608da9-1813-4150-b546-81d26b3b97a8"
   },
   "outputs": [
    {
     "data": {
      "text/plain": [
       "array([1.        , 0.90909091, 0.85714286])"
      ]
     },
     "execution_count": 13,
     "metadata": {},
     "output_type": "execute_result"
    }
   ],
   "source": [
    "recall = recall_score(y_true=y_test, y_pred=y_predicted, average=None)\n",
    "recall"
   ]
  },
  {
   "cell_type": "markdown",
   "id": "cxeENiyMT4Ep",
   "metadata": {
    "id": "cxeENiyMT4Ep"
   },
   "source": [
    "## 10.6. ROC крива  "
   ]
  },
  {
   "cell_type": "markdown",
   "id": "mYQVtzKzT4Ep",
   "metadata": {
    "id": "mYQVtzKzT4Ep"
   },
   "source": [
    "**Кривата ROC (анг. reciever operating characteristic - оперативна карактеристика на приемникот)** го оценува квалитетот на класификаторот кога класификаторот прикажува веројатности. На пример, наместо класификаторот да дава строго 1 или 0 (далипримерокот припаѓа на целната класа или не), тој мора да предвиди одредена веројатност примерокот да припаѓа на целната класа. Обично опсегот или веројатноста оди од 0,0 (0% веројатност) до 1,0 (100% веројатност).  \n",
    "\n",
    "Кога имаме веројатности, треба да дефинираме праг кој одредува од која веројатност нагоре сите предвидени примероци се класифицираат како целна класа. Со промена на оваа вредност на прагот, се менува и бројот на позитивни и негативни примери. Ако поставиме висок (строг) праг, на пример 0,9, ќе добиеме мал број на позитивни примери, но ќе бидеме посигурни дека тие се правилно предвидени. Исто така, ако поставиме низок (благ) праг, ќе бидеме посигурни дека правилно идентификувавме поголем број позитивни примероци, но и многу негативни примероци ќе бидат неправилно класифицирани.  \n",
    "\n",
    "Кривата ROC ни помага да ја најдеме вредноста на прагот што ќе работи најдобро за нас.  "
   ]
  },
  {
   "cell_type": "markdown",
   "id": "tpsoyac1T4Ep",
   "metadata": {
    "id": "tpsoyac1T4Ep"
   },
   "source": [
    "Бидејќи метриката ROC се занимава само со најмногу две класи (позитивна и негативна класа), ќе мора да отстраниме една од 3-те класи што ги имаме во нашата база на податоци за ирис. Ќе ги отстраниме примерите „Iris-setosa“ и сега ќе откриеме дали некој пример е од типот „Iris-versicolor“.  "
   ]
  },
  {
   "cell_type": "code",
   "execution_count": 14,
   "id": "t4SSGYQGT4Eq",
   "metadata": {
    "id": "t4SSGYQGT4Eq"
   },
   "outputs": [],
   "source": [
    "two_class_dataset = flower_dataset[flower_dataset['Species'] != \"Iris-setosa\"].copy()\n",
    "two_class_dataset['Species'] = np.where(two_class_dataset['Species'] == 'Iris-versicolor', 1, 0)"
   ]
  },
  {
   "cell_type": "code",
   "execution_count": 15,
   "id": "y2o1XrtYT4Es",
   "metadata": {
    "id": "y2o1XrtYT4Es"
   },
   "outputs": [],
   "source": [
    "x = two_class_dataset.iloc[:, :-1]\n",
    "y = two_class_dataset.iloc[:, -1]\n",
    "x_train, x_test, y_train, y_test = train_test_split(x,y, test_size=0.3)"
   ]
  },
  {
   "cell_type": "markdown",
   "id": "20c4e31c",
   "metadata": {
    "id": "20c4e31c"
   },
   "source": [
    "Ги добиваме веројатностите за двете класи, но бидејќи нивниот збир е 1, можеме само да ја земеме целната класа за која сме заинтересирани.  "
   ]
  },
  {
   "cell_type": "code",
   "execution_count": 16,
   "id": "PxKgmktlT4Es",
   "metadata": {
    "id": "PxKgmktlT4Es"
   },
   "outputs": [],
   "source": [
    "model.fit(x_train, y_train)\n",
    "y_predicted = model.predict_proba(x_test)[:,1]"
   ]
  },
  {
   "cell_type": "code",
   "execution_count": 17,
   "id": "7CZKPT44T4Et",
   "metadata": {
    "id": "7CZKPT44T4Et",
    "outputId": "54073c17-5d5c-4294-e782-c5adf287ef5c"
   },
   "outputs": [
    {
     "data": {
      "text/plain": [
       "<sklearn.metrics._plot.roc_curve.RocCurveDisplay at 0x276fd6a2ec8>"
      ]
     },
     "execution_count": 17,
     "metadata": {},
     "output_type": "execute_result"
    },
    {
     "data": {
      "image/png": "[encoded data removed]",
      "text/plain": [
       "<Figure size 640x480 with 1 Axes>"
      ]
     },
     "metadata": {},
     "output_type": "display_data"
    }
   ],
   "source": [
    "fpr, tpr, thresholds = roc_curve(y_test, y_predicted)\n",
    "roc_auc = auc(fpr, tpr)\n",
    "display = RocCurveDisplay(fpr=fpr, tpr=tpr, roc_auc=roc_auc, estimator_name='example estimator')\n",
    "display.plot()"
   ]
  },
  {
   "cell_type": "markdown",
   "id": "7rV0_ieeT4Et",
   "metadata": {
    "id": "7rV0_ieeT4Et"
   },
   "source": [
    "## 10.7. Вкрстена валидација  "
   ]
  },
  {
   "cell_type": "markdown",
   "id": "kez7tCzoT4Et",
   "metadata": {
    "id": "kez7tCzoT4Et"
   },
   "source": [
    "Кога се имплементира машинско учење во реалниот свет, само тренирањето и тестирањето на еден класификатор на дадена база на податоци не се доволни за да се гарантира дека она што го гледаме од метриката е она што ќе го добиеме во реалноста. Постои шанса да ни се потрефила среќа кога сме ги делеле податоците на подмножества за тренирање и тестирање. За да бидеме посигурни во способноста на моделот да ракува со нови и претходно невидени податоци, можеме повеќекратно да ги тренираме и тестираме и да го избереме моделот кој најдобро функционира. Ова се нарекува **вкрстена валидација (анг. cross validation)**.  \n",
    "\n",
    "Вкрстената валидација со k-повторувања (анг. k-folds) ја разложува базата на податоци на **k** помали подмножества, k-1 од нив за тренирање а останатото за валидација/проверка. Откако ќе се извршат обуката и валидацијата, ги зачувува резултатите од валидацијата и повторно го прави истото, но сега со различна распределба на подмножествата на податоци за тренирање и валидација. На овој начин, сите податоци ќе имаа шанса да бидат дел и од обуката и од проверката.\n",
    "\n",
    "Кога ја делиме базата на податоци во база на податоци за тренирање и за валидација, мора да бидеме сигурни дека ќе оставиме дел од нашата оригинална база на податоци на страна за тестирање. Овие податоци за тестирање воопшто нема да бидат дел од циклусот на вкрстена валидација затоа што откако ќе избереме класификатор што го извршил најдоброто од k-повторувањата, сакаме да тестираме за да добиеме непристрасна проценка на перформансите на конечниот модел.  "
   ]
  },
  {
   "cell_type": "code",
   "execution_count": 18,
   "id": "9OSlES6hT4Et",
   "metadata": {
    "id": "9OSlES6hT4Et"
   },
   "outputs": [],
   "source": [
    "scores = cross_val_score(model, x_train, y_train, cv=5)"
   ]
  },
  {
   "cell_type": "code",
   "execution_count": 20,
   "id": "fp_if73lT4Eu",
   "metadata": {
    "id": "fp_if73lT4Eu",
    "outputId": "a54d4176-7923-4227-cc1d-799bf23d6b87"
   },
   "outputs": [
    {
     "name": "stdout",
     "output_type": "stream",
     "text": [
      "0.93 точност со стандардна девијација од 0.08\n"
     ]
    }
   ],
   "source": [
    "print(\"%0.2f точност со стандардна девијација од %0.2f\" % (scores.mean(), scores.std()))"
   ]
  },
  {
   "cell_type": "markdown",
   "id": "G_Z3jmR3T4Eu",
   "metadata": {
    "id": "G_Z3jmR3T4Eu"
   },
   "source": [
    "За претходниот пример, избравме 5 повторувања. Што ќе се случи со резултатот ако го зголемиме бројот на повторувања?  "
   ]
  },
  {
   "cell_type": "code",
   "execution_count": 22,
   "id": "KEh9psdMT4Eu",
   "metadata": {
    "id": "KEh9psdMT4Eu"
   },
   "outputs": [],
   "source": [
    "scores = cross_val_score(model, x_train, y_train, cv=11)"
   ]
  },
  {
   "cell_type": "code",
   "execution_count": 23,
   "id": "CHjmGcqJT4Ev",
   "metadata": {
    "id": "CHjmGcqJT4Ev",
    "outputId": "197834b0-1d46-4a4f-bb5b-a51733ddf965"
   },
   "outputs": [
    {
     "name": "stdout",
     "output_type": "stream",
     "text": [
      "0.96 точност со стандардна девијација од 0.07\n"
     ]
    }
   ],
   "source": [
    "print(\"%0.2f точност со стандардна девијација од %0.2f\" % (scores.mean(), scores.std()))"
   ]
  },
  {
   "cell_type": "code",
   "execution_count": null,
   "id": "46211708",
   "metadata": {
    "id": "46211708"
   },
   "outputs": [],
   "source": []
  }
 ],
 "metadata": {
  "colab": {
   "provenance": [
    {
     "file_id": "https://github.com/VALENCEML/eBOOK/blob/main/EN/10/10_Performance_metrics_Validation_techniques.ipynb",
     "timestamp": 1679485377677
    }
   ]
  },
  "kernelspec": {
   "display_name": "Python 3 (ipykernel)",
   "language": "python",
   "name": "python3"
  },
  "language_info": {
   "codemirror_mode": {
    "name": "ipython",
    "version": 3
   },
   "file_extension": ".py",
   "mimetype": "text/x-python",
   "name": "python",
   "nbconvert_exporter": "python",
   "pygments_lexer": "ipython3",
   "version": "3.7.12"
  }
 },
 "nbformat": 4,
 "nbformat_minor": 5
}
