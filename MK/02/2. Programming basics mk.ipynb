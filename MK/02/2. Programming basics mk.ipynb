{
 "cells": [
  {
   "cell_type": "markdown",
   "id": "bcf3426b-a850-40e0-8e9b-a810e847a2ac",
   "metadata": {},
   "source": [
    "# 2. Основи на програмирање во Пајтон"
   ]
  },
  {
   "cell_type": "markdown",
   "id": "f10b1883-f64e-4aa7-ad31-030ad179ba28",
   "metadata": {},
   "source": [
    "Бранислав Геразов, ФЕИТ, УКИМ"
   ]
  },
  {
   "cell_type": "markdown",
   "id": "4d7ea130-e2dd-4f00-8ef7-66a12095eac2",
   "metadata": {},
   "source": [
    "Во овие интерактивни материјали ќе го користиме Пајтон како програмски јазик кој доминира во многу области, а особено во машинското учење и науката за податоци.\n",
    "Во ова поглавје ќе дадеме краток преглед на синтаксата на Пајтон кој ќе биде доволен за да може се следи остатокот од материјалот.\n",
    "Притоа не се потребни претходни предзнаења.\n",
    "Прегледот е заснован на [Scipy Lecture Notes](https://scipy-lectures.org/), која претставува збирка на воведни материјали за научниот екосистем на Пајтон. \n",
    "Збирката е резултат на колективен напор на околу 100 соработници и е лиценцирана со слободната Creative Commons Attribution 4.0 International License (CC-by). \n",
    "Изворните датотеки со целосниот текст на збирката се достапни на [GitHub](https://github.com/scipy-lectures/scipy-lecture-notes).\n",
    "\n",
    "## 2.1. Зошто Пајтон?"
   ]
  },
  {
   "cell_type": "markdown",
   "id": "bbd2bae1-142c-4e0a-a2e7-8e8f95d579b2",
   "metadata": {},
   "source": [
    "\\* Овој дел е напишан со помош на [ChatGPT] (https://openai.com/blog/chatgpt/) на Open AI."
   ]
  },
  {
   "cell_type": "markdown",
   "id": "87ed3e1b-9a81-49c4-b4ef-4f9ac7a4f180",
   "metadata": {},
   "source": [
    "Пајтон е програмски јазик на високо ниво, кој e еден од најпопуларните јазици во софтверската индустрија. \n",
    "Во анализите Пајтон постојано котира како еден од најдобрите програмски јазици во однос на популарноста и употребата.\n",
    "\n",
    "Овој раст на популарноста на Пајтон се должи на низа на предности:\n",
    "- **Лесен за учење и читање**: Пајтон има едноставна и јасна синтакса, што им олеснува на почетниците брзо да го научат јазикот, а на корисниците да можат полесно да одржуваат код напишан од тимот,\n",
    "- **Сестран**: Пајтон може да се користи за широк опсег на задачи како што се развој на веб апликации, научни пресметки, анализа на податоци, вештачка интелигенција и многу повеќе.\n",
    "- **Голема заедница и многу библиотеки**: Пајтон има голема и активна заедница, што придонесува за огромната и постојано растечка колекција на библиотеки и модули од најразновидни области,\n",
    "- **Компатибилност со различни платформи**: Пајтон доаѓа инсталиран во дистрибуциите на GNU/Linux, а може да работи на кој било оперативен систем вклучувајќи ги Windows и macOS, што го прави идеален избор за организации кои користат или прават апликации за различни уреди.\n",
    "- **Динамички-тип**: Пајтон има динамичко одредување на типот, што значи дека типовите на променливите се одредуваат при извршување, што го олеснува пишувањето, развојот и отстранувањето на грешки во кодот.\n",
    "\n",
    "Севкупно, популарноста на Python најверојатно ќе продолжи да расте во иднина, водена од неговата леснотија на користење, разновидност и зголемената побарувачка за анализа на податоци и апликации за вештачка интелигенција.\n",
    "\n",
    "### Предности и недостатоци споредено со C и C++"
   ]
  },
  {
   "cell_type": "markdown",
   "id": "42c47319-2563-4e22-a437-8bc665b01716",
   "metadata": {},
   "source": [
    "- **Синтакса**: Python има поедноставна и почитлива синтакса во споредба со C и C++, што го олеснува пишувањето и одржувањето на кодот. Од друга страна, C и C++ нудат поголема контрола врз хардверот на ниско ниво и операциите на системско ниво, што ги прави погодни за апликации во кои се критични перформансите.\n",
    "\n",
    "- **Перформанси**: C и C++ се компајлирани јазици, што ги прави побрзи од Python, кој е интерпретиран јазик. C и C++ имаат и поголема контрола врз управувањето со меморијата, што може да доведе до нејзино поефикасно користење.\n",
    "\n",
    "- **Развој**: Развојот на код во Python е генерално побрз и полесен поради неговата поедноставна синтакса и автоматско управување со меморијата, додека C и C++ бараат повеќе рачно управување со меморијата и може да бидат покомплексни за дебагирање.\n",
    "\n",
    "- **Библиотеки и алатки**: Python има голема и активна заедница, што придонесува за постоење на огромна колекција на библиотеки и алатки кои го олеснуваат решавањето на различни проблеми. C и C++ исто така имаат голем број библиотеки и алатки, но достапноста на специфични библиотеки може да варира.\n",
    "\n",
    "- **Употреба**: Примената на Python е разновидна и тој вообичаено се користи за развој на веб апликации, научни пресметки, анализа на податоци и вештачка интелигенција, меѓу другото. C и C++ вообичаено се користат за програмирање на системско ниво, развој на игри и други апликации во кои перформансите се критични.\n",
    "\n",
    "### Предности и недостатоци споредено со MATLAB"
   ]
  },
  {
   "cell_type": "markdown",
   "id": "09e426cd-e0a8-4ebd-b203-82ed136e00bc",
   "metadata": {},
   "source": [
    "- **Синтакса**: Python има поразновидна синтакса во споредба со MATLAB, кој е специјално дизајниран за нумерички пресметки. Python може да се користи за поширок опсег на задачи надвор од нумеричкото пресметување, додека MATLAB е фокусиран конкретно на оваа област.\n",
    "\n",
    "- **Трошоци**: MATLAB е комерцијален софтвер со висока цена во споредба со Python, кој е со отворен код и слободно достапен.\n",
    "\n",
    "- **Библиотеки и алатки**: И MATLAB и Python имаат голема колекција на библиотеки и алатки, но Python има поголема и поактивна заедница, што придонесе за поширок опсег на библиотеки и алатки, особено во области неповрзани со нумерички пресметки.\n",
    "\n",
    "- **Интероперабилност**: MATLAB има богат пакет на функции за нумерички пресметки, што го прави моќна алатка за специфични задачи. Сепак, Python може да работи со поширок опсег на програмски јазици, што го олеснува интегрирањето во други алатки и сложени системи.\n",
    "\n",
    "- **Употреба**: MATLAB е специјално дизајниран за нумеричко пресметување и најчесто се користи во области како што се инженерството, финансиите и научните пресметки. Пајтон, од друга страна, е поразновиден јазик и се користи за поширок опсег на задачи, вклучувајќи развој на веб, научни пресметки, анализа на податоци и вештачка интелигенција.\n",
    "\n",
    "# 2.2. Основи на Пајтон"
   ]
  },
  {
   "cell_type": "markdown",
   "id": "3de50e1c-53c2-44dd-becf-c5aa502e3b8a",
   "metadata": {},
   "source": [
    "\\* Пред да започнеме, мора да нагласиме дека ќе користиме Python 3. Пајтон 2 го достигна својот крај на животот во јануари 2020 година и повеќе не се одржува.\n",
    "\n",
    "За да го следите кодот, можете да ја активирате интерактивната конзола за Python во Linux терминалот со наредбата „ipython“.\n",
    "Алтернативно, може да ги уредите и извршите ќелиите со код во оваа Јупајтер тетратка.\n",
    "\n",
    "\\* Ако `ipython` не е инсталиран, можете да го инсталирате во терминалот користејќи `pip install ipython`\n",
    "\n",
    "Откако ќе започнеме, можеме да ја направиме архетипската програма „Здраво свету!“:"
   ]
  },
  {
   "cell_type": "code",
   "execution_count": 1,
   "id": "b0caa6cc-bf99-4f04-b531-1aacbace9785",
   "metadata": {},
   "outputs": [
    {
     "name": "stdout",
     "output_type": "stream",
     "text": [
      "Hello world!\n"
     ]
    }
   ],
   "source": [
    "print(\"Hello world!\")"
   ]
  },
  {
   "cell_type": "markdown",
   "id": "566b2e61-231d-4d32-88d8-7c982a1686da",
   "metadata": {},
   "source": [
    "Тоа беше лесно :)"
   ]
  },
  {
   "cell_type": "markdown",
   "id": "ae65e280-959c-4d31-9b5e-c7fc1d650a19",
   "metadata": {},
   "source": [
    "### Зенот на Пајтонот\n",
    "\n",
    "Пред да започнеме, корисно е да ги видиме максимите кои стојат зад дизајнот и филозофијата за пишување на код во Пајтон."
   ]
  },
  {
   "cell_type": "code",
   "execution_count": 2,
   "id": "bf91b17b-1553-4045-9695-d591a05003f2",
   "metadata": {},
   "outputs": [
    {
     "name": "stdout",
     "output_type": "stream",
     "text": [
      "The Zen of Python, by Tim Peters\n",
      "\n",
      "Beautiful is better than ugly.\n",
      "Explicit is better than implicit.\n",
      "Simple is better than complex.\n",
      "Complex is better than complicated.\n",
      "Flat is better than nested.\n",
      "Sparse is better than dense.\n",
      "Readability counts.\n",
      "Special cases aren't special enough to break the rules.\n",
      "Although practicality beats purity.\n",
      "Errors should never pass silently.\n",
      "Unless explicitly silenced.\n",
      "In the face of ambiguity, refuse the temptation to guess.\n",
      "There should be one-- and preferably only one --obvious way to do it.\n",
      "Although that way may not be obvious at first unless you're Dutch.\n",
      "Now is better than never.\n",
      "Although never is often better than *right* now.\n",
      "If the implementation is hard to explain, it's a bad idea.\n",
      "If the implementation is easy to explain, it may be a good idea.\n",
      "Namespaces are one honking great idea -- let's do more of those!\n"
     ]
    }
   ],
   "source": [
    "import this"
   ]
  },
  {
   "cell_type": "markdown",
   "id": "8be4ed9b-9ba4-4e9e-a909-9337aa9e5eae",
   "metadata": {},
   "source": [
    "### Типови на променливи\n",
    "\n",
    "Пајтон ги поддржува следниве типови на променливи:\n",
    "- `int` - цел број\n",
    "- `float` - децимален број\n",
    "- `complex` - комплексен број\n",
    "- `bool` - логичка вредност (`True` или `False`)\n",
    "\n",
    "Python подржува динамички типови, со други зборови, интерпретерот го одредува типот на променливата при нејзиното декларирање при извршувањето. \n",
    "Типот на променлива може да се менува динамички.\n",
    "\n",
    "\\* Пајтон не бара `;` на крајот од секоја линија код!"
   ]
  },
  {
   "cell_type": "code",
   "execution_count": 3,
   "id": "5660f57b-9851-47a9-9740-2b06ad04a6e8",
   "metadata": {},
   "outputs": [
    {
     "data": {
      "text/plain": [
       "int"
      ]
     },
     "execution_count": 3,
     "metadata": {},
     "output_type": "execute_result"
    }
   ],
   "source": [
    "a = 3\n",
    "type(a)"
   ]
  },
  {
   "cell_type": "code",
   "execution_count": 4,
   "id": "61998faa-32d9-4b6c-b9d6-e3024a6e8c11",
   "metadata": {},
   "outputs": [
    {
     "data": {
      "text/plain": [
       "float"
      ]
     },
     "execution_count": 4,
     "metadata": {},
     "output_type": "execute_result"
    }
   ],
   "source": [
    "c = 0.5\n",
    "type(c)"
   ]
  },
  {
   "cell_type": "code",
   "execution_count": 5,
   "id": "d86f49ad-0e5a-4fb7-9779-ad8ecf05b277",
   "metadata": {},
   "outputs": [
    {
     "data": {
      "text/plain": [
       "False"
      ]
     },
     "execution_count": 5,
     "metadata": {},
     "output_type": "execute_result"
    }
   ],
   "source": [
    "test = (3 > 4)\n",
    "test"
   ]
  },
  {
   "cell_type": "code",
   "execution_count": 6,
   "id": "2c79887b-0170-4b39-a469-ea29f5be5f08",
   "metadata": {},
   "outputs": [
    {
     "data": {
      "text/plain": [
       "bool"
      ]
     },
     "execution_count": 6,
     "metadata": {},
     "output_type": "execute_result"
    }
   ],
   "source": [
    "type(test)    "
   ]
  },
  {
   "cell_type": "markdown",
   "id": "4ad0ff0e-8f54-48f2-bbd9-5eaaefc4508b",
   "metadata": {},
   "source": [
    "### Основни математички операции\n",
    "\n",
    "Пајтон ги поддржува основните математички операции `+`, `-`, `*`, `/`, `**` (за степенување) и `%` (модуло).\n",
    "Па може веднаш да се користи како калкулатор :)\n"
   ]
  },
  {
   "cell_type": "code",
   "execution_count": 7,
   "id": "4c15f231-9262-4c51-ac2b-9ad64fadf7d5",
   "metadata": {},
   "outputs": [
    {
     "data": {
      "text/plain": [
       "21"
      ]
     },
     "execution_count": 7,
     "metadata": {},
     "output_type": "execute_result"
    }
   ],
   "source": [
    "7 * 3"
   ]
  },
  {
   "cell_type": "code",
   "execution_count": 8,
   "id": "7cd34cda-aa39-4aac-bd9a-0abde5e051b9",
   "metadata": {},
   "outputs": [
    {
     "data": {
      "text/plain": [
       "2.3333333333333335"
      ]
     },
     "execution_count": 8,
     "metadata": {},
     "output_type": "execute_result"
    }
   ],
   "source": [
    "7/3"
   ]
  },
  {
   "cell_type": "code",
   "execution_count": 9,
   "id": "18e887fb-4820-485c-aaa1-6bc21d7fb42e",
   "metadata": {},
   "outputs": [
    {
     "data": {
      "text/plain": [
       "1024"
      ]
     },
     "execution_count": 9,
     "metadata": {},
     "output_type": "execute_result"
    }
   ],
   "source": [
    "2**10"
   ]
  },
  {
   "cell_type": "code",
   "execution_count": 10,
   "id": "76490b4a-6aa3-45fc-aa5f-bab27ac9371a",
   "metadata": {},
   "outputs": [
    {
     "data": {
      "text/plain": [
       "2"
      ]
     },
     "execution_count": 10,
     "metadata": {},
     "output_type": "execute_result"
    }
   ],
   "source": [
    "8 % 3"
   ]
  },
  {
   "cell_type": "markdown",
   "id": "f4d392e2-bcca-410b-ae25-e5c3a1f4ea96",
   "metadata": {},
   "source": [
    "### Типови контејнери\n",
    "\n",
    "Python нуди многу ефикасни типови на контејнери, во кои може да се складираат колекции на објекти.\n",
    "- `str` - низа на знаци или стринг,\n",
    "- `list` - подредена колекција на објекти кои можат да имаат различни типови,\n",
    "- `dict` - речници составени од парови „клуч: вредност“ кои поддржуваат брзо пребарување,\n",
    "- `tuple` - n-торки што не може да се менуваат,\n",
    "- `set` - неподредени низи на уникатни ставки."
   ]
  },
  {
   "cell_type": "markdown",
   "id": "7a9620b1-e94d-404a-b5a8-f35f7e55d3c6",
   "metadata": {},
   "source": [
    "#### Стрингови"
   ]
  },
  {
   "cell_type": "code",
   "execution_count": 11,
   "id": "6e661a1f-2e53-4bd1-8c38-a35721e18ef9",
   "metadata": {},
   "outputs": [
    {
     "data": {
      "text/plain": [
       "str"
      ]
     },
     "execution_count": 11,
     "metadata": {},
     "output_type": "execute_result"
    }
   ],
   "source": [
    "b = 'Hello'\n",
    "type(b)    "
   ]
  },
  {
   "cell_type": "markdown",
   "id": "5a6045b1-fb91-43af-bb17-ab39ff452215",
   "metadata": {},
   "source": [
    "Стринговите поддржуваат некои математички операции :) Исто така `'` и `\"` се двете ОК."
   ]
  },
  {
   "cell_type": "code",
   "execution_count": 12,
   "id": "a92fc6f3-06f3-4ee6-ab3c-5fe1601865bd",
   "metadata": {},
   "outputs": [
    {
     "data": {
      "text/plain": [
       "'Hello World!'"
      ]
     },
     "execution_count": 12,
     "metadata": {},
     "output_type": "execute_result"
    }
   ],
   "source": [
    "b + \" World!\""
   ]
  },
  {
   "cell_type": "code",
   "execution_count": 13,
   "id": "814ec508-7798-4cae-aae9-6440262ed59d",
   "metadata": {},
   "outputs": [
    {
     "data": {
      "text/plain": [
       "'================================================================================'"
      ]
     },
     "execution_count": 13,
     "metadata": {},
     "output_type": "execute_result"
    }
   ],
   "source": [
    "\"=\" * 80"
   ]
  },
  {
   "cell_type": "markdown",
   "id": "cb2d1664-7ba9-4a55-a99f-601244122525",
   "metadata": {},
   "source": [
    "Сè во Пајтон е објект. Стринговите се исто така објекти и вклучуваат методи за манипулација со нив.\n",
    "\n",
    "\\* Можете да ги видите сите методи ако напишете променлива стринг `.` и притиснете на копчето `Tab`."
   ]
  },
  {
   "cell_type": "code",
   "execution_count": 14,
   "id": "f76f6058-d519-40f4-b65b-20783e56378f",
   "metadata": {},
   "outputs": [
    {
     "data": {
      "text/plain": [
       "'HELLO'"
      ]
     },
     "execution_count": 14,
     "metadata": {},
     "output_type": "execute_result"
    }
   ],
   "source": [
    "b.upper()"
   ]
  },
  {
   "cell_type": "code",
   "execution_count": 15,
   "id": "beed4a91-3dc0-46b3-9e31-d91cd1842c5e",
   "metadata": {},
   "outputs": [
    {
     "data": {
      "text/plain": [
       "'hello'"
      ]
     },
     "execution_count": 15,
     "metadata": {},
     "output_type": "execute_result"
    }
   ],
   "source": [
    "b.lower()"
   ]
  },
  {
   "cell_type": "code",
   "execution_count": 16,
   "id": "e8b53063-5bc9-4f8b-bfb1-de4f3a60ea41",
   "metadata": {},
   "outputs": [
    {
     "data": {
      "text/plain": [
       "False"
      ]
     },
     "execution_count": 16,
     "metadata": {},
     "output_type": "execute_result"
    }
   ],
   "source": [
    "b.startswith(\"he\")"
   ]
  },
  {
   "cell_type": "code",
   "execution_count": 17,
   "id": "39f3f71d-f102-45b3-9364-19db212a029f",
   "metadata": {},
   "outputs": [
    {
     "data": {
      "text/plain": [
       "False"
      ]
     },
     "execution_count": 17,
     "metadata": {},
     "output_type": "execute_result"
    }
   ],
   "source": [
    "b.endswith(\".wav\")"
   ]
  },
  {
   "cell_type": "code",
   "execution_count": 18,
   "id": "46d856d8-cdab-4d0f-b4a6-5f3f1990de31",
   "metadata": {},
   "outputs": [
    {
     "data": {
      "text/plain": [
       "'Hallo'"
      ]
     },
     "execution_count": 18,
     "metadata": {},
     "output_type": "execute_result"
    }
   ],
   "source": [
    "b.replace(\"e\", \"a\")"
   ]
  },
  {
   "cell_type": "markdown",
   "id": "d591fa1d-899a-4db3-8f21-7ba2298f50bd",
   "metadata": {},
   "source": [
    "#### Листи"
   ]
  },
  {
   "cell_type": "code",
   "execution_count": 19,
   "id": "a0eb1fd4-89b3-4fc8-a5fc-f3b09422584e",
   "metadata": {
    "tags": []
   },
   "outputs": [
    {
     "data": {
      "text/plain": [
       "list"
      ]
     },
     "execution_count": 19,
     "metadata": {},
     "output_type": "execute_result"
    }
   ],
   "source": [
    "colors = ['red', 'blue', 'green', 'black', 'white']\n",
    "type(colors)  "
   ]
  },
  {
   "cell_type": "markdown",
   "id": "86488ebd-8245-47d1-a9ff-d00d51eab999",
   "metadata": {},
   "source": [
    "Индексирањето во Python започнува од `0` (како во C, но различно од MATLAB), а со `-1` е означена последната ставка."
   ]
  },
  {
   "cell_type": "code",
   "execution_count": 20,
   "id": "e0374278-3551-4459-8819-fa42dc1f3989",
   "metadata": {},
   "outputs": [
    {
     "data": {
      "text/plain": [
       "'green'"
      ]
     },
     "execution_count": 20,
     "metadata": {},
     "output_type": "execute_result"
    }
   ],
   "source": [
    "colors[2]"
   ]
  },
  {
   "cell_type": "code",
   "execution_count": 21,
   "id": "816c8b15-b6ce-4d2f-bf4d-9ad02ca6697c",
   "metadata": {
    "tags": []
   },
   "outputs": [
    {
     "data": {
      "text/plain": [
       "'white'"
      ]
     },
     "execution_count": 21,
     "metadata": {},
     "output_type": "execute_result"
    }
   ],
   "source": [
    "colors[-1]"
   ]
  },
  {
   "cell_type": "markdown",
   "id": "cced45a6-f9ae-485b-a94c-35068ec96bf7",
   "metadata": {},
   "source": [
    "Индексирањето на подлисти од една листа се врши преку `[start:stop]` што ги дава елементите со индекси `i` за кои `start` $\\leq$ `i` $<$ `stop` (`i` се движи од `start` до `stop-1`).\n",
    "Можеме да додадеме и чекор како трет параметар `[start:stop:stride]`.\n",
    "Сите параметри во индексирањето подлисти се опционални."
   ]
  },
  {
   "cell_type": "code",
   "execution_count": 22,
   "id": "8ce07324-8d45-4d20-a276-bc5c5e85a3a6",
   "metadata": {
    "tags": []
   },
   "outputs": [
    {
     "data": {
      "text/plain": [
       "['green', 'black']"
      ]
     },
     "execution_count": 22,
     "metadata": {},
     "output_type": "execute_result"
    }
   ],
   "source": [
    "colors[2:4]"
   ]
  },
  {
   "cell_type": "code",
   "execution_count": 23,
   "id": "38cc7e5b-7ea9-43d8-8963-723ce8d9bbcc",
   "metadata": {},
   "outputs": [
    {
     "data": {
      "text/plain": [
       "['black', 'white']"
      ]
     },
     "execution_count": 23,
     "metadata": {},
     "output_type": "execute_result"
    }
   ],
   "source": [
    "colors[3:]"
   ]
  },
  {
   "cell_type": "code",
   "execution_count": 24,
   "id": "420caa93-d9a2-4e36-9746-b36e66523c96",
   "metadata": {},
   "outputs": [
    {
     "data": {
      "text/plain": [
       "['red', 'blue', 'green']"
      ]
     },
     "execution_count": 24,
     "metadata": {},
     "output_type": "execute_result"
    }
   ],
   "source": [
    "colors[:3]"
   ]
  },
  {
   "cell_type": "code",
   "execution_count": 25,
   "id": "a91e0fe6-9929-40e3-ad00-8709b7b932ed",
   "metadata": {
    "tags": []
   },
   "outputs": [
    {
     "data": {
      "text/plain": [
       "['red', 'green', 'white']"
      ]
     },
     "execution_count": 25,
     "metadata": {},
     "output_type": "execute_result"
    }
   ],
   "source": [
    "colors[::2]"
   ]
  },
  {
   "cell_type": "code",
   "execution_count": 26,
   "id": "e73f630b-c950-4b81-a518-9a6bd5bda01d",
   "metadata": {},
   "outputs": [
    {
     "data": {
      "text/plain": [
       "['white', 'black', 'green', 'blue', 'red']"
      ]
     },
     "execution_count": 26,
     "metadata": {},
     "output_type": "execute_result"
    }
   ],
   "source": [
    "colors[::-1]"
   ]
  },
  {
   "cell_type": "markdown",
   "id": "aa6d674b-bcbb-49af-aee3-e5a758bac777",
   "metadata": {},
   "source": [
    "Листите се променливи објекти и може да се менуваат:"
   ]
  },
  {
   "cell_type": "code",
   "execution_count": 27,
   "id": "e7e01e2d-1ccd-4f62-8747-5c768e0a569e",
   "metadata": {},
   "outputs": [
    {
     "data": {
      "text/plain": [
       "['yellow', 'blue', 'green', 'black', 'white']"
      ]
     },
     "execution_count": 27,
     "metadata": {},
     "output_type": "execute_result"
    }
   ],
   "source": [
    "colors[0] = 'yellow'\n",
    "colors"
   ]
  },
  {
   "cell_type": "markdown",
   "id": "d77d5610-bc67-4e8e-a647-568c984d47f4",
   "metadata": {},
   "source": [
    "Надоврзување и сортирање:"
   ]
  },
  {
   "cell_type": "code",
   "execution_count": 28,
   "id": "3a060785-6f68-4019-a664-8cf22b1bfce0",
   "metadata": {},
   "outputs": [
    {
     "data": {
      "text/plain": [
       "['yellow', 'blue', 'green', 'black', 'white', True, 3.1415]"
      ]
     },
     "execution_count": 28,
     "metadata": {},
     "output_type": "execute_result"
    }
   ],
   "source": [
    "colors + [True, 3.1415]"
   ]
  },
  {
   "cell_type": "code",
   "execution_count": 29,
   "id": "78755189-4fe5-4540-ba04-180245566b8f",
   "metadata": {},
   "outputs": [
    {
     "data": {
      "text/plain": [
       "['black', 'blue', 'green', 'white', 'yellow']"
      ]
     },
     "execution_count": 29,
     "metadata": {},
     "output_type": "execute_result"
    }
   ],
   "source": [
    "sorted(colors)"
   ]
  },
  {
   "cell_type": "markdown",
   "id": "0227b0ff-6be6-4760-8377-64a20b1249da",
   "metadata": {},
   "source": [
    "Листите поддржуваат многу методи за работа со нив.\n",
    "\n",
    "\\* Повторно, можете да ги видите ако напишете променлива која е листа `.` и притиснете на копчето `Tab`."
   ]
  },
  {
   "cell_type": "code",
   "execution_count": 30,
   "id": "e454082a-adf7-42a5-b8ce-b6bbd99837d3",
   "metadata": {},
   "outputs": [
    {
     "data": {
      "text/plain": [
       "['yellow', 'blue', 'green', 'black', 'white', 10]"
      ]
     },
     "execution_count": 30,
     "metadata": {},
     "output_type": "execute_result"
    }
   ],
   "source": [
    "colors.append(10)\n",
    "colors"
   ]
  },
  {
   "cell_type": "code",
   "execution_count": 31,
   "id": "c8aa02be-80f4-4dce-a5da-fa3a3caefb07",
   "metadata": {},
   "outputs": [
    {
     "data": {
      "text/plain": [
       "10"
      ]
     },
     "execution_count": 31,
     "metadata": {},
     "output_type": "execute_result"
    }
   ],
   "source": [
    "colors.pop()"
   ]
  },
  {
   "cell_type": "code",
   "execution_count": 32,
   "id": "ede7c1a4-c943-4a56-b12f-dd6b7d6487a6",
   "metadata": {
    "tags": []
   },
   "outputs": [
    {
     "data": {
      "text/plain": [
       "['yellow', 'blue', 'green', 'black', 'white']"
      ]
     },
     "execution_count": 32,
     "metadata": {},
     "output_type": "execute_result"
    }
   ],
   "source": [
    "colors"
   ]
  },
  {
   "cell_type": "markdown",
   "id": "df37b8f0-65aa-47ad-8e1c-3c99c403b1d2",
   "metadata": {},
   "source": [
    "#### Речници"
   ]
  },
  {
   "cell_type": "code",
   "execution_count": 33,
   "id": "acbb0a69-2b0b-4202-80d7-43bac19fcaf3",
   "metadata": {},
   "outputs": [
    {
     "data": {
      "text/plain": [
       "{'Urosh': 5752, 'Arpad': 5578, 'Igor': 5915}"
      ]
     },
     "execution_count": 33,
     "metadata": {},
     "output_type": "execute_result"
    }
   ],
   "source": [
    "tels = {'Urosh': 5752, 'Arpad': 5578}\n",
    "tels['Igor'] = 5915\n",
    "tels"
   ]
  },
  {
   "cell_type": "code",
   "execution_count": 34,
   "id": "9193e0e9-a7c2-479e-b080-6dbfc409d89b",
   "metadata": {},
   "outputs": [
    {
     "data": {
      "text/plain": [
       "5578"
      ]
     },
     "execution_count": 34,
     "metadata": {},
     "output_type": "execute_result"
    }
   ],
   "source": [
    "tels['Arpad']"
   ]
  },
  {
   "cell_type": "code",
   "execution_count": 35,
   "id": "20ea9663-db88-485a-beaa-05d5165d2b44",
   "metadata": {},
   "outputs": [
    {
     "data": {
      "text/plain": [
       "dict_keys(['Urosh', 'Arpad', 'Igor'])"
      ]
     },
     "execution_count": 35,
     "metadata": {},
     "output_type": "execute_result"
    }
   ],
   "source": [
    "tels.keys()   "
   ]
  },
  {
   "cell_type": "code",
   "execution_count": 36,
   "id": "32acf229-338f-4797-9e64-cf1549994571",
   "metadata": {},
   "outputs": [
    {
     "data": {
      "text/plain": [
       "dict_values([5752, 5578, 5915])"
      ]
     },
     "execution_count": 36,
     "metadata": {},
     "output_type": "execute_result"
    }
   ],
   "source": [
    "tels.values()   "
   ]
  },
  {
   "cell_type": "code",
   "execution_count": 37,
   "id": "12b7aae2-b501-4414-a6df-f1a19551e58f",
   "metadata": {},
   "outputs": [
    {
     "data": {
      "text/plain": [
       "dict_items([('Urosh', 5752), ('Arpad', 5578), ('Igor', 5915)])"
      ]
     },
     "execution_count": 37,
     "metadata": {},
     "output_type": "execute_result"
    }
   ],
   "source": [
    "tels.items()"
   ]
  },
  {
   "cell_type": "code",
   "execution_count": 38,
   "id": "fdaf8897-da88-4d05-9b24-8b6a94c3ecc2",
   "metadata": {},
   "outputs": [
    {
     "data": {
      "text/plain": [
       "True"
      ]
     },
     "execution_count": 38,
     "metadata": {},
     "output_type": "execute_result"
    }
   ],
   "source": [
    "'Igor' in tels"
   ]
  },
  {
   "cell_type": "markdown",
   "id": "8e409632-d33f-48c1-b9ce-4ce918f19a4c",
   "metadata": {},
   "source": [
    "## 2.3. Контрола на текот на програмата"
   ]
  },
  {
   "cell_type": "markdown",
   "id": "c4565f7e-8aa9-4417-a907-79318b234320",
   "metadata": {},
   "source": [
    "### `if/elif/else`\n",
    "\n",
    "Блоковите код во Пајтон се одредуваат со индентација.\n",
    "Стандардно секое ниво на индентација соодветствува на 4 празни места, кои едиторот автоматски ги вметнува при притискање на `Tab`.\n",
    "Така, во Python нема потреба од употреба на `{ }`."
   ]
  },
  {
   "cell_type": "code",
   "execution_count": 39,
   "id": "a81d7783-7ca7-4aca-b4e8-7b91d5466783",
   "metadata": {},
   "outputs": [
    {
     "name": "stdout",
     "output_type": "stream",
     "text": [
      "A lot\n"
     ]
    }
   ],
   "source": [
    "a = 10\n",
    "\n",
    "if a == 1:\n",
    "    print(1)\n",
    "elif a == 2:\n",
    "    print(2)\n",
    "else:\n",
    "    print('A lot')"
   ]
  },
  {
   "cell_type": "markdown",
   "id": "0f4c8d1c-352b-4226-8278-e51145733dfe",
   "metadata": {},
   "source": [
    "`if` се оценува како `False` за:\n",
    "- секој број еднаков на нула (`0`, `0.0`)\n",
    "- празен контејнер (`list`, `dict`)\n",
    "- `False`, `None`\n",
    "\n",
    "а се оценува како `True` за сите останати случаи.\n",
    "\n",
    "### `for`"
   ]
  },
  {
   "cell_type": "code",
   "execution_count": 40,
   "id": "7f3153d5-93de-4294-b27a-8f73cff3c8da",
   "metadata": {},
   "outputs": [
    {
     "name": "stdout",
     "output_type": "stream",
     "text": [
      "Python is cool\n",
      "Python is powerful\n",
      "Python is readable\n"
     ]
    }
   ],
   "source": [
    "for word in ('cool', 'powerful', 'readable'):\n",
    "    print(f'Python is {word}')"
   ]
  },
  {
   "cell_type": "markdown",
   "id": "4e6cd1ec-99c1-42b2-b5eb-d8c499c4aadf",
   "metadata": {},
   "source": [
    "Ако имаме потреба од индексирање:"
   ]
  },
  {
   "cell_type": "code",
   "execution_count": 41,
   "id": "41f0fc13-a281-4779-b765-181c3c556992",
   "metadata": {},
   "outputs": [
    {
     "name": "stdout",
     "output_type": "stream",
     "text": [
      "0 yellow\n",
      "1 blue\n",
      "2 green\n",
      "3 black\n",
      "4 white\n"
     ]
    }
   ],
   "source": [
    "for i, item in enumerate(colors):\n",
    "    print(i, item)"
   ]
  },
  {
   "cell_type": "code",
   "execution_count": 42,
   "id": "d1b23494-a7b6-4b0b-a89a-0d5ea6fb15c2",
   "metadata": {},
   "outputs": [
    {
     "name": "stdout",
     "output_type": "stream",
     "text": [
      "Urosh 5752\n",
      "Arpad 5578\n",
      "Igor 5915\n"
     ]
    }
   ],
   "source": [
    "for name, tel in tels.items():\n",
    "    print(name, tel)"
   ]
  },
  {
   "cell_type": "code",
   "execution_count": 43,
   "id": "aeeb7325-358b-451e-b96e-94b4275cbee0",
   "metadata": {},
   "outputs": [
    {
     "name": "stdout",
     "output_type": "stream",
     "text": [
      "o\n",
      "e\n",
      "u\n"
     ]
    }
   ],
   "source": [
    "vowels = 'aeiouy'\n",
    "\n",
    "for i in 'powerful':\n",
    "    if i in vowels:\n",
    "        print(i)"
   ]
  },
  {
   "cell_type": "code",
   "execution_count": 44,
   "id": "e5edfa7f-e738-41d7-84c7-44803a8639e3",
   "metadata": {},
   "outputs": [
    {
     "name": "stdout",
     "output_type": "stream",
     "text": [
      "1.0\n",
      "0.5\n",
      "0.25\n"
     ]
    }
   ],
   "source": [
    "a = [1, 0, 2, 4]\n",
    "\n",
    "for element in a:\n",
    "    if element == 0:\n",
    "        continue\n",
    "    print(1. / element)"
   ]
  },
  {
   "cell_type": "markdown",
   "id": "0218d66c-cd76-4c88-b94d-14e7962003df",
   "metadata": {},
   "source": [
    "### `while`"
   ]
  },
  {
   "cell_type": "code",
   "execution_count": 45,
   "id": "8053c891-dd85-4963-a775-d787bde2aef4",
   "metadata": {},
   "outputs": [
    {
     "name": "stdout",
     "output_type": "stream",
     "text": [
      "1\n",
      "2\n",
      "4\n",
      "8\n",
      "16\n",
      "32\n",
      "64\n"
     ]
    }
   ],
   "source": [
    "n = 1\n",
    "while True:\n",
    "    print(n)\n",
    "    n += n\n",
    "    if n > 100:\n",
    "        break"
   ]
  },
  {
   "cell_type": "markdown",
   "id": "a19bf468-42e4-46f9-88d6-4dc138e39ef4",
   "metadata": {},
   "source": [
    "### Креирање на листи во еден ред\n",
    "\n",
    "Пајтон нуди механизам за креирање листа од друга во еден ред.\n",
    "Ова е моќно, но најдобро е да го користите само во случаи кога не ја намалува читливоста на кодот."
   ]
  },
  {
   "cell_type": "code",
   "execution_count": 46,
   "id": "8a35e964-e043-4a77-96b3-562198b045d4",
   "metadata": {},
   "outputs": [
    {
     "data": {
      "text/plain": [
       "[0, 1, 4, 9, 16, 25, 36, 49, 64, 81]"
      ]
     },
     "execution_count": 46,
     "metadata": {},
     "output_type": "execute_result"
    }
   ],
   "source": [
    "squares = [i**2 for i in range(10)]\n",
    "squares"
   ]
  },
  {
   "cell_type": "markdown",
   "id": "58c27875-1283-4d2f-9db8-c1a88b07cc11",
   "metadata": {},
   "source": [
    "## 2.4. Функции"
   ]
  },
  {
   "cell_type": "markdown",
   "id": "8455bcb5-2b1c-4aac-9e0b-7b2fb866dd87",
   "metadata": {},
   "source": [
    "Функциите се дефинираат со индентација слично со блоковите код при контролата на текот на програмата."
   ]
  },
  {
   "cell_type": "code",
   "execution_count": 47,
   "id": "08ad1076-09d3-465a-b91d-9d1b3c3064a6",
   "metadata": {},
   "outputs": [
    {
     "name": "stdout",
     "output_type": "stream",
     "text": [
      "in test function\n"
     ]
    }
   ],
   "source": [
    "def test():\n",
    "    print('in test function')\n",
    "\n",
    "test()"
   ]
  },
  {
   "cell_type": "code",
   "execution_count": 48,
   "id": "3f205919-d4c5-4130-ab07-11e7e7219757",
   "metadata": {},
   "outputs": [
    {
     "data": {
      "text/plain": [
       "28.273500000000002"
      ]
     },
     "execution_count": 48,
     "metadata": {},
     "output_type": "execute_result"
    }
   ],
   "source": [
    "def disk_area(radius):\n",
    "    return 3.1415 * radius**2\n",
    "disk_area(3)"
   ]
  },
  {
   "cell_type": "markdown",
   "id": "5f654499-34b0-4783-b0bc-ef0920b12c64",
   "metadata": {},
   "source": [
    "Функциите може да се дефинираат со задолжителни (позициони) аргументи и опционални аргументи (со клучен збор)."
   ]
  },
  {
   "cell_type": "code",
   "execution_count": 49,
   "id": "309da28d-e6bb-4fbb-956f-b98ef9c24e6e",
   "metadata": {},
   "outputs": [
    {
     "data": {
      "text/plain": [
       "354.6436257832055"
      ]
     },
     "execution_count": 49,
     "metadata": {},
     "output_type": "execute_result"
    }
   ],
   "source": [
    "def speed_of_sound(temp, temp_units=\"C\"):\n",
    "    \"\"\"Calculate speed of sound for a given air temperature.\n",
    "    \n",
    "    Parameters\n",
    "    ----------\n",
    "    temp : float\n",
    "        Temperature.\n",
    "    temp_units : str, optional\n",
    "        Temperature units. \"C\" for Celsius or \"K\" for Kelvin. \n",
    "        Defaults to Celsius.\n",
    "    \n",
    "    Returns\n",
    "    -------\n",
    "    float\n",
    "        Speed in m/s.\n",
    "    \"\"\"\n",
    "    c0 = 331.22  # m/s at 0 C\n",
    "    temp0 = 273.15  # 0 C\n",
    "    if temp_units == \"C\":\n",
    "        temp += temp0  # convert to Kelvin\n",
    "    c = c0 * (temp / temp0)**0.5\n",
    "    return c\n",
    "\n",
    "speed_of_sound(40)"
   ]
  },
  {
   "cell_type": "code",
   "execution_count": 50,
   "id": "a53df787-e6ab-4a9f-a9cc-00d7938d5457",
   "metadata": {},
   "outputs": [
    {
     "data": {
      "text/plain": [
       "28.34202966325652"
      ]
     },
     "execution_count": 50,
     "metadata": {},
     "output_type": "execute_result"
    }
   ],
   "source": [
    "speed_of_sound(2, \"K\")"
   ]
  },
  {
   "cell_type": "markdown",
   "id": "4d1677b3-46ae-473e-b096-a3f81e856e69",
   "metadata": {},
   "source": [
    "Функциите имаат помошни описи наречени `docstring` поместени веднаш под декларацијата. \n",
    "Постојат неколку конвенции за нивно форматирање, на пр. [NumPy стандардот](https://numpydoc.readthedocs.io/en/latest/format.html#docstring-standard). \n",
    "За да пристапиме до помошта за дадена функција, треба да допишеме `?` по името на функцијата."
   ]
  },
  {
   "cell_type": "code",
   "execution_count": 51,
   "id": "c59002ad-b1f1-4e85-8279-c4c234c2baca",
   "metadata": {},
   "outputs": [
    {
     "data": {
      "text/plain": [
       "\u001b[0;31mSignature:\u001b[0m \u001b[0mspeed_of_sound\u001b[0m\u001b[0;34m(\u001b[0m\u001b[0mtemp\u001b[0m\u001b[0;34m,\u001b[0m \u001b[0mtemp_units\u001b[0m\u001b[0;34m=\u001b[0m\u001b[0;34m'C'\u001b[0m\u001b[0;34m)\u001b[0m\u001b[0;34m\u001b[0m\u001b[0;34m\u001b[0m\u001b[0m\n",
       "\u001b[0;31mDocstring:\u001b[0m\n",
       "Calculate speed of sound for a given air temperature.\n",
       "\n",
       "Parameters\n",
       "----------\n",
       "temp : float\n",
       "    Temperature.\n",
       "temp_units : str, optional\n",
       "    Temperature units. \"C\" for Celsius or \"K\" for Kelvin. \n",
       "    Defaults to Celsius.\n",
       "\n",
       "Returns\n",
       "-------\n",
       "float\n",
       "    Speed in m/s.\n",
       "\u001b[0;31mFile:\u001b[0m      /tmp/ipykernel_57980/1873094235.py\n",
       "\u001b[0;31mType:\u001b[0m      function\n"
      ]
     },
     "metadata": {},
     "output_type": "display_data"
    }
   ],
   "source": [
    "speed_of_sound?"
   ]
  },
  {
   "cell_type": "markdown",
   "id": "e65f9803-691f-48b6-a766-10f54ec0b468",
   "metadata": {},
   "source": [
    "## 2.5 NumPy, SciPy и Matplotlib"
   ]
  },
  {
   "cell_type": "markdown",
   "id": "1b4e65e2-5b34-4eab-a2da-a730c4176a7f",
   "metadata": {},
   "source": [
    "NumPy, SciPy и Matplotlib се трите библиотеки кои ја сочинуваат основата за користење на Python, кој е јазик за општа намена, за нумеричка обработка на податоци, а со тоа ја отвораат портата за користење на Python за машинско учење и наука за податоци.\n",
    "\n",
    "Во овој дел накратко ќе покажеме некои од нивните функционалности.\n",
    "Ќе навлеземе подлабоко во нив во подоцнежните поглавја од овој материјал.\n",
    "\n",
    "### NumPy низи\n",
    "\n",
    "Во сржта на NumPy се NumPy податочните низи - мемориски ефикасни контејнери кои овозможуваат брзи нумерички операции.\n",
    "\n",
    "Ајде да видиме како можеме да ги создадеме и да направиме некои основни манипулации со нив."
   ]
  },
  {
   "cell_type": "code",
   "execution_count": 52,
   "id": "1fefaccd-0bbe-4eb1-b003-e54d0bcf245f",
   "metadata": {},
   "outputs": [
    {
     "data": {
      "text/plain": [
       "array([0, 1, 2, 3])"
      ]
     },
     "execution_count": 52,
     "metadata": {},
     "output_type": "execute_result"
    }
   ],
   "source": [
    "import numpy as np\n",
    "\n",
    "a = np.array([0, 1, 2, 3])\n",
    "a"
   ]
  },
  {
   "cell_type": "code",
   "execution_count": 53,
   "id": "10ba989f-5a4e-46bf-a7dd-3a39fa6a1da4",
   "metadata": {},
   "outputs": [
    {
     "data": {
      "text/plain": [
       "dtype('int64')"
      ]
     },
     "execution_count": 53,
     "metadata": {},
     "output_type": "execute_result"
    }
   ],
   "source": [
    "a.dtype"
   ]
  },
  {
   "cell_type": "code",
   "execution_count": 54,
   "id": "63803c6e-e008-42c4-aa76-f9b42528112d",
   "metadata": {},
   "outputs": [
    {
     "data": {
      "text/plain": [
       "1"
      ]
     },
     "execution_count": 54,
     "metadata": {},
     "output_type": "execute_result"
    }
   ],
   "source": [
    "a.ndim"
   ]
  },
  {
   "cell_type": "code",
   "execution_count": 55,
   "id": "8adff893-8746-4868-9d89-407d5467f85a",
   "metadata": {},
   "outputs": [
    {
     "data": {
      "text/plain": [
       "(4,)"
      ]
     },
     "execution_count": 55,
     "metadata": {},
     "output_type": "execute_result"
    }
   ],
   "source": [
    "a.shape"
   ]
  },
  {
   "cell_type": "code",
   "execution_count": 56,
   "id": "62e46fa7-86f3-4c67-88f7-420091f24ba4",
   "metadata": {},
   "outputs": [
    {
     "data": {
      "text/plain": [
       "4"
      ]
     },
     "execution_count": 56,
     "metadata": {},
     "output_type": "execute_result"
    }
   ],
   "source": [
    "a.size"
   ]
  },
  {
   "cell_type": "markdown",
   "id": "5ae41792-465a-4215-b696-00dfa262e028",
   "metadata": {},
   "source": [
    "#### Креирање на NumPy низи"
   ]
  },
  {
   "cell_type": "code",
   "execution_count": 57,
   "id": "668a0024-94b3-42ad-81d5-9a499c51b93e",
   "metadata": {},
   "outputs": [
    {
     "data": {
      "text/plain": [
       "(array([0, 1, 2, 3, 4, 5, 6, 7, 8, 9]),\n",
       " array([1, 3, 5, 7]),\n",
       " array([0. , 0.2, 0.4, 0.6, 0.8, 1. ]),\n",
       " array([[1., 1., 1.],\n",
       "        [1., 1., 1.],\n",
       "        [1., 1., 1.]]),\n",
       " array([[0., 0.],\n",
       "        [0., 0.]]))"
      ]
     },
     "execution_count": 57,
     "metadata": {},
     "output_type": "execute_result"
    }
   ],
   "source": [
    "a = np.arange(10) # 0 .. n-1  (!)\n",
    "b = np.arange(1, 9, 2) # start, end (exclusive), step\n",
    "c = np.linspace(0, 1, 6)   # start, end, num-points\n",
    "d = np.ones((3, 3))  # (3, 3) is a tuple\n",
    "e = np.zeros((2, 2))\n",
    "a, b, c, d, e"
   ]
  },
  {
   "cell_type": "markdown",
   "id": "95b94f0e-ca2c-4642-b035-9506ad428d15",
   "metadata": {},
   "source": [
    "#### Повеќе-димензионални низи"
   ]
  },
  {
   "cell_type": "code",
   "execution_count": 58,
   "id": "a54b8a9a-477a-4ecd-b43e-fa314c7e2f32",
   "metadata": {},
   "outputs": [
    {
     "data": {
      "text/plain": [
       "array([[0, 1, 2],\n",
       "       [3, 4, 5]])"
      ]
     },
     "execution_count": 58,
     "metadata": {},
     "output_type": "execute_result"
    }
   ],
   "source": [
    "a = np.array([[0, 1, 2], [3, 4, 5]])\n",
    "a"
   ]
  },
  {
   "cell_type": "code",
   "execution_count": 59,
   "id": "d3199b6a-c7ce-4251-b718-54a60256e220",
   "metadata": {},
   "outputs": [
    {
     "data": {
      "text/plain": [
       "2"
      ]
     },
     "execution_count": 59,
     "metadata": {},
     "output_type": "execute_result"
    }
   ],
   "source": [
    "a.ndim"
   ]
  },
  {
   "cell_type": "code",
   "execution_count": 60,
   "id": "9466c55b-bba2-4243-8cf9-4c9635533838",
   "metadata": {},
   "outputs": [
    {
     "data": {
      "text/plain": [
       "(2, 3)"
      ]
     },
     "execution_count": 60,
     "metadata": {},
     "output_type": "execute_result"
    }
   ],
   "source": [
    "a.shape"
   ]
  },
  {
   "cell_type": "code",
   "execution_count": 61,
   "id": "cb754d7d-ee2f-41f4-8c89-74d75c350ff8",
   "metadata": {},
   "outputs": [
    {
     "data": {
      "text/plain": [
       "6"
      ]
     },
     "execution_count": 61,
     "metadata": {},
     "output_type": "execute_result"
    }
   ],
   "source": [
    "a.size"
   ]
  },
  {
   "cell_type": "markdown",
   "id": "2f79801e-b2de-42f2-a83c-c037c28739d2",
   "metadata": {},
   "source": [
    "#### Математички операции со низи"
   ]
  },
  {
   "cell_type": "code",
   "execution_count": 62,
   "id": "0d236ffd-4313-4e79-b098-616d16d9f552",
   "metadata": {
    "tags": []
   },
   "outputs": [
    {
     "data": {
      "text/plain": [
       "[0, 1, 4, 9, 16, 25, 36, 49, 64, 81]"
      ]
     },
     "execution_count": 62,
     "metadata": {},
     "output_type": "execute_result"
    }
   ],
   "source": [
    "lis = range(10)\n",
    "[i**2 for i in lis]"
   ]
  },
  {
   "cell_type": "code",
   "execution_count": 63,
   "id": "1e64a63f-456a-482e-8492-f1b14bf16493",
   "metadata": {},
   "outputs": [
    {
     "data": {
      "text/plain": [
       "array([ 0,  1,  4,  9, 16, 25, 36, 49, 64, 81])"
      ]
     },
     "execution_count": 63,
     "metadata": {},
     "output_type": "execute_result"
    }
   ],
   "source": [
    "arr = np.arange(10)\n",
    "arr**2"
   ]
  },
  {
   "cell_type": "markdown",
   "id": "c23f23e2-c95f-426e-93a5-cafac03bb166",
   "metadata": {},
   "source": [
    "### Matplotlib графикони\n",
    "\n",
    "Matplotlib е флексибилна библиотека која овозможува лесно и брзо исцртување на променливите, но и креирање на графикони со висок квалитет за употреба во технички извештаи или научни трудови.\n",
    "\n",
    "За да овозможиме интерактивно цртање, треба да ја повикаме магичната функција `%matplotlib` во IPython, а во Jupyter Notebook треба да го извршиме следново."
   ]
  },
  {
   "cell_type": "code",
   "execution_count": 64,
   "id": "45e477e8-70aa-446c-85c0-4c74a9a5ca0f",
   "metadata": {},
   "outputs": [],
   "source": [
    "%matplotlib inline"
   ]
  },
  {
   "cell_type": "markdown",
   "id": "fcc5675a-8ab5-4900-80f3-e098093d5209",
   "metadata": {},
   "source": [
    "Да ја увеземе библиотеката за исцртување."
   ]
  },
  {
   "cell_type": "code",
   "execution_count": 65,
   "id": "5302e140-92e3-4e5a-bd91-a3a700244259",
   "metadata": {},
   "outputs": [],
   "source": [
    "from matplotlib import pyplot as plt"
   ]
  },
  {
   "cell_type": "markdown",
   "id": "d2e99577-f36b-4dc9-aac8-fcabe9b9f3e8",
   "metadata": {},
   "source": [
    "Да направиме низи со синус и косинус. "
   ]
  },
  {
   "cell_type": "code",
   "execution_count": 66,
   "id": "a390b66d-b255-4818-a79a-09cb7de00e47",
   "metadata": {},
   "outputs": [],
   "source": [
    "x = np.linspace(0, 2*np.pi, 100)\n",
    "sin = np.sin(x)\n",
    "cos = np.cos(x)"
   ]
  },
  {
   "cell_type": "markdown",
   "id": "b832dc22-209b-4f2b-86f7-97252aeafae9",
   "metadata": {},
   "source": [
    "Конечно, можеме да ги исцртаме низите."
   ]
  },
  {
   "cell_type": "code",
   "execution_count": 67,
   "id": "0b5e877a-afc8-4a82-8c67-12b1c86d15d1",
   "metadata": {},
   "outputs": [
    {
     "data": {
      "text/plain": [
       "[<matplotlib.lines.Line2D at 0x7fd259e8f310>]"
      ]
     },
     "execution_count": 67,
     "metadata": {},
     "output_type": "execute_result"
    },
    {
     "data": {
      "image/png": "[encoded data removed]",
      "text/plain": [
       "<Figure size 432x288 with 1 Axes>"
      ]
     },
     "metadata": {
      "needs_background": "light"
     },
     "output_type": "display_data"
    }
   ],
   "source": [
    "plt.plot(x, sin)\n",
    "plt.plot(x, cos)"
   ]
  },
  {
   "cell_type": "markdown",
   "id": "12282710-e028-41a8-9da5-e7f20ab81b1b",
   "metadata": {},
   "source": [
    "Можеме да го подобриме графиконот со додавање на информации за оските и мрежа. "
   ]
  },
  {
   "cell_type": "code",
   "execution_count": 68,
   "id": "dbbc8a89-98b4-4eeb-8cc7-ba5737e5d857",
   "metadata": {},
   "outputs": [
    {
     "data": {
      "text/plain": [
       "<matplotlib.legend.Legend at 0x7fd2b8094a00>"
      ]
     },
     "execution_count": 68,
     "metadata": {},
     "output_type": "execute_result"
    },
    {
     "data": {
      "image/png": "[encoded data removed]",
      "text/plain": [
       "<Figure size 432x288 with 1 Axes>"
      ]
     },
     "metadata": {
      "needs_background": "light"
     },
     "output_type": "display_data"
    }
   ],
   "source": [
    "plt.plot(x, sin)\n",
    "plt.plot(x, cos)\n",
    "plt.grid()\n",
    "plt.xlabel(\"Angle [rad]\")\n",
    "plt.ylabel(\"Amplitude\")\n",
    "plt.legend([\"sine\", \"cosine\"])"
   ]
  }
 ],
 "metadata": {
  "kernelspec": {
   "display_name": "Python 3",
   "language": "python",
   "name": "python3"
  },
  "language_info": {
   "codemirror_mode": {
    "name": "ipython",
    "version": 3
   },
   "file_extension": ".py",
   "mimetype": "text/x-python",
   "name": "python",
   "nbconvert_exporter": "python",
   "pygments_lexer": "ipython3",
   "version": "3.8.12"
  },
  "toc-showtags": false
 },
 "nbformat": 4,
 "nbformat_minor": 5
}
