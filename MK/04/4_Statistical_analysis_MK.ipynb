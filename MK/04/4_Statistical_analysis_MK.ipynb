{
  "cells": [
    {
      "cell_type": "markdown",
      "metadata": {
        "id": "GcRVtM4Snwjq"
      },
      "source": [
        "# 4. Статистичка анализа\n",
        "\n",
        "(од Арпад Кочиш, ЕТШМП, Србија)\n",
        "\n",
        "Статистиката игра важна улога во машинското учење, бидејќи обезбедува алатки и методи за моделирање, анализа и толкување на податоците."
      ]
    },
    {
      "cell_type": "markdown",
      "metadata": {
        "id": "4P5MeEZ1nwjz"
      },
      "source": [
        "## 4.1 Програмски алатки и пакети за статистичка анализа.\n",
        "Во ова поглавје ќе се користат **Python** и **Jupyter Notebook**. Има многу достапни **библиотеки за статистика** на Python, но во ова поглавје ќе ги користиме следните:\n",
        "     <ul>\n",
        "         <li>**NumPy** е библиотека во Python која ви овозможува да работите со големи низи на броеви и да вршите математички операции на нив како линеарна алгебра и статистичка анализа. Широко се користи во научно пресметување, анализа на податоци и машинско учење.</li>\n",
        "         <li>**SciPy** е библиотека во Python која ја проширува функционалноста на NumPy за научно пресметување. Вклучува и scipy.stats што се користи за статистичка анализа.</li>\n",
        "         <li>**Pandas** е библиотека на Python што ја олеснува работата со податоци. Обезбедува алатки за ракување и манипулирање со податоци во табеларен формат, слично на софтверот за табеларни пресметки. Најчесто се користи во задачи за анализа на податоци, чистење, манипулација и визуелизација и добро работи со други библиотеки како што се NumPy, SciPy и Matplotlib.</li>\n",
        "         <li>**Matplotlib** е библиотека за визуелизација на податоци. Лесно може да се комбинира со NumPy, SciPy и Pandas.</li>\n",
        "     </ul>"
      ]
    },
    {
      "cell_type": "markdown",
      "metadata": {
        "id": "zT_PTmsNnwj0"
      },
      "source": [
        "## 4.2 Описна и заклучна статистика\n",
        "Описната и заклучната статистика се две главни гранки на статистиката кои се користат за различни цели. \n",
        "\n",
        "**Описната статистика** се користи за сумирање, организирање и опишување на множества на податоци. Тоа помага да се обезбеди општа слика за податоците, како што се просекот, медијаната, стандардната девијација и сл. На пример, ако сакате да ја знаете просечната висина на учениците во вашиот клас, би користеле описна статистика за да го пресметате тоа.\n",
        "\n",
        "**Заклучната статистика**, од друга страна, се користи за да се направат предвидувања или генерализации за поголемо множество врз основа на издвоен примерок од податоци. Тоа ви овозможува да извлечете заклучоци за поголема група со анализа на помала група. На пример, ако сакате да ја знаете просечната висина на сите ученици во вашето училиште, би земале примерок од висината на учениците од вашето одделение и би користеле заклучната статистика за да ја процените просечната висина на целата училишна популација.\n",
        "\n",
        "Така, во едноставни термини, **описната статистика** помага да се разберат достапните податоци, а **заклучната статистика** помага да се направат предвидувања за податоците кои сè уште не се достапни. Во овој дел првенствено ќе се фокусираме на описна статистика. Како што напредуваат предавањата, ќе го пренасочиме нашиот фокус повеќе кон заклучните статистики додека навлегуваме подлабоко во техниките за машинско учење."
      ]
    },
    {
      "cell_type": "markdown",
      "metadata": {
        "id": "R9jNiKuZnwj1"
      },
      "source": [
        "## 4.3 Униваријатна анализа\n",
        "Униваријатната анализа е статистика на една категорија. На пример, можеби ќе сакате да знаете како вашите соученици поминале на тест. Можете да ги собирате резултатите и да користите униваријатна анализа за да ги разберете и опишете податоците.\n",
        "Униваријатите аналитики во овој пример вклучуваат:\n",
        "* одредување на просечна оценка (исто така наречена средна вредност),\n",
        "* одредување на опсегот на оценките (минимална/максимална),\n",
        "* проценка дали некои оценки многу ретко се појавуваат (исклучоци),\n",
        "* мерка за „шаренилото“ на оценките (варијанса или стандардна девијација).\n",
        "\n",
        "Униваријатната статистика е добар начин да се добие општа идеја за тоа како изгледаат податоците и да се види дали има некакви обрасци или трендови. Тоа е како да гледате едно парче од сложувалката за да добиете генерален впечаток за целата слика.\n",
        "\n"
      ]
    },
    {
      "cell_type": "markdown",
      "metadata": {
        "id": "GDmuYpJwnwj3"
      },
      "source": [
        "## 4.4 Мерки на централна тенденција\n",
        "Мерките на централната тенденција се статистички мерки кои се користат за опишување на централната или типична вредност на збир на податоци. Најчестите мерки за централна тенденција се **средната вредност (просекот)**, **медијаната** и **најголемата застапеност**."
      ]
    },
    {
      "cell_type": "markdown",
      "metadata": {
        "id": "mp3hgTzPnwj3"
      },
      "source": [
        "### 4.4.1 Аритметичка средина\n",
        "Аритметичката средина, позната и како „**просек**“, е начин да се најде средната вредност на збир на броеви. За да ја пронајдете средната вредност, соберете ги сите броеви заедно и потоа поделете со бројот на примероци во множеството. На пример, во множеството x= {1, 2, 3}, бројот на ставки е n = 3, па средната вредност е:\n",
        "\n",
        "$$\n",
        "   \\frac{x1+x2+...+xn}{n} = \\frac{1+2+3}{3} = \\frac{6}{3} = 2\n",
        "$$\n",
        "\n",
        "Во Python, можете да ја користите numpy библиотеката за да ја пронајдете аритметичката средина на множество броеви. Еве еден пример:"
      ]
    },
    {
      "cell_type": "code",
      "execution_count": null,
      "metadata": {
        "id": "FvPMgJaPnwj5",
        "outputId": "34a84b25-2a99-457f-f9d2-4878d87d2d8d",
        "colab": {
          "base_uri": "https://localhost:8080/"
        }
      },
      "outputs": [
        {
          "output_type": "stream",
          "name": "stdout",
          "text": [
            "2.0\n"
          ]
        }
      ],
      "source": [
        "import numpy as np\n",
        "\n",
        "# Create a set of numbers\n",
        "numbers = np.array([1, 2, 3])\n",
        "\n",
        "# Use the numpy mean() function to find the mean\n",
        "mean = np.mean(numbers)\n",
        "\n",
        "# Print the result\n",
        "print(mean)"
      ]
    },
    {
      "cell_type": "markdown",
      "metadata": {
        "id": "ZMUBqydinwj7"
      },
      "source": [
        "### 4.4.2 Пондерирана средина\n",
        "\n",
        "Пондерираната средина е слична на обичната средина (исто така наречена аритметичка средина), но им дава поголема **важност** (или **тежина**) на **одредени вредности** во множеството.\n",
        "\n",
        "За да ја пронајдете пондерираната средина, прво доделувате тежина на секоја вредност во множеството, а потоа секоја вредност ја помножувате со нејзината тежина. После тоа, ги собирате сите резултати и ја делите со вкупната тежина.\n",
        "\n",
        "На пример, да речеме дека имате збир на резултати од тестот x = {70, 80, 90} и соодветните тежини се w = {2, 3, 5} бројот на ставки во овие множества е n = 3.\n",
        "За да ја пронајдете пондерираната средина, би направиле:\n",
        "\n",
        "$$\n",
        "    m = \\frac{(x_{1}*w_{1}+x_{2}*w_{2}+...+x_{n}*w_{n})}{w_{1}+w_{2}+...+w_{n}} = \\frac{(70*2 + 80*3+ 90*5)}{(2+3+5)} = \\frac{830}{10} = 83\n",
        "$$\n",
        "\n",
        "Тоа е како да им давате поголема тежина на некои од броевите во множеството, што ги прави повеќе да се бројат кон конечниот просек. Се користи во случаи кога вредностите имаат различно значење, на овој начин можете да им дадете поголема тежина на вредностите кои се поважни."
      ]
    },
    {
      "cell_type": "code",
      "execution_count": null,
      "metadata": {
        "id": "Z5nNMOVpnwj8",
        "outputId": "708903d6-064b-4290-853d-329205077248",
        "colab": {
          "base_uri": "https://localhost:8080/"
        }
      },
      "outputs": [
        {
          "output_type": "stream",
          "name": "stdout",
          "text": [
            "83.0\n"
          ]
        }
      ],
      "source": [
        "import numpy as np\n",
        "\n",
        "# Create a set of numbers\n",
        "numbers = np.array([70, 80, 90])\n",
        "\n",
        "# Assign weights to each number\n",
        "weights = np.array([2, 3, 5])\n",
        "\n",
        "# Use the numpy average() function to find the weighted mean\n",
        "weighted_mean = np.average(numbers, weights=weights)\n",
        "\n",
        "# Print the result\n",
        "print(weighted_mean)"
      ]
    },
    {
      "cell_type": "markdown",
      "metadata": {
        "id": "-9dMG9cCnwj9"
      },
      "source": [
        "### 4.4.3 Геометриска средина\n",
        "\n",
        "Геометриската средина е начин да се најде просекот на множество броеви со множење заедно и потоа земајќи го n-тиот корен (каде n е бројот на броеви во множеството). Се користи за да се најде просекот на множество броеви кога броевите не се сите исти и кога вредностите можат да бидат поголеми или помали од 1.\n",
        "\n",
        "На пример, да речеме дека имате множество од броеви x = {2, 4, 8} со должина од n = 3. За да ја пронајдете геометриската средина, би направиле:\n",
        "\n",
        "\n",
        "$$\n",
        "  g = \\sqrt[n]{x_{1}*x_{2}*...*x_{n}} = \\sqrt[3]{2*4*8} = \\sqrt[3]{64} = 4\n",
        "$$\n",
        "\n",
        "Геометриската средина често се користи за да се најде просекот на стапки на промена или стапки на раст. Се користи и во финансиите за пресметување на просечната стапка на поврат на инвестицијата во одреден временски период.\n",
        "\n",
        "Имајте на ум дека геометриската средина е секогаш помала или еднаква на аритметичката средина (освен кога сите вредности се исти)\n",
        "\n",
        "Во повеќето случаи, се користи кога податочното множество е позитивно искривено, односно кога има повеќе мали вредности отколку големи вредности."
      ]
    },
    {
      "cell_type": "code",
      "execution_count": null,
      "metadata": {
        "id": "06H5cRHznwj-",
        "outputId": "928e0b31-45dc-403a-fff7-7a89683f0b63",
        "colab": {
          "base_uri": "https://localhost:8080/"
        }
      },
      "outputs": [
        {
          "output_type": "stream",
          "name": "stdout",
          "text": [
            "4.0\n"
          ]
        }
      ],
      "source": [
        "from scipy.stats import gmean\n",
        "# Create a set of numbers\n",
        "numbers = np.array([2, 4, 8])\n",
        "\n",
        "# Use the numpy geometric mean() function to find the geometric mean\n",
        "geometric_mean = gmean(numbers)\n",
        "\n",
        "# Print the result\n",
        "print(geometric_mean)"
      ]
    },
    {
      "cell_type": "markdown",
      "metadata": {
        "id": "xcWIu_k4nwkA"
      },
      "source": [
        "### 4.4.4 Хармониска средина\n",
        "Хармониската средина се добива со пресметување на реципрочна вредност од аритметичката средина на реципрочните вредности на броевите. Се користи за пресметување на просекот на стапки.\n",
        "\n",
        "На пример, да речеме дека имаме множество од броеви {3, 4, 5}, бројот на ставки во множеството е n = 3. За да ја пронајдеме хармоничната средина, би направиле:\n",
        "\n",
        "\n",
        "$$\n",
        "     h = \\frac{n}{\\frac{1}{x_{1}}+\\frac{1}{x_{2}}+...+\\frac{1}{x_{n}}} = \\ frac{3}{\\frac{1}{3}+\\frac{1}{4}+\\frac{1}{5}} = 3,829\n",
        "$$\n",
        "\n",
        "<br>\n",
        "\n",
        "Хармониската средина често се користи кога се работи со стапки, како што се брзини или стапки на промена. Исто така се користи во финансиите и економијата за пресметување на просекот на каматните стапки, стапките на инфлација и стапките на раст.\n",
        "\n",
        "Имајте на ум дека хармониската средина е секогаш помала од аритметичката средина и геометриската средина, освен кога сите вредности во податочното множество се исти.\n",
        "\n",
        "Може да се користи и кога множеството податоци содржи нули, но тогаш резултатот секогаш ќе биде нула. За разлика од хармониската средина, геометриската средина не е дефинирана кога податочното множество содржи нула."
      ]
    },
    {
      "cell_type": "code",
      "execution_count": null,
      "metadata": {
        "id": "ak88LVYZnwkA",
        "outputId": "3ee6ab49-c866-46e8-893c-5b140b4ec6cc",
        "colab": {
          "base_uri": "https://localhost:8080/"
        }
      },
      "outputs": [
        {
          "output_type": "stream",
          "name": "stdout",
          "text": [
            "3.829787234042554\n"
          ]
        }
      ],
      "source": [
        "from scipy.stats import hmean\n",
        "\n",
        "# Create a set of numbers\n",
        "numbers = np.array([3, 4, 5])\n",
        "\n",
        "# Use the numpy harmonic mean() function to find the harmonic mean\n",
        "harmonic_mean = hmean(numbers)\n",
        "\n",
        "# Print the result\n",
        "print(harmonic_mean)"
      ]
    },
    {
      "cell_type": "markdown",
      "metadata": {
        "id": "UTEdmFTDnwkB"
      },
      "source": [
        "### 4.4.5 Медијана\n",
        "Медијаната се користи за наоѓање на средната вредност на множество броеви кога има некои многу големи или многу мали вредности (исклучоци) што со своето влијание математички би ја искривиле перцепцијата за просекот (средната вредност) на множеството.\n",
        "\n",
        "За да се одреди медијаната, прво треба да се подредат сите броеви во множеството по нумерички (растечки или опаѓачки) редослед. Ако множеството има непарен број на ставки, тогаш медијаната е оној примерок кој се наоѓа точно на средината на листата. Ако множеството има парен број на ставки, тогаш медијаната е аритметичка средна вредност од двете ставки кои се наоѓаат најблиску до средината на листата.\n",
        "\n",
        "На пример, да речеме дека имаме збир од броеви {5, 2, 4, 8, 10}. За да ја пронајдеме медијаната, би ги подредиле броевите по нумерички редослед: {2, 4, 5, 8, 10}. Бидејќи множеството има непарен број на ставки, медијаната е третиот примерок од листата, односно 5.\n",
        "\n",
        "Ако множеството има парен број ставки на пример {2,7,1,12,5,6}, кога ќе го подредиме: {1,2,5,6,7,12}. Медијаната во тој случај е 5+6/2 = 5,5;"
      ]
    },
    {
      "cell_type": "code",
      "execution_count": null,
      "metadata": {
        "id": "KgQIbNT4nwkB",
        "outputId": "a1fe7a59-8311-485c-9369-28d3d4793fdb",
        "colab": {
          "base_uri": "https://localhost:8080/"
        }
      },
      "outputs": [
        {
          "output_type": "stream",
          "name": "stdout",
          "text": [
            "Median of the set that has odd number of items:  5.0\n",
            "Median of the set that has even number of items:  5.5\n"
          ]
        }
      ],
      "source": [
        "import numpy as np\n",
        "\n",
        "# Create a set of numbers\n",
        "numbersOdd = np.array([5, 2, 4, 8, 10])\n",
        "numbersEven = np.array([1, 2, 5, 6, 7, 12])\n",
        "\n",
        "# Use the numpy median() function to find the median\n",
        "medianOdd = np.median(numbersOdd)\n",
        "medianEven = np.median(numbersEven)\n",
        "# Print the result\n",
        "print(\"Median of the set that has odd number of items: \", medianOdd)\n",
        "print(\"Median of the set that has even number of items: \", medianEven)"
      ]
    },
    {
      "cell_type": "markdown",
      "metadata": {
        "id": "ubi_3y1lnwkC"
      },
      "source": [
        "### 4.4.6 Најголема застапеност\n"
      ]
    },
    {
      "cell_type": "markdown",
      "metadata": {
        "id": "RSZRxaIQnwkC"
      },
      "source": [
        "Најголемата застапеност е мерка која ги пронаоѓа најчестите вредности во збир на броеви. Податочно множество може да има една најголема застапеност, повеќе од една, или ниту една.\n",
        "\n",
        "На пример, да речеме дека имаме множество од броеви {1, 2, 2, 3, 4, 4, 4}. За да ја најдеме најмногу застапената вредност, би броеле колку пати секој број се појавува во множеството. Конкретно, ова множество најчесто се појавува бројот 4, вкупно три пати, така што најголемата застапеност е 4.\n",
        "\n",
        "Ако податочно множество има една најголема застапеност, тоа се нарекува унимодално. Ако има повеќе од една најголема застапеност, тоа се нарекува мултимодално. Ако нема ниту една, се нарекува немодално.\n",
        "\n",
        "Најголемата застапеност се користи кога податоците имаат извесни вредности што би ја искривиле средната вредност или медијаната. Исто така, се користи во финансиите и економијата за да се најде вредноста која најмногу се појавува, на пример најчестата цена на акцијата или највообичаената каматна стапка."
      ]
    },
    {
      "cell_type": "code",
      "execution_count": null,
      "metadata": {
        "id": "kLggOiCEnwkD",
        "outputId": "2460774b-291b-4ad1-e525-921311d96ca3",
        "colab": {
          "base_uri": "https://localhost:8080/"
        }
      },
      "outputs": [
        {
          "output_type": "stream",
          "name": "stdout",
          "text": [
            "[4]\n"
          ]
        }
      ],
      "source": [
        "# import the mode function from the scipy.stats library\n",
        "from scipy.stats import mode\n",
        "\n",
        "numbers = np.array([1, 2, 2, 3, 4, 4, 4])\n",
        "# use the mode function on the set of numbers\n",
        "mode, modeCount = mode(numbers)\n",
        "\n",
        "# print the result\n",
        "print(mode)"
      ]
    },
    {
      "cell_type": "markdown",
      "metadata": {
        "id": "o-h326rhnwkD"
      },
      "source": [
        "## 4.5 Мерки на варијабилност\n",
        "\n",
        "Мерките за варијабилност се статистички мерки кои опишуваат колку е „шарено“ или дисперзирано податочното множество. Тие даваат информации за степенот до кој податоците отстапуваат од средната вредност. Некои вообичаени мерки на варијабилност вклучуваат:\n",
        "\n",
        "<ul>\n",
        "     <li>Варијанса</li>\n",
        "     <li>Стандардна девијација (отстапување)</li>\n",
        "     <li>Закосување</li>\n",
        "     <li>Перцентили</li>\n",
        "     <li>Опсези</li>\n",
        "</ul>"
      ]
    },
    {
      "cell_type": "markdown",
      "metadata": {
        "id": "K0uFjTDenwkD"
      },
      "source": [
        "### 4.5.1 Варијанса\n",
        "Варијансата се користи за да се најде количината на варијација или дисперзија во збир на податоци. Колку е поголема варијансата, толку пораспространети се податоците. Колку е помала варијансата, толку поконцентрирани се податоците.\n",
        "\n",
        "За да се одреди варијансата, прво се наоѓа аритметичката средна вредност на множеството броеви, а потоа за секој број, се одзема средната вредност од бројот и резултатот се дига на квадрат. Потоа се сумираат сите квадратни разлики и се дели со бројот на ставки во множеството. Квадрирањето е начин да се избегне меѓусебно поништување на позитивните и негативните разлики.\n",
        "\n",
        "На пример, да речеме дека имаме множество од броеви {1, 2, 3, 4, 5}. Средната вредност на множеството е (15/5 = 3), потоа за секој број, се формираат следните квадратни разлики:\n",
        "\n",
        "(1-3)² = 4, (2-3)² = 1, (3-3)² = 0, (4-3)² = 1, (5-3)² = 4.\n",
        "\n",
        "Кога ќе ги собереме сите квадратни разлики и ќе ги поделиме со бројот на ставки во множеството:\n",
        "\n",
        "(4+1+0+1+4)/5 = 10/5 = 2.\n",
        "\n",
        "Се добива варијансата на тоа множество броеви.\n",
        "\n",
        "$$\n",
        "     S^2 = \\frac{(x_{1}-m)^2+(x+{2}-m)^2+..+(x_{n}-m)^2}{n} = \\frac{ (1-3)^2+(2-3)^2+(3-3)^2+(4-3)^2+(5-3)^2+}{5} = 2\n",
        "$$\n",
        "\n",
        "Варијансата е корисна во статистиката како мерка за нестабилност, а се користи и во финансиите и економијата за да се измери ризикот за инвестиција или берзанско работење."
      ]
    },
    {
      "cell_type": "code",
      "execution_count": 1,
      "metadata": {
        "id": "by4dtUYEnwkE",
        "outputId": "7ad95c43-1527-4ee2-f7a6-6db519dc9e26",
        "colab": {
          "base_uri": "https://localhost:8080/",
          "height": 300
        }
      },
      "outputs": [
        {
          "output_type": "stream",
          "name": "stdout",
          "text": [
            "variance of the data that is spread out:  0.4\n",
            "variance of the data that is concentrated:  200.0\n"
          ]
        },
        {
          "output_type": "display_data",
          "data": {
            "text/plain": [
              "<Figure size 432x288 with 1 Axes>"
            ],
            "image/png": "[encoded data removed]"
          },
          "metadata": {
            "needs_background": "light"
          }
        }
      ],
      "source": [
        "import numpy as np\n",
        "import matplotlib.pyplot as plt\n",
        "\n",
        "# Create a dataset\n",
        "dataSpreadOut = np.array([1, 2, 2, 2, 3])\n",
        "dataConcentrated = np.array([-10,0,10,20,30])\n",
        "\n",
        "# Use the numpy var() function to find the variance along the columns\n",
        "varianceSpread = np.var(dataSpreadOut, axis=0)\n",
        "varianceConcentrated = np.var(dataConcentrated, axis=0)\n",
        "\n",
        "\n",
        "# Print the result\n",
        "print(\"variance of the data that is spread out: \", varianceSpread)\n",
        "print(\"variance of the data that is concentrated: \", varianceConcentrated)\n",
        "\n",
        "\n",
        "# Plot the scatter plot of the data\n",
        "plt.scatter(dataSpreadOut, [0] * dataSpreadOut.shape[0])\n",
        "plt.scatter(dataConcentrated, [0] * dataConcentrated.shape[0])\n",
        "plt.show()"
      ]
    },
    {
      "cell_type": "markdown",
      "metadata": {
        "id": "c8jaPF8nnwkF"
      },
      "source": [
        "### 4.5.2 Стандардна девијација\n",
        "Стандардната девијација (или отстапувањето) е мерка многу слична на варијансата и се користи во истиот контекст. Во основа стандардната девијација е квадратен корен на варијансата.\n",
        "\n",
        "На пример, за истото множество на броеви од погоре, {1, 2, 3, 4, 5}, средната вредност беше 3, а варијансата беше 2. Ако го пресметаме квадратниот корен на варијансата √2 = 1,41, ја добиваме стандардната девијација на множеството."
      ]
    },
    {
      "cell_type": "code",
      "execution_count": 1,
      "metadata": {
        "id": "W5OTNmXdnwkF",
        "outputId": "f3630b64-2d41-4a24-f105-f4c19195cdfa",
        "colab": {
          "base_uri": "https://localhost:8080/"
        }
      },
      "outputs": [
        {
          "output_type": "stream",
          "name": "stdout",
          "text": [
            "1.4142135623730951\n"
          ]
        }
      ],
      "source": [
        "import numpy as np\n",
        "\n",
        "# Create a set of numbers\n",
        "numbers = np.array([1, 2, 3, 4, 5])\n",
        "\n",
        "# Use the numpy std() function to find the standard deviation\n",
        "std_dev = np.std(numbers)\n",
        "\n",
        "# Print the result\n",
        "print(std_dev)"
      ]
    },
    {
      "cell_type": "markdown",
      "metadata": {
        "id": "mOjlmy9jnwkG"
      },
      "source": [
        "### 4.5.3 Закосување\n",
        "Закосувањето е мерка на асиметријата на дистрибуцијата на веројатности на случајна променлива во однос на нејзината средна вредност. Таа мерка кажува колку податоците се закосени или „наклонети“ на едната или другата страна. Ако податоците се симетрични, закосувањето ќе биде 0. Ако податоците се наклонети кон лево (кон помалите вредности), закосувањето ќе биде негативно. Ако податоците се наклонети кон десно, закосувањето ќе биде позитивно.\n",
        "\n",
        "На пример, за истиот пример од погоре, множеството {1, 2, 3, 4, 5}, средната вредност е 3, а имаме по два примерока кои се поголеми од 3, и исто толку кои се помали од три. Така што, ова множество е симетрично околу средната вредност,па закосувањето е 0. Ако пак го погледнеме множеството {1, 2 , 3, 4, 10}, неговата средна вредност е 4, имаме само еден примерок поголем од средната вредност (на нејзината десна страна), а три примероци на нејзината лева страна, така што за овој случај се вели дека податоците се закосени десно, или дека множеството е позитивно закосено.\n",
        "\n",
        "Закосувањето се користи за да се разбере дистрибуцијата на податоците, и може да укаже на присуство на исклучоци, екстремни вредности. Може да се користи и како мерка на симетрија или поточно, мерка на недостаток на симетрија. \n",
        "\n",
        "\n"
      ]
    },
    {
      "cell_type": "code",
      "execution_count": 7,
      "metadata": {
        "id": "S9XhgT6OnwkG",
        "outputId": "1ed3d0c1-01a1-4e5b-b04f-a3c9d0b93dd1",
        "colab": {
          "base_uri": "https://localhost:8080/"
        }
      },
      "outputs": [
        {
          "output_type": "stream",
          "name": "stdout",
          "text": [
            "-0.8978957037987341\n"
          ]
        }
      ],
      "source": [
        "from scipy.stats import skew\n",
        "\n",
        "# Create a set of numbers\n",
        "numbers = [1, 2, 3, 4, 5]\n",
        "\n",
        "# Use the skew() function to find the skewness\n",
        "skewness = skew(numbers)\n",
        "\n",
        "# Print the result\n",
        "print(skewness)"
      ]
    },
    {
      "cell_type": "markdown",
      "metadata": {
        "id": "ssCsvR34nwkH"
      },
      "source": [
        "### 4.5.4 Перцентилен ранг\n",
        "Перцентилен ранг е мерка која покажува кој процент од вредностите во множеството паѓаат под одредена вредност. На пример, ако се утврди за некој примерок дека е во 90-тиот перцентил, тоа значи дека 90% од примероците во множеството имаат вредности помали од вредноста на набљудуваниот примерок. Перцентилите често се користат за да се разбере дистрибуцијата на податоците и да се дијагностицира статус на одреден примерок во рамките на неговото опкружување.\n",
        "\n",
        "На пример, нека имаме множество на резултати од тест: {80, 85, 90, 95, 100}. За да го пронајдеме 50-тиот перцентил, најпрво ќе ги подредиме резултатите по растечки редослед: 80, 85, 90, 95, 100. Потоа ќе го пронајдеме резултатот што е поголем или еднаков на 50% од другите резултати. Во овој случај, 50-тиот перцентил е 90 поени, бидејќи 50% од резултатите се под 90 поени.\n",
        "\n",
        "Перцентилите, односно перцентилниот ранг како мерка често се користи во  образованието и во здравјето. Во образованието, перцентилите се користат за да се квалификуваат резултатите од тестовите на учениците во рамките на нивната генерација, или училиште, или пошироко. Во здравството, перцентилите се користат за да се спореди растот на детето со растот на другите деца од иста возраст и пол. Перцентилите се користат и во финансиите и економијата за мерење на перформансите на некоја конкретна акција или портфолио во споредба со другите акции или портфолија.\n",
        "\n",
        "Важно е да се напомене дека перцентилот е различен од процентот, кој е мерка за дел од целината."
      ]
    },
    {
      "cell_type": "code",
      "execution_count": 8,
      "metadata": {
        "id": "ZJOubjxanwkH",
        "outputId": "f266dadf-5192-49b7-eadc-6950c5e85598",
        "colab": {
          "base_uri": "https://localhost:8080/"
        }
      },
      "outputs": [
        {
          "output_type": "stream",
          "name": "stdout",
          "text": [
            "90.0\n"
          ]
        }
      ],
      "source": [
        "import numpy as np\n",
        "\n",
        "# Create a set of numbers\n",
        "numbers = [80, 85, 90, 95, 100]\n",
        "\n",
        "# Use the numpy percentile() function to find the 50th percentile\n",
        "percentile_50 = np.percentile(numbers, 50)\n",
        "\n",
        "# Print the result\n",
        "print(percentile_50)"
      ]
    },
    {
      "cell_type": "markdown",
      "metadata": {
        "id": "u04G5Z4AnwkH"
      },
      "source": [
        "### 4.5.5 Опсег\n",
        "Опсегот е мерка за распространетоста на вредностите во множеството. Таа мерка ја покажува разликата помеѓу најголемите и најмалите вредности во множеството. Се пресметува со одземање на најмалата вредност од најголемата вредност.\n",
        "\n",
        "Во истиот пример од погоре {1, 2, 3, 4, 5}, најмалата вредност е 1, а најголемата вредност е 5, така што опсегот е 5 - 1 = 4. \n",
        "\n",
        "Опсегот е едноставна мерка, лесно се пресметува, но не ја зема предвид фреквенцијата или дистрибуцијата на податоците. Прилично е нестабилна во поглед на тоа дека може да падне под влијание на некој исклучок или екстремна вредност која инаку не е типична за множеството. Другите мерки на распространетост, како што се варијансата или стандардната девијација, се поотпорни на исклучоци и ја земаат предвид дистрибуцијата на податоците.\n",
        "\n",
        "Опсегот како мерка најчесто има логистичка примена, од аспект на подготовка на податочното множество за компјутерска обработка, како и предвидување на гранични случаи во алгоритмите."
      ]
    },
    {
      "cell_type": "code",
      "execution_count": 10,
      "metadata": {
        "id": "2rCbkpZTnwkI",
        "outputId": "c765d674-8edf-4381-96aa-3c59d5ff1951",
        "colab": {
          "base_uri": "https://localhost:8080/"
        }
      },
      "outputs": [
        {
          "output_type": "stream",
          "name": "stdout",
          "text": [
            "4\n"
          ]
        }
      ],
      "source": [
        "import numpy as np\n",
        "numbers = [1, 2, 3, 4, 5]\n",
        "\n",
        "# range\n",
        "print(np.ptp(numbers))"
      ]
    },
    {
      "cell_type": "markdown",
      "metadata": {
        "id": "PT9bZYzdnwkI"
      },
      "source": [
        "## 4.6 Биваријатна анализа\n",
        "Биваријатната анализа е начин да се проучи врската помеѓу две категории (две променливи). Помага да се разбере како промените во една категорија се поврзани со промените во друга. На пример, ако сакаме да ја проучиме врската помеѓу тоа колку време учат учениците и нивните резултати од тестот, биваријатната анализа може да помогне да се согледа завистноста или врската помеѓу овие две категории.\n",
        "\n",
        "Вообичаени методи кои се вклучени во биваријатната анализа се:\n",
        "\n",
        "* Графикони: графичко нанесување на вредностите на променливите во координатен систем често може да помогне да се визуелизира некоја зависност помеѓу категориите. \n",
        "\n",
        "* Корелација: таа претставува број помеѓу -1 и 1 кој покажува колку тесно се поврзани две променливи. Корелација од 1 значи дека променливите се совршено поврзани, додека корелација од -1 значи дека тие се совршено инверзно поврзани, а 0 значи дека воопшто не зависат една од друга.\n",
        "\n",
        "* Регресија: регресијата е интерполациски метод кој се обидува да „вметне“ линија помеѓу вредностите на податоците, која линија најдобро ќе ја опишува врската помеѓу категориите на податоците.\n",
        "\n",
        "Биваријатната анализа може да се користи за да се идентификуваат обрасците и трендовите во податоците, да се тестираат хипотези за односот помеѓу категориите и да се направат предвидувања за идните настани или трендови. Важно е да се напомене дека со биваријатната анализа може да се детектира врската помеѓу две категории, но анализата не ја објаснува причината за врската.\n",
        "\n"
      ]
    },
    {
      "cell_type": "markdown",
      "metadata": {
        "id": "JB_Ytlq-nwkI"
      },
      "source": [
        "## 4.7 Мултиваријатна анализа\n",
        "\n",
        "Мултиваријатната статистика е гранка на статистика која се занимава со анализирање и разбирање на врската помеѓу повеќе од две категории. \n",
        "\n",
        "На пример, мултиваријатната анализа може да биде корисна за учениците кои сакаат да разберат како повеќе различни фактори влијаат врз нивните перформанси во училиште. Освен времето на учење, и други фактори ќе влијаат на фокусот и способноста за учење, како што се квалитетот и количината на спиењето, спортските активности, социјалните активности, здравата исхрана, итн.  Разбирањето на односот помеѓу категориите во реалниот свет може да им помогне на луѓето да носат подобри одлуки за тоа како да го поминат своето време и какви активности треба да преземат за подобрување на своите перформанси."
      ]
    },
    {
      "cell_type": "markdown",
      "metadata": {
        "id": "enQAtdtVnwkJ"
      },
      "source": [
        "*Вежби*\n",
        "\n",
        "- Обидете се со различни вредности во примерите погоре, експериментирајте со податочните множества.\n",
        "\n",
        "- Симнете готово податочно множество од kaggle и испробајте некои од научените статистички мерки врз него."
      ]
    },
    {
      "cell_type": "code",
      "source": [],
      "metadata": {
        "id": "UXvSISgB1JU-"
      },
      "execution_count": null,
      "outputs": []
    }
  ],
  "metadata": {
    "kernelspec": {
      "display_name": "Python 3 (ipykernel)",
      "language": "python",
      "name": "python3"
    },
    "language_info": {
      "codemirror_mode": {
        "name": "ipython",
        "version": 3
      },
      "file_extension": ".py",
      "mimetype": "text/x-python",
      "name": "python",
      "nbconvert_exporter": "python",
      "pygments_lexer": "ipython3",
      "version": "3.9.12"
    },
    "vscode": {
      "interpreter": {
        "hash": "369f2c481f4da34e4445cda3fffd2e751bd1c4d706f27375911949ba6bb62e1c"
      }
    },
    "colab": {
      "provenance": []
    }
  },
  "nbformat": 4,
  "nbformat_minor": 0
}