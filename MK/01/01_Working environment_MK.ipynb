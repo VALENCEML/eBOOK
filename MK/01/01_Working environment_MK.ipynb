{
 "cells": [
  {
   "cell_type": "markdown",
   "id": "beee7905-97b2-4da3-a1ea-be7aa5c716d2",
   "metadata": {},
   "source": [
    "# 1. РАБОТНА ОКОЛИНА"
   ]
  },
  {
   "cell_type": "markdown",
   "id": "c02b4b86",
   "metadata": {},
   "source": [
    "Марија Марковска Димитровска, ФЕИТ, УКИМ, Македонија\n",
    "\n",
    "Бранислав Геразов, ФЕИТ, УКИМ, Македонија"
   ]
  },
  {
   "cell_type": "markdown",
   "id": "ad8551f7",
   "metadata": {},
   "source": [
    "Во ова поглавје, ќе научите како да го инсталирате Jupyter Lab, платформа потребна за работа на вежбите и задачите од областите наука за податоци и машинско учење опфатени во овој материјал."
   ]
  },
  {
   "cell_type": "markdown",
   "id": "d09d74ee",
   "metadata": {},
   "source": [
    "## 1.1. Инсталирање Jupyter Lab на Windows"
   ]
  },
  {
   "cell_type": "markdown",
   "id": "148fe620",
   "metadata": {},
   "source": [
    "Наједонставниот начин да се инсталира Jupyter Lab на Windows е со инсталирање на **Anaconda**.\n",
    "Anaconda е популарна дистрибуција на програмските јазици Python и R, која вклучува сеопфатно множество на алатки за машинско учење и наука за податоци. Обезбедува кориснички интерфејс (**Anaconda Navigator**) и систем за управување со пакети (**conda**) кој им овозможува на корисниците лесно да инсталираат, управуваат и ажурираат Python и R пакети и зависности.\n",
    "\n",
    "Anaconda вклучува над 1.500 пакети за наука за податоци, машинско учење и научно пресметување, вклучувајќи популарни пакети како што се **NumPy**, **Pandas** и **scikit-learn**. Доаѓа и со **Jupyter Notebook**, интерактивна компјутерска веб базирана средина која овозможува анализа и визуелизација на податоците, и **Spyder**, интегрирана развојна средина (IDE) за научни пресметки.\n",
    "\n",
    "Една од главните предности на користењето на Anaconda е тоа што ја поедноставува инсталацијата и управувањето со пакетите и зависностите, што им олеснува на корисниците да постават работна околина на нивната локална машина или во облакот. Широко се користи во индустријата и академијата.\n",
    "\n",
    "Anaconda обезбедува лесен процес на инсталација за оперативните системи Windows, Linux and macOS."
   ]
  },
  {
   "cell_type": "markdown",
   "id": "c542ceba",
   "metadata": {},
   "source": [
    "### 1.1.1 Инсталација на Anaconda"
   ]
  },
  {
   "cell_type": "markdown",
   "id": "d502fb0d",
   "metadata": {},
   "source": [
    "За да инсталирате Anaconda на Windows, следете ги следните чекори:\n",
    "\n",
    "1. Превземете ја соодветната датотека за инсталирање за вашиот оперативен систем од веб страната на Anaconda: <a href=\"https://www.anaconda.com/distribution/#download-section\" title=\"Optional Title\">https://www.anaconda.com/distribution/#download-section</a>.</p>\n",
    "\n",
    "2. Двојно кликнете на превземената датотека за да ја стартувате инсталацијата.</p>\n",
    "    \n",
    "3. Кога ќе се појави прозорецот прикажан на долната слика, кликнете **Next**."
   ]
  },
  {
   "cell_type": "markdown",
   "id": "52797782",
   "metadata": {},
   "source": [
    "<figure>\n",
    "<img src=\"https://raw.githubusercontent.com/VALENCEML/eBOOK/main/EN/01/InstallAnacondaStep1.png\" width=\"500px;\"/> \n",
    "</figure>"
   ]
  },
  {
   "cell_type": "markdown",
   "id": "9ceb6840",
   "metadata": {},
   "source": [
    "4. Прочитајте го делот License Agreement и кликнете **I Agree**."
   ]
  },
  {
   "cell_type": "markdown",
   "id": "121de9d0",
   "metadata": {},
   "source": [
    "<figure>\n",
    "<img src=\"https://raw.githubusercontent.com/VALENCEML/eBOOK/main/EN/01/InstallAnacondaStep2.png\" width=\"500px;\"/> \n",
    "</figure>"
   ]
  },
  {
   "cell_type": "markdown",
   "id": "f6f8a5fc",
   "metadata": {},
   "source": [
    "5. Кликнете **Next**."
   ]
  },
  {
   "cell_type": "markdown",
   "id": "f6cad50a",
   "metadata": {},
   "source": [
    "<figure>\n",
    "<img src=\"https://raw.githubusercontent.com/VALENCEML/eBOOK/main/EN/01/InstallAnacondaStep3.png\" width=\"500px;\"/> \n",
    "</figure>"
   ]
  },
  {
   "cell_type": "markdown",
   "id": "85ce9623",
   "metadata": {},
   "source": [
    "6. Изберете ја локацијата за инсталација и потоа кликнете **Next**."
   ]
  },
  {
   "cell_type": "markdown",
   "id": "d6c29f5c",
   "metadata": {},
   "source": [
    "<figure>\n",
    "<img src=\"https://raw.githubusercontent.com/VALENCEML/eBOOK/main/EN/01/InstallAnacondaStep4.png\" width=\"500px;\"/> \n",
    "</figure>"
   ]
  },
  {
   "cell_type": "markdown",
   "id": "31dbe02d",
   "metadata": {},
   "source": [
    "7. Ова е важен чекор од процесот на инсталација. Препорачано е да не го штиклирате првото поле \"Add Anaconda3 to my PATH environment variable\". Toa значи дека ќе мора да користите Anaconda Navigator или Anaconda Command Prompt (се наоѓа во Start менито под „Anaconda“) кога сакате да користите Anaconda. Ако сакате да можете да користите Anaconda во вашата командна линија, тогаш треба да го штиклирате полето. Откога ќе направите избор, кликнете **Install**."
   ]
  },
  {
   "cell_type": "markdown",
   "id": "f6571ce0",
   "metadata": {},
   "source": [
    "<figure>\n",
    "<img src=\"https://raw.githubusercontent.com/VALENCEML/eBOOK/main/EN/01/InstallAnacondaStep5.png\" /> \n",
    "</figure>"
   ]
  },
  {
   "cell_type": "markdown",
   "id": "29a1e1f9",
   "metadata": {},
   "source": [
    "8. Кликнете **Next**."
   ]
  },
  {
   "cell_type": "markdown",
   "id": "4ea9bb10",
   "metadata": {},
   "source": [
    "<figure>\n",
    "<img src=\"https://raw.githubusercontent.com/VALENCEML/eBOOK/main/EN/01/InstallAnacondaStep6.png\" width=\"500px;\"/> \n",
    "</figure>"
   ]
  },
  {
   "cell_type": "markdown",
   "id": "f0bc738c",
   "metadata": {},
   "source": [
    "9. Кликнете **Next**."
   ]
  },
  {
   "cell_type": "markdown",
   "id": "ec138bc6",
   "metadata": {},
   "source": [
    "<figure>\n",
    "<img src=\"https://raw.githubusercontent.com/VALENCEML/eBOOK/main/EN/01/InstallAnacondaStep7.png\" width=\"500px;\"/> \n",
    "</figure>"
   ]
  },
  {
   "cell_type": "markdown",
   "id": "12270443",
   "metadata": {},
   "source": [
    "10. Доколку сакате да прочитате повеќе за Anaconda.org и како да започнете со користење Anaconda, кликнете на  **Finish**. Во спротивно, прво отштиклирајте ги полињата “Anaconda Distribution Tutorial” и “Learn more about Anaconda”, па потоа кликнете на **Finish**."
   ]
  },
  {
   "cell_type": "markdown",
   "id": "a1373ac6",
   "metadata": {},
   "source": [
    "<figure>\n",
    "<img src=\"https://raw.githubusercontent.com/VALENCEML/eBOOK/main/EN/01/InstallAnacondaStep8.png\" width=\"500px;\"/> \n",
    "</figure>"
   ]
  },
  {
   "cell_type": "markdown",
   "id": "0ead1377",
   "metadata": {},
   "source": [
    "По успешната инсталација на Anaconda, може да се обидете да креирате виртуелна околина и Jupyter Lab."
   ]
  },
  {
   "cell_type": "markdown",
   "id": "08ebfeaf",
   "metadata": {},
   "source": [
    "### 1.1.2. Креирање на виртуелна околина со conda"
   ]
  },
  {
   "cell_type": "markdown",
   "id": "a5a536f8",
   "metadata": {},
   "source": [
    "Чекорите за креирање на нова виртуелна работна околина која ќе служи како околина домаќин на JupyterLab се следните:\n",
    "\n",
    "Најдете и отворете ја апликацијата **Anaconda Prompt** користејќи ја лентата за пребарување од Start менито и внесете ја наредбата:\n",
    "   \n",
    "```bash\n",
    "conda create --name valence python=3.7 -c conda-forge\n",
    "```\n",
    "\n",
    "Потоа активирајте ја околината.\n",
    "\n",
    "```bash\n",
    "conda activate valence\n",
    "```\n",
    "\n",
    "Со тоа работната околина е активирана. Кога околината е активна, секој следен пакет што е инсталиран со помош на наредната **conda install** ќе се инсталира само во оваа околина, со што ќе се одржуваат чисти сите други инсталации на Python."
   ]
  },
  {
   "cell_type": "markdown",
   "id": "9e2091a6",
   "metadata": {},
   "source": [
    "### 1.1.3. Инсталација на Jupyter Lab"
   ]
  },
  {
   "cell_type": "markdown",
   "id": "295637b2",
   "metadata": {},
   "source": [
    "За да инсталирате Jupyter Lab, можете да ја употребите следната наредба во conda:\n",
    "\n",
    "```bash\n",
    "conda install -c conda-forge jupyterlab\n",
    "```\n",
    "\n",
    "Оваа наредба го инсталира Jupyter Lab и е подготвен за работа."
   ]
  },
  {
   "cell_type": "markdown",
   "id": "9fd36a6a",
   "metadata": {},
   "source": [
    "### 1.1.4. Превземање на метријалот и отворање на Jupyter Lab"
   ]
  },
  {
   "cell_type": "markdown",
   "id": "90712eba",
   "metadata": {},
   "source": [
    "За преземање на материјалот ќе ја користиме наредбата **git** која ќе треба да ја инсталирате со conda наредбата:\n",
    "\n",
    "```bash\n",
    "conda install -c anaconda git \n",
    "```\n",
    "Направете папка каде што ќе го снимите превземениот материјал.\n",
    "\n",
    "```bash\n",
    "mkdir valence\n",
    "\n",
    "cd valence\n",
    "\n",
    "git clone https://github.com/VALENCEML/eBOOK.git\n",
    "\n",
    "Cloning into 'eBOOK'...\n",
    "remote: Enumerating objects: 704, done.\n",
    "remote: Counting objects: 100% (191/191), done.\n",
    "remote: Compressing objects: 100% (129/129), done.\n",
    "Rremote: Total 704 (delta 102), reused 116 (delta 60), pack-reused 513\n",
    "Receiving objects: 100% (704/704), 22.78 MiB | 1010.00 KiB/s, done.\n",
    "Resolving deltas: 100% (311/311), done.\n",
    "```\n",
    "Сега може да влезете во папката во која го превземавте материјалот и да ги инсталирате потребните пакети.\n",
    "\n",
    "```bash\n",
    "cd eBOOK\n",
    "\n",
    "conda install --file requirements.txt\n",
    "```\n",
    "\n",
    "Со ова сте подготвени да го стартувате Jupyter Lab и да започнете со проучување на материјалот.\n",
    "\n",
    "```bash\n",
    "jupyter lab\n",
    "```"
   ]
  },
  {
   "cell_type": "markdown",
   "id": "82646213",
   "metadata": {},
   "source": [
    "## 1.2. Инсталација на Jupyter Lab на Linux"
   ]
  },
  {
   "cell_type": "markdown",
   "id": "0f9bed71-c3ce-42c7-8a27-052791e2ddda",
   "metadata": {},
   "source": [
    "Секоја ГНУ/Линукс дистрибуција доаѓа со системска инсталација на Пајтон.\n",
    "Стандардната алатка за инсталирање на пакети во Пајтон е `pip` (Python Install Package).\n",
    "\n",
    "Инсталирањето на Пајтон пакети со `pip` директно во оперативниот систем не е препорачливо поради можноста за настанување на судир помеѓу пакетите кои системски се инсталирани на ГНУ/Линукс оперативниот систем.\n",
    "За избегнување на овој проблем, како и за изолирање на екосистемот од инсталирани модули на секој засебен проект, треба првин да направиме Пајтон виртуелна средина за нашата работа.\n",
    "\n",
    "За таа цел ќе го искористиме пакетот `mamba`.\n",
    "\n",
    "### 1.2.1. Креирање на виртуелна средина со pipenv\n",
    "\n",
    "[`mamba`](https://mamba.readthedocs.io) е моќен и брз пакет за менаџирање на виртуелни средини во Пајтон. \n",
    "За да го инсталираме треба да ја превземеме скриптата за инсталирање и да ја извршиме со следните две наредби:\n",
    "\n",
    "```bash\n",
    "$ wget https://github.com/conda-forge/miniforge/releases/latest/download/Mambaforge-Linux-x86_64.sh\n",
    "\n",
    "$ ./Mambaforge-Linux-x86_64.sh\n",
    "```\n",
    "\n",
    "Сега ќе креираме ќе креираме виртуелна средина:\n",
    "\n",
    "```bash\n",
    "~ $ mamba create -n valence python\n",
    "```\n",
    "\n",
    "И ќе ја активираме со:\n",
    "```bash\n",
    "~ $ mamba activate valence\n",
    "\n",
    "(valence) ~ $\n",
    "```\n",
    "\n",
    "### 1.2.1. Инсталирање на Jupyter Lab\n",
    "\n",
    "Откако сме ја креирале виртуелната средина, сега можеме да го инсталираме Jupyter Lab.\n",
    "\n",
    "```bash\n",
    "(valence) ~ $ mamba install jupyterlab\n",
    "```\n",
    "\n",
    "Со ова е инсталиран Jupyter Lab и е спремен за користење.\n",
    "\n",
    "### 1.2.2. Превземање на метријалот и отворање на Jupyter Lab\n",
    "\n",
    "За превземање на материјалот ќе ја искористиме наредбата `git` која ќе треба да ја инсталирате на вашата ГНУ/Линукс, ако веќе не сте ја инсталирале од сега.\n",
    "За таа цел искористете го менаџерот на пакети на вашата дистрибуција. \n",
    "На Убунту и другите дистрибуции базирани на Дебиан тоа може да го направиме со следната наредба:\n",
    "\n",
    "```bash\n",
    "(valence) ~ $ sudo apt install git\n",
    "```\n",
    "\n",
    "Сега ќе направиме папка каде ќе го симнеме материјалот:\n",
    "\n",
    "```bash\n",
    "(valence) ~ $ mkdir valence\n",
    "\n",
    "(valence) ~ $ cd valence\n",
    "\n",
    "(valence) ~/valence $ git clone https://github.com/VALENCEML/eBOOK.git\n",
    "Cloning into 'eBOOK'...\n",
    "remote: Enumerating objects: 639, done.\n",
    "remote: Counting objects: 100% (126/126), done.\n",
    "remote: Compressing objects: 100% (72/72), done.\n",
    "remote: Total 639 (delta 65), reused 97 (delta 52), pack-reused 513\n",
    "Receiving objects: 100% (639/639), 22.62 MiB | 2.42 MiB/s, done.\n",
    "Resolving deltas: 100% (274/274), done.\n",
    "```\n",
    "\n",
    "Сега може да влеземе во папката во која го превземавме материјалот и да ги инсталираме потребните пакети.\n",
    "\n",
    "```bash\n",
    "(valence) ~/valence $ cd eBOOK\n",
    "\n",
    "(valence) ~/valence/eBOOK $ mamba install --file requirements.txt\n",
    "```\n",
    "\n",
    "Со ова сме подготвени да го стартуваме Jupyter Lab и да започнеме со проучување на материјалот.\n",
    "\n",
    "```bash\n",
    "(valence) ~/valence/eBOOK $ jupyter lab\n",
    "```\n"
   ]
  }
 ],
 "metadata": {
  "kernelspec": {
   "display_name": "Python 3 (ipykernel)",
   "language": "python",
   "name": "python3"
  },
  "language_info": {
   "codemirror_mode": {
    "name": "ipython",
    "version": 3
   },
   "file_extension": ".py",
   "mimetype": "text/x-python",
   "name": "python",
   "nbconvert_exporter": "python",
   "pygments_lexer": "ipython3",
   "version": "3.9.13"
  }
 },
 "nbformat": 4,
 "nbformat_minor": 5
}
