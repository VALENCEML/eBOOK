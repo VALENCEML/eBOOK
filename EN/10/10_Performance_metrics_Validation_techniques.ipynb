{
 "cells": [
  {
   "cell_type": "markdown",
   "id": "0d747a30",
   "metadata": {},
   "source": [
    "# 10. Performance metrics and validation techniques"
   ]
  },
  {
   "cell_type": "markdown",
   "id": "a1875736",
   "metadata": {},
   "source": [
    "Evaluating the machine learning algorithm is an essential part of any project. In this chapter we will cover the standard metrics and techniques for evaluation of the given model. Let's start with importing usual ML packages."
   ]
  },
  {
   "cell_type": "code",
   "execution_count": 2,
   "id": "KCrgF8CdT4EZ",
   "metadata": {
    "id": "KCrgF8CdT4EZ",
    "outputId": "da31dd70-4585-4819-a62a-27184344088f"
   },
   "outputs": [],
   "source": [
    "import pandas\n",
    "import numpy as np\n",
    "from sklearn.svm import SVC\n",
    "from sklearn.model_selection import train_test_split, cross_val_score\n",
    "from sklearn.metrics import confusion_matrix, ConfusionMatrixDisplay, precision_score, accuracy_score, recall_score, roc_curve, auc, RocCurveDisplay\n",
    "np.random.seed(41)"
   ]
  },
  {
   "cell_type": "markdown",
   "id": "k-po0_ORT4Ea",
   "metadata": {
    "id": "k-po0_ORT4Ea"
   },
   "source": [
    "In this example we will be looking at one common dataset which is for type of iris flowers. It has information about 3 types of iris flowers, Iris-setosa, Iris-virginica, Iris-versicolor. It has 4 features which represent dimensions of parts of the flower."
   ]
  },
  {
   "cell_type": "code",
   "execution_count": 3,
   "id": "sGyVRhM2T4Eb",
   "metadata": {
    "id": "sGyVRhM2T4Eb"
   },
   "outputs": [],
   "source": [
    "flower_dataset = pandas.read_csv(\"iris.csv\")\n",
    "flower_dataset.drop('Id', axis=1, inplace=True)"
   ]
  },
  {
   "cell_type": "code",
   "execution_count": 4,
   "id": "fTKL_ViaT4Ec",
   "metadata": {
    "id": "fTKL_ViaT4Ec",
    "outputId": "5765cbe3-0bc6-4adb-fd04-617bd3658df0"
   },
   "outputs": [
    {
     "data": {
      "text/html": [
       "<div>\n",
       "<style scoped>\n",
       "    .dataframe tbody tr th:only-of-type {\n",
       "        vertical-align: middle;\n",
       "    }\n",
       "\n",
       "    .dataframe tbody tr th {\n",
       "        vertical-align: top;\n",
       "    }\n",
       "\n",
       "    .dataframe thead th {\n",
       "        text-align: right;\n",
       "    }\n",
       "</style>\n",
       "<table border=\"1\" class=\"dataframe\">\n",
       "  <thead>\n",
       "    <tr style=\"text-align: right;\">\n",
       "      <th></th>\n",
       "      <th>SepalLengthCm</th>\n",
       "      <th>SepalWidthCm</th>\n",
       "      <th>PetalLengthCm</th>\n",
       "      <th>PetalWidthCm</th>\n",
       "      <th>Species</th>\n",
       "    </tr>\n",
       "  </thead>\n",
       "  <tbody>\n",
       "    <tr>\n",
       "      <th>0</th>\n",
       "      <td>5.1</td>\n",
       "      <td>3.5</td>\n",
       "      <td>1.4</td>\n",
       "      <td>0.2</td>\n",
       "      <td>Iris-setosa</td>\n",
       "    </tr>\n",
       "    <tr>\n",
       "      <th>1</th>\n",
       "      <td>4.9</td>\n",
       "      <td>3.0</td>\n",
       "      <td>1.4</td>\n",
       "      <td>0.2</td>\n",
       "      <td>Iris-setosa</td>\n",
       "    </tr>\n",
       "    <tr>\n",
       "      <th>2</th>\n",
       "      <td>4.7</td>\n",
       "      <td>3.2</td>\n",
       "      <td>1.3</td>\n",
       "      <td>0.2</td>\n",
       "      <td>Iris-setosa</td>\n",
       "    </tr>\n",
       "    <tr>\n",
       "      <th>3</th>\n",
       "      <td>4.6</td>\n",
       "      <td>3.1</td>\n",
       "      <td>1.5</td>\n",
       "      <td>0.2</td>\n",
       "      <td>Iris-setosa</td>\n",
       "    </tr>\n",
       "    <tr>\n",
       "      <th>4</th>\n",
       "      <td>5.0</td>\n",
       "      <td>3.6</td>\n",
       "      <td>1.4</td>\n",
       "      <td>0.2</td>\n",
       "      <td>Iris-setosa</td>\n",
       "    </tr>\n",
       "  </tbody>\n",
       "</table>\n",
       "</div>"
      ],
      "text/plain": [
       "   SepalLengthCm  SepalWidthCm  PetalLengthCm  PetalWidthCm      Species\n",
       "0            5.1           3.5            1.4           0.2  Iris-setosa\n",
       "1            4.9           3.0            1.4           0.2  Iris-setosa\n",
       "2            4.7           3.2            1.3           0.2  Iris-setosa\n",
       "3            4.6           3.1            1.5           0.2  Iris-setosa\n",
       "4            5.0           3.6            1.4           0.2  Iris-setosa"
      ]
     },
     "execution_count": 4,
     "metadata": {},
     "output_type": "execute_result"
    }
   ],
   "source": [
    "flower_dataset.head()"
   ]
  },
  {
   "cell_type": "markdown",
   "id": "k1dQWqH_T4Ec",
   "metadata": {
    "id": "k1dQWqH_T4Ec"
   },
   "source": [
    "In order to train a machine learning model, we split the data into a training and testing dataset. The target variable is the 'Species' column, whilst the other 4 columns will be the input to the model."
   ]
  },
  {
   "cell_type": "code",
   "execution_count": 5,
   "id": "KwiIGJ73T4Ed",
   "metadata": {
    "id": "KwiIGJ73T4Ed"
   },
   "outputs": [],
   "source": [
    "x = flower_dataset.iloc[:, :-1]\n",
    "y = flower_dataset.iloc[:, -1]\n",
    "x_train, x_test, y_train, y_test = train_test_split(x,y, test_size=0.4)"
   ]
  },
  {
   "cell_type": "markdown",
   "id": "qjnMyzXMT4Ee",
   "metadata": {
    "id": "qjnMyzXMT4Ee"
   },
   "source": [
    "## 10.1. Model"
   ]
  },
  {
   "cell_type": "markdown",
   "id": "i51Gry59T4Ee",
   "metadata": {
    "id": "i51Gry59T4Ee"
   },
   "source": [
    "The model which are we going to use for training and predicting iris types is **Support Vector Machine**."
   ]
  },
  {
   "cell_type": "code",
   "execution_count": 6,
   "id": "KSNs1ra9T4Ef",
   "metadata": {
    "id": "KSNs1ra9T4Ef"
   },
   "outputs": [],
   "source": [
    "model = SVC(random_state=42, probability=True)\n",
    "model.fit(x_train, y_train)\n",
    "y_predicted = model.predict(x_test)"
   ]
  },
  {
   "cell_type": "markdown",
   "id": "QsN4Ba7pT4Eg",
   "metadata": {
    "id": "QsN4Ba7pT4Eg"
   },
   "source": [
    "### 10.1.1. Generating confusion matrix"
   ]
  },
  {
   "cell_type": "markdown",
   "id": "sy205_ZET4Eg",
   "metadata": {
    "id": "sy205_ZET4Eg"
   },
   "source": [
    "A confusion matrix is one tool that helps us see how well the model is performing. It is two-dimensional, one axis represents the predicted class and the other axis represents the actual true class. From it we can learn many things and derive the following metrics:\n",
    "- True positive\n",
    "- False positive\n",
    "- True negative\n",
    "- False negative\n",
    "\n",
    "These metrics tells us if a data sample was correctly or incorrectly classified in the positive or negative class respectfully. Visually we can better understand how it works."
   ]
  },
  {
   "cell_type": "code",
   "execution_count": 7,
   "id": "TVozh0f2T4Eh",
   "metadata": {
    "id": "TVozh0f2T4Eh",
    "outputId": "0f384874-b0a4-4578-92eb-800227a6782d"
   },
   "outputs": [
    {
     "data": {
      "text/plain": [
       "<sklearn.metrics._plot.confusion_matrix.ConfusionMatrixDisplay at 0x12b141467c0>"
      ]
     },
     "execution_count": 7,
     "metadata": {},
     "output_type": "execute_result"
    },
    {
     "data": {
      "image/png": "[encoded data removed]",
      "text/plain": [
       "<Figure size 432x288 with 2 Axes>"
      ]
     },
     "metadata": {
      "needs_background": "light"
     },
     "output_type": "display_data"
    }
   ],
   "source": [
    "matrix = confusion_matrix(y_test, y_predicted)\n",
    "display = ConfusionMatrixDisplay(matrix, display_labels=model.classes_)\n",
    "display.plot()"
   ]
  },
  {
   "cell_type": "markdown",
   "id": "UggUBIqTT4Ei",
   "metadata": {
    "id": "UggUBIqTT4Ei"
   },
   "source": [
    "## 10.2. Metrics\n"
   ]
  },
  {
   "cell_type": "markdown",
   "id": "I2feoHYqT4Ei",
   "metadata": {
    "id": "I2feoHYqT4Ei"
   },
   "source": [
    "There are a lot of different metrics that one can use to measure how well a machine learning model (classifier) is performing. At first glance they might give similar or same output. But depending on the problem we are dealing with and the data, some metrics are more suitable than others. In the following parts we will explain and show various metrics that one can use when measuring the performance of a machine learning model. It's important to understand the differences between the metrics. When we mention \"a positive example\" we mean an observation of the data that belongs to the target class we want to predict. For instance, if we have an image classification problem and we need to classify  if the image contains a cat, then those images that do contain a cat are called \"positive examples\" and those who don't, \"negative examples\".\n"
   ]
  },
  {
   "cell_type": "markdown",
   "id": "cAf6ZjAbT4Ej",
   "metadata": {
    "id": "cAf6ZjAbT4Ej"
   },
   "source": [
    "## 10.3. Accuracy"
   ]
  },
  {
   "cell_type": "markdown",
   "id": "Qo0cic0NT4Ej",
   "metadata": {
    "id": "Qo0cic0NT4Ej"
   },
   "source": [
    "The accuracy metric considers all the predictions the model made and it represents the fraction of predictions the model got right. In regards to a binary classification task, accuracy is the fraction of correct predictions **among all predictions**. It's important to understand that, in our situation when we are dealing with the iris dataset, predicting that an iris is of type Iris-setosa while actually the iris type being Iris-Virginica, has an effect on this metric"
   ]
  },
  {
   "cell_type": "code",
   "execution_count": 8,
   "id": "lkroFAzvT4El",
   "metadata": {
    "id": "lkroFAzvT4El"
   },
   "outputs": [],
   "source": [
    "accuracy = accuracy_score(y_true=y_test, y_pred=y_predicted)"
   ]
  },
  {
   "cell_type": "code",
   "execution_count": 9,
   "id": "YKlPzG07T4El",
   "metadata": {
    "id": "YKlPzG07T4El",
    "outputId": "b0f692cc-1c1b-422f-853d-984303bcf8f8"
   },
   "outputs": [
    {
     "data": {
      "text/plain": [
       "0.9166666666666666"
      ]
     },
     "execution_count": 9,
     "metadata": {},
     "output_type": "execute_result"
    }
   ],
   "source": [
    "accuracy"
   ]
  },
  {
   "cell_type": "markdown",
   "id": "lnq1Py8VT4Em",
   "metadata": {
    "id": "lnq1Py8VT4Em"
   },
   "source": [
    "### 10.3.1. Cost-sensitive accuracy"
   ]
  },
  {
   "cell_type": "markdown",
   "id": "DYoO-3G1T4Em",
   "metadata": {
    "id": "DYoO-3G1T4Em"
   },
   "source": [
    "Another type of accuracy metric is cost-sensitive accuracy.\n",
    "\n",
    "There are situations where in our dataset, we have so few target class data samples when compared to another class. For instance, if we want to classify whether a patient has cancer or not, we might have a dataset consisting of only 100 samples with patients that have cancer and 900 samples without. In these situations, we want to tell the algorithm that it's more important to be able to pick out the cancer patients, and that misclassification of them should have a higher penalty. This is due with using cost-sensitive accuracy. We assign weights to our data samples, bigger weights to samples that are important to us and wish to classify. "
   ]
  },
  {
   "cell_type": "code",
   "execution_count": 10,
   "id": "UgShVMHGT4Em",
   "metadata": {
    "id": "UgShVMHGT4Em"
   },
   "outputs": [],
   "source": [
    "model = SVC(random_state=42, probability=True, class_weight='balanced')\n",
    "model.fit(x_train, y_train)\n",
    "y_predicted = model.predict(x_test)"
   ]
  },
  {
   "cell_type": "markdown",
   "id": "g5LqVdOdT4En",
   "metadata": {
    "id": "g5LqVdOdT4En"
   },
   "source": [
    "Here we train the model using cost-sensitive accuracy, by providing an extra parameter \"**class_weight**\". The value \"balanced\" automatically assigns weights to the classes inversely proportional to the class frequencies."
   ]
  },
  {
   "cell_type": "markdown",
   "id": "SVySpjXfT4En",
   "metadata": {
    "id": "SVySpjXfT4En"
   },
   "source": [
    "## 10.4. Precision"
   ]
  },
  {
   "cell_type": "markdown",
   "id": "maKhjBk9T4En",
   "metadata": {
    "id": "maKhjBk9T4En"
   },
   "source": [
    "Precision as a metric takes into account only one class at a time. It aims to find how many of our predictions for a certain class are actually correct. In other words, precision is the fraction of correct predictions **among positive <u>predictions</u>**.\n",
    "In our scenario, we cannot use the precision metric if we want to say how well the model performed on all of the iris type classes, but we may use precision to say how well it performed on each class individually."
   ]
  },
  {
   "cell_type": "code",
   "execution_count": 11,
   "id": "F9-fruJzT4En",
   "metadata": {
    "id": "F9-fruJzT4En"
   },
   "outputs": [],
   "source": [
    "precision = precision_score(y_true=y_test, y_pred=y_predicted, average=None)"
   ]
  },
  {
   "cell_type": "code",
   "execution_count": 12,
   "id": "qouqbwaqT4En",
   "metadata": {
    "id": "qouqbwaqT4En",
    "outputId": "4324b2e3-95b3-4059-ba9f-78cbac5818ba"
   },
   "outputs": [
    {
     "data": {
      "text/plain": [
       "array([1.        , 0.86956522, 0.9       ])"
      ]
     },
     "execution_count": 12,
     "metadata": {},
     "output_type": "execute_result"
    }
   ],
   "source": [
    "precision"
   ]
  },
  {
   "cell_type": "markdown",
   "id": "Z6YSrdo2T4Eo",
   "metadata": {
    "id": "Z6YSrdo2T4Eo"
   },
   "source": [
    "## 10.5. Recall"
   ]
  },
  {
   "cell_type": "markdown",
   "id": "RcpoJ-l_T4Eo",
   "metadata": {
    "id": "RcpoJ-l_T4Eo"
   },
   "source": [
    "Recall same as precision, takes into consideration only one class at a time. We use recall when we want to see how well our model detects the target class. Recall is the fraction of correct predictions **among positive <u>examples</u>**. When we say positive examples, we mean the target class for our problem."
   ]
  },
  {
   "cell_type": "code",
   "execution_count": 13,
   "id": "2DzkTWWwT4Eo",
   "metadata": {
    "id": "2DzkTWWwT4Eo",
    "outputId": "12608da9-1813-4150-b546-81d26b3b97a8"
   },
   "outputs": [
    {
     "data": {
      "text/plain": [
       "array([1.        , 0.90909091, 0.85714286])"
      ]
     },
     "execution_count": 13,
     "metadata": {},
     "output_type": "execute_result"
    }
   ],
   "source": [
    "recall = recall_score(y_true=y_test, y_pred=y_predicted, average=None)\n",
    "recall"
   ]
  },
  {
   "cell_type": "markdown",
   "id": "cxeENiyMT4Ep",
   "metadata": {
    "id": "cxeENiyMT4Ep"
   },
   "source": [
    "## 10.6. ROC curve"
   ]
  },
  {
   "cell_type": "markdown",
   "id": "mYQVtzKzT4Ep",
   "metadata": {
    "id": "mYQVtzKzT4Ep"
   },
   "source": [
    "A ROC (Receiver Operating Characteristic) curve evaluates the quality of a classifier when the classifier outputs probabilities. For example, instead of the classifier outputing strictly  1 or 0, if the sample belongs to the target class or not, the classifier must predict a certain probability of a sample belonging to the target class. Typically the range or probability goes from 0.0 (0% probability) to 1.0 (100% probability).\n",
    "\n",
    "When we have probabilities, we define a threshold that states from which probability onward are all predicted samples classified as the target class and the others are not. By changing this threshold value, the number of positives and negatives examples changes. If we set a high threshold, for instance 0.9, we will get a small number of positive examples, but we will be more sure that they are a correct prediction. Likewise, if we set a low threshold, we will be more sure we correctly identified a larger number of positive samples, but a lot of negative samples will be incorectly classified as well.\n",
    "\n",
    "The ROC curve helps us find the threshold value that will work best for us"
   ]
  },
  {
   "cell_type": "markdown",
   "id": "tpsoyac1T4Ep",
   "metadata": {
    "id": "tpsoyac1T4Ep"
   },
   "source": [
    "Because the ROC metric only deals with maximum two classes (positive and negative class), we will have to remove one of the 3 classes we have in our iris dataset. We will remove the \"Iris-setosa\" examples and now we are going to find if an example is from the \"Iris-versicolor\" type."
   ]
  },
  {
   "cell_type": "code",
   "execution_count": 14,
   "id": "t4SSGYQGT4Eq",
   "metadata": {
    "id": "t4SSGYQGT4Eq"
   },
   "outputs": [],
   "source": [
    "two_class_dataset = flower_dataset[flower_dataset['Species'] != \"Iris-setosa\"].copy()\n",
    "two_class_dataset['Species'] = np.where(two_class_dataset['Species'] == 'Iris-versicolor', 1, 0)"
   ]
  },
  {
   "cell_type": "code",
   "execution_count": 15,
   "id": "y2o1XrtYT4Es",
   "metadata": {
    "id": "y2o1XrtYT4Es"
   },
   "outputs": [],
   "source": [
    "x = two_class_dataset.iloc[:, :-1]\n",
    "y = two_class_dataset.iloc[:, -1]\n",
    "x_train, x_test, y_train, y_test = train_test_split(x,y, test_size=0.3)"
   ]
  },
  {
   "cell_type": "markdown",
   "id": "20c4e31c",
   "metadata": {},
   "source": [
    "Probabilities for both classes are returned but since they both add up to 1, we can just take the target class we are interested in."
   ]
  },
  {
   "cell_type": "code",
   "execution_count": 16,
   "id": "PxKgmktlT4Es",
   "metadata": {
    "id": "PxKgmktlT4Es"
   },
   "outputs": [],
   "source": [
    "model.fit(x_train, y_train)\n",
    "y_predicted = model.predict_proba(x_test)[:,1]"
   ]
  },
  {
   "cell_type": "code",
   "execution_count": 17,
   "id": "7CZKPT44T4Et",
   "metadata": {
    "id": "7CZKPT44T4Et"
   },
   "outputs": [
    {
     "data": {
      "text/plain": [
       "<sklearn.metrics._plot.roc_curve.RocCurveDisplay at 0x12b18788250>"
      ]
     },
     "execution_count": 17,
     "metadata": {},
     "output_type": "execute_result"
    },
    {
     "data": {
      "image/png": "[encoded data removed]",
      "text/plain": [
       "<Figure size 432x288 with 1 Axes>"
      ]
     },
     "metadata": {
      "needs_background": "light"
     },
     "output_type": "display_data"
    }
   ],
   "source": [
    "fpr, tpr, thresholds = roc_curve(y_test, y_predicted)\n",
    "roc_auc = auc(fpr, tpr)\n",
    "display = RocCurveDisplay(fpr=fpr, tpr=tpr, roc_auc=roc_auc, estimator_name='example estimator')\n",
    "display.plot()"
   ]
  },
  {
   "cell_type": "markdown",
   "id": "7rV0_ieeT4Et",
   "metadata": {
    "id": "7rV0_ieeT4Et"
   },
   "source": [
    "## 10.7. Cross validation"
   ]
  },
  {
   "cell_type": "markdown",
   "id": "kez7tCzoT4Et",
   "metadata": {
    "id": "kez7tCzoT4Et"
   },
   "source": [
    "In real world use, just training and testing a classifier on a dataset is not enough to guarantee that what we see from the metrics, is what performance we will get. There is a chance that we got lucky when the train/test data split function divided our data. To be more certain of the model's ability to handle new and unseen data, we can validate it repeatedly and choose the time where it performed best. This is called cross validation.\n",
    "\n",
    "K-fold cross validation breaks down a dataset into **k** several smaller datasets, one for training and the others for validating, k number of times. After training and validation is done, it saves the results of the validation and it does the same again, but now with different data going into the training and validation datasets. This way, all of the data will have had a chance to be part of training and validating.\n",
    "\n",
    "When we split the dataset into a training and validation dataset, we have to be sure that we will leave some part of our original dataset for testing. This testing data will not be part of the cross validation cycle because after we pick a classifier that performed the best out of the k-iterations, we want to test on to get an unbiased estimate of the final model performance."
   ]
  },
  {
   "cell_type": "code",
   "execution_count": 18,
   "id": "9OSlES6hT4Et",
   "metadata": {
    "id": "9OSlES6hT4Et"
   },
   "outputs": [],
   "source": [
    "scores = cross_val_score(model, x_train, y_train, cv=5)"
   ]
  },
  {
   "cell_type": "code",
   "execution_count": 19,
   "id": "fp_if73lT4Eu",
   "metadata": {
    "id": "fp_if73lT4Eu",
    "outputId": "a54d4176-7923-4227-cc1d-799bf23d6b87"
   },
   "outputs": [
    {
     "name": "stdout",
     "output_type": "stream",
     "text": [
      "0.93 accuracy with a standard deviation of 0.08\n"
     ]
    }
   ],
   "source": [
    "print(\"%0.2f accuracy with a standard deviation of %0.2f\" % (scores.mean(), scores.std()))"
   ]
  },
  {
   "cell_type": "markdown",
   "id": "G_Z3jmR3T4Eu",
   "metadata": {
    "id": "G_Z3jmR3T4Eu"
   },
   "source": [
    "For the previous example, we chose a fold number of 5. What will happen to the score if we increase the number of folds?"
   ]
  },
  {
   "cell_type": "code",
   "execution_count": 20,
   "id": "KEh9psdMT4Eu",
   "metadata": {
    "id": "KEh9psdMT4Eu"
   },
   "outputs": [],
   "source": [
    "scores = cross_val_score(model, x_train, y_train, cv=11)"
   ]
  },
  {
   "cell_type": "code",
   "execution_count": 21,
   "id": "CHjmGcqJT4Ev",
   "metadata": {
    "id": "CHjmGcqJT4Ev",
    "outputId": "197834b0-1d46-4a4f-bb5b-a51733ddf965"
   },
   "outputs": [
    {
     "name": "stdout",
     "output_type": "stream",
     "text": [
      "0.96 accuracy with a standard deviation of 0.07\n"
     ]
    }
   ],
   "source": [
    "print(\"%0.2f accuracy with a standard deviation of %0.2f\" % (scores.mean(), scores.std()))"
   ]
  }
 ],
 "metadata": {
  "colab": {
   "provenance": []
  },
  "kernelspec": {
   "display_name": "Python 3 (ipykernel)",
   "language": "python",
   "name": "python3"
  },
  "language_info": {
   "codemirror_mode": {
    "name": "ipython",
    "version": 3
   },
   "file_extension": ".py",
   "mimetype": "text/x-python",
   "name": "python",
   "nbconvert_exporter": "python",
   "pygments_lexer": "ipython3",
   "version": "3.9.12"
  }
 },
 "nbformat": 4,
 "nbformat_minor": 5
}
