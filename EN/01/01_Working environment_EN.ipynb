{
 "cells": [
  {
   "cell_type": "markdown",
   "id": "beee7905-97b2-4da3-a1ea-be7aa5c716d2",
   "metadata": {},
   "source": [
    "# 1. WORKING ENVIRONMENT"
   ]
  },
  {
   "cell_type": "markdown",
   "id": "c02b4b86",
   "metadata": {},
   "source": [
    "Marija Markovska Dimitrovska, FEEIT, CMUS, Macedonia\n",
    "\n",
    "Branislav Gerazov, FEEIT, CMUS, Macedonia"
   ]
  },
  {
   "cell_type": "markdown",
   "id": "ad8551f7",
   "metadata": {},
   "source": [
    "In this chapter, you will learn how to install Jupyter Lab needed to perform the Data Science and Machine Learning tasks covered in this book."
   ]
  },
  {
   "cell_type": "markdown",
   "id": "c542ceba",
   "metadata": {},
   "source": [
    "## 1.1. Install Jupyter Lab on Windows"
   ]
  },
  {
   "cell_type": "markdown",
   "id": "148fe620",
   "metadata": {},
   "source": [
    "The easiest way to install Jupyter Lab on Windows is by installing **Anaconda**.\n",
    "\n",
    "Anaconda is a popular open-source distribution of the Python and R programming languages, which includes a comprehensive set of tools for Data Science and Machine Learning. It provides a user-friendly graphical interface (**Anaconda Navigator**) and package management system (**conda**) that allows developers to easily install, manage, and update Python and R packages and dependencies.\n",
    "\n",
    "Anaconda includes over 1,500 packages for Data Science, Machine Learning, and Scientific Computing, including popular packages such as **NumPy**, **pandas**, and **scikit-learn**. It also comes with the **Jupyter Notebook**, a web-based interactive computing environment that enables data analysis and visualization, and **Spyder**, an integrated development environment (IDE) for scientific computing.\n",
    "\n",
    "One of the main advantages of using Anaconda is that it simplifies the installation and management of packages and dependencies, making it easier for developers to set up a Data Science environment on their local machine or in the cloud. It is widely used in industry and academia.\n",
    "\n",
    "Anaconda provides an easy installation process for Windows, Linux and macOS."
   ]
  },
  {
   "cell_type": "markdown",
   "id": "f90064cc-9119-40ff-8b88-0b1929353a0b",
   "metadata": {},
   "source": [
    "### 1.1.1 Install Anaconda"
   ]
  },
  {
   "cell_type": "markdown",
   "id": "d502fb0d",
   "metadata": {},
   "source": [
    "To install Anaconda on Windows, follow these steps:\n",
    "\n",
    "1. Download the appropriate Anaconda installer for your operating system from the Anaconda website: <a href=\"https://www.anaconda.com/distribution/#download-section\" title=\"Optional Title\">https://www.anaconda.com/distribution/#download-section</a>.</p>\n",
    "\n",
    "2. Double-click the downloaded file to launch the Anaconda installation wizard.</p>\n",
    "    \n",
    "3. When the screen below appears click **Next**."
   ]
  },
  {
   "cell_type": "markdown",
   "id": "ac28b49c",
   "metadata": {},
   "source": [
    "<figure>\n",
    "<img src=\"https://raw.githubusercontent.com/VALENCEML/eBOOK/main/EN/01/InstallAnacondaStep1.png\" width=\"500px;\"/> \n",
    "</figure>"
   ]
  },
  {
   "cell_type": "markdown",
   "id": "10351835",
   "metadata": {},
   "source": [
    "4. Read the license agreement and click on **I Agree**."
   ]
  },
  {
   "cell_type": "markdown",
   "id": "121de9d0",
   "metadata": {},
   "source": [
    "<figure>\n",
    "<img src=\"https://raw.githubusercontent.com/VALENCEML/eBOOK/main/EN/01/InstallAnacondaStep2.png\" width=\"500px;\"/> \n",
    "</figure>"
   ]
  },
  {
   "cell_type": "markdown",
   "id": "f6f8a5fc",
   "metadata": {},
   "source": [
    "5. Click on **Next**."
   ]
  },
  {
   "cell_type": "markdown",
   "id": "f6cad50a",
   "metadata": {},
   "source": [
    "<figure>\n",
    "<img src=\"https://raw.githubusercontent.com/VALENCEML/eBOOK/main/EN/01/InstallAnacondaStep3.png\" width=\"500px;\"/> \n",
    "</figure>"
   ]
  },
  {
   "cell_type": "markdown",
   "id": "85ce9623",
   "metadata": {},
   "source": [
    "6. Note your installation location and then click on **Next**."
   ]
  },
  {
   "cell_type": "markdown",
   "id": "d6c29f5c",
   "metadata": {},
   "source": [
    "<figure>\n",
    "<img src=\"https://raw.githubusercontent.com/VALENCEML/eBOOK/main/EN/01/InstallAnacondaStep4.png\" width=\"500px;\"/> \n",
    "</figure>"
   ]
  },
  {
   "cell_type": "markdown",
   "id": "31dbe02d",
   "metadata": {},
   "source": [
    "7. This is an important step of the installation process. The recommended approach is to not check the box to add Anaconda to your path. This means you will have to use Anaconda Navigator or the Anaconda Command Prompt (located in the Start Menu under \"Anaconda\") when you wish to use Anaconda. If you want to be able to use Anaconda in your command prompt, you have to use the alternative approach and check the box. After your choice, click **Install**."
   ]
  },
  {
   "cell_type": "markdown",
   "id": "f6571ce0",
   "metadata": {},
   "source": [
    "<figure>\n",
    "<img src=\"https://raw.githubusercontent.com/VALENCEML/eBOOK/main/EN/01/InstallAnacondaStep5.png\" /> \n",
    "</figure>"
   ]
  },
  {
   "cell_type": "markdown",
   "id": "29a1e1f9",
   "metadata": {},
   "source": [
    "8. Click on **Next**."
   ]
  },
  {
   "cell_type": "markdown",
   "id": "4ea9bb10",
   "metadata": {},
   "source": [
    "<figure>\n",
    "<img src=\"https://raw.githubusercontent.com/VALENCEML/eBOOK/main/EN/01/InstallAnacondaStep6.png\" width=\"500px;\"/> \n",
    "</figure>"
   ]
  },
  {
   "cell_type": "markdown",
   "id": "f0bc738c",
   "metadata": {},
   "source": [
    "9. Click on **Next**."
   ]
  },
  {
   "cell_type": "markdown",
   "id": "ec138bc6",
   "metadata": {},
   "source": [
    "<figure>\n",
    "<img src=\"https://raw.githubusercontent.com/VALENCEML/eBOOK/main/EN/01/InstallAnacondaStep7.png\" width=\"500px;\"/> \n",
    "</figure>"
   ]
  },
  {
   "cell_type": "markdown",
   "id": "12270443",
   "metadata": {},
   "source": [
    "10. If you wish to read more about Anaconda.org and how to get started with Anaconda click on **Finish**. Otherwise, first uncheck the boxes “Anaconda Distribution Tutorial” and “Learn more about Anaconda” and then click on **Finish**."
   ]
  },
  {
   "cell_type": "markdown",
   "id": "a1373ac6",
   "metadata": {},
   "source": [
    "<figure>\n",
    "<img src=\"https://raw.githubusercontent.com/VALENCEML/eBOOK/main/EN/01/InstallAnacondaStep8.png\" width=\"500px;\"/> \n",
    "</figure>"
   ]
  },
  {
   "cell_type": "markdown",
   "id": "0ead1377",
   "metadata": {},
   "source": [
    "Now, when the Anaconda is successfully installed, you can try to open a Jupyter Notebook."
   ]
  },
  {
   "cell_type": "markdown",
   "id": "08ebfeaf",
   "metadata": {},
   "source": [
    "### 1.1.2 Open Jypyter Lab"
   ]
  },
  {
   "cell_type": "markdown",
   "id": "a5a536f8",
   "metadata": {},
   "source": [
    "1. Find and open the **Anaconda Prompt** application using the search bar from the Start Menu.</p>\n",
    "    \n",
    "2. Navigate to the desired folder using the **cd** command."
   ]
  },
  {
   "cell_type": "markdown",
   "id": "380cc0ee",
   "metadata": {},
   "source": [
    "<figure>\n",
    "<img src=\"https://raw.githubusercontent.com/VALENCEML/eBOOK/main/EN/01/OpenNotebookStep1.png\" width=\"500px;\"/> \n",
    "</figure>"
   ]
  },
  {
   "cell_type": "markdown",
   "id": "48562c30",
   "metadata": {},
   "source": [
    "3. Once in the desired folder, type jupyter notebook and press **Enter**."
   ]
  },
  {
   "cell_type": "markdown",
   "id": "3f049209",
   "metadata": {},
   "source": [
    "<figure>\n",
    "<img src=\"https://raw.githubusercontent.com/VALENCEML/eBOOK/main/EN/01/OpenNotebookStep2.png\" width=\"500px;\"/> \n",
    "</figure>"
   ]
  },
  {
   "cell_type": "markdown",
   "id": "80901105",
   "metadata": {},
   "source": [
    "4. The Jupyter server will start. You should see some server logs printed. You may be prompted to select an application to open Jupyter in. Firefox or Chrome are preferred."
   ]
  },
  {
   "cell_type": "markdown",
   "id": "a63203af",
   "metadata": {},
   "source": [
    "<figure>\n",
    "<img src=\"https://raw.githubusercontent.com/VALENCEML/eBOOK/main/EN/01/OpenNotebookStep3.png\" width=\"500px;\"/> \n",
    "</figure>"
   ]
  },
  {
   "cell_type": "markdown",
   "id": "cd89a72b",
   "metadata": {},
   "source": [
    "5. Shortly after, a browser window should open, showing the files and folders located in the folder where you started the Jupyter server (in this case the folder is **C:\\Users\\Marija\\Documents\\Projects**)."
   ]
  },
  {
   "cell_type": "markdown",
   "id": "f193f9b0",
   "metadata": {},
   "source": [
    "<figure>\n",
    "<img src=\"https://raw.githubusercontent.com/VALENCEML/eBOOK/main/EN/01/OpenNotebookStep4.png\" /> \n",
    "</figure>"
   ]
  },
  {
   "cell_type": "markdown",
   "id": "2f7d983e",
   "metadata": {},
   "source": [
    "6. Create a new Jupyter Notebook. Click on **New** to select the Jupyter Notebook that you want."
   ]
  },
  {
   "cell_type": "markdown",
   "id": "b72cf9d5",
   "metadata": {},
   "source": [
    "<figure>\n",
    "<img src=\"https://raw.githubusercontent.com/VALENCEML/eBOOK/main/EN/01/OpenNotebookStep5.png\" /> \n",
    "</figure>"
   ]
  },
  {
   "cell_type": "markdown",
   "id": "f74196b6",
   "metadata": {},
   "source": [
    "7. Your newly created Jupyter Notebook is now available for you to explore and expand your knowledge on data types, variables, numbers, and other related topics."
   ]
  },
  {
   "cell_type": "markdown",
   "id": "60d1c9dd",
   "metadata": {},
   "source": [
    "<figure>\n",
    "<img src=\"https://raw.githubusercontent.com/VALENCEML/eBOOK/main/EN/01/OpenNotebookStep6.png\" /> \n",
    "</figure>"
   ]
  },
  {
   "cell_type": "markdown",
   "id": "82646213",
   "metadata": {},
   "source": [
    "## 1.2. Install Jupyter Lab on Linux"
   ]
  },
  {
   "cell_type": "markdown",
   "id": "4308e9df-785f-4864-838a-5d2fc02b23e2",
   "metadata": {},
   "source": [
    "Every GNU/Linux distribution comes with a system installation of Python.\n",
    "The standard tool for installing packages in Python is `pip` (Python Install Package).\n",
    "\n",
    "Installing Python packages with `pip` directly into the operating system is not recommended due to the possibility of conflicts between packages that are installed on the GNU/Linux operating system.\n",
    "To avoid this problem, as well as to isolate the ecosystems from installed modules of each separate project, we should first make a Python virtual environment for our work.\n",
    "\n",
    "For this purpose we will use the `mamba` package.\n",
    "\n",
    "### 1.2.1. Creating a virtual environment with mamba\n",
    "\n",
    "[`Mamba`](https://mamba.readthedocs.io) is a powerful and fast package for managing virtual environments in Python.\n",
    "To install it we need to download the installer script and run it with the following two commands:\n",
    "\n",
    "```bash\n",
    "$ wget https://github.com/conda-forge/miniforge/releases/latest/download/Mambaforge-Linux-x86_64.sh\n",
    "\n",
    "$ ./Mambaforge-Linux-x86_64.sh\n",
    "```\n",
    "\n",
    "Now we will create a virtual environment:\n",
    "\n",
    "```bash\n",
    "~ $ mamba create -n valence python\n",
    "```\n",
    "\n",
    "And we will activate it with:\n",
    "\n",
    "```bash\n",
    "~ $ mamba activate valence\n",
    "\n",
    "(valence) ~ $\n",
    "```\n",
    "\n",
    "### 1.2.1. Installing Jupyter Lab\n",
    "\n",
    "Now that we have created the virtual environment, we can install Jupyter Lab.\n",
    "\n",
    "```bash\n",
    "(valence) ~ $ mamba install jupyterlab\n",
    "```\n",
    "\n",
    "This installs Jupyter Lab and it is ready to use.\n",
    "\n",
    "### 1.2.2. Downloading the material and opening it with Jupyter Lab\n",
    "\n",
    "To download the material we will use the `git` command which you will need to install on your GNU/Linux if you have not already done so.\n",
    "For this purpose, use the package manager of your distribution.\n",
    "On Ubuntu and other Debian-based distributions we can do this with the following command:\n",
    "\n",
    "```bash\n",
    "(valence) ~ $ sudo apt install git\n",
    "```\n",
    "\n",
    "Now we will create a folder where we will download the material:\n",
    "\n",
    "```bash\n",
    "(valence) ~ $ mkdir valence\n",
    "\n",
    "(valence) ~ $ cd valence\n",
    "\n",
    "(valence) ~/valence $ git clone https://github.com/VALENCEML/eBOOK.git\n",
    "Cloning into 'eBOOK'...\n",
    "remote: Enumerating objects: 639, done.\n",
    "remote: Counting objects: 100% (126/126), done.\n",
    "remote: Compressing objects: 100% (72/72), done.\n",
    "remote: Total 639 (delta 65), reused 97 (delta 52), pack-reused 513\n",
    "Receiving objects: 100% (639/639), 22.62 MiB | 2.42 MiB/s, done.\n",
    "Resolving deltas: 100% (274/274), done.\n",
    "```\n",
    "\n",
    "Now we can go into the folder where we downloaded the material and install the necessary packages.\n",
    "\n",
    "```bash\n",
    "(valence) ~/valence $ cd eBOOK\n",
    "\n",
    "(valence) ~/valence/eBOOK $ mamba install --file requirements.txt\n",
    "```\n",
    "\n",
    "With this we are ready to launch Jupyter Lab and start studying the material.\n",
    "\n",
    "```bash\n",
    "(valence) ~/valence/eBOOK $ jupyter lab\n",
    "```"
   ]
  }
 ],
 "metadata": {
  "kernelspec": {
   "display_name": "Python 3 (ipykernel)",
   "language": "python",
   "name": "python3"
  },
  "language_info": {
   "codemirror_mode": {
    "name": "ipython",
    "version": 3
   },
   "file_extension": ".py",
   "mimetype": "text/x-python",
   "name": "python",
   "nbconvert_exporter": "python",
   "pygments_lexer": "ipython3",
   "version": "3.11.0"
  }
 },
 "nbformat": 4,
 "nbformat_minor": 5
}
