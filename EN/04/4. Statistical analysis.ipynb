{
 "cells": [
  {
   "cell_type": "markdown",
   "metadata": {},
   "source": [
    "# 4. Statistical analysis\n",
    "\n",
    "\n",
    "Statistics plays an important role in machine learning, as it provides the tools and methods for modeling, analyzing, and interpreting data."
   ]
  },
  {
   "cell_type": "markdown",
   "metadata": {},
   "source": [
    "## 4.1 Programming tools and packages for statistical analysis.\n",
    "In this chapter **python** and **Jupyter Notebook** will be used. There are many **Python statistics libraries** available, but in this chapter, we will use the following ones:\n",
    "    <ul>\n",
    "        <li>**NumPy** is a library in Python that allows you to work with large arrays of numbers, and perform mathematical operations on them such as linear algebra and statistical analysis. It is widely used in scientific computing, data analysis and machine learning.</li>\n",
    "        <li>**SciPy** is a library in Python that extends the functionality of NumPy for scientific computing. It also includes scipy.stats which is used for statistical analysis.</li>\n",
    "        <li>**Pandas** is a Python library that makes it easy to work with data. It provides tools for handling and manipulating data in tabular format, similar to spreadsheet software. It is commonly used in data analysis, cleaning, manipulation and visualization tasks, and it works well with other libraries such as NumPy, SciPy, and Matplotlib.</li>\n",
    "        <li>**Matplotlib** is a  library for visualizing data. It can be easily combined with NumPy, SciPy, and Pandas.</li>\n",
    "    </ul>"
   ]
  },
  {
   "cell_type": "markdown",
   "metadata": {},
   "source": [
    "## 4.2 Descriptive and inferential statistics \n",
    "Descriptive and inferential statistics  are two main branches of statistics that are used for different purposes. Statistics is a way to understand large amounts of data. \n",
    "\n",
    "**Descriptive statistics** is used to summarize, organize, and describe a set of data. It helps to provide a general picture of the data, such as the average, median, and range. For example, if you wanted to know the average height of the students in your class, you would use descriptive statistics to calculate this.\n",
    "\n",
    "**Inferential statistics**, on the other hand, is used to make predictions or generalizations about a population based on a sample of data. It allows you to draw conclusions about a larger group by analyzing a smaller group. For example, if you wanted to know the average height of all the students in your school, you would take a sample of students' heights from your class and use inferential statistics to estimate the average height of the entire school population.\n",
    "\n",
    "So, in simple terms, **Descriptive statistics** helps understand the data available, and **Inferential statistics** helps make predictions about the data not yet available.\n",
    "In this section, we will primarily focus on descriptive statistics. As the lectures progress, we will shift our focus more towards inferential statistics as we delve deeper into machine learning techniques."
   ]
  },
  {
   "cell_type": "markdown",
   "metadata": {},
   "source": [
    "## 4.3 Univariate Analysis\n",
    "Univariate statistics is like looking at one piece of information at a time. For example, you might want to know how your classmates did on a test. You can collect the scores and use univariate statistics to understand and describe the data.\n",
    "Univariate statistics in this example include:\n",
    "finding the average score (also called the mean), \n",
    "seeing how many people got different scores, \n",
    "seeing if any scores are very different from the others (outliers),\n",
    "seeing how are the scores  spread out  (variance).\n",
    "\n",
    "\n",
    "Univariate statistics is a good way to get a general idea of what the data looks like and to see if there are any patterns or trends. It's like looking at one piece of the puzzle to see what it tells you about the whole picture.\n",
    "\n"
   ]
  },
  {
   "cell_type": "markdown",
   "metadata": {},
   "source": [
    "## 4.4 Measures of Central Tendency\n",
    "Measures of central tendency are statistical measures that are used to describe the central or typical value of a data set. The most common measures of central tendency are the **mean**, **median**, and **mode**.\n",
    "\n"
   ]
  },
  {
   "cell_type": "markdown",
   "metadata": {},
   "source": [
    "### 4.4.1 Arithmetic mean\n",
    "The arithmetic mean, also known as the \"**average**,\" is a way to find the middle value of a set of numbers. To find the mean, add all the numbers together and then divide by the number of items in the set. For example, the mean of the set x= {1, 2, 3} the number of items in the set n = 3 is:\n",
    "\n",
    "\n",
    "$$\n",
    "   \\frac{x1+x2+...+xn}{n} = \\frac{1+2+3}{3} = \\frac{6}{3} = 2\n",
    "$$\n",
    "\n",
    "In Python, you can use the numpy library to find the arithmetic mean of a set of numbers. Here's an example:"
   ]
  },
  {
   "cell_type": "code",
   "execution_count": 1,
   "metadata": {},
   "outputs": [
    {
     "name": "stdout",
     "output_type": "stream",
     "text": [
      "2.0\n"
     ]
    }
   ],
   "source": [
    "import numpy as np\n",
    "\n",
    "# Create a set of numbers\n",
    "numbers = np.array([1, 2, 3])\n",
    "\n",
    "# Use the numpy mean() function to find the mean\n",
    "mean = np.mean(numbers)\n",
    "\n",
    "# Print the result\n",
    "print(mean)"
   ]
  },
  {
   "cell_type": "markdown",
   "metadata": {},
   "source": [
    "### 4.4.2 Weighted mean\n",
    "\n",
    "A weighted mean is similar to a regular mean (also called an arithmetic mean), but it gives more **importance** (or weight) to **certain** **values** in the set.\n",
    "\n",
    "To find the weighted mean, you first assign a weight to each value in the set, and then you multiply each value by its weight. After that, you add up all the results and divide by the total weight.\n",
    "\n",
    "For example, let's say you have a set of test scores x = {70, 80, 90} and the corresponding weights are w = {2, 3, 5} the number of items in these sets is n = 3.\n",
    "To find the weighted mean, you would do:\n",
    "\n",
    "$$\n",
    "    m = \\frac{(x_{1}*w_{1}+x_{2}*w_{2}+...+x_{n}*w_{n})}{w_{1}+w_{2}+...+w_{n}} = \\frac{(70*2 + 80*3+ 90*5)}{(2+3+5)} = \\frac{830}{10} = 83\n",
    "$$\n",
    "It's like you're giving more weight to some of the numbers in the set, making them count more towards the final average. It's used in cases when values have different importance, this way you can give more weight to the values that are more important."
   ]
  },
  {
   "cell_type": "code",
   "execution_count": 2,
   "metadata": {},
   "outputs": [
    {
     "name": "stdout",
     "output_type": "stream",
     "text": [
      "83.0\n"
     ]
    }
   ],
   "source": [
    "import numpy as np\n",
    "\n",
    "# Create a set of numbers\n",
    "numbers = np.array([70, 80, 90])\n",
    "\n",
    "# Assign weights to each number\n",
    "weights = np.array([2, 3, 5])\n",
    "\n",
    "# Use the numpy average() function to find the weighted mean\n",
    "weighted_mean = np.average(numbers, weights=weights)\n",
    "\n",
    "# Print the result\n",
    "print(weighted_mean)"
   ]
  },
  {
   "cell_type": "markdown",
   "metadata": {},
   "source": [
    "### 4.4.3 Geometric Mean\n",
    "\n",
    "The geometric mean is a way of finding the average of a set of numbers by multiplying them together and then taking the nth root (where n is the number of numbers in the set). It is used to find the average of a set of numbers when the numbers are not all the same, and when values can be greater or less than 1.\n",
    "\n",
    "For example, let's say you have a set of numbers x = {2, 4, 8} with a length of n = 3. To find the geometric mean, you would do:\n",
    "\n",
    "\n",
    "$$\n",
    "  g = \\sqrt[n]{x_{1}*x_{2}*...*x_{n}} = \\sqrt[3]{2*4*4} = \\sqrt[3]{64} = 4\n",
    "$$\n",
    "The geometric mean is often used to find the average of rates of change or growth rates. It is also used in finance to calculate the average rate of return of an investment over a period of time.\n",
    "\n",
    "Keep in mind that The Geometric Mean is always less than or equal to the arithmetic mean(except when all values are the same)\n",
    "\n",
    "In most cases, it is used when the data set is positively skewed, that is when there are more small values than large values."
   ]
  },
  {
   "cell_type": "code",
   "execution_count": 3,
   "metadata": {},
   "outputs": [
    {
     "name": "stdout",
     "output_type": "stream",
     "text": [
      "4.0\n"
     ]
    }
   ],
   "source": [
    "from scipy.stats import gmean\n",
    "# Create a set of numbers\n",
    "numbers = np.array([2, 4, 8])\n",
    "\n",
    "# Use the numpy geometric mean() function to find the geometric mean\n",
    "geometric_mean = gmean(numbers)\n",
    "\n",
    "# Print the result\n",
    "print(geometric_mean)"
   ]
  },
  {
   "cell_type": "markdown",
   "metadata": {},
   "source": [
    "### 4.4.4 Harmonic Mean\n",
    "The harmonic mean is a way of finding the average of a set of numbers by taking the reciprocal of the arithmetic mean of the reciprocals of the numbers. It's used to calculate the average of rates.\n",
    "\n",
    "For example, let's say you have a set of numbers {3, 4, 5}, the number of items in the set n = 3. To find the harmonic mean, you would do:\n",
    "\n",
    "\n",
    "$$\n",
    "    h = \\frac{n}{\\frac{1}{x_{1}}+\\frac{1}{x_{2}}+...+\\frac{1}{x_{n}}} = \\frac{3}{\\frac{1}{3}+\\frac{1}{4}+\\frac{1}{5}} = 3.829\n",
    "$$\n",
    "\n",
    "<br>\n",
    "The harmonic mean is often used when working with rates, such as speeds or rates of change. It is also used in finance and economics to calculate the average of interest rates, inflation rates, and growth rates.\n",
    "\n",
    "Keep in mind that the harmonic mean is always less than the arithmetic mean and geometric mean, except when all values in the data set are the same.\n",
    "\n",
    "It's also used when the data set contains zeroes, since the geometric mean is not defined when the data set contains zero."
   ]
  },
  {
   "cell_type": "code",
   "execution_count": 4,
   "metadata": {},
   "outputs": [
    {
     "name": "stdout",
     "output_type": "stream",
     "text": [
      "3.829787234042554\n"
     ]
    }
   ],
   "source": [
    "from scipy.stats import hmean\n",
    "\n",
    "# Create a set of numbers\n",
    "numbers = np.array([3, 4, 5])\n",
    "\n",
    "# Use the numpy harmonic mean() function to find the harmonic mean\n",
    "harmonic_mean = hmean(numbers)\n",
    "\n",
    "# Print the result\n",
    "print(harmonic_mean)"
   ]
  },
  {
   "cell_type": "markdown",
   "metadata": {},
   "source": [
    "### 4.4.5 Median\n",
    "The median is a way of finding the middle value of a set of numbers. It's used to find the middle value of a set of numbers when there are some very large or very small values (outliers) that would skew the average (mean) of the set.\n",
    "\n",
    "To find the median, you first need to arrange all the numbers in the set in numerical order. If the set has an odd number of items, the median is the middle value. If the set has an even number of items, the median is the average of the two middle values.\n",
    "\n",
    "For example, let's say you have a set of numbers {5, 2, 4, 8, 10}. To find the median, you would arrange the numbers in numerical order: {2, 4, 5, 8, 10}. Since the set has an odd number of items, the median is the middle value, which is 5.\n",
    "\n",
    "If the set has an even number of items for example {2,7,1,12,5,6}, if we sort it: {1,2,5,6,7,12}. The median is the avrage of the two middle values 5+6/2 = 5.5;"
   ]
  },
  {
   "cell_type": "code",
   "execution_count": 5,
   "metadata": {},
   "outputs": [
    {
     "name": "stdout",
     "output_type": "stream",
     "text": [
      "Median of the set that has odd number of items:  5.0\n",
      "Median of the set that has even number of items:  5.5\n"
     ]
    }
   ],
   "source": [
    "import numpy as np\n",
    "\n",
    "# Create a set of numbers\n",
    "numbersOdd = np.array([5, 2, 4, 8, 10])\n",
    "numbersEven = np.array([1, 2, 5, 6, 7, 12])\n",
    "\n",
    "# Use the numpy median() function to find the median\n",
    "medianOdd = np.median(numbersOdd)\n",
    "medianEven = np.median(numbersEven)\n",
    "# Print the result\n",
    "print(\"Median of the set that has odd number of items: \", medianOdd)\n",
    "print(\"Median of the set that has even number of items: \", medianEven)"
   ]
  },
  {
   "cell_type": "markdown",
   "metadata": {},
   "source": [
    "### 4.4.6 Mode\n"
   ]
  },
  {
   "cell_type": "markdown",
   "metadata": {},
   "source": [
    "The mode is a way of finding the most common value(s) in a set of numbers. It's used to find the value(s) that appears most frequently in a set of data. A set of data can have one mode, more than one mode, or no mode at all.\n",
    "\n",
    "For example, let's say you have a set of numbers {1, 2, 2, 3, 4, 4, 4}. To find the mode, you would count how many times each number appears in the set. The number 4 appears most often, three times, so the mode is 4.\n",
    "\n",
    "A set of data can have one mode, more than one mode, or no mode at all. If a set of data has one mode, it is called unimodal. If a set of data has more than one mode, it is called multimodal. If a set of data has no mode, it is called a non-modal.\n",
    "\n",
    "The mode is often used in statistics to find the most common value(s) in a set of data. It's useful when the data has some outliers that would skew the mean or median. It's also used in finance and economics to find the most common value(s) in a set of data, such as the most common price of a stock or the most common interest rate."
   ]
  },
  {
   "cell_type": "code",
   "execution_count": 6,
   "metadata": {},
   "outputs": [
    {
     "name": "stdout",
     "output_type": "stream",
     "text": [
      "[4]\n"
     ]
    }
   ],
   "source": [
    "# import the mode function from the scipy.stats library\n",
    "from scipy.stats import mode\n",
    "\n",
    "numbers = np.array([1, 2, 2, 3, 4, 4, 4])\n",
    "# use the mode function on the set of numbers\n",
    "mode, modeCount = mode(numbers)\n",
    "\n",
    "# print the result\n",
    "print(mode)"
   ]
  },
  {
   "cell_type": "markdown",
   "metadata": {},
   "source": [
    "## 4.5 Measures of Variability\n",
    "\n",
    "Measures of variability are statistical measures that describe how spread out a set of data is. They provide information about the degree to which the data deviates from the mean. Some common measures of variability include:\n",
    "\n",
    "<ul>\n",
    "    <li>Variance</li>\n",
    "    <li>Standard Deviation</li>\n",
    "    <li>Skewness</li>\n",
    "    <li>Percentiles</li>\n",
    "    <li>Ranges</li>\n",
    "</ul>\n"
   ]
  },
  {
   "cell_type": "markdown",
   "metadata": {},
   "source": [
    "### 4.5.1 Variance\n",
    "Variance is used to find the amount of variation or dispersion in a set of data. The larger the variance, the more spread out the data is. The smaller the variance, the more concentrated the data is.\n",
    "\n",
    "To find the variance, you first find the mean of the set of numbers, and then for each number, you subtract the mean and square the result. Then you add up all the squared differences and divide by the number of items in the set. This gives you the variance.\n",
    "\n",
    "For example, let's say you have a set of numbers {1, 2, 3, 4, 5}. To find the variance, you would first find the mean of the set (15/5 = 3), then for each number, you subtract the mean and square the result: \n",
    "\n",
    "(1-3)² = 4, (2-3)² = 1, (3-3)² = 0, (4-3)² = 1, (5-3)² = 4. \n",
    "\n",
    "Then you add up all the squared differences and divide by the number of items in the set \n",
    "\n",
    "(4+1+0+1+4)/5 = 10/5 = 2. \n",
    "\n",
    "So the variance of the set is 2.\n",
    "\n",
    "$$\n",
    "    S^2 = \\frac{(x_{1}-m)^2+(x+{2}-m)^2+..+(x_{n}-m)^2}{n} = \\frac{(1-3)^2+(2-3)^2+(3-3)^2+(4-3)^2+(5-3)^2+}{5} = 2\n",
    "$$\n",
    "\n",
    "Variance is useful in statistics to know how much variation or dispersion there is in a set of data. It's also used in finance and economics to measure the risk of an investment or the volatility of a stock."
   ]
  },
  {
   "cell_type": "code",
   "execution_count": 7,
   "metadata": {},
   "outputs": [
    {
     "name": "stdout",
     "output_type": "stream",
     "text": [
      "variance of the data that is spread out:  0.4\n",
      "variance of the data that is concentrated:  200.0\n"
     ]
    },
    {
     "data": {
      "image/png": "[encoded data removed]",
      "text/plain": [
       "<Figure size 432x288 with 1 Axes>"
      ]
     },
     "metadata": {
      "needs_background": "light"
     },
     "output_type": "display_data"
    }
   ],
   "source": [
    "import numpy as np\n",
    "import matplotlib.pyplot as plt\n",
    "\n",
    "# Create a dataset\n",
    "dataSpreadOut = np.array([1, 2, 2, 2, 3])\n",
    "dataConcentrated = np.array([-10,0,10,20,30])\n",
    "\n",
    "# Use the numpy var() function to find the variance along the columns\n",
    "varianceSpread = np.var(dataSpreadOut, axis=0)\n",
    "varianceConcentrated = np.var(dataConcentrated, axis=0)\n",
    "\n",
    "\n",
    "# Print the result\n",
    "print(\"variance of the data that is spread out: \", varianceSpread)\n",
    "print(\"variance of the data that is concentrated: \", varianceConcentrated)\n",
    "\n",
    "\n",
    "# Plot the scatter plot of the data\n",
    "plt.scatter(dataSpreadOut, [0] * dataSpreadOut.shape[0])\n",
    "plt.scatter(dataConcentrated, [0] * dataConcentrated.shape[0])\n",
    "plt.show()"
   ]
  },
  {
   "cell_type": "markdown",
   "metadata": {},
   "source": [
    "### 4.5.2 Standard Deviation\n",
    "Standard deviation is very similiar to variance, and it is used mostly for the same things. It is basically the square root of the variance. \n",
    "\n",
    "For example, let's say you have a set of numbers {1, 2, 3, 4, 5}. To find the standard deviation, you would first find the variance of the set (15/5 = 3), variance is 2 and then take the square root of the variance √2 = 1.41. So the standard deviation of the set is 1.41. "
   ]
  },
  {
   "cell_type": "code",
   "execution_count": 8,
   "metadata": {},
   "outputs": [
    {
     "name": "stdout",
     "output_type": "stream",
     "text": [
      "1.4142135623730951\n"
     ]
    }
   ],
   "source": [
    "import numpy as np\n",
    "\n",
    "# Create a set of numbers\n",
    "numbers = np.array([1, 2, 3, 4, 5])\n",
    "\n",
    "# Use the numpy std() function to find the standard deviation\n",
    "std_dev = np.std(numbers)\n",
    "\n",
    "# Print the result\n",
    "print(std_dev)"
   ]
  },
  {
   "cell_type": "markdown",
   "metadata": {},
   "source": [
    "### 4.5.3 Skewness\n",
    "Skewness is a measure of the asymmetry of a probability distribution of a real-valued random variable about its mean. It tells you how much the data is skewed or tilted to one side or the other. If the data is symmetric, the skewness will be 0. If the data is skewed to the left, the skewness will be negative. If the data is skewed to the right, the skewness will be positive.\n",
    "\n",
    "For example, if you have a set of numbers {1, 2, 3, 4, 5}, the mean is 3, and the data is symmetric, so the skewness is 0. If you have a set of numbers {1, 2, 3, 4, 10}, the mean is 4, and the data is skewed to the right, so the skewness is positive.\n",
    "\n",
    "Skewness is used to understand the distribution of data and how it is spread out. A skewed distribution can indicate a presence of outliers or extreme values. \n",
    "\n",
    "It is a measure of symmetry, or more precisely, the lack of symmetry. A positive skewness means that more weight is in the left tail of the distribution, the tail on the side of the smaller values. A negative skewness means that more weight is in the right tail, the tail on the side of the larger values.\n",
    "\n",
    "\n",
    "\n"
   ]
  },
  {
   "cell_type": "code",
   "execution_count": 9,
   "metadata": {},
   "outputs": [
    {
     "name": "stdout",
     "output_type": "stream",
     "text": [
      "0.0\n"
     ]
    }
   ],
   "source": [
    "from scipy.stats import skew\n",
    "\n",
    "# Create a set of numbers\n",
    "numbers = [1, 2, 3, 4, 5]\n",
    "\n",
    "# Use the skew() function to find the skewness\n",
    "skewness = skew(numbers)\n",
    "\n",
    "# Print the result\n",
    "print(skewness)"
   ]
  },
  {
   "cell_type": "markdown",
   "metadata": {},
   "source": [
    "### 4.5.4 Percentiles\n",
    "A percentile is a measure that tells you what percent of the values in a set of data fall below a certain value. For example, if a value is in the 90th percentile, that means that 90% of the values in the set of data are below that value. Percentiles are often used to understand the distribution of data and to compare values within the data set.\n",
    "\n",
    "For example, let's say you have a set of test scores {80, 85, 90, 95, 100}. To find the 50th percentile score, you would first arrange the scores in order: {80, 85, 90, 95, 100}. Then you would find the score that is greater than or equal to 50% of the other scores. In this case, the 50th percentile score is 90, because 50% of the scores are below 90.\n",
    "\n",
    "Percentiles are often used in statistics, particularly in education and in the field of health. In education, percentiles are often used to compare student test scores to the scores of other students in the same grade. In health, percentiles are often used to compare a child's growth to the growth of other children of the same age and gender. Percentiles are also used in finance and economics to measure the performance of a stock or portfolio compared to other stocks or portfolios.\n",
    "\n",
    "It's important to note that Percentile is different from percentage, Percentile is a value below which a certain percentage of observations falls, whereas percentage is a value that represents a part of the whole."
   ]
  },
  {
   "cell_type": "code",
   "execution_count": 10,
   "metadata": {},
   "outputs": [
    {
     "name": "stdout",
     "output_type": "stream",
     "text": [
      "90.0\n"
     ]
    }
   ],
   "source": [
    "import numpy as np\n",
    "\n",
    "# Create a set of numbers\n",
    "numbers = [80, 85, 90, 95, 100]\n",
    "\n",
    "# Use the numpy percentile() function to find the 50th percentile\n",
    "percentile_50 = np.percentile(numbers, 50)\n",
    "\n",
    "# Print the result\n",
    "print(percentile_50)"
   ]
  },
  {
   "cell_type": "markdown",
   "metadata": {},
   "source": [
    "### 4.5.5 Ranges\n",
    "Range is a measure of the spread of a set of numbers. It tells you the difference between the largest and smallest values in a set of data. It is calculated by subtracting the smallest value from the largest value.\n",
    "\n",
    "For example, if you have a set of numbers {1, 2, 3, 4, 5}, the smallest value is 1 and the largest value is 5, so the range is 5 - 1 = 4. This means that the difference between the smallest and largest values in the set is 4.\n",
    "\n",
    "Range is a simple measure of spread, it gives an idea of how spread out the data is, but it doesn't take into account the frequency or distribution of the data. It can be affected by outliers and extreme values. Other measures of spread, like interquartile range or standard deviation, are more robust and take into account the distribution of the data.\n",
    "\n",
    "In statistics, range is often used to understand the spread of data and to compare the spread of different data sets. It is also used in finance and economics to measure the volatility or risk of an investment or a stock."
   ]
  },
  {
   "cell_type": "code",
   "execution_count": 11,
   "metadata": {},
   "outputs": [
    {
     "name": "stdout",
     "output_type": "stream",
     "text": [
      "4\n"
     ]
    }
   ],
   "source": [
    "import numpy as np\n",
    "numbers = [1, 2, 3, 4, 5]\n",
    "\n",
    "# range\n",
    "print(np.ptp(numbers))"
   ]
  },
  {
   "cell_type": "markdown",
   "metadata": {},
   "source": [
    "## 4.6 Bivariate Analysis\n",
    "Bivariate analysis is a way to study the relationship between two variables. It helps to understand how changes in one variable are connected to changes in another variable. For example, if you want to study the relationship between how much students study and their test scores, bivariate analysis can help you understand if there is a connection between the two.\n",
    "\n",
    "There are different ways to do bivariate analysis, but some common methods include:\n",
    "\n",
    "Scatter plots: A scatter plot is a graph that shows the relationship between two variables by plotting them on an x-y axis.\n",
    "\n",
    "Correlation: Correlation is a number between -1 and 1 that shows how closely two variables are related. A correlation of 1 means that the variables are perfectly related, while a correlation of -1 means they are perfectly inversely related, and 0 means they have no relationship.\n",
    "\n",
    "Regression: Regression is a method that uses data to find the best line or curve that fits the relationship between two variables.\n",
    "\n",
    "Bivariate analysis can be used to identify patterns and trends in data, test hypotheses about the relationship between variables, and make predictions about future events or trends. It's important to note that it helps to understand the relationship between two variables but it does not explain the cause of the relationship.\n",
    "\n",
    "It can be useful for students who want to understand how different factors might impact their performance in school. For example, how studying more might impact their test scores or how getting enough sleep might affect their focus and ability to learn. Understanding the relationship between these variables can help them make better decisions about how to spend their time and what actions to take to improve their performance."
   ]
  },
  {
   "cell_type": "markdown",
   "metadata": {},
   "source": [
    "## 4.7 Multivariate Analysis\n",
    "\n",
    "Multivariate statistics is a branch of statistics that deals with analyzing and understanding the relationship between more than two variables. It helps to understand how multiple variables are related and how they affect each other.\n",
    "\n",
    "For example, if you want to understand how a student's study habits, sleep habits, and stress levels are related to their test scores, multivariate statistics can help you understand how all of these variables are connected and how they affect test scores."
   ]
  },
  {
   "cell_type": "markdown",
   "metadata": {},
   "source": [
    "*Exercises*\n",
    "\n",
    "- Add different arrays in these previous examples and try out the codes.\n",
    "\n",
    "- Download a dataset from kaggle and apply these metods on the data."
   ]
  }
 ],
 "metadata": {
  "kernelspec": {
   "display_name": "Python 3 (ipykernel)",
   "language": "python",
   "name": "python3"
  },
  "language_info": {
   "codemirror_mode": {
    "name": "ipython",
    "version": 3
   },
   "file_extension": ".py",
   "mimetype": "text/x-python",
   "name": "python",
   "nbconvert_exporter": "python",
   "pygments_lexer": "ipython3",
   "version": "3.9.12"
  },
  "vscode": {
   "interpreter": {
    "hash": "369f2c481f4da34e4445cda3fffd2e751bd1c4d706f27375911949ba6bb62e1c"
   }
  }
 },
 "nbformat": 4,
 "nbformat_minor": 2
}
