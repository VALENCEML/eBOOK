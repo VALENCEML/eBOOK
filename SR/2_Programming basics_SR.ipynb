{
 "cells": [
  {
   "attachments": {},
   "cell_type": "markdown",
   "metadata": {},
   "source": [
    "# 2. Osnove programiranja\n",
    "\n",
    "Branislav Gerazov, FEEIT, CMUS, Makedonija"
   ]
  },
  {
   "attachments": {},
   "cell_type": "markdown",
   "metadata": {},
   "source": [
    "Kroz ovaj interaktivni materijal koristićemo programski jezik Pajton (Python), koja je dominantna u sferama kao što su mašinsko učenje (machine learning) i nauka o podacima (data science). U ovom poglavlju biće ukratko predstavljena Python sintaksa, koja će biti dovoljna da učenici prate ostatak materijala. Nije potrebno ni očekivano predhodno znanje iz programiranja. Poglavlje je bazirana na [Scipy beleškama](https://scipy-lectures.org/), koja su kolekcija uputsva na naučni ekosistem u pythonu. Ovi materijali su rezultat kolektivnog rada oko 100 saradnika i licencirani su pod besplatnom Creative Commons Attribution 4.0 International License (CC-by) licencom. Izvorni fajlovi su dostupni na [GitHub](https://github.com/scipy-lectures/scipy-lecture-notes)-u."
   ]
  },
  {
   "attachments": {},
   "cell_type": "markdown",
   "metadata": {},
   "source": [
    "## 2.1 Zašto Python?"
   ]
  },
  {
   "attachments": {},
   "cell_type": "markdown",
   "metadata": {},
   "source": [
    "Python је intepretirani programski jezik visokog nivoa, koja je postala jedan od najpopularnijih programskih jezika u softverskoj industriji. Po najnovijim anketama, Python je konzistentno bio među najboljim jezicima u smislu popularnosti i upotrebe. \n",
    "\n",
    "Razlozi za ovaj rast u popularnosti su:\n",
    "\n",
    "- **Lak je za učenje i čitanje**: ima jednostavnu sintaksu, što olakšava početnicima da brzo savladaju jezik, a programerima da održavaju i poboljšavaju kod drugih. \n",
    "\n",
    "- **Mnogostran**: može se koristiti za širok spektar zadataka kao što su veb razvoj, naučno računarstvo, analiza podataka, veštačka inteligencija i još mnogo toga.\n",
    "\n",
    "- **Velika zajednica i mnogo biblioteka**: ima veliku i aktivnu zajednicu, koja doprinosi ogromnoj kolekciji biblioteka i modula koji olakšavaju rešavanje specifičnih problema.\n",
    "\n",
    "- **Kompatibilnost na više platformi**: podrazumevano je instaliran na GNU/Linux distribucijama, ali može da radi na bilo kom operativnom sistemu uključujući Windows i macOS, što ga čini idealnim izborom za organizacije koje koriste ili primenjuju svoje proizvode na različitim uređajima.\n",
    "\n",
    "- **Dinamički kucan** : što znači da se tipovi podataka određuju tokom izvršavanja, što olakšava pisanje i otklanjanje greške u kodu.\n",
    "\n",
    "Sve u svemu, popularnost Pythona će verovatno nastaviti da raste u budućnosti, motivisana zbog jednostavnosti korišćenja, svestranosti i rastuće potražnje za analizom podataka i aplikacijama veštačke inteligencije."
   ]
  },
  {
   "attachments": {},
   "cell_type": "markdown",
   "metadata": {},
   "source": [
    "### Prednosti i mane u odnosu na C i C++"
   ]
  },
  {
   "attachments": {},
   "cell_type": "markdown",
   "metadata": {},
   "source": [
    "-**Sintaksa**: Python ima jednostavniju i čitljiviju sintaksu u poređenju sa C i C++, što olakšava pisanje i održavanje koda. S druge strane, C i C++ nude veću kontrolu nad hardverom i operacijama na nivou sistema, što ih čini pogodnijim za aplikacije koje su kritične po pitanju performanse.\n",
    "\n",
    "-**Performansa**: C i C++ su kompajlirani jezici, što ih čini bržim od Pythona, koji je interpretirani jezik. C i C++ takođe imaju veću kontrolu nad upravljačem memorije, što može dovesti do efikasnijeg korišćenja memorije.\n",
    "\n",
    "-**Vreme razvoja**: razvoj u Pythonu je generalno brže i lakše zbog njegove jednostavnije sintakse i automatskog upravljanja memorijom, dok C i C++ zahtevaju više ručnog upravljanja memorijom i otklanjanje grešaka može biti komplikovaniji.\n",
    "\n",
    "-**Biblioteke i alati**: Python ima veliku i aktivnu zajednicu, koja je doprinela ogromnoj kolekciji biblioteka i alata koji olakšavaju rešavanje specifičnih problema. C i C++ takođe imaju veliki broj biblioteka i alata, ali dostupnost specifičnih biblioteka za određene probleme može da varira.\n",
    "\n",
    "-**Slučajevi upotrebe**: Python je svestran jezik koji se obično koristi za veb razvoj, naučno računarstvo, analizu podataka i veštačku inteligenciju, između ostalog. C i C++ se obično koriste za programiranje na nivou sistema, razvoj igara i druge aplikacije koje su kritične po pitanju performanse.\n",
    "\n"
   ]
  },
  {
   "attachments": {},
   "cell_type": "markdown",
   "metadata": {},
   "source": [
    "### Prednosti i mane u odnosu MATLAB"
   ]
  },
  {
   "attachments": {},
   "cell_type": "markdown",
   "metadata": {},
   "source": [
    "-**Sintaksa**: Python ima mnogostraniju sintaksu u poređenju sa MATLAB-om, koji je dizajniran posebno za numeričko računanje. Python se može koristiti za širi spektar zadataka i izvan numeričkog računarstva, dok je MATLAB fokusiran posebno na ovu oblast.\n",
    "\n",
    "-**Cena**: MATLAB je vlasnički softver sa visokom cenom u poređenju sa Pythonom, koji je otvorenog koda i besplatan.\n",
    "\n",
    "-**Biblioteke i alati**: I MATLAB i Python imaju veliku kolekciju biblioteka i alata, ali Python ima veću i aktivniju zajednicu, što je doprinelo širem spektru biblioteka i alata.\n",
    "\n",
    "-**Interoperabilnost**: MATLAB ima bogat skup funkcija za numeričko računanje, što ga čini moćnim alatom za specifične zadatke. Međutim, Python može da interoperiše sa širim spektrom programskih jezika, što olakšava integraciju sa drugim alatima i sistemima.\n",
    "\n",
    "-**Slučajevi upotrebe**: MATLAB je posebno dizajniran za numeričko računarstvo i obično se koristi u oblastima kao što su inžinjerstvo, finansije i naučno računarstvo. Pithon je, s druge strane, svestraniji jezik i koristi se za širi spektar zadataka, uključujući razvoj veba, naučno računarstvo, analizu podataka i veštačku inteligenciju."
   ]
  },
  {
   "attachments": {},
   "cell_type": "markdown",
   "metadata": {},
   "source": [
    "## 2.2 Osnove Pythona"
   ]
  },
  {
   "attachments": {},
   "cell_type": "markdown",
   "metadata": {},
   "source": [
    "* Pre nego što počnemo, moram naglasiti da ćemo koristiti Python 3 u ovom materijalu. Podrška za Python 2 se završila u januaru 2020."
   ]
  },
  {
   "attachments": {},
   "cell_type": "markdown",
   "metadata": {},
   "source": [
    "Da biste pratili kod, takođe možete pokrenuti interaktivni Python u terminalu tako što ćete ukucati `ipithon`. Alternativno, možete menjati ovu \"Jupyter\" beležnicu i izvršiti ćelije koda u \"Jupyter Lab\" veb razvojnom okruženju.\n",
    "\n",
    "*Ako `ipython`  nije instaliran to možete uraditi tako što ukucate `pip install ipython`.\n",
    "\n",
    "Za početak možemo da uradimo na već naviknut `Hello world!` program."
   ]
  },
  {
   "cell_type": "code",
   "execution_count": 3,
   "metadata": {},
   "outputs": [
    {
     "name": "stdout",
     "output_type": "stream",
     "text": [
      "Hello world!\n"
     ]
    }
   ],
   "source": [
    "print(\"Hello world!\")"
   ]
  },
  {
   "attachments": {},
   "cell_type": "markdown",
   "metadata": {},
   "source": [
    "Ovo je bilo lako."
   ]
  },
  {
   "attachments": {},
   "cell_type": "markdown",
   "metadata": {},
   "source": [
    "### Zen Pythona"
   ]
  },
  {
   "attachments": {},
   "cell_type": "markdown",
   "metadata": {},
   "source": [
    "Pre nego što počnemo, korisno je da pogledamo filozofiju dizajna i kodiranja u Pythonu"
   ]
  },
  {
   "cell_type": "code",
   "execution_count": 4,
   "metadata": {},
   "outputs": [
    {
     "name": "stdout",
     "output_type": "stream",
     "text": [
      "The Zen of Python, by Tim Peters\n",
      "\n",
      "Beautiful is better than ugly.\n",
      "Explicit is better than implicit.\n",
      "Simple is better than complex.\n",
      "Complex is better than complicated.\n",
      "Flat is better than nested.\n",
      "Sparse is better than dense.\n",
      "Readability counts.\n",
      "Special cases aren't special enough to break the rules.\n",
      "Although practicality beats purity.\n",
      "Errors should never pass silently.\n",
      "Unless explicitly silenced.\n",
      "In the face of ambiguity, refuse the temptation to guess.\n",
      "There should be one-- and preferably only one --obvious way to do it.\n",
      "Although that way may not be obvious at first unless you're Dutch.\n",
      "Now is better than never.\n",
      "Although never is often better than *right* now.\n",
      "If the implementation is hard to explain, it's a bad idea.\n",
      "If the implementation is easy to explain, it may be a good idea.\n",
      "Namespaces are one honking great idea -- let's do more of those!\n"
     ]
    }
   ],
   "source": [
    "import this"
   ]
  },
  {
   "attachments": {},
   "cell_type": "markdown",
   "metadata": {},
   "source": [
    "### Tipovi promenljivih"
   ]
  },
  {
   "attachments": {},
   "cell_type": "markdown",
   "metadata": {},
   "source": [
    "*Python* podržava sledeće tipove promenljivih:\n",
    "- `int` - ceo broj\n",
    "- `float` - realan broj\n",
    "- `complex` - kompleksan broj\n",
    "- `bool` - logički izraz (`True` ili `False`)\n",
    "\n",
    "Pithon se dinamički kuca, drugim rečima, interpreter određuje tip kada je promenljiva deklarisana u vreme izvođenja. Tip promenljive takođe može da se menja dinamički.\n",
    "\n",
    "\\* Pithon ne zahteva `;` na kraju svake linije koda."
   ]
  },
  {
   "cell_type": "code",
   "execution_count": 5,
   "metadata": {},
   "outputs": [
    {
     "data": {
      "text/plain": [
       "int"
      ]
     },
     "execution_count": 5,
     "metadata": {},
     "output_type": "execute_result"
    }
   ],
   "source": [
    "a = 3\n",
    "type(a)"
   ]
  },
  {
   "cell_type": "code",
   "execution_count": 6,
   "metadata": {},
   "outputs": [
    {
     "data": {
      "text/plain": [
       "float"
      ]
     },
     "execution_count": 6,
     "metadata": {},
     "output_type": "execute_result"
    }
   ],
   "source": [
    "c = 0.5\n",
    "type(c)"
   ]
  },
  {
   "cell_type": "code",
   "execution_count": 7,
   "metadata": {},
   "outputs": [
    {
     "data": {
      "text/plain": [
       "False"
      ]
     },
     "execution_count": 7,
     "metadata": {},
     "output_type": "execute_result"
    }
   ],
   "source": [
    "test = (3 > 4)\n",
    "test"
   ]
  },
  {
   "cell_type": "code",
   "execution_count": 8,
   "metadata": {},
   "outputs": [
    {
     "data": {
      "text/plain": [
       "bool"
      ]
     },
     "execution_count": 8,
     "metadata": {},
     "output_type": "execute_result"
    }
   ],
   "source": [
    "type(test)  "
   ]
  },
  {
   "attachments": {},
   "cell_type": "markdown",
   "metadata": {},
   "source": [
    "### Osnove matematičke operacije"
   ]
  },
  {
   "attachments": {},
   "cell_type": "markdown",
   "metadata": {},
   "source": [
    "Python podržava osnovne matematičke operacije +, -, *, /, ** (umesto ^) i % (modulo). Tako da se može lako koristiti i kao kalkulator."
   ]
  },
  {
   "cell_type": "code",
   "execution_count": 9,
   "metadata": {},
   "outputs": [
    {
     "data": {
      "text/plain": [
       "21"
      ]
     },
     "execution_count": 9,
     "metadata": {},
     "output_type": "execute_result"
    }
   ],
   "source": [
    "7 * 3"
   ]
  },
  {
   "cell_type": "code",
   "execution_count": 10,
   "metadata": {},
   "outputs": [
    {
     "data": {
      "text/plain": [
       "2.3333333333333335"
      ]
     },
     "execution_count": 10,
     "metadata": {},
     "output_type": "execute_result"
    }
   ],
   "source": [
    "7/3"
   ]
  },
  {
   "cell_type": "code",
   "execution_count": 11,
   "metadata": {},
   "outputs": [
    {
     "data": {
      "text/plain": [
       "2"
      ]
     },
     "execution_count": 11,
     "metadata": {},
     "output_type": "execute_result"
    }
   ],
   "source": [
    "8 % 3"
   ]
  },
  {
   "attachments": {},
   "cell_type": "markdown",
   "metadata": {},
   "source": [
    "### Tipovi kontejnera\n",
    "\n",
    "Python sadrži mnoge efikasne tipove kontejnera, u koje se mogu čuvati kolekcije objekata.\n",
    "- `str` - niz simbola ili niska (string),\n",
    "- `list` - uređena kolekcija objekata koji mogu biti različiti tipovi,\n",
    "- `dict` - rečnici (dictionaries) koji sastavljeni od parova `ključ: vrednost` i podržavaju brzo traženje,\n",
    "- `tuple` - liste koje su nepromenljive (ne mogu da se menjaju),\n",
    "- `set` - neuređene liste unikatnih stavki."
   ]
  },
  {
   "attachments": {},
   "cell_type": "markdown",
   "metadata": {},
   "source": [
    "### Stringovi"
   ]
  },
  {
   "cell_type": "code",
   "execution_count": 12,
   "metadata": {},
   "outputs": [
    {
     "data": {
      "text/plain": [
       "str"
      ]
     },
     "execution_count": 12,
     "metadata": {},
     "output_type": "execute_result"
    }
   ],
   "source": [
    "b = 'Hello'\n",
    "type(b)"
   ]
  },
  {
   "attachments": {},
   "cell_type": "markdown",
   "metadata": {},
   "source": [
    "Stringovi podržavaju neke matematičke operacije. I sve jedno da li koristimo `'` ili `\"`."
   ]
  },
  {
   "cell_type": "code",
   "execution_count": 13,
   "metadata": {},
   "outputs": [
    {
     "data": {
      "text/plain": [
       "'Hello World!'"
      ]
     },
     "execution_count": 13,
     "metadata": {},
     "output_type": "execute_result"
    }
   ],
   "source": [
    "b + \" World!\""
   ]
  },
  {
   "cell_type": "code",
   "execution_count": 14,
   "metadata": {},
   "outputs": [
    {
     "data": {
      "text/plain": [
       "'================================================================================'"
      ]
     },
     "execution_count": 14,
     "metadata": {},
     "output_type": "execute_result"
    }
   ],
   "source": [
    "\"=\" * 80"
   ]
  },
  {
   "attachments": {},
   "cell_type": "markdown",
   "metadata": {},
   "source": [
    "Sve u Pythonu je objekat. Stringovi su takođe objekti i uključuju metode za manipulaciju stringovima.\n",
    "\n",
    "\\* Možete videti sve metode ako unesete string promenljivu zatim `.` i pritisnete  `Tab`."
   ]
  },
  {
   "cell_type": "code",
   "execution_count": 15,
   "metadata": {},
   "outputs": [
    {
     "data": {
      "text/plain": [
       "'HELLO'"
      ]
     },
     "execution_count": 15,
     "metadata": {},
     "output_type": "execute_result"
    }
   ],
   "source": [
    "b.upper()"
   ]
  },
  {
   "cell_type": "code",
   "execution_count": 16,
   "metadata": {},
   "outputs": [
    {
     "data": {
      "text/plain": [
       "'hello'"
      ]
     },
     "execution_count": 16,
     "metadata": {},
     "output_type": "execute_result"
    }
   ],
   "source": [
    "b.lower()"
   ]
  },
  {
   "cell_type": "code",
   "execution_count": 17,
   "metadata": {},
   "outputs": [
    {
     "data": {
      "text/plain": [
       "False"
      ]
     },
     "execution_count": 17,
     "metadata": {},
     "output_type": "execute_result"
    }
   ],
   "source": [
    "b.startswith(\"he\")"
   ]
  },
  {
   "cell_type": "code",
   "execution_count": 18,
   "metadata": {},
   "outputs": [
    {
     "data": {
      "text/plain": [
       "False"
      ]
     },
     "execution_count": 18,
     "metadata": {},
     "output_type": "execute_result"
    }
   ],
   "source": [
    "b.endswith(\".wav\")"
   ]
  },
  {
   "cell_type": "code",
   "execution_count": 19,
   "metadata": {},
   "outputs": [
    {
     "data": {
      "text/plain": [
       "'Hallo'"
      ]
     },
     "execution_count": 19,
     "metadata": {},
     "output_type": "execute_result"
    }
   ],
   "source": [
    "b.replace(\"e\", \"a\")"
   ]
  },
  {
   "attachments": {},
   "cell_type": "markdown",
   "metadata": {},
   "source": [
    "### Liste"
   ]
  },
  {
   "cell_type": "code",
   "execution_count": 20,
   "metadata": {},
   "outputs": [
    {
     "data": {
      "text/plain": [
       "list"
      ]
     },
     "execution_count": 20,
     "metadata": {},
     "output_type": "execute_result"
    }
   ],
   "source": [
    "colors = ['red', 'blue', 'green', 'black', 'white']\n",
    "type(colors)  "
   ]
  },
  {
   "attachments": {},
   "cell_type": "markdown",
   "metadata": {},
   "source": [
    "Indeksiranje u Pythonu je zasnovano na `0` (počinje od 0) (kao u C, ali drugačije od MATLAB-a), a `-1` predstavlja poslednji element."
   ]
  },
  {
   "cell_type": "code",
   "execution_count": 21,
   "metadata": {},
   "outputs": [
    {
     "data": {
      "text/plain": [
       "'green'"
      ]
     },
     "execution_count": 21,
     "metadata": {},
     "output_type": "execute_result"
    }
   ],
   "source": [
    "colors[2]"
   ]
  },
  {
   "cell_type": "code",
   "execution_count": 22,
   "metadata": {},
   "outputs": [
    {
     "data": {
      "text/plain": [
       "'white'"
      ]
     },
     "execution_count": 22,
     "metadata": {},
     "output_type": "execute_result"
    }
   ],
   "source": [
    "colors[-1]"
   ]
  },
  {
   "attachments": {},
   "cell_type": "markdown",
   "metadata": {},
   "source": [
    "Sečenje (ili izdvajanje podlista) se vrši preko `[start:stop]` koji daje elemente sa indeksima i kao što su: `start` ≤ `i` < `stop` (i u rasponu od početka do `stop-1`). Takođe možemo dodati korak kao treći ulaz `[start:stop:korak]`. Svi parametri sečenja su opcioni."
   ]
  },
  {
   "cell_type": "code",
   "execution_count": 23,
   "metadata": {},
   "outputs": [
    {
     "data": {
      "text/plain": [
       "['green', 'black']"
      ]
     },
     "execution_count": 23,
     "metadata": {},
     "output_type": "execute_result"
    }
   ],
   "source": [
    "colors[2:4]"
   ]
  },
  {
   "cell_type": "code",
   "execution_count": 24,
   "metadata": {},
   "outputs": [
    {
     "data": {
      "text/plain": [
       "['black', 'white']"
      ]
     },
     "execution_count": 24,
     "metadata": {},
     "output_type": "execute_result"
    }
   ],
   "source": [
    "colors[3:]"
   ]
  },
  {
   "cell_type": "code",
   "execution_count": 25,
   "metadata": {},
   "outputs": [
    {
     "data": {
      "text/plain": [
       "['red', 'blue', 'green']"
      ]
     },
     "execution_count": 25,
     "metadata": {},
     "output_type": "execute_result"
    }
   ],
   "source": [
    "colors[:3]"
   ]
  },
  {
   "cell_type": "code",
   "execution_count": 26,
   "metadata": {},
   "outputs": [
    {
     "data": {
      "text/plain": [
       "['red', 'green', 'white']"
      ]
     },
     "execution_count": 26,
     "metadata": {},
     "output_type": "execute_result"
    }
   ],
   "source": [
    "colors[::2]"
   ]
  },
  {
   "cell_type": "code",
   "execution_count": 27,
   "metadata": {},
   "outputs": [
    {
     "data": {
      "text/plain": [
       "['white', 'black', 'green', 'blue', 'red']"
      ]
     },
     "execution_count": 27,
     "metadata": {},
     "output_type": "execute_result"
    }
   ],
   "source": [
    "colors[::-1]"
   ]
  },
  {
   "attachments": {},
   "cell_type": "markdown",
   "metadata": {},
   "source": [
    "**Liste** su promenljivi objekti i mogu se menjati:"
   ]
  },
  {
   "cell_type": "code",
   "execution_count": 28,
   "metadata": {},
   "outputs": [
    {
     "data": {
      "text/plain": [
       "['yellow', 'blue', 'green', 'black', 'white']"
      ]
     },
     "execution_count": 28,
     "metadata": {},
     "output_type": "execute_result"
    }
   ],
   "source": [
    "colors[0] = 'yellow'\n",
    "colors"
   ]
  },
  {
   "attachments": {},
   "cell_type": "markdown",
   "metadata": {},
   "source": [
    "Povezivanje i sortiranje:"
   ]
  },
  {
   "cell_type": "code",
   "execution_count": 29,
   "metadata": {},
   "outputs": [
    {
     "data": {
      "text/plain": [
       "['yellow', 'blue', 'green', 'black', 'white', True, 3.1415]"
      ]
     },
     "execution_count": 29,
     "metadata": {},
     "output_type": "execute_result"
    }
   ],
   "source": [
    "colors + [True, 3.1415]"
   ]
  },
  {
   "cell_type": "code",
   "execution_count": 30,
   "metadata": {},
   "outputs": [
    {
     "data": {
      "text/plain": [
       "['black', 'blue', 'green', 'white', 'yellow']"
      ]
     },
     "execution_count": 30,
     "metadata": {},
     "output_type": "execute_result"
    }
   ],
   "source": [
    "sorted(colors)"
   ]
  },
  {
   "attachments": {},
   "cell_type": "markdown",
   "metadata": {},
   "source": [
    "Liste podržavaju mnoge metode za rad nad njima.\n",
    "\n",
    "* Opet, možete ih videti ako unesete ime liste zatim . i pritisnete `Tab`."
   ]
  },
  {
   "cell_type": "code",
   "execution_count": 31,
   "metadata": {},
   "outputs": [
    {
     "data": {
      "text/plain": [
       "['yellow', 'blue', 'green', 'black', 'white', 10]"
      ]
     },
     "execution_count": 31,
     "metadata": {},
     "output_type": "execute_result"
    }
   ],
   "source": [
    "colors.append(10)\n",
    "colors"
   ]
  },
  {
   "cell_type": "code",
   "execution_count": 32,
   "metadata": {},
   "outputs": [
    {
     "data": {
      "text/plain": [
       "10"
      ]
     },
     "execution_count": 32,
     "metadata": {},
     "output_type": "execute_result"
    }
   ],
   "source": [
    "colors.pop()"
   ]
  },
  {
   "cell_type": "code",
   "execution_count": 33,
   "metadata": {},
   "outputs": [
    {
     "data": {
      "text/plain": [
       "['yellow', 'blue', 'green', 'black', 'white']"
      ]
     },
     "execution_count": 33,
     "metadata": {},
     "output_type": "execute_result"
    }
   ],
   "source": [
    "colors"
   ]
  },
  {
   "attachments": {},
   "cell_type": "markdown",
   "metadata": {},
   "source": [
    "### Rečnici"
   ]
  },
  {
   "cell_type": "code",
   "execution_count": 34,
   "metadata": {},
   "outputs": [
    {
     "data": {
      "text/plain": [
       "{'Urosh': 5752, 'Arpad': 5578, 'Igor': 5915}"
      ]
     },
     "execution_count": 34,
     "metadata": {},
     "output_type": "execute_result"
    }
   ],
   "source": [
    "tels = {'Urosh': 5752, 'Arpad': 5578}\n",
    "tels['Igor'] = 5915\n",
    "tels"
   ]
  },
  {
   "cell_type": "code",
   "execution_count": 35,
   "metadata": {},
   "outputs": [
    {
     "data": {
      "text/plain": [
       "5578"
      ]
     },
     "execution_count": 35,
     "metadata": {},
     "output_type": "execute_result"
    }
   ],
   "source": [
    "tels['Arpad']"
   ]
  },
  {
   "cell_type": "code",
   "execution_count": 36,
   "metadata": {},
   "outputs": [
    {
     "data": {
      "text/plain": [
       "dict_keys(['Urosh', 'Arpad', 'Igor'])"
      ]
     },
     "execution_count": 36,
     "metadata": {},
     "output_type": "execute_result"
    }
   ],
   "source": [
    "tels.keys()   "
   ]
  },
  {
   "cell_type": "code",
   "execution_count": 37,
   "metadata": {},
   "outputs": [
    {
     "data": {
      "text/plain": [
       "dict_values([5752, 5578, 5915])"
      ]
     },
     "execution_count": 37,
     "metadata": {},
     "output_type": "execute_result"
    }
   ],
   "source": [
    "tels.values()   "
   ]
  },
  {
   "cell_type": "code",
   "execution_count": 38,
   "metadata": {},
   "outputs": [
    {
     "data": {
      "text/plain": [
       "dict_items([('Urosh', 5752), ('Arpad', 5578), ('Igor', 5915)])"
      ]
     },
     "execution_count": 38,
     "metadata": {},
     "output_type": "execute_result"
    }
   ],
   "source": [
    "tels.items()"
   ]
  },
  {
   "cell_type": "code",
   "execution_count": 39,
   "metadata": {},
   "outputs": [
    {
     "data": {
      "text/plain": [
       "True"
      ]
     },
     "execution_count": 39,
     "metadata": {},
     "output_type": "execute_result"
    }
   ],
   "source": [
    "'Igor' in tels"
   ]
  },
  {
   "attachments": {},
   "cell_type": "markdown",
   "metadata": {},
   "source": [
    "## 2.3 Kontrola toka "
   ]
  },
  {
   "attachments": {},
   "cell_type": "markdown",
   "metadata": {},
   "source": [
    "### `if/elif/else`\n",
    "\n",
    "Važno je da su blokovi kodova razgraničeni uvlačenjem (podrazumevano na 4 razmaka ako pritisnete Tab). Stoga u Pythonu nema potrebe enkapsulacijom koda sa {}"
   ]
  },
  {
   "cell_type": "code",
   "execution_count": 40,
   "metadata": {},
   "outputs": [
    {
     "name": "stdout",
     "output_type": "stream",
     "text": [
      "A lot\n"
     ]
    }
   ],
   "source": [
    "a = 10\n",
    "\n",
    "if a == 1:\n",
    "    print(1)\n",
    "elif a == 2:\n",
    "    print(2)\n",
    "else:\n",
    "    print('A lot')"
   ]
  },
  {
   "attachments": {},
   "cell_type": "markdown",
   "metadata": {},
   "source": [
    "`if`  se ocenjuje kao `False` za:\n",
    "\n",
    "- svaki broj koji je jednak nuli(`0`, `0.0`)\n",
    "- prazan kontejner (`list`, `dict`)\n",
    "- `False`, `None`\n",
    "\n",
    "ocenjuje se kao `True`  za sve ostalje slučajeve."
   ]
  },
  {
   "attachments": {},
   "cell_type": "markdown",
   "metadata": {},
   "source": [
    "### `for`"
   ]
  },
  {
   "cell_type": "code",
   "execution_count": 41,
   "metadata": {},
   "outputs": [
    {
     "name": "stdout",
     "output_type": "stream",
     "text": [
      "Python is cool\n",
      "Python is powerful\n",
      "Python is readable\n"
     ]
    }
   ],
   "source": [
    "for word in ('cool', 'powerful', 'readable'):\n",
    "    print(f'Python is {word}')"
   ]
  },
  {
   "attachments": {},
   "cell_type": "markdown",
   "metadata": {},
   "source": [
    "Ako nam treba indeks (redni broj):"
   ]
  },
  {
   "cell_type": "code",
   "execution_count": 42,
   "metadata": {},
   "outputs": [
    {
     "name": "stdout",
     "output_type": "stream",
     "text": [
      "0 yellow\n",
      "1 blue\n",
      "2 green\n",
      "3 black\n",
      "4 white\n"
     ]
    }
   ],
   "source": [
    "for i, item in enumerate(colors):\n",
    "    print(i, item)"
   ]
  },
  {
   "cell_type": "code",
   "execution_count": 43,
   "metadata": {},
   "outputs": [
    {
     "name": "stdout",
     "output_type": "stream",
     "text": [
      "Urosh 5752\n",
      "Arpad 5578\n",
      "Igor 5915\n"
     ]
    }
   ],
   "source": [
    "for name, tel in tels.items():\n",
    "    print(name, tel)"
   ]
  },
  {
   "cell_type": "code",
   "execution_count": 44,
   "metadata": {},
   "outputs": [
    {
     "name": "stdout",
     "output_type": "stream",
     "text": [
      "o\n",
      "e\n",
      "u\n"
     ]
    }
   ],
   "source": [
    "vowels = 'aeiouy'\n",
    "\n",
    "for i in 'powerful':\n",
    "    if i in vowels:\n",
    "        print(i)"
   ]
  },
  {
   "cell_type": "code",
   "execution_count": 45,
   "metadata": {},
   "outputs": [
    {
     "name": "stdout",
     "output_type": "stream",
     "text": [
      "1.0\n",
      "0.5\n",
      "0.25\n"
     ]
    }
   ],
   "source": [
    "a = [1, 0, 2, 4]\n",
    "\n",
    "for element in a:\n",
    "    if element == 0:\n",
    "        continue\n",
    "    print(1. / element)"
   ]
  },
  {
   "attachments": {},
   "cell_type": "markdown",
   "metadata": {},
   "source": [
    "### `While`"
   ]
  },
  {
   "cell_type": "code",
   "execution_count": 46,
   "metadata": {},
   "outputs": [
    {
     "name": "stdout",
     "output_type": "stream",
     "text": [
      "1\n",
      "2\n",
      "4\n",
      "8\n",
      "16\n",
      "32\n",
      "64\n"
     ]
    }
   ],
   "source": [
    "n = 1\n",
    "while True:\n",
    "    print(n)\n",
    "    n += n\n",
    "    if n > 100:\n",
    "        break"
   ]
  },
  {
   "attachments": {},
   "cell_type": "markdown",
   "metadata": {},
   "source": [
    "### Formiranje liste po unapred poznatom pravilu\n",
    "\n",
    "Python nudi mehanizam za kreiranje liste od druge koristeći jednu liniju.\n",
    "Ovo je moćno, ali ga je najbolje koristiti samo u slučajevima kada to ne utiče na čitljivosti koda."
   ]
  },
  {
   "cell_type": "code",
   "execution_count": 47,
   "metadata": {},
   "outputs": [
    {
     "data": {
      "text/plain": [
       "[0, 1, 4, 9, 16, 25, 36, 49, 64, 81]"
      ]
     },
     "execution_count": 47,
     "metadata": {},
     "output_type": "execute_result"
    }
   ],
   "source": [
    "squares = [i**2 for i in range(10)]\n",
    "squares"
   ]
  },
  {
   "attachments": {},
   "cell_type": "markdown",
   "metadata": {},
   "source": [
    "## 2.4 Funkcije\n",
    "Funkcije su definisane sa uvlačenjem, slično kao i blokovi kontrolnog toka."
   ]
  },
  {
   "cell_type": "code",
   "execution_count": 48,
   "metadata": {},
   "outputs": [
    {
     "name": "stdout",
     "output_type": "stream",
     "text": [
      "in test function\n"
     ]
    }
   ],
   "source": [
    "def test():\n",
    "    print('in test function')\n",
    "\n",
    "test()"
   ]
  },
  {
   "cell_type": "code",
   "execution_count": 49,
   "metadata": {},
   "outputs": [
    {
     "data": {
      "text/plain": [
       "28.273500000000002"
      ]
     },
     "execution_count": 49,
     "metadata": {},
     "output_type": "execute_result"
    }
   ],
   "source": [
    "def disk_area(radius):\n",
    "    return 3.1415 * radius**2\n",
    "disk_area(3)"
   ]
  },
  {
   "attachments": {},
   "cell_type": "markdown",
   "metadata": {},
   "source": [
    "Funkcije se mogu definisati sa obaveznim (pozicionim) argumentima i opcionim (ključna reč) argumentima."
   ]
  },
  {
   "cell_type": "code",
   "execution_count": 50,
   "metadata": {},
   "outputs": [
    {
     "data": {
      "text/plain": [
       "354.6436257832055"
      ]
     },
     "execution_count": 50,
     "metadata": {},
     "output_type": "execute_result"
    }
   ],
   "source": [
    "def speed_of_sound(temp, temp_units=\"C\"):\n",
    "    \"\"\"Calculate speed of sound for a given air temperature.\n",
    "    \n",
    "    Parameters\n",
    "    ----------\n",
    "    temp : float\n",
    "        Temperature.\n",
    "    temp_units : str, optional\n",
    "        Temperature units. \"C\" for Celsius or \"K\" for Kelvin. \n",
    "        Defaults to Celsius.\n",
    "    \n",
    "    Returns\n",
    "    -------\n",
    "    float\n",
    "        Speed in m/s.\n",
    "    \"\"\"\n",
    "    c0 = 331.22  # m/s na 0 C\n",
    "    temp0 = 273.15  # 0 C\n",
    "    if temp_units == \"C\":\n",
    "        temp += temp0  # konvertovanje u Kelvin\n",
    "    c = c0 * (temp / temp0)**0.5\n",
    "    return c\n",
    "\n",
    "speed_of_sound(40)"
   ]
  },
  {
   "cell_type": "code",
   "execution_count": 51,
   "metadata": {},
   "outputs": [
    {
     "data": {
      "text/plain": [
       "28.34202966325652"
      ]
     },
     "execution_count": 51,
     "metadata": {},
     "output_type": "execute_result"
    }
   ],
   "source": [
    "speed_of_sound(2, \"K\")"
   ]
  },
  {
   "attachments": {},
   "cell_type": "markdown",
   "metadata": {},
   "source": [
    "Funkcije imaju `doknisku` (docstring) koje mogu pomoći u korišćenju. Postoji nekoliko konvencija za njihovo formatiranje,u ovom slučaju [NumPy](https://numpydoc.readthedocs.io/en/latest/format.html#docstring-standard) standard. Za pristup pomoći funkcije možemo koristiti ?."
   ]
  },
  {
   "cell_type": "code",
   "execution_count": 52,
   "metadata": {},
   "outputs": [
    {
     "name": "stdout",
     "output_type": "stream",
     "text": [
      "\u001b[1;31mSignature:\u001b[0m \u001b[0mspeed_of_sound\u001b[0m\u001b[1;33m(\u001b[0m\u001b[0mtemp\u001b[0m\u001b[1;33m,\u001b[0m \u001b[0mtemp_units\u001b[0m\u001b[1;33m=\u001b[0m\u001b[1;34m'C'\u001b[0m\u001b[1;33m)\u001b[0m\u001b[1;33m\u001b[0m\u001b[1;33m\u001b[0m\u001b[0m\n",
      "\u001b[1;31mDocstring:\u001b[0m\n",
      "Calculate speed of sound for a given air temperature.\n",
      "\n",
      "Parameters\n",
      "----------\n",
      "temp : float\n",
      "    Temperature.\n",
      "temp_units : str, optional\n",
      "    Temperature units. \"C\" for Celsius or \"K\" for Kelvin. \n",
      "    Defaults to Celsius.\n",
      "\n",
      "Returns\n",
      "-------\n",
      "float\n",
      "    Speed in m/s.\n",
      "\u001b[1;31mFile:\u001b[0m      c:\\users\\arpik\\appdata\\local\\temp\\ipykernel_14112\\1873094235.py\n",
      "\u001b[1;31mType:\u001b[0m      function\n"
     ]
    }
   ],
   "source": [
    "speed_of_sound?"
   ]
  },
  {
   "attachments": {},
   "cell_type": "markdown",
   "metadata": {},
   "source": [
    "## 2.5 NumPy, SciPy i Matplotlib\n",
    "\n",
    "NumPy, SciPy i Matplotlib su tri najfundamentalnije biblioteke Pythona. Koriste se za numeričku obradu podataka, za mašinsko učenje i za nauku o podacima.\n",
    "\n",
    "U ovom odeljku ćemo ukratko pokazati kako da koristite neke od njihovih funkcionalnosti. Kasnije ćemo ih opširnije učiti.\n",
    "\n",
    "### NumPy nizovi (arrays)\n",
    "\n",
    "U jezgru NumPy-a su NumPy nizovi podataka - memorijski efikasni kontejneri koji obezbeđuju brze numeričke operacije.\n",
    "\n",
    "Hajde da vidimo kako možemo da ih kreiramo i kako da radimo neke osnovne manipulacije nad njima."
   ]
  },
  {
   "cell_type": "code",
   "execution_count": 53,
   "metadata": {},
   "outputs": [
    {
     "data": {
      "text/plain": [
       "array([0, 1, 2, 3])"
      ]
     },
     "execution_count": 53,
     "metadata": {},
     "output_type": "execute_result"
    }
   ],
   "source": [
    "import numpy as np\n",
    "\n",
    "a = np.array([0, 1, 2, 3])\n",
    "a"
   ]
  },
  {
   "cell_type": "code",
   "execution_count": 54,
   "metadata": {},
   "outputs": [
    {
     "data": {
      "text/plain": [
       "dtype('int32')"
      ]
     },
     "execution_count": 54,
     "metadata": {},
     "output_type": "execute_result"
    }
   ],
   "source": [
    "a.dtype"
   ]
  },
  {
   "cell_type": "code",
   "execution_count": 55,
   "metadata": {},
   "outputs": [
    {
     "data": {
      "text/plain": [
       "1"
      ]
     },
     "execution_count": 55,
     "metadata": {},
     "output_type": "execute_result"
    }
   ],
   "source": [
    "a.ndim"
   ]
  },
  {
   "cell_type": "code",
   "execution_count": 56,
   "metadata": {},
   "outputs": [
    {
     "data": {
      "text/plain": [
       "(4,)"
      ]
     },
     "execution_count": 56,
     "metadata": {},
     "output_type": "execute_result"
    }
   ],
   "source": [
    "a.shape"
   ]
  },
  {
   "cell_type": "code",
   "execution_count": 57,
   "metadata": {},
   "outputs": [
    {
     "data": {
      "text/plain": [
       "4"
      ]
     },
     "execution_count": 57,
     "metadata": {},
     "output_type": "execute_result"
    }
   ],
   "source": [
    "a.size"
   ]
  },
  {
   "attachments": {},
   "cell_type": "markdown",
   "metadata": {},
   "source": [
    "#### Kreiranje nizova"
   ]
  },
  {
   "cell_type": "code",
   "execution_count": 58,
   "metadata": {},
   "outputs": [
    {
     "data": {
      "text/plain": [
       "(array([0, 1, 2, 3, 4, 5, 6, 7, 8, 9]),\n",
       " array([1, 3, 5, 7]),\n",
       " array([0. , 0.2, 0.4, 0.6, 0.8, 1. ]),\n",
       " array([[1., 1., 1.],\n",
       "        [1., 1., 1.],\n",
       "        [1., 1., 1.]]),\n",
       " array([[0., 0.],\n",
       "        [0., 0.]]))"
      ]
     },
     "execution_count": 58,
     "metadata": {},
     "output_type": "execute_result"
    }
   ],
   "source": [
    "a = np.arange(10) # 0 .. n-1  (!)\n",
    "b = np.arange(1, 9, 2) # start, kraj (neuračunat), korak\n",
    "c = np.linspace(0, 1, 6)   # start, kraj, broj tačaka\n",
    "d = np.ones((3, 3))  # (3, 3) je n-torka(tuple)\n",
    "e = np.zeros((2, 2))\n",
    "a, b, c, d, e"
   ]
  },
  {
   "attachments": {},
   "cell_type": "markdown",
   "metadata": {},
   "source": [
    "#### Višedimenzionalni nizovi"
   ]
  },
  {
   "cell_type": "code",
   "execution_count": 59,
   "metadata": {},
   "outputs": [
    {
     "data": {
      "text/plain": [
       "array([[0, 1, 2],\n",
       "       [3, 4, 5]])"
      ]
     },
     "execution_count": 59,
     "metadata": {},
     "output_type": "execute_result"
    }
   ],
   "source": [
    "a = np.array([[0, 1, 2], [3, 4, 5]])\n",
    "a"
   ]
  },
  {
   "cell_type": "code",
   "execution_count": 60,
   "metadata": {},
   "outputs": [
    {
     "data": {
      "text/plain": [
       "2"
      ]
     },
     "execution_count": 60,
     "metadata": {},
     "output_type": "execute_result"
    }
   ],
   "source": [
    "a.ndim"
   ]
  },
  {
   "cell_type": "code",
   "execution_count": 61,
   "metadata": {},
   "outputs": [
    {
     "data": {
      "text/plain": [
       "(2, 3)"
      ]
     },
     "execution_count": 61,
     "metadata": {},
     "output_type": "execute_result"
    }
   ],
   "source": [
    "a.shape"
   ]
  },
  {
   "cell_type": "code",
   "execution_count": 62,
   "metadata": {},
   "outputs": [
    {
     "data": {
      "text/plain": [
       "6"
      ]
     },
     "execution_count": 62,
     "metadata": {},
     "output_type": "execute_result"
    }
   ],
   "source": [
    "a.size"
   ]
  },
  {
   "attachments": {},
   "cell_type": "markdown",
   "metadata": {},
   "source": [
    "### Matematičke operacije"
   ]
  },
  {
   "cell_type": "code",
   "execution_count": 63,
   "metadata": {},
   "outputs": [
    {
     "data": {
      "text/plain": [
       "[0, 1, 4, 9, 16, 25, 36, 49, 64, 81]"
      ]
     },
     "execution_count": 63,
     "metadata": {},
     "output_type": "execute_result"
    }
   ],
   "source": [
    "lis = range(10)\n",
    "[i**2 for i in lis]"
   ]
  },
  {
   "cell_type": "code",
   "execution_count": 64,
   "metadata": {},
   "outputs": [
    {
     "data": {
      "text/plain": [
       "array([ 0,  1,  4,  9, 16, 25, 36, 49, 64, 81], dtype=int32)"
      ]
     },
     "execution_count": 64,
     "metadata": {},
     "output_type": "execute_result"
    }
   ],
   "source": [
    "arr = np.arange(10)\n",
    "arr**2"
   ]
  },
  {
   "attachments": {},
   "cell_type": "markdown",
   "metadata": {},
   "source": [
    "### Matplotlib grafici\n",
    "\n",
    "Matplotlib je fleksibilna biblioteka za pravljenje grafika koja omogućava lako i brzo crtanje, kao i kvalitetnu proizvodnju za izveštaje i istraživačke radove.\n",
    "\n",
    "Da bismo omogućili interaktivno crtanje, moramo da pozovemo magičnu funkciju `%matplotlib` u IPython-u, au Jupyter Notebook-u treba da pokrenemo sledeće."
   ]
  },
  {
   "cell_type": "code",
   "execution_count": 65,
   "metadata": {},
   "outputs": [],
   "source": [
    "%matplotlib inline"
   ]
  },
  {
   "attachments": {},
   "cell_type": "markdown",
   "metadata": {},
   "source": [
    "sada uvezite biblioteku crtanja."
   ]
  },
  {
   "cell_type": "code",
   "execution_count": 66,
   "metadata": {},
   "outputs": [],
   "source": [
    "from matplotlib import pyplot as plt"
   ]
  },
  {
   "attachments": {},
   "cell_type": "markdown",
   "metadata": {},
   "source": [
    "Sada ćemo kreirati neke sinusne i kosinusne podatke."
   ]
  },
  {
   "cell_type": "code",
   "execution_count": 67,
   "metadata": {},
   "outputs": [],
   "source": [
    "x = np.linspace(0, 2*np.pi, 100)\n",
    "sin = np.sin(x)\n",
    "cos = np.cos(x)"
   ]
  },
  {
   "attachments": {},
   "cell_type": "markdown",
   "metadata": {},
   "source": [
    "Konačno možemo iscrtati podatke."
   ]
  },
  {
   "cell_type": "code",
   "execution_count": 68,
   "metadata": {},
   "outputs": [
    {
     "data": {
      "text/plain": [
       "[<matplotlib.lines.Line2D at 0x12e5b0ce910>]"
      ]
     },
     "execution_count": 68,
     "metadata": {},
     "output_type": "execute_result"
    },
    {
     "data": {
      "image/png": "[encoded data removed]",
      "text/plain": [
       "<Figure size 640x480 with 1 Axes>"
      ]
     },
     "metadata": {},
     "output_type": "display_data"
    }
   ],
   "source": [
    "plt.plot(x, sin)\n",
    "plt.plot(x, cos)"
   ]
  },
  {
   "attachments": {},
   "cell_type": "markdown",
   "metadata": {},
   "source": [
    "Možemo poboljšati grafik dodavanjem informacija i mreže."
   ]
  },
  {
   "cell_type": "code",
   "execution_count": 69,
   "metadata": {},
   "outputs": [
    {
     "data": {
      "text/plain": [
       "<matplotlib.legend.Legend at 0x12e5b05e970>"
      ]
     },
     "execution_count": 69,
     "metadata": {},
     "output_type": "execute_result"
    },
    {
     "data": {
      "image/png": "[encoded data removed]",
      "text/plain": [
       "<Figure size 640x480 with 1 Axes>"
      ]
     },
     "metadata": {},
     "output_type": "display_data"
    }
   ],
   "source": [
    "plt.plot(x, sin)\n",
    "plt.plot(x, cos)\n",
    "plt.grid()\n",
    "plt.xlabel(\"Angle [rad]\")\n",
    "plt.ylabel(\"Amplitude\")\n",
    "plt.legend([\"sine\", \"cosine\"])"
   ]
  }
 ],
 "metadata": {
  "kernelspec": {
   "display_name": "base",
   "language": "python",
   "name": "python3"
  },
  "language_info": {
   "codemirror_mode": {
    "name": "ipython",
    "version": 3
   },
   "file_extension": ".py",
   "mimetype": "text/x-python",
   "name": "python",
   "nbconvert_exporter": "python",
   "pygments_lexer": "ipython3",
   "version": "3.9.13"
  },
  "orig_nbformat": 4,
  "vscode": {
   "interpreter": {
    "hash": "17b278bc7a0163406863801e9ff328cef6bd5f7ace6571203c0c27149f313665"
   }
  }
 },
 "nbformat": 4,
 "nbformat_minor": 2
}
