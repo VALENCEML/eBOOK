{
  "cells": [
    {
      "attachments": {},
      "cell_type": "markdown",
      "id": "0d747a30",
      "metadata": {
        "id": "0d747a30"
      },
      "source": [
        "# 10.     Metrike performansi i tehnike validacije\n",
        "\n",
        "(Gjorgji Noveski, JSI, Slovenija)"
      ]
    },
    {
      "attachments": {},
      "cell_type": "markdown",
      "id": "a1875736",
      "metadata": {
        "id": "a1875736"
      },
      "source": [
        "Ocenjivanje algoritma mašinskog učenja ključni je deo bilo kog projekta. U ovom poglavlju obradićemo standardne metrike i tehnike za evaluaciju datog modela. Počnimo sa uvozom uobičajenih ML paketa."
      ]
    },
    {
      "cell_type": "code",
      "execution_count": null,
      "id": "KCrgF8CdT4EZ",
      "metadata": {
        "id": "KCrgF8CdT4EZ"
      },
      "outputs": [],
      "source": [
        "import pandas\n",
        "import numpy as np\n",
        "from sklearn.svm import SVC\n",
        "from sklearn.model_selection import train_test_split, cross_val_score\n",
        "from sklearn.metrics import confusion_matrix, ConfusionMatrixDisplay, precision_score, accuracy_score, recall_score, roc_curve, auc, RocCurveDisplay\n",
        "np.random.seed(41)"
      ]
    },
    {
      "attachments": {},
      "cell_type": "markdown",
      "id": "k-po0_ORT4Ea",
      "metadata": {
        "id": "k-po0_ORT4Ea"
      },
      "source": [
        "U ovom primeru razmatraćemo jedan uobičajeni skup podataka koji se odnosi na vrste irisa. Sadrži informacije o 3 vrste irisa, Iris-setosa, Iris-virginica, Iris-versicolor. Ima 4 karakteristike koje predstavljaju dimenzije delova cveta."
      ]
    },
    {
      "cell_type": "code",
      "execution_count": null,
      "id": "sGyVRhM2T4Eb",
      "metadata": {
        "id": "sGyVRhM2T4Eb"
      },
      "outputs": [],
      "source": [
        "flower_dataset = pandas.read_csv('https://raw.githubusercontent.com/VALENCEML/eBOOK/main/EN/10/iris.csv')\n",
        "flower_dataset.drop('Id', axis=1, inplace=True)"
      ]
    },
    {
      "cell_type": "code",
      "execution_count": null,
      "id": "fTKL_ViaT4Ec",
      "metadata": {
        "id": "fTKL_ViaT4Ec",
        "outputId": "5765cbe3-0bc6-4adb-fd04-617bd3658df0"
      },
      "outputs": [],
      "source": [
        "flower_dataset.head()"
      ]
    },
    {
      "attachments": {},
      "cell_type": "markdown",
      "id": "k1dQWqH_T4Ec",
      "metadata": {
        "id": "k1dQWqH_T4Ec"
      },
      "source": [
        "Kako bismo obučili model mašinskog učenja, podelićemo podatke na trening i test skup. Ciljna promenljiva je kolona \"Species\" (vrsta), dok će ostale 4 kolone biti ulaz u model."
      ]
    },
    {
      "cell_type": "code",
      "execution_count": null,
      "id": "KwiIGJ73T4Ed",
      "metadata": {
        "id": "KwiIGJ73T4Ed"
      },
      "outputs": [],
      "source": [
        "x = flower_dataset.iloc[:, :-1]\n",
        "y = flower_dataset.iloc[:, -1]\n",
        "x_train, x_test, y_train, y_test = train_test_split(x,y, test_size=0.4)"
      ]
    },
    {
      "cell_type": "markdown",
      "id": "qjnMyzXMT4Ee",
      "metadata": {
        "id": "qjnMyzXMT4Ee"
      },
      "source": [
        "## 10.1. Model"
      ]
    },
    {
      "attachments": {},
      "cell_type": "markdown",
      "id": "i51Gry59T4Ee",
      "metadata": {
        "id": "i51Gry59T4Ee"
      },
      "source": [
        "Model koji ćemo koristiti za obuku i predviđanje vrsta irisa je **Support Vector Machine** (mašina sa potpornim vektorima)."
      ]
    },
    {
      "cell_type": "code",
      "execution_count": null,
      "id": "KSNs1ra9T4Ef",
      "metadata": {
        "id": "KSNs1ra9T4Ef"
      },
      "outputs": [],
      "source": [
        "model = SVC(random_state=42, probability=True)\n",
        "model.fit(x_train, y_train)\n",
        "y_predicted = model.predict(x_test)"
      ]
    },
    {
      "attachments": {},
      "cell_type": "markdown",
      "id": "QsN4Ba7pT4Eg",
      "metadata": {
        "id": "QsN4Ba7pT4Eg"
      },
      "source": [
        "### 10.1.1. Generisanje matrice konfuzije"
      ]
    },
    {
      "attachments": {},
      "cell_type": "markdown",
      "id": "sy205_ZET4Eg",
      "metadata": {
        "id": "sy205_ZET4Eg"
      },
      "source": [
        "Matrica konfuzije je jedan alat koji nam pomaže da vidimo koliko dobro model radi. Dvodimenzionalna je, jedna osa predstavlja predviđenu klasu, a druga osa predstavlja stvarnu istinitu klasu. Iz nje možemo naučiti mnoge stvari i izvesti sledeće metrike:\n",
        "\n",
        "* True positive (tačno pozitivno)\n",
        "* False positive (lažno pozitivno)\n",
        "* True negative (tačno negativno)\n",
        "* False negative (lažno negativno)\n",
        "\n",
        "Ove metrike nam govore da li je uzorak podataka ispravno ili neispravno klasifikovan u pozitivnu ili negativnu klasu, respektivno. Vizuelno možemo bolje razumeti kako to funkcioniše."
      ]
    },
    {
      "cell_type": "code",
      "execution_count": null,
      "id": "TVozh0f2T4Eh",
      "metadata": {
        "id": "TVozh0f2T4Eh",
        "outputId": "0f384874-b0a4-4578-92eb-800227a6782d"
      },
      "outputs": [],
      "source": [
        "matrix = confusion_matrix(y_test, y_predicted)\n",
        "display = ConfusionMatrixDisplay(matrix, display_labels=model.classes_)\n",
        "display.plot()"
      ]
    },
    {
      "attachments": {},
      "cell_type": "markdown",
      "id": "UggUBIqTT4Ei",
      "metadata": {
        "id": "UggUBIqTT4Ei"
      },
      "source": [
        "## 10.2. Metrike\n"
      ]
    },
    {
      "attachments": {},
      "cell_type": "markdown",
      "id": "I2feoHYqT4Ei",
      "metadata": {
        "id": "I2feoHYqT4Ei"
      },
      "source": [
        "Postoji mnogo različitih metrika koje se mogu koristiti za merenje uspešnosti mašinskog modela učenja (klasifikatora). Na prvi pogled, mogu dati slične ili iste rezultate. Ali, u zavisnosti od problema sa kojim se suočavamo i podataka, neke metrike su pogodnije od drugih. U narednim delovima objasnićemo i pokazati razne metrike koje se mogu koristiti prilikom merenja uspešnosti modela mašinskog učenja. Važno je razumeti razlike između metrika. Kada pominjemo \"pozitivan primer\" mislimo na opservaciju podataka koja pripada ciljnoj klasi koju želimo da predvidimo. Na primer, ako imamo problem klasifikacije slika i trebamo klasifikovati da li slika sadrži mačku, onda se one slike koje sadrže mačku nazivaju \"pozitivni primeri\", a one koje ne sadrže, \"negativni primeri\".\n"
      ]
    },
    {
      "attachments": {},
      "cell_type": "markdown",
      "id": "cAf6ZjAbT4Ej",
      "metadata": {
        "id": "cAf6ZjAbT4Ej"
      },
      "source": [
        "## 10.3. Tačnost"
      ]
    },
    {
      "attachments": {},
      "cell_type": "markdown",
      "id": "Qo0cic0NT4Ej",
      "metadata": {
        "id": "Qo0cic0NT4Ej"
      },
      "source": [
        "Metrika tačnosti razmatra sve predikcije koje je model napravio i predstavlja deo predikcija koje je model pogodio. Što se tiče zadatka binarne klasifikacije, tačnost je deo tačnih predikcija među svim predikcijama. Važno je razumeti da, u našoj situaciji kada se bavimo skupom podataka o irisima, predviđanje da je iris tipa Iris-setosa, dok je zapravo tip irisa Iris-Virginica, ima uticaja na ovu metriku."
      ]
    },
    {
      "cell_type": "code",
      "execution_count": null,
      "id": "lkroFAzvT4El",
      "metadata": {
        "id": "lkroFAzvT4El"
      },
      "outputs": [],
      "source": [
        "accuracy = accuracy_score(y_true=y_test, y_pred=y_predicted)"
      ]
    },
    {
      "cell_type": "code",
      "execution_count": null,
      "id": "YKlPzG07T4El",
      "metadata": {
        "id": "YKlPzG07T4El",
        "outputId": "b0f692cc-1c1b-422f-853d-984303bcf8f8"
      },
      "outputs": [],
      "source": [
        "accuracy"
      ]
    },
    {
      "attachments": {},
      "cell_type": "markdown",
      "id": "lnq1Py8VT4Em",
      "metadata": {
        "id": "lnq1Py8VT4Em"
      },
      "source": [
        "### 10.3.1. Tačnost osetljiva na troškove"
      ]
    },
    {
      "attachments": {},
      "cell_type": "markdown",
      "id": "DYoO-3G1T4Em",
      "metadata": {
        "id": "DYoO-3G1T4Em"
      },
      "source": [
        "Drugi tip metrike tačnosti je tačnost osetljiva na troškove.\n",
        "\n",
        "Postoje situacije u kojima u našem skupu podataka imamo tako malo uzoraka ciljne klase u poređenju sa drugom klasom. Na primer, ako želimo da klasifikujemo da li pacijent ima rak ili ne, možda imamo skup podataka koji se sastoji od samo 100 uzoraka sa pacijentima koji imaju rak i 900 uzoraka bez raka. U ovim situacijama želimo reći algoritmu da je važnije biti u stanju da izdvoji pacijente sa rakom i da pogrešna klasifikacija njih treba da ima veću kaznu. To se postiže pomoću tačnosti osetljive na troškove. Dodeljujemo težine našim uzorcima podataka, veće težine uzorcima koji su nam važni i želimo da ih klasifikujemo."
      ]
    },
    {
      "cell_type": "code",
      "execution_count": null,
      "id": "UgShVMHGT4Em",
      "metadata": {
        "id": "UgShVMHGT4Em"
      },
      "outputs": [],
      "source": [
        "model = SVC(random_state=42, probability=True, class_weight='balanced')\n",
        "model.fit(x_train, y_train)\n",
        "y_predicted = model.predict(x_test)"
      ]
    },
    {
      "attachments": {},
      "cell_type": "markdown",
      "id": "g5LqVdOdT4En",
      "metadata": {
        "id": "g5LqVdOdT4En"
      },
      "source": [
        "Ovde treniramo model koristeći tačnost osetljivu na troškove, pružajući dodatni parametar \"class_weight\". Vrednost \"balanced\" automatski dodeljuje težine klasama obrnuto proporcionalno frekvencijama klasa."
      ]
    },
    {
      "attachments": {},
      "cell_type": "markdown",
      "id": "SVySpjXfT4En",
      "metadata": {
        "id": "SVySpjXfT4En"
      },
      "source": [
        "## 10.4. Preciznost"
      ]
    },
    {
      "attachments": {},
      "cell_type": "markdown",
      "id": "maKhjBk9T4En",
      "metadata": {
        "id": "maKhjBk9T4En"
      },
      "source": [
        "Preciznost kao metrika uzima u obzir samo jednu klasu odjednom. Cilj joj je da utvrdi koliko su naše predikcije za određenu klasu zapravo tačne. Drugim rečima, preciznost je deo tačnih predikcija među pozitivnim <u>predikcijama</u>.\n",
        "U našem scenariju, ne možemo koristiti metriku preciznosti ako želimo reći koliko dobro se model pokazao na svim klasama tipova irisa, ali možemo koristiti preciznost da kažemo koliko dobro se pokazao na svakoj klasi pojedinačno."
      ]
    },
    {
      "cell_type": "code",
      "execution_count": null,
      "id": "F9-fruJzT4En",
      "metadata": {
        "id": "F9-fruJzT4En"
      },
      "outputs": [],
      "source": [
        "precision = precision_score(y_true=y_test, y_pred=y_predicted, average=None)"
      ]
    },
    {
      "cell_type": "code",
      "execution_count": null,
      "id": "qouqbwaqT4En",
      "metadata": {
        "id": "qouqbwaqT4En",
        "outputId": "4324b2e3-95b3-4059-ba9f-78cbac5818ba"
      },
      "outputs": [],
      "source": [
        "precision"
      ]
    },
    {
      "attachments": {},
      "cell_type": "markdown",
      "id": "Z6YSrdo2T4Eo",
      "metadata": {
        "id": "Z6YSrdo2T4Eo"
      },
      "source": [
        "## 10.5. Osetljivost (Recall)"
      ]
    },
    {
      "attachments": {},
      "cell_type": "markdown",
      "id": "RcpoJ-l_T4Eo",
      "metadata": {
        "id": "RcpoJ-l_T4Eo"
      },
      "source": [
        "Osetljivost, isto kao i preciznost, uzima u obzir samo jednu klasu odjednom. Osetljivost koristimo kada želimo da vidimo koliko dobro naš model detektuje ciljnu klasu. Osetljivost je frakcija tačnih predviđanja među pozitivnim <u>primerima</u>. Kada kažemo pozitivni primeri, mislimo na ciljnu klasu za naš problem."
      ]
    },
    {
      "cell_type": "code",
      "execution_count": null,
      "id": "2DzkTWWwT4Eo",
      "metadata": {
        "id": "2DzkTWWwT4Eo",
        "outputId": "12608da9-1813-4150-b546-81d26b3b97a8"
      },
      "outputs": [],
      "source": [
        "recall = recall_score(y_true=y_test, y_pred=y_predicted, average=None)\n",
        "recall"
      ]
    },
    {
      "attachments": {},
      "cell_type": "markdown",
      "id": "cxeENiyMT4Ep",
      "metadata": {
        "id": "cxeENiyMT4Ep"
      },
      "source": [
        "## 10.6. ROC kriva"
      ]
    },
    {
      "attachments": {},
      "cell_type": "markdown",
      "id": "mYQVtzKzT4Ep",
      "metadata": {
        "id": "mYQVtzKzT4Ep"
      },
      "source": [
        "ROC (Receiver Operating Characteristic) kriva ocenjuje kvalitet klasifikatora kada klasifikator izražava verovatnoće. Na primer, umesto da klasifikator strogo izražava 1 ili 0, ako uzorak pripada ciljnoj klasi ili ne, klasifikator mora da predvidi određenu verovatnoću da uzorak pripada ciljnoj klasi. Obično je opseg verovatnoće od 0,0 (0% verovatnoće) do 1,0 (100% verovatnoće).\n",
        "\n",
        "Kada imamo verovatnoće, definišemo prag koji navodi od koje verovatnoće nadalje su svi predviđeni uzorci klasifikovani kao ciljna klasa, a drugi nisu. Menjanjem ove vrednosti praga, broj pozitivnih i negativnih primera se menja. Ako postavimo visok prag, na primer 0,9, dobićemo mali broj pozitivnih primera, ali ćemo biti sigurniji da su to tačna predviđanja. Slično tome, ako postavimo nizak prag, bićemo sigurniji da smo tačno identifikovali veći broj pozitivnih uzoraka, ali će mnogi negativni uzorci biti pogrešno klasifikovani.\n",
        "\n",
        "ROC kriva nam pomaže da pronađemo vrednost praga koja će najbolje raditi za nas."
      ]
    },
    {
      "attachments": {},
      "cell_type": "markdown",
      "id": "tpsoyac1T4Ep",
      "metadata": {
        "id": "tpsoyac1T4Ep"
      },
      "source": [
        "Pošto ROC metrika obrađuje samo maksimalno dve klase (pozitivna i negativna klasa), moraćemo da uklonimo jednu od 3 klase koje imamo u našem iris skupu podataka. Uklonićemo primere \"Iris-setosa\" i sada ćemo pokušati da utvrdimo da li je primer iz vrste \"Iris-versicolor\"."
      ]
    },
    {
      "cell_type": "code",
      "execution_count": null,
      "id": "t4SSGYQGT4Eq",
      "metadata": {
        "id": "t4SSGYQGT4Eq"
      },
      "outputs": [],
      "source": [
        "two_class_dataset = flower_dataset[flower_dataset['Species'] != \"Iris-setosa\"].copy()\n",
        "two_class_dataset['Species'] = np.where(two_class_dataset['Species'] == 'Iris-versicolor', 1, 0)"
      ]
    },
    {
      "cell_type": "code",
      "execution_count": null,
      "id": "y2o1XrtYT4Es",
      "metadata": {
        "id": "y2o1XrtYT4Es"
      },
      "outputs": [],
      "source": [
        "x = two_class_dataset.iloc[:, :-1]\n",
        "y = two_class_dataset.iloc[:, -1]\n",
        "x_train, x_test, y_train, y_test = train_test_split(x,y, test_size=0.3)"
      ]
    },
    {
      "attachments": {},
      "cell_type": "markdown",
      "id": "20c4e31c",
      "metadata": {
        "id": "20c4e31c"
      },
      "source": [
        "Verovatnoće za obe klase se vraćaju, ali pošto se obe zbrajaju do 1, možemo samo uzeti ciljnu klasu koja nas zanima."
      ]
    },
    {
      "cell_type": "code",
      "execution_count": null,
      "id": "PxKgmktlT4Es",
      "metadata": {
        "id": "PxKgmktlT4Es"
      },
      "outputs": [],
      "source": [
        "model.fit(x_train, y_train)\n",
        "y_predicted = model.predict_proba(x_test)[:,1]"
      ]
    },
    {
      "cell_type": "code",
      "execution_count": null,
      "id": "7CZKPT44T4Et",
      "metadata": {
        "id": "7CZKPT44T4Et",
        "outputId": "f7506661-63a5-4e50-a5f5-a45f695e8d76"
      },
      "outputs": [],
      "source": [
        "fpr, tpr, thresholds = roc_curve(y_test, y_predicted)\n",
        "roc_auc = auc(fpr, tpr)\n",
        "display = RocCurveDisplay(fpr=fpr, tpr=tpr, roc_auc=roc_auc, estimator_name='example estimator')\n",
        "display.plot()"
      ]
    },
    {
      "attachments": {},
      "cell_type": "markdown",
      "id": "7rV0_ieeT4Et",
      "metadata": {
        "id": "7rV0_ieeT4Et"
      },
      "source": [
        "## 10.7. Unakrsna validacija (Cross validation)"
      ]
    },
    {
      "attachments": {},
      "cell_type": "markdown",
      "id": "kez7tCzoT4Et",
      "metadata": {
        "id": "kez7tCzoT4Et"
      },
      "source": [
        "U stvarnoj upotrebi, samo obučavanje i testiranje klasifikatora na skupu podataka nije dovoljno da se garantuje da će ono što vidimo iz metrika biti stvarna performansa koju ćemo dobiti. Postoji šansa da smo imali sreće kada je funkcija za podelu podataka za obuku/testiranje podelila naše podatke. Da bismo bili sigurniji u sposobnost modela da obradi nove i neviđene podatke, možemo ga više puta validirati i izabrati vreme kada je postigao najbolje rezultate. To se naziva unakrsna validacija.\n",
        "\n",
        "K-folds unakrsna validacija razbija skup podataka na **k** manjih skupova podataka, jedan za obuku i ostale za validaciju, k puta. Nakon što se obučavanje i validacija završe, čuva rezultate validacije i ponavlja isti postupak, ali sada sa različitim podacima u skupovima podataka za obuku i validaciju. Na ovaj način, svi podaci će imati priliku da budu deo obuke i validacije.\n",
        "\n",
        "Kada podelimo skup podataka na skupove za obuku i validaciju, moramo biti sigurni da ćemo ostaviti neki deo našeg originalnog skupa podataka za testiranje. Ovi testni podaci neće biti deo ciklusa unakrsne validacije jer, nakon što izaberemo klasifikator koji je imao najbolje rezultate iz k-iteracija, želimo da ga testiramo kako bismo dobili nepristrasnu procenu konačne performanse modela."
      ]
    },
    {
      "cell_type": "code",
      "execution_count": null,
      "id": "9OSlES6hT4Et",
      "metadata": {
        "id": "9OSlES6hT4Et"
      },
      "outputs": [],
      "source": [
        "scores = cross_val_score(model, x_train, y_train, cv=5)"
      ]
    },
    {
      "cell_type": "code",
      "execution_count": null,
      "id": "fp_if73lT4Eu",
      "metadata": {
        "id": "fp_if73lT4Eu",
        "outputId": "a54d4176-7923-4227-cc1d-799bf23d6b87"
      },
      "outputs": [],
      "source": [
        "print(\"%0.2f accuracy with a standard deviation of %0.2f\" % (scores.mean(), scores.std()))"
      ]
    },
    {
      "attachments": {},
      "cell_type": "markdown",
      "id": "G_Z3jmR3T4Eu",
      "metadata": {
        "id": "G_Z3jmR3T4Eu"
      },
      "source": [
        "Za prethodni primer, izabrali smo broj nabora 5. Šta će se dogoditi sa rezultatom ako povećamo broj nabora?"
      ]
    },
    {
      "cell_type": "code",
      "execution_count": null,
      "id": "KEh9psdMT4Eu",
      "metadata": {
        "id": "KEh9psdMT4Eu"
      },
      "outputs": [],
      "source": [
        "scores = cross_val_score(model, x_train, y_train, cv=11)"
      ]
    },
    {
      "cell_type": "code",
      "execution_count": null,
      "id": "CHjmGcqJT4Ev",
      "metadata": {
        "id": "CHjmGcqJT4Ev",
        "outputId": "197834b0-1d46-4a4f-bb5b-a51733ddf965"
      },
      "outputs": [],
      "source": [
        "print(\"%0.2f accuracy with a standard deviation of %0.2f\" % (scores.mean(), scores.std()))"
      ]
    },
    {
      "cell_type": "code",
      "execution_count": null,
      "id": "46211708",
      "metadata": {
        "id": "46211708"
      },
      "outputs": [],
      "source": []
    }
  ],
  "metadata": {
    "colab": {
      "provenance": []
    },
    "kernelspec": {
      "display_name": "Python 3 (ipykernel)",
      "language": "python",
      "name": "python3"
    },
    "language_info": {
      "codemirror_mode": {
        "name": "ipython",
        "version": 3
      },
      "file_extension": ".py",
      "mimetype": "text/x-python",
      "name": "python",
      "nbconvert_exporter": "python",
      "pygments_lexer": "ipython3",
      "version": "3.9.13"
    }
  },
  "nbformat": 4,
  "nbformat_minor": 5
}
