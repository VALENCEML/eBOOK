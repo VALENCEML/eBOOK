{
 "cells": [
  {
   "attachments": {},
   "cell_type": "markdown",
   "id": "beee7905-97b2-4da3-a1ea-be7aa5c716d2",
   "metadata": {},
   "source": [
    "# 1. Radno okruženje"
   ]
  },
  {
   "attachments": {},
   "cell_type": "markdown",
   "id": "c02b4b86",
   "metadata": {},
   "source": [
    "Marija Markovska Dimitrovska, FEEIT, CMUS, Makedonija\n",
    "\n",
    "Branislav Gerazov, FEEIT, CMUS, Makedonija"
   ]
  },
  {
   "attachments": {},
   "cell_type": "markdown",
   "id": "ad8551f7",
   "metadata": {},
   "source": [
    "U ovom poglavlju naučićete kako da instalirate Jupyter Lab koji je potreban za izvođenje zadataka iz oblasti nauke o podacima i mašinskog učenja."
   ]
  },
  {
   "attachments": {},
   "cell_type": "markdown",
   "id": "c542ceba",
   "metadata": {},
   "source": [
    "## 1.1. Instaliraliranje Jupyter Lab na Windows-u,"
   ]
  },
  {
   "attachments": {},
   "cell_type": "markdown",
   "id": "148fe620",
   "metadata": {},
   "source": [
    "Najlakši način da instalirate Jupyter Lab na Windows-u je instalacijom **Anaconda**-e.\n",
    "\n",
    "Anaconda je popularna open-source distribucija programskih jezika Python i R, koja uključuje sveobuhvatan skup alata za nauku o podacima i mašinsko učenje. Pruža jednostavan grafički interfejs (**Anaconda Navigator**) i sistem za upravljanje paketima (**conda**) koji omogućava programerima da lako instaliraju, upravljaju i ažuriraju Python i R pakete i zavisnosti.\n",
    "\n",
    "Anaconda uključuje preko 1.500 paketa za nauku o podacima, mašinsko učenje i naučno računarstvo, uključujući popularne pakete kao što su **NumPy**, **pandas** i **scikit-learn**. Takođe dolazi sa **Jupyter Notebook**-om, interaktivnim veb baziranim računarskim okruženjem koje omogućava analizu podataka i vizualizaciju, i **Spyder**-om, integrisanim razvojnim okruženjem (IDE) za naučno računarstvo.\n",
    "\n",
    "Jedna od glavnih prednosti korišćenja Anaconda-e je što pojednostavljuje instalaciju i upravljanje paketima i zavisnostima, čime olakšava programerima postavljanje okruženja za nauku o podacima na lokalnom računaru ili u oblaku. Široko se koristi u industriji i akademiji.\n",
    "\n",
    "Anaconda nudi jednostavan proces instalacije za Windows, Linux i macOS."
   ]
  },
  {
   "attachments": {},
   "cell_type": "markdown",
   "id": "f90064cc-9119-40ff-8b88-0b1929353a0b",
   "metadata": {},
   "source": [
    "### 1.1.1. Instalacija Anaconda-e"
   ]
  },
  {
   "attachments": {},
   "cell_type": "markdown",
   "id": "d502fb0d",
   "metadata": {},
   "source": [
    "Da biste instalirali Anaconda-u na Windows-u, pratite ove korake:\n",
    "\n",
    "1. Preuzmite odgovarajući Anaconda instalacioni program za vaš operativni sistem sa Anaconda veb stranice: <a href=\"https://www.anaconda.com/distribution/#download-section\" title=\"Optional Title\">https://www.anaconda.com/distribution/#download-section</a>.\n",
    "\n",
    "2. Dvokliknite preuzeti fajl da pokrenete Anaconda instalacionog čarobnjaka.\n",
    "    \n",
    "3. Kada se prikazani ekran pojavi, kliknite na **Next**."
   ]
  },
  {
   "cell_type": "markdown",
   "id": "ac28b49c",
   "metadata": {},
   "source": [
    "<figure>\n",
    "<img src=\"https://raw.githubusercontent.com/VALENCEML/eBOOK/main/EN/01/InstallAnacondaStep1.png\" width=\"500px;\"/> \n",
    "</figure>"
   ]
  },
  {
   "attachments": {},
   "cell_type": "markdown",
   "id": "10351835",
   "metadata": {},
   "source": [
    "4. Pročitajte licencni ugovor i kliknite na `I Agree`. "
   ]
  },
  {
   "cell_type": "markdown",
   "id": "121de9d0",
   "metadata": {},
   "source": [
    "<figure>\n",
    "<img src=\"https://raw.githubusercontent.com/VALENCEML/eBOOK/main/EN/01/InstallAnacondaStep2.png\" width=\"500px;\"/> \n",
    "</figure>"
   ]
  },
  {
   "attachments": {},
   "cell_type": "markdown",
   "id": "f6f8a5fc",
   "metadata": {},
   "source": [
    "5. Kliknite na `Next`."
   ]
  },
  {
   "cell_type": "markdown",
   "id": "f6cad50a",
   "metadata": {},
   "source": [
    "<figure>\n",
    "<img src=\"https://raw.githubusercontent.com/VALENCEML/eBOOK/main/EN/01/InstallAnacondaStep3.png\" width=\"500px;\"/> \n",
    "</figure>"
   ]
  },
  {
   "attachments": {},
   "cell_type": "markdown",
   "id": "85ce9623",
   "metadata": {},
   "source": [
    "6. Zapamtite lokaciju instalacije i zatim kliknite na `Next`."
   ]
  },
  {
   "cell_type": "markdown",
   "id": "d6c29f5c",
   "metadata": {},
   "source": [
    "<figure>\n",
    "<img src=\"https://raw.githubusercontent.com/VALENCEML/eBOOK/main/EN/01/InstallAnacondaStep4.png\" width=\"500px;\"/> \n",
    "</figure>"
   ]
  },
  {
   "attachments": {},
   "cell_type": "markdown",
   "id": "31dbe02d",
   "metadata": {},
   "source": [
    "7. Ovo je važan korak u procesu instalacije. Preporučeni pristup je da ne označite polje za dodavanje Anaconda-e u vašu putanju. To znači da ćete morati da koristite Anaconda Navigator ili Anaconda Command Prompt (nalazi se u Start meniju pod \"Anaconda\") kada želite da koristite Anaconda-u. Ako želite da možete koristiti Anaconda-u u svom command prompt-u, morate koristiti alternativni pristup i označiti polje. Nakon izbora kliknite `install`."
   ]
  },
  {
   "cell_type": "markdown",
   "id": "f6571ce0",
   "metadata": {},
   "source": [
    "<figure>\n",
    "<img src=\"https://raw.githubusercontent.com/VALENCEML/eBOOK/main/EN/01/InstallAnacondaStep5.png\" /> \n",
    "</figure>"
   ]
  },
  {
   "attachments": {},
   "cell_type": "markdown",
   "id": "29a1e1f9",
   "metadata": {},
   "source": [
    "8. Kliknite na `Next`."
   ]
  },
  {
   "cell_type": "markdown",
   "id": "4ea9bb10",
   "metadata": {},
   "source": [
    "<figure>\n",
    "<img src=\"https://raw.githubusercontent.com/VALENCEML/eBOOK/main/EN/01/InstallAnacondaStep6.png\" width=\"500px;\"/> \n",
    "</figure>"
   ]
  },
  {
   "attachments": {},
   "cell_type": "markdown",
   "id": "f0bc738c",
   "metadata": {},
   "source": [
    "9. Kliknite na `Next`."
   ]
  },
  {
   "cell_type": "markdown",
   "id": "ec138bc6",
   "metadata": {},
   "source": [
    "<figure>\n",
    "<img src=\"https://raw.githubusercontent.com/VALENCEML/eBOOK/main/EN/01/InstallAnacondaStep7.png\" width=\"500px;\"/> \n",
    "</figure>"
   ]
  },
  {
   "attachments": {},
   "cell_type": "markdown",
   "id": "12270443",
   "metadata": {},
   "source": [
    "10. Ako želite da pročitate više o Anaconda.org i kako započeti sa Anaconda-om, kliknite na `Finish`. U suprotnom, prvo opozovite izbor za opcije „Anaconda Distribution Tutorial“ i „Learn more about Anaconda“, a zatim kliknite na `Finish`."
   ]
  },
  {
   "cell_type": "markdown",
   "id": "a1373ac6",
   "metadata": {},
   "source": [
    "<figure>\n",
    "<img src=\"https://raw.githubusercontent.com/VALENCEML/eBOOK/main/EN/01/InstallAnacondaStep8.png\" width=\"500px;\"/> \n",
    "</figure>"
   ]
  },
  {
   "attachments": {},
   "cell_type": "markdown",
   "id": "08ebfeaf",
   "metadata": {},
   "source": [
    "### 1.1.2. Kreiranje virtualnog okruženja sa conda"
   ]
  },
  {
   "attachments": {},
   "cell_type": "markdown",
   "id": "a5a536f8",
   "metadata": {},
   "source": [
    "Da biste izbegli narušavanje postojećih Python instalacija u pogledu zavisnosti, trebali biste kreirati zasebno Python radno okruženje koje će služiti kao okruženje za korišćenje JupyterLab-a. Koraci za kreiranje okruženja su sledeći:\n",
    "\n",
    "Pronađite i otvorite aplikaciju **Anaconda Prompt** pomoću polja za pretragu u Start meniju i unesite komandu:\n",
    "   \n",
    "```bash\n",
    "conda create --name valence python=3.7 -c conda-forge\n",
    "\n",
    "```\n",
    "\n",
    "Zatim aktivirajte conda okruženje.\n",
    "\n",
    "```bash\n",
    "conda activate valence\n",
    "```\n",
    "\n",
    "Radno okruženje je aktivirano. Kada je okruženje aktivno, svaki sledeći paket koji se instalira pomoću komande **conda install** biće instaliran samo u aktivnom okruženju, čime se čuvaju sve ostale Python instalacije."
   ]
  },
  {
   "attachments": {},
   "cell_type": "markdown",
   "id": "380cc0ee",
   "metadata": {},
   "source": [
    "### 1.1.3. Instalacija Jupyter Lab-a"
   ]
  },
  {
   "attachments": {},
   "cell_type": "markdown",
   "id": "48562c30",
   "metadata": {},
   "source": [
    "Da biste instalirali Jupyter Lab, možete koristiti sledeću conda komandu:\n",
    "\n",
    "```bash\n",
    "conda install -c conda-forge jupyterlab\n",
    "```\n",
    "\n",
    "Ovim se instalira Jupyter Lab i spreman je za upotrebu."
   ]
  },
  {
   "attachments": {},
   "cell_type": "markdown",
   "id": "3f049209",
   "metadata": {},
   "source": [
    "### 1.1.4. Preuzimanje materijala i otvaranje sa Jupyter Lab-om"
   ]
  },
  {
   "attachments": {},
   "cell_type": "markdown",
   "id": "80901105",
   "metadata": {},
   "source": [
    "Da biste preuzeli materijal, koristićemo komandu git, koju ćete morati instalirati pomoću conda komande:\n",
    "\n",
    "```bash\n",
    "conda install -c anaconda git \n",
    "```\n",
    "Kreirajte folder u koji ćete preuzeti materijal:\n",
    "\n",
    "```bash\n",
    "mkdir valence\n",
    "\n",
    "cd valence\n",
    "\n",
    "git clone https://github.com/VALENCEML/eBOOK.git\n",
    "\n",
    "Cloning into 'eBOOK'...\n",
    "remote: Enumerating objects: 704, done.\n",
    "remote: Counting objects: 100% (191/191), done.\n",
    "remote: Compressing objects: 100% (129/129), done.\n",
    "Rremote: Total 704 (delta 102), reused 116 (delta 60), pack-reused 513\n",
    "Receiving objects: 100% (704/704), 22.78 MiB | 1010.00 KiB/s, done.\n",
    "Resolving deltas: 100% (311/311), done.\n",
    "```\n",
    "Sada možete ući u folder gde su preuzeti materijali i možete instalirati potrebne pakete.\n",
    "\n",
    "```bash\n",
    "cd eBOOK\n",
    "\n",
    "conda install --file requirements.txt\n",
    "```\n",
    "\n",
    "Sada ste spremni da pokrenete Jupyter Lab i počnete proučavati materijal.\n",
    "\n",
    "```bash\n",
    "jupyter lab\n",
    "```"
   ]
  },
  {
   "attachments": {},
   "cell_type": "markdown",
   "id": "82646213",
   "metadata": {},
   "source": [
    "## 1.2. Instalacija Jupyter Lab-a na Linux-u"
   ]
  },
  {
   "attachments": {},
   "cell_type": "markdown",
   "id": "4308e9df-785f-4864-838a-5d2fc02b23e2",
   "metadata": {},
   "source": [
    "Svaka GNU/Linux distribucija dolazi sa sistemskom instalacijom Python-a.\n",
    "Standardni alat za instalaciju paketa u Python-u je `pip` (Python Install Package).\n",
    "\n",
    "Instalacija Python paketa sa `pip` direktno u operativni sistem nije preporučljiva zbog mogućnosti sukoba između paketa koji su instalirani na GNU/Linux operativnom sistemu.\n",
    "Da bismo izbegli ovaj problem, kao i izolaciju ekosistema od instaliranih modula svakog odvojenog projekta, prvo bismo trebali napraviti Python virtualno okruženje za naš rad.\n",
    "\n",
    "U tu svrhu koristićemo paket `mamba`.\n",
    "\n",
    "### 1.2.1. Kreiranje virtualnog okruženja sa mamba\n",
    "\n",
    "[`Mamba`](https://mamba.readthedocs.io) je moćan i brz paket za upravljanje virtualnim okruženjima u Python-u.\n",
    "Da bismo ga instalirali, moramo preuzeti instalacionu skriptu i pokrenuti je sa sledeće dve komande:\n",
    "\n",
    "```bash\n",
    "$ wget https://github.com/conda-forge/miniforge/releases/latest/download/Mambaforge-Linux-x86_64.sh\n",
    "\n",
    "$ ./Mambaforge-Linux-x86_64.sh\n",
    "```\n",
    "\n",
    "Sada ćemo kreirati virtualno okruženje:\n",
    "\n",
    "```bash\n",
    "~ $ mamba create -n valence python\n",
    "```\n",
    "\n",
    "I aktiviraćemo ga sa:\n",
    "\n",
    "```bash\n",
    "~ $ mamba activate valence\n",
    "\n",
    "(valence) ~ $\n",
    "```\n",
    "\n",
    "### 1.2.1. Instalacija Jupyter Lab-a\n",
    "\n",
    "Sada kada smo kreirali virtualno okruženje, možemo instalirati Jupyter Lab.\n",
    "\n",
    "```bash\n",
    "(valence) ~ $ mamba install jupyterlab\n",
    "```\n",
    "\n",
    "Ovim se instalira Jupyter Lab i spreman je za upotrebu.\n",
    "\n",
    "### 1.2.2. Preuzimanje materijala i otvaranje sa Jupyter Lab-om\n",
    "\n",
    "Da bismo preuzeli materijal, koristićemo komandu `git`, koju ćete morati instalirati na vašem GNU/Linux-u, ako već niste.\n",
    "U tu svrhu koristite upravitelj paketima vaše distribucije.\n",
    "Na Ubuntu i drugim Debian zasnovanim distribucijama možemo to učiniti sledećom komandom:\n",
    "\n",
    "```bash\n",
    "(valence) ~ $ sudo apt install git\n",
    "```\n",
    "\n",
    "Sada ćemo kreirati folder u koji ćemo preuzeti materijal:\n",
    "\n",
    "```bash\n",
    "(valence) ~ $ mkdir valence\n",
    "\n",
    "(valence) ~ $ cd valence\n",
    "\n",
    "(valence) ~/valence $ git clone https://github.com/VALENCEML/eBOOK.git\n",
    "Cloning into 'eBOOK'...\n",
    "remote: Enumerating objects: 639, done.\n",
    "remote: Counting objects: 100% (126/126), done.\n",
    "remote: Compressing objects: 100% (72/72), done.\n",
    "remote: Total 639 (delta 65), reused 97 (delta 52), pack-reused 513\n",
    "Receiving objects: 100% (639/639), 22.62 MiB | 2.42 MiB/s, done.\n",
    "Resolving deltas: 100% (274/274), done.\n",
    "```\n",
    "\n",
    "Sada možemo ući u folder gde smo preuzeli materijal i instalirati potrebne pakete.\n",
    "\n",
    "```bash\n",
    "(valence) ~/valence $ cd eBOOK\n",
    "\n",
    "(valence) ~/valence/eBOOK $ mamba install --file requirements.txt\n",
    "```\n",
    "\n",
    "S ovim smo spremni da pokrenemo Jupyter Lab i započnemo proučavanje materijala.\n",
    "\n",
    "```bash\n",
    "(valence) ~/valence/eBOOK $ jupyter lab\n",
    "```"
   ]
  }
 ],
 "metadata": {
  "kernelspec": {
   "display_name": "Python 3 (ipykernel)",
   "language": "python",
   "name": "python3"
  },
  "language_info": {
   "codemirror_mode": {
    "name": "ipython",
    "version": 3
   },
   "file_extension": ".py",
   "mimetype": "text/x-python",
   "name": "python",
   "nbconvert_exporter": "python",
   "pygments_lexer": "ipython3",
   "version": "3.9.13"
  }
 },
 "nbformat": 4,
 "nbformat_minor": 5
}
