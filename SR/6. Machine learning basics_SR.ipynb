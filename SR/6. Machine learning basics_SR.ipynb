{
 "cells": [
  {
   "attachments": {},
   "cell_type": "markdown",
   "metadata": {},
   "source": [
    "# 6. Osnove mašinskog učenja\n",
    "## 6.1 Šta je mašinsko učenje?\n",
    "\n",
    "Mašinsko učenje je podoblast računarskih nauka koja se bavi kreiranjem algoritama koji uče iz primera kako bi rešili praktične probleme. To podrazumeva prikupljanje skupa podataka i izgradnju statističkog modela na osnovu njega, koji će se koristiti za rešavanje problema.\n",
    "\n",
    "Jedan primer praktičnog problema koji se može rešiti pomoću mašinskog učenja je klasifikacija slika.\n",
    "<ol>\n",
    " <li>Prikuplja se skup podataka sa slikama, pri čemu je svaka slika označena svojom odgovarajućom klasom objekta (npr. pas, mačka, automobil, itd.).</li>\n",
    "<li>Algoritam se koristi za obučavanje modela na ovom skupu podataka, koji uči da prepoznaje karakteristike i obrasce koji razlikuju jednu klasu objekata od druge.</li>\n",
    "<li>Jednom obučen, model se može koristiti za klasifikaciju novih, ranije neviđenih slika u njihove ispravne klase objekata.</li>\n",
    "</ol>\n",
    "\n",
    "U ovom slučaju, model je statistički model koji se gradi na osnovu skupa označenih slika, i koristi se za klasifikaciju novih slika na osnovu naučenih karakteristika i obrazaca.\n"
   ]
  },
  {
   "attachments": {},
   "cell_type": "markdown",
   "metadata": {},
   "source": [
    "## Nadgledano učenje\n",
    "\n",
    "Nadgledano učenje je vrsta mašinskog učenja u kojoj imamo skup podataka koji uključuje i ulazne podatke i odgovarajući ispravni izlaz. Cilj je obučiti model na ovom skupu podataka, tako da može da pravi predikcije o novim, neviđenim podacima.\n",
    "\n",
    "Zamislite da imate skup podataka sa slikama životinja, i svaka slika je označena imenom životinje na slici (npr. \"pas\", \"mačka\", \"konj\"). Možemo koristiti ovaj skup podataka da obučimo model koji može uzeti novu sliku kao ulaz i predvideti koja je životinja na slici. Ovo je primer nadgledanog učenja.\n",
    "\n",
    "U nadgledanom učenju, imamo skup podataka koji uključuje primere ulaza (kao što su slike) i odgovarajuće ispravne izlaze (kao što su oznake). Koristimo algoritam da obučimo model na ovom skupu podataka, tako da može naučiti obrasce i veze između ulaza i izlaza. Kada je model obučen, možemo ga koristiti za pravljenje predikcija na novim podacima.\n",
    "\n",
    "Nadgledano učenje može se koristiti za razne zadatke, kao što su klasifikacija slika, prepoznavanje govora i obrada prirodnog jezika.\n",
    "\n",
    "U ovom slučaju, modelu se predstavlja slika i oznaka (npr. \"pas\", \"mačka\", \"konj\") koja odgovara životinji na slici, i on uči da povezuje određene karakteristike slike sa ispravnom oznakom.\n",
    "\n",
    "Tokom faze obučavanja, modelu se predstavljaju mnogi primeri slika i njihovih odgovarajućih oznaka, i on uči da prepoznaje obrasce i veze između slika i oznaka. Kada je model obučen, može uzeti novu sliku kao ulaz i predvideti oznaku (tj. životinju) koja odgovara toj slici.\n",
    "\n",
    "Sledeći primer pokazuje jednostavan primer kako se mogu predvideti neki trendovi. Algoritmi regresije će biti proučavani detaljnije u budućim poglavljima, ovo je samo za demonstracione svrhe.\n",
    "\n",
    "Koristimo algoritam linearne regresije koji nam u osnovi daje linearnu funkciju, koja u matematici izgleda ovako:\n",
    "\n",
    "**f(x) = mx + b**\n",
    "\n",
    "x - ulaz\n",
    "\n",
    "f - izlaz\n",
    "\n",
    "m - nagib\n",
    "\n",
    "b - presek\n",
    "\n",
    "Ako algoritam pruža presek i nagib, možemo proceniti izlaz za svaki ulaz."
   ]
  },
  {
   "cell_type": "code",
   "execution_count": 1,
   "metadata": {},
   "outputs": [],
   "source": [
    "import matplotlib.pyplot as plt\n",
    "import numpy as np\n",
    "from scipy import stats"
   ]
  },
  {
   "cell_type": "code",
   "execution_count": 2,
   "metadata": {},
   "outputs": [],
   "source": [
    "# Generate some sample data\n",
    "x = np.array([1, 2, 3, 4, 5])\n",
    "y = np.array([2, 4, 2, 5, 6])"
   ]
  },
  {
   "cell_type": "code",
   "execution_count": 3,
   "metadata": {},
   "outputs": [],
   "source": [
    "\n",
    "# Train the model using the sample data\n",
    "slope, intercept, _, _, _ = stats.linregress(x, y)"
   ]
  },
  {
   "attachments": {},
   "cell_type": "markdown",
   "metadata": {},
   "source": [
    "Donje crte ( _ ) označavaju da postoji povratna vrednost koja trenutno nije važna."
   ]
  },
  {
   "cell_type": "code",
   "execution_count": 4,
   "metadata": {},
   "outputs": [],
   "source": [
    "# Use the model to make predictions\n",
    "x_new = np.array([6, 7, 8])\n",
    "y_pred = intercept + slope * x_new\n",
    "\n"
   ]
  },
  {
   "cell_type": "code",
   "execution_count": 5,
   "metadata": {},
   "outputs": [
    {
     "data": {
      "image/png": "[encoded data removed]",
      "text/plain": [
       "<Figure size 640x480 with 1 Axes>"
      ]
     },
     "metadata": {},
     "output_type": "display_data"
    }
   ],
   "source": [
    "# Plot the sample data\n",
    "plt.scatter(x, y,color='blue')\n",
    "# Plot the linear regression line\n",
    "plt.scatter(x_new, y_pred, color='red')\n",
    "\n",
    "\n",
    "# Add labels and show the plot\n",
    "plt.xlabel('x')\n",
    "plt.ylabel('y')\n",
    "plt.show()"
   ]
  },
  {
   "attachments": {},
   "cell_type": "markdown",
   "metadata": {},
   "source": [
    "Plave tačke predstavljaju podatke koje smo koristili za obuku modela, dok crvene tačke predstavljaju predviđene vrednosti za ulaz [6, 7, 8].\n",
    "\n",
    "Kao što možemo videti, algoritmu smo dali kako ulazne, tako i izlazne podatke, a onda je formirao model koji nam omogućava da sada dajemo ulaze i dobijamo ispravne izlaze. To je nadgledano učenje."
   ]
  },
  {
   "attachments": {},
   "cell_type": "markdown",
   "metadata": {},
   "source": [
    "## Model i instanca\n",
    "Model je matematički prikaz sistema ili procesa. Može se koristiti za pravljenje predikcija ili odluka na osnovu podataka. Instanca je specifična pojava ili primer nečega, kao što je određeni objekat ili događaj. U kontekstu mašinskog učenja, instanca je specifičan skup ulaznih podataka koji se koristi za obučavanje ili testiranje modela.\n",
    "\n",
    "Primer modela bio bi bacanje novčića. U ovom slučaju, model bi bio matematički prikaz verovatnoće dobijanja ili glave ili pisma kada se novčić baci. Model bi bio binomna raspodela sa dva moguća ishoda: glava (G) ili pismo (P) sa verovatnoćom od 0,5 za svaki ishod. Instanca ovog modela bila bi specifično bacanje novčića, gde bi ishod (glava ili pismo) bio ulazni podatak, a model bi koristio verovatnoću od 0,5 da predvidi ishod bacanja novčića.\n",
    "\n",
    "U našem prethodnom primeru, model x je ulazni podatak y je izlaz, model je y_pred = presek + nagib * x_new, a instanca je, na primer, za ulaz 6 izlaz 7.\n"
   ]
  },
  {
   "attachments": {},
   "cell_type": "markdown",
   "metadata": {},
   "source": [
    "## Regresija\n",
    "\n",
    "Regresija je metoda predviđanja numeričke vrednosti (oznake) na osnovu skupa ulaznih karakteristika. Primer je predviđanje cene kuće na osnovu njene površine, broja spavaćih soba i lokacije. Algoritam regresije uzima skup označenih primera i stvara model koji može praviti predikcije na novim, neoznačenim primerima. Tip algoritma regresije korišćen je u prethodnom primeru."
   ]
  },
  {
   "attachments": {},
   "cell_type": "markdown",
   "metadata": {},
   "source": [
    "## Klasifikacija\n",
    "\n",
    "Klasifikacija je zadatak u mašinskom učenju u kojem se model obučava da dodeli određenu klasnu oznaku datom ulazu. Detekcija spama je primer klasifikacije, gde je model obučen da predvidi da li je e-pošta neželjena ili ne. Drugi primer bi bio klasifikacija slika, gde možemo, na primer, prepoznati različite životinje sa slika.\n",
    "\n",
    "Algoritam klasifikacije uzima kolekciju označenih primera kao ulaze i stvara model koji može uzeti neoznačeni primer kao ulaz i izvesti oznaku ili broj koji se lako može koristiti za izvođenje oznake, kao što je verovatnoća.\n",
    "\n",
    "I regresija i klasifikacija su nadgledani algoritmi, ali se regresija koristi za predviđanje numeričkih vrednosti, dok se klasifikacija koristi za predviđanje kategorija ili klasa."
   ]
  },
  {
   "attachments": {},
   "cell_type": "markdown",
   "metadata": {},
   "source": [
    "## Nenadgledano učenje"
   ]
  },
  {
   "attachments": {},
   "cell_type": "markdown",
   "metadata": {},
   "source": [
    "Nenadgledano učenje se bavi problemima u kojima vaš skup podataka nema oznake. Ovo svojstvo čini veoma problematičnim za mnoge praktične primene. Odsustvo oznaka koje predstavljaju željeno ponašanje vašeg modela znači odsustvo čvrste referentne tačke za procenu kvaliteta vašeg modela.\n",
    "\n",
    "Nenadgledano učenje je tehnika mašinskog učenja u kojoj korisnici ne moraju nadgledati model. Umesto toga, omogućava modelu da samostalno radi na otkrivanju obrazaca i informacija koje su ranije bile nedetektovane. Pretežno se bavi neoznačenim podacima.\n",
    "\n",
    "Algoritmi nenadgledanog učenja omogućavaju korisnicima izvođenje složenijih procesnih zadataka u poređenju sa nadgledanim učenjem. Iako, nenadgledano učenje može biti nepredvidljivije u poređenju sa drugim prirodnim metodama učenja.\n",
    "\n",
    "Uzmimo, na primer, nenadgledano učenje deteta koje se igra sa blokovima i otkriva kako se uklapaju da bi izgradili različite strukture. Dete ne dobija konkretne upute ili oznake za blokove, već istražuje i eksperimentiše kako bi saznalo kako se mogu koristiti. Slično tome, dete koje se igra sa različitim igračkama i otkriva kako rade i šta može da uradi s njima je primer nenadgledanog učenja. Kroz ove aktivnosti, dete može naučiti i razumeti svoju okolinu bez direktne supervizije ili vođenja.\n",
    "\n",
    "Još jedan primer je grupisanje (klasterovanje), gde bi maloprodajna kompanija mogla grupisati kupce na osnovu njihovih navika u kupovini. Algoritam bi analizirao istoriju kupovine svakog kupca i grupisao ih u različite klastere na osnovu proizvoda koje obično kupuju i učestalosti njihovih kupovina. Kompanija bi zatim mogla koristiti ove informacije da kreira ciljane marketinške kampanje za svaki klaster (grupu) kupaca.\n",
    "\n",
    "U osnovi, nenadgledano učenje je način kako ljudi uče. Dakle, ova vrsta ponašanja je bliža ljudima, pa je bliža stvarnoj veštačkoj inteligenciji. U stvarnim životnim primenama nemamo uvek označene podatke, i podaci nisu uvek kategorizovani, takođe ne svaki ulazni podatak ima odgovarajući izlaz. U tim slučajevima koristimo nenadgledano učenje.\n"
   ]
  }
 ],
 "metadata": {
  "kernelspec": {
   "display_name": "base",
   "language": "python",
   "name": "python3"
  },
  "language_info": {
   "codemirror_mode": {
    "name": "ipython",
    "version": 3
   },
   "file_extension": ".py",
   "mimetype": "text/x-python",
   "name": "python",
   "nbconvert_exporter": "python",
   "pygments_lexer": "ipython3",
   "version": "3.9.13"
  },
  "orig_nbformat": 4,
  "vscode": {
   "interpreter": {
    "hash": "17b278bc7a0163406863801e9ff328cef6bd5f7ace6571203c0c27149f313665"
   }
  }
 },
 "nbformat": 4,
 "nbformat_minor": 2
}
