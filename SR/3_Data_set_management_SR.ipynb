{
 "cells": [
  {
   "attachments": {},
   "cell_type": "markdown",
   "metadata": {},
   "source": [
    "# 3. UPRAVLJANJE SKUPOM PODATAKA\n",
    "(Tomislava Kartalov, FEEIT, CMUS, Makedonija)\n",
    "\n",
    "U ovom poglavlju naučićete kako da kreirate podatke ručno ili da ih uvezete iz postojećeg izvora, kao i kako da ih formatirate kako bi odgovarali specifičnim potrebama. Alati koji su vam potrebni su Jupyter Notebook, Python i Google Forms.\n",
    "\n",
    "Biblioteke koje ćete koristiti u ovom poglavlju su:\n",
    "\n",
    "- pandas za manipulaciju i analizu podataka,\n",
    "- numpy za matematičke funkcije višeg nivoa.\n",
    "\n",
    "\n"
   ]
  },
  {
   "cell_type": "code",
   "execution_count": null,
   "metadata": {},
   "outputs": [],
   "source": [
    "import pandas as pd\n",
    "import numpy as np"
   ]
  },
  {
   "attachments": {},
   "cell_type": "markdown",
   "metadata": {},
   "source": [
    "## 3.1 Kreiranje skupa podataka ručno\n",
    "Skup podataka može se kreirati ručno, na primer putem ankete ili glasanja. Ako skup podataka sadrži tehničke ili prirodne podatke, može se kreirati pomoću merenja, senzora, opservacija i drugih uređaja i metoda za prikupljanje podataka.\n",
    "\n",
    "Pravilna organizacija ankete, pametan izbor pitanja, uravnotežena struktura ispitanika (starost, pol, etnička pripadnost...) i anonimnost odgovora od najveće su važnosti za dobijanje korisnog skupa podataka visokog kvaliteta. Međutim, objašnjenje svih ovih kriterijuma u velikoj meri prevazilazi okvire ovog kursa. Radi jednostavnosti, uglavnom ćemo zanemariti te kriterijume i zauzvrat, ne može se tvrditi da zaključci izvedeni ovde imaju bilo kakvo značenje u stvarnom svetu. Na primer, ako sprovedete anketu u svojoj učionici o najčešće korišćenim platformama društvenih medija, možete zaključiti iz podataka da TikTok daleko nadmašuje Instagram. Međutim, ovaj rezultat bi bio pristrasan, jer bi ispitanici vaše ankete uglavnom bili tinejdžeri, a niste uključili uravnotežene starosne grupe. U stvarnom svetu, u trenutku kada je ovaj tekst napisan, Instagram je dvostruko veći od TikToka, ali TikTok dominira među mladom populacijom. Ako želite da izvučete važeće zaključke, trebali biste se opredeliti za skup podataka kreiran od strane profesionalnih tela, gde su uključeni veliki i uravnoteženi brojevi ispitanika. Sa ovom diskusijom iza nas, pogledajmo kako ručno kreirati skup podataka."
   ]
  },
  {
   "attachments": {},
   "cell_type": "markdown",
   "metadata": {},
   "source": [
    "### 3.1.1. Kreiranje skupa podataka STVARNO ručno\n",
    "Ako ste svoje podatke dobili na neki staromodan način (npr. na papiru), moraćete uneti podatke u digitalnom obliku i kreirati skup podataka ručno. Ovaj proces je spor i naporan, i, posebno ako radite sami, može se koristiti samo za vrlo male skupove podataka.\n",
    "\n",
    "Recimo da ste pitali svoje prijatelje o njihovim navikama na društvenim mrežama i sastavili ste listu poput ove:\n",
    "\n",
    "<figure>\n",
    "<img src=\"https://github.com/VALENCEML/eBOOK/raw/main/EN/03/HandWrittenList.png\" width=\"500px;\"/> \n",
    "<figcaption align = \"left\"> Rukom pisana lista </figcaption>\n",
    "</figure>\n",
    "\n",
    "Pošto ste koristili papir za prikupljanje podataka, sada biste trebali pretvoriti podatke u digitalni oblik.\n",
    "\n",
    "\n",
    "Prvo, pogledajmo unose. Čovek lako može razumeti ove podatke, ali možete primetiti nedoslednosti koje mogu zbuniti računar. Na primer, ako pokušate izračunati prosečno vreme koje vaši prijatelji provode dnevno na društvenim mrežama, ovaj skup podataka nije dobro pripremljen za takvo računanje, jer su neka vremena unešena u satima, a druga u minutima. Štaviše, ako želite da dođete do statistike upotrebe društvenih mreža, računar će smatrati da su FB i Facebook dve različite platforme, iako znate da bi ove dve vrednosti trebalo sabrati. (Isto važi i za Insta/Instagram ili YT/YouTube...). To nas podstiče da insistiramo na konzistetnim unosima, možda čak možemo pripremiti liste mogućih opcija čak i pre nego što počnemo da digitalizujemo podatke. Recimo da smo se dogovorili o sledećim pravilima:\n",
    "\n",
    "- pol će biti predstavljen velikim slovom M ili Ž\n",
    "- vreme će biti predstavljeno celim brojem u minutima (bez jedinice, samo broj)\n",
    "- platforma će biti predstavljena nizom slova, isključivo pronađenih na ovoj listi: Facebook/Instagram/YouTube/TikTok/WhatsApp/WeChat.\n",
    "\n",
    "Nakon svih ovih razmatranja, konačno možete kreirati skup podataka:"
   ]
  },
  {
   "cell_type": "code",
   "execution_count": null,
   "metadata": {},
   "outputs": [],
   "source": [
    "friends = pd.DataFrame(columns=['Name','Gender', 'Time Daily [min]', 'Platform'])"
   ]
  },
  {
   "attachments": {},
   "cell_type": "markdown",
   "metadata": {},
   "source": [
    "Skup podataka zvani \"friends\" je sad prazan. Da bismo dodali prvi red koristi se komanda 'append'"
   ]
  },
  {
   "cell_type": "code",
   "execution_count": null,
   "metadata": {},
   "outputs": [],
   "source": [
    "friends = friends.append({'Name': 'Zdravko','Gender': 'M', 'Time Daily [min]': '60',  'Platform': 'Facebook'}, ignore_index=True)"
   ]
  },
  {
   "attachments": {},
   "cell_type": "markdown",
   "metadata": {},
   "source": [
    "'append' komanda može da podrži dodavanje više redova odjednom, ali opet neko treba da iskuca sve ručno."
   ]
  },
  {
   "cell_type": "code",
   "execution_count": null,
   "metadata": {},
   "outputs": [],
   "source": [
    "friends = friends.append(pd.DataFrame({\n",
    "                'Name': ['Aleksandra','Ivan'],\n",
    "                'Gender': ['F','M'], \n",
    "                'Time Daily [min]': ['90','120'],  \n",
    "                'Platform': ['Instagram','TikTok']\n",
    "                }) , ignore_index=True)\n",
    "friends"
   ]
  },
  {
   "attachments": {},
   "cell_type": "markdown",
   "metadata": {},
   "source": [
    "Brži i pogodniji način je dodati red pomoću sledeće sintakse."
   ]
  },
  {
   "cell_type": "code",
   "execution_count": null,
   "metadata": {},
   "outputs": [],
   "source": [
    "friends.loc[len(friends.index)] = ['Artim','M', '30', 'Facebook']\n",
    "friends\n"
   ]
  },
  {
   "attachments": {},
   "cell_type": "markdown",
   "metadata": {},
   "source": [
    "Možete čak napisati i mali kod sa petljom koji vam može pomoći u poluautomatskom unošenju podataka. Pokušajte da završite gore navedenu listu ili dodajte neke svoje prijatelje u skup podataka. Dodajte najmanje još 4 osobe kako biste dobili skup podataka sa najmanje 8 zapisa (važno za buduće demonstracije, u odeljku 3.3.)."
   ]
  },
  {
   "cell_type": "code",
   "execution_count": null,
   "metadata": {},
   "outputs": [],
   "source": [
    "keepgoing = True  #initialisation\n",
    "while keepgoing:  # perform all following commands while keepgoing is True\n",
    "  Name = input(\"Name?\")\n",
    "  Gender = input(\"Gender? [M/F]\")\n",
    "  TimeD = input(\"Average time spent daily? [in minutes]\")\n",
    "  Platform = input(\"Social media platform? [Facebook/Instagram/YouTube/TikTok/WhatsApp/WeChat]\")\n",
    "  AnotherRecord = input(\"Make another entry? [y/n]\")\n",
    "  friends.loc[len(friends.index)] = [Name, Gender, TimeD, Platform]\n",
    "  if AnotherRecord == 'n':\n",
    "    keepgoing = False # when the user enters 'n', that breaks the loop\n",
    "friends"
   ]
  },
  {
   "attachments": {},
   "cell_type": "markdown",
   "metadata": {},
   "source": [
    "Sada imate svoj skup podataka. U budućim poglavljima naučićete o analiziranju i vizualizaciji podataka, ali za sada samo mali uvod:"
   ]
  },
  {
   "cell_type": "code",
   "execution_count": null,
   "metadata": {},
   "outputs": [],
   "source": [
    "from matplotlib import pyplot as plt\n",
    "counts = friends.Platform.value_counts()\n",
    "plt.pie(counts, labels=friends.Platform.value_counts().index.tolist())\n",
    "plt.title(\"Social media platforms of my friends\") "
   ]
  },
  {
   "attachments": {},
   "cell_type": "markdown",
   "metadata": {},
   "source": [
    "Vaš skup podataka postoji u okviru podataka (dataframe) (vrsta višedimenzionalne promenljive) u radnoj memoriji računara. Kada napustite ovu sesiju, svi podaci će biti izgubljeni. Ako želite da sačuvate i preuzmete podatke za buduću upotrebu, to možete učiniti sledećim komandama:"
   ]
  },
  {
   "cell_type": "code",
   "execution_count": null,
   "metadata": {},
   "outputs": [],
   "source": [
    "from google.colab import files\n",
    "friends.to_csv('friends.csv', encoding = 'utf-8-sig', index=False)\n",
    "files.download('friends.csv')"
   ]
  },
  {
   "attachments": {},
   "cell_type": "markdown",
   "metadata": {},
   "source": [
    "Nakon ovoga, skup podataka se čuva lokalno na računarskom disku, i u sledećoj sesiji možete ga uvesti i nastaviti da radite sa njim.\n",
    "\n",
    "Dodatna vežba: pokušajte da kreirate svoj skup podataka sa drugim parametrima (neke ideje: meseci rođenja, boja očiju ili kose, omiljeni muzički žanr...). Sprovedite anketu među svojim prijateljima, kreirajte skup podataka iz nje i sačuvajte ga za buduću upotrebu! Pronađite datoteku na svom računaru, otvorite je (bilo koji uređivač teksta može otvoriti csv datoteke, ili možete koristiti uređivač proračunskih tabela, poput Excela ili Calca) i pogledajte strukturu podataka unutar nje. Ako želite, u budućim demonstracijama možete raditi sa svojim podacima, ali se uverite da ima najmanje 8 zapisa, zbog kompatibilnosti.\n",
    "\n",
    "### 3.1.2. Kreiranje skupa podataka NE TAKO ručno\n",
    "Kako je pokazano u prethodnom odeljku, kreiranje skupa podataka ručnim unosom je veoma spor i naporan proces. Ipak, učeći ovo stekli ste korisne veštine za upravljanje podacima, znanje o strukturiranju podataka i potrebu za doslednošću podataka. Sada zamislite da želite proširiti svoju anketu na svoj razred ili čak na celu školu. Ručno unošenje podataka postaje gotovo nemoguće za tako velike grupe ispitanika. Rešenje za ovaj problem je korišćenje nekog onlajn obrasca ili upitnika koji se može distribuirati velikom broju ispitanika putem interneta, koristeći samo URL - koji se lako može distribuirati putem društvenih medija, ili putem chat programa kao što su Viber ili Telegram, ili tradicionalnije, putem e-pošte.\n",
    "\n",
    "Profesionalni sakupljači podataka prave svoje specijalizovane onlajn obrasce za ankete koje sprovode. Međutim, postoje i neki besplatni alati dostupni javnosti koji su takođe veoma zgodni. Jedan od najboljih i najčešće korišćenih alata za prikupljanje podataka je [**Google Forms**](https://docs.google.com/forms).\n",
    "\n",
    "\n",
    "Pokušajmo da kreiramo istu anketu iz prethodnog odeljka, koristeći Google Forms. Ako kliknete na link iznad, otvoriće se nova kartica u vašem pregledaču, početna stranica Google Forms-a, gde možete izabrati neke od šablona obrazaca ili jednostavno otvoriti prazan obrazac. Ako ste već koristili ovaj alat, vaši prethodno kreirani obrasci će se takođe pojaviti na ovoj stranici.\n",
    "\n",
    "Sada otvorite novi prazan obrazac i pojaviće se sledeći interfejs:\n",
    "\n",
    "<figure>\n",
    "<img src=\"https://github.com/VALENCEML/eBOOK/raw/main/EN/03/UntitledGoogleForm.png\" width=\"500px;\"/> \n",
    "<figcaption align = \"left\"> Prazna Google Forma </figcaption>\n",
    "</figure>\n",
    "\n",
    "U ovom intuitivnom interfejsu mogu se uneti naslov i opis obrasca, kao i pitanja. Zarad anonimnosti, zamenimo pitanje Ime iz prethodne ankete sa godinom studija. Za pitanja koja imaju ograničen broj mogućih odgovora, kao što su godine studija, Google Forms nudi različite vrste pitanja sa pruženim listama odgovora, kao što su višestruki izbor, potvrdni okviri ili padajući meniji. To olakšava obezbeđivanje doslednosti podataka (za razliku od ručnog unošenja podataka).\n",
    "\n",
    "<figure>\n",
    "<img src=\"https://github.com/VALENCEML/eBOOK/raw/main/EN/03/TitledGoogleForm.png\" width=\"500px;\"/> \n",
    "<figcaption align = \"left\"> Odgovori su ograničeni na određenu listu opcija </figcaption>\n",
    "</figure>\n",
    "\n",
    "Plus znak u desnom meniju, označen crvenom strelicom na slici, dodaje novo pitanje. Ostatak pitanja može izgledati ovako, ali slobodno eksperimentišite sa svojim idejama.\n",
    "\n",
    "<figure>\n",
    "<img src=\"https://github.com/VALENCEML/eBOOK/raw/main/EN/03/Questions2to4.png\" width=\"500px;\"/> \n",
    "<figcaption align = \"left\"> Ostala pitanja </figcaption>\n",
    "</figure>\n",
    "\n",
    "\n"
   ]
  },
  {
   "attachments": {},
   "cell_type": "markdown",
   "metadata": {},
   "source": [
    "## 3.2 Uvoz skupa podataka\n",
    "\n",
    "Ovde ćete naučiti kako da uvezete već postojeći skup podataka. Možete ih vi kreirati, drugi ljudi ili institucije, i trajno je sačuvan kao datoteka na vašem računaru ili negde na internetu. Najčešći format datoteke za čuvanje podataka je csv format, što znači Comma Separated Values (vrednosti razdvojene zarezima). Csv format ima nekoliko prednosti u odnosu na druge metode skladištenja podataka, neke od njih su njegova jednostavnost, pristupačnost kroz standardne uređivače i razumljivost (kada ga otvorite, odmah znate šta je šta). Ako ste uradili vežbu predloženu na kraju odeljka 3.1.1 i otvorili takvu datoteku nekim programom (uređivačem teksta ili tabela), već ste upoznati sa unutrašnjom strukturom tog formata datoteke. Obično je prvi red zaglavlje tabele (imena ili opisi podataka, po kolonama), a svi sledeći redovi su sami podaci, svaki deo podataka odvojen zarezom od svog okruženja.\n",
    "\n",
    "Hajde da pokušamo uvesti vaš sopstveni skup podataka koji ste ručno kreirali i sačuvali. Stavite ga u drugi dataframe, friends_imported. Vizuelno proverite da potvrdite da su to isti podaci. Postoji li razlika?"
   ]
  },
  {
   "cell_type": "code",
   "execution_count": null,
   "metadata": {},
   "outputs": [],
   "source": [
    "friends_imported = pd.read_csv('friends.csv')\n",
    "friends_imported"
   ]
  },
  {
   "cell_type": "code",
   "execution_count": null,
   "metadata": {},
   "outputs": [],
   "source": [
    "friends"
   ]
  },
  {
   "attachments": {},
   "cell_type": "markdown",
   "metadata": {},
   "source": [
    "Zapravo, POSTOJI razlika između originalnog i uvezenog okvira podataka, ali je nevidljiva ljudskom oku. Da biste je videli, pokrenite sledeće:"
   ]
  },
  {
   "cell_type": "code",
   "execution_count": null,
   "metadata": {},
   "outputs": [],
   "source": [
    "t = friends.dtypes   # this lists the types of data in each column\n",
    "t"
   ]
  },
  {
   "attachments": {},
   "cell_type": "markdown",
   "metadata": {},
   "source": [
    "Uradimo isto i za uvezeni okvir podataka:"
   ]
  },
  {
   "cell_type": "code",
   "execution_count": null,
   "metadata": {},
   "outputs": [],
   "source": [
    "t2 = friends_imported.dtypes\n",
    "t2"
   ]
  },
  {
   "attachments": {},
   "cell_type": "markdown",
   "metadata": {},
   "source": [
    "Sada, vidite li razliku? Razlog za ovo je konverzija tipa parametra Time Daily [min]. U našem okviru podataka uneli smo vremena kao tekst (uneli smo '60', a ne 60). Čuvanje u csv datoteci, a zatim ponovno čitanje, pretvorilo je vremena u brojeve, jer je pandas pretpostavio da ako je nešto napisano kao broj, trebalo bi ga čuvati kao broj. Pazite na ovo ponašanje! Kao praktično pravilo, uvek je mudro proveriti tipove vaših podataka, posebno ako ih uvozite!!! Ovoj diskusiji ćemo se vratiti u odeljku 3.3.2.1."
   ]
  },
  {
   "attachments": {},
   "cell_type": "markdown",
   "metadata": {},
   "source": [
    "Dodatna praksa: Iako se format csv najčešće koristi za skladištenje podataka, ima svoja ograničenja kada je potrebno skladištiti složenije strukture podataka. Biblioteka pandas nudi podršku za nekoliko formata skladištenja podataka, pored csv, može čitati i excel, sql, json, html i druge vrste datoteka. Pokušajte da sačuvate, a zatim pročitate svoj sopstveni skup podataka u nekom od drugih formata. U međuvremenu proverite datoteku sačuvanu na računaru i posmatrajte njenu unutrašnju strukturu.\n",
    "Evo nekoliko predloga:\n",
    "\n",
    "- dataframe.to_excel / pd.read_excel\n",
    "- dataframe.to_json / pd.read_json\n",
    "- dataframe.to_html / pd.read_html\n",
    "- dataframe.to_xml / pd.read_xml\n",
    "\n",
    "Upotreba je slična onome što ste već naučili gore, međutim, ako vam zatrebaju, detaljna uputstva možete pronaći ovde.\n",
    "\n",
    "3.2.1. Onlajn servisi za podatke\n",
    "\n",
    "U nekim slučajevima, biće nemoguće kreirati vaše sopstvene skupove podataka. Možete dobiti opsežne i profesionalno kreirane skupove podataka sa nekih od onlajn servisa za podatke. Evo nekoliko koji bi mogli biti korisni da znate:\n",
    "\n",
    "- [kaggle](https://www.kaggle.com/datasets), (razni podaci, od strane zajednice)\n",
    "- [Google Dataset](https://datasetsearch.research.google.com/), (razni podaci, od strane Google-a)\n",
    "- [Global Health](https://apps.who.int/gho/data/node.home), (podaci o zdravlju, od strane WHO)\n",
    "- [Datahub.io](https://datahub.io/collections),, (uglavnom poslovni i finansijski podaci)\n",
    "- [CrimeExplorer](https://crime-data-explorer.fr.cloud.gov/), (podaci o kriminalu, od strane FBI)\n",
    "- [EarthData](https://earthdata.nasa.gov/), (podaci o životnoj sredini, od strane NASA)\n",
    "- [CERN open data](http://opendata.cern.ch/), (podaci o česticama, od strane CERN)\n",
    "\n",
    "Neki od ovih servisa zahtevaju besplatnu registraciju (korisnički nalog), dok su drugi dostupni bez registracije."
   ]
  },
  {
   "attachments": {},
   "cell_type": "markdown",
   "metadata": {},
   "source": [
    "## 3.3. Upravljanje skupom podataka\n",
    "Sada znate kako kreirati, sačuvati i uvesti svoje podatke. Pre nego što se upustite u analitiku i obradu, trebali biste znati još nekoliko osnovnih stvari o upravljanju svojim skupom podataka.\n",
    "\n",
    "3.3.1. Pristupanje odabranim delovima podataka\n",
    "Za referencu, ovde je prikazan ceo skup podataka ponovo:"
   ]
  },
  {
   "cell_type": "code",
   "execution_count": null,
   "metadata": {},
   "outputs": [],
   "source": [
    "friends"
   ]
  },
  {
   "attachments": {},
   "cell_type": "markdown",
   "metadata": {},
   "source": [
    "Prva kolona bez imena iznad je indeksna kolona. Da biste pristupili određenom zapisu iz skupa podataka, može se koristiti operator loc. Ovaj operator radi sa indeksom traženog zapisa."
   ]
  },
  {
   "cell_type": "code",
   "execution_count": null,
   "metadata": {},
   "outputs": [],
   "source": [
    "friends.loc[3]"
   ]
  },
  {
   "attachments": {},
   "cell_type": "markdown",
   "metadata": {},
   "source": [
    "Ako vam nisu potrebni svi podaci za taj zapis, već samo jedan deo informacije, možete to navesti:"
   ]
  },
  {
   "cell_type": "code",
   "execution_count": null,
   "metadata": {},
   "outputs": [],
   "source": [
    "friends.loc[3,'Platform']"
   ]
  },
  {
   "attachments": {},
   "cell_type": "markdown",
   "metadata": {},
   "source": [
    "Takođe, može se pristupiti istovremeno više indeksa, uređeno ili proizvoljno:"
   ]
  },
  {
   "cell_type": "code",
   "execution_count": null,
   "metadata": {},
   "outputs": [],
   "source": [
    "friends.loc[2:4]"
   ]
  },
  {
   "cell_type": "code",
   "execution_count": null,
   "metadata": {},
   "outputs": [],
   "source": [
    "friends.loc[{0,6,4,7}]"
   ]
  },
  {
   "attachments": {},
   "cell_type": "markdown",
   "metadata": {},
   "source": [
    "Gornji primeri pokazuju kako pristupiti podacima po redovima. Ako treba pristupiti kolonama, na primer, želite da vidite sva imena u skupu podataka, onda:"
   ]
  },
  {
   "cell_type": "code",
   "execution_count": null,
   "metadata": {},
   "outputs": [],
   "source": [
    "friends['Name']"
   ]
  },
  {
   "attachments": {},
   "cell_type": "markdown",
   "metadata": {},
   "source": [
    "Za izvlačenje više kolona iz skupa podataka treba koristiti listu - vitičaste zagrade {}."
   ]
  },
  {
   "cell_type": "code",
   "execution_count": null,
   "metadata": {},
   "outputs": [],
   "source": [
    "friends[{'Gender','Platform'}]"
   ]
  },
  {
   "attachments": {},
   "cell_type": "markdown",
   "metadata": {},
   "source": [
    "Ponekad ne znate indeks zapisa koji želite da vidite, ali znate neke druge informacije. U tom slučaju, umesto broja kao indeksa, možete koristiti logički kriterijum."
   ]
  },
  {
   "cell_type": "code",
   "execution_count": null,
   "metadata": {},
   "outputs": [],
   "source": [
    "friends['Name']=='Ivan'"
   ]
  },
  {
   "attachments": {},
   "cell_type": "markdown",
   "metadata": {},
   "source": [
    "Ako koristite ovaj izlaz kao indeks, operator loc će vam dati samo zapise gde je uslov tačan."
   ]
  },
  {
   "cell_type": "code",
   "execution_count": null,
   "metadata": {},
   "outputs": [],
   "source": [
    "friends.loc[friends['Name']=='Ivan']"
   ]
  },
  {
   "attachments": {},
   "cell_type": "markdown",
   "metadata": {},
   "source": [
    "Ovaj trik možete koristiti i za filtriranje skupa podataka. Na primer, hajde da vidimo ko koristi TikTok:"
   ]
  },
  {
   "cell_type": "code",
   "execution_count": null,
   "metadata": {},
   "outputs": [],
   "source": [
    "friends.loc[friends['Platform']=='TikTok']"
   ]
  },
  {
   "attachments": {},
   "cell_type": "markdown",
   "metadata": {},
   "source": [
    "Primetite kako u svim ovim slučajevima dobijate podskupove originalnog skupa podataka. Svaki od njih nasleđuje originalne indekse, te se može koristiti kao zaseban skup podataka ako je potrebno. U tu svrhu, odabrani podskup može biti dodeljen novom okviru podataka.\n",
    "Vežba: isprobajte svoje ideje za prikazivanje samo podskupova podataka i za filtriranje podataka pomoću različitih kriterijuma."
   ]
  },
  {
   "attachments": {},
   "cell_type": "markdown",
   "metadata": {},
   "source": [
    "3.3.2. Menjanje podataka\n",
    "Kada savladate tehnike pristupanja podacima, menjanje podataka je vrlo jednostavno. Menjanje podataka je samo dodeljivanje nove vrednosti odabranom podatku. Hajde da probamo zameniti jedan zapis (npr. indeks = 4) drugim.\n",
    "\n",
    "Pristupanje (selekcija) zapisu:"
   ]
  },
  {
   "cell_type": "code",
   "execution_count": null,
   "metadata": {},
   "outputs": [],
   "source": [
    "friends.loc[4]"
   ]
  },
  {
   "attachments": {},
   "cell_type": "markdown",
   "metadata": {},
   "source": [
    "I dodeljivanje nove vrednosti(-i) odabranom zapisu:"
   ]
  },
  {
   "cell_type": "code",
   "execution_count": null,
   "metadata": {},
   "outputs": [],
   "source": [
    "friends.loc[4] = ['Maryna','F','80','Instagram']\n",
    "friends"
   ]
  },
  {
   "attachments": {},
   "cell_type": "markdown",
   "metadata": {},
   "source": [
    "Ako treba promeniti samo jednu vrednost, primenjuju se svi gore navedeni kriterijumi za selekciju. Menjanje vrednosti u fiksnom redu (poznati indeks):"
   ]
  },
  {
   "cell_type": "code",
   "execution_count": null,
   "metadata": {},
   "outputs": [],
   "source": [
    "friends.loc[4, 'Time Daily [min]'] = '120'\n",
    "friends"
   ]
  },
  {
   "attachments": {},
   "cell_type": "markdown",
   "metadata": {},
   "source": [
    "Menjanje vrednosti u redu na osnovu pravila (nepoznati indeks):"
   ]
  },
  {
   "cell_type": "code",
   "execution_count": null,
   "metadata": {},
   "outputs": [],
   "source": [
    "friends.loc[friends['Name']=='Maryna', 'Name'] = 'Marina'  # actually, this is \"find and replace\" function!\n",
    "friends"
   ]
  },
  {
   "attachments": {},
   "cell_type": "markdown",
   "metadata": {},
   "source": [
    "Koristite ovo mudro, jer ne postoji dugme \"undo\"! Ako se pravilo ispunjava za više redova, svi će biti izmenjeni!"
   ]
  },
  {
   "cell_type": "code",
   "execution_count": null,
   "metadata": {},
   "outputs": [],
   "source": [
    "friends2 = friends.copy()  # first, let's copy the data in another dataframe...\n",
    "friends2.loc[friends2['Gender']=='M', 'Name'] = 'Oliver'  # ...because this command practically destroys the data! (Unless you are sure that all the males are actually named Oliver!)\n",
    "friends2"
   ]
  },
  {
   "attachments": {},
   "cell_type": "markdown",
   "metadata": {},
   "source": [
    "Vežba: Da li ste napravili neke greške kada ste ručno uneli podatke o svojim prijateljima? Možda je neko slovo slučajno upalo u brojeve? Ili ste možda napisali \"M<\" za pol? Pokušajte da očistite podatke i ispravite sve greške tako što ćete menjati okvir podataka!\n",
    "\n",
    "3.3.2.1. Podešavanje tipa podataka\n",
    "Kreirani okvir podataka sadrži neke brojeve. Hajde da pokušamo napraviti neki izračun sa njima, npr. da dobijemo prosečno dnevno vreme na društvenim mrežama za sve učesnike ankete."
   ]
  },
  {
   "cell_type": "code",
   "execution_count": null,
   "metadata": {},
   "outputs": [],
   "source": [
    "friends['Time Daily [min]'].mean()\n"
   ]
  },
  {
   "attachments": {},
   "cell_type": "markdown",
   "metadata": {},
   "source": [
    "Da li mislite da je ovaj broj tačan? Možete ga proveriti ručnim izračunavanjem, koristeći ceo dataframe."
   ]
  },
  {
   "cell_type": "code",
   "execution_count": null,
   "metadata": {},
   "outputs": [],
   "source": [
    "friends"
   ]
  },
  {
   "attachments": {},
   "cell_type": "markdown",
   "metadata": {},
   "source": [
    "Očigledno postoje neki problemi sa ovim izračunavanjem. Sada ćemo pokušati isti izračun sa uvezenim dataframe-om:"
   ]
  },
  {
   "cell_type": "code",
   "execution_count": null,
   "metadata": {},
   "outputs": [],
   "source": [
    "friends_imported['Time Daily [min]'].mean()"
   ]
  },
  {
   "attachments": {},
   "cell_type": "markdown",
   "metadata": {},
   "source": [
    "Ovaj broj izgleda tačno. Problem sa izračunatom prosečnom vremenom iz originalnog dataframe-a je u tipu podataka kolone 'Time Daily [min]'"
   ]
  },
  {
   "cell_type": "code",
   "execution_count": null,
   "metadata": {},
   "outputs": [],
   "source": [
    "t = friends.dtypes\n",
    "t"
   ]
  },
  {
   "attachments": {},
   "cell_type": "markdown",
   "metadata": {},
   "source": [
    "Zato što smo vreme u minutima uneli kao tekst, oni su sačuvani kao nizovi karaktera. '60' minuta nije broj 60, već karakteri '6' i '0', što zbunjuje izračunavanje i daje takav nelogičan broj. Rešenje ovog problema je konverzija (kasting) svih dnevnih vremena u skupu podataka u brojeve. To se može izvesti pomoću:"
   ]
  },
  {
   "cell_type": "code",
   "execution_count": null,
   "metadata": {},
   "outputs": [],
   "source": [
    "friends['Time Daily [min]'] = friends['Time Daily [min]'].apply(pd.to_numeric)\n",
    "t = friends.dtypes\n",
    "t"
   ]
  },
  {
   "attachments": {},
   "cell_type": "markdown",
   "metadata": {},
   "source": [
    "Sada ćemo pokušati ponovo:"
   ]
  },
  {
   "cell_type": "code",
   "execution_count": null,
   "metadata": {},
   "outputs": [],
   "source": [
    "friends['Time Daily [min]'].mean()"
   ]
  },
  {
   "attachments": {},
   "cell_type": "markdown",
   "metadata": {},
   "source": [
    "Da li ovaj broj izgleda kao vaš ručni izračun?\n",
    "\n",
    "Ako je potrebna konverzija u suprotnom smeru (brojevi u tekst), tada naredba postaje:"
   ]
  },
  {
   "cell_type": "code",
   "execution_count": null,
   "metadata": {},
   "outputs": [],
   "source": [
    "friends['Time Daily [min]'] = friends['Time Daily [min]'].apply(str)\n",
    "t = friends.dtypes\n",
    "t\n"
   ]
  },
  {
   "attachments": {},
   "cell_type": "markdown",
   "metadata": {},
   "source": [
    "Isti rezultat se može postići ako se tekstualna vrednost dodeli nekom numeričkom polju u dataframe-u, tada će pandas automatski konvertovati polje u string. Međutim, ovaj pristup nije preporučljiv, jer mala nepažnja može dovesti do haotičnih tipova podataka u skupu podataka."
   ]
  },
  {
   "attachments": {},
   "cell_type": "markdown",
   "metadata": {},
   "source": [
    "3.3.3. Brisanje (dela) podataka\n",
    "Ponekad su delovi dataframe-a više nisu potrebni ili ih treba isključiti iz dalje analize. Jedan način za to je izbor relevantnog dela dataframe-a i dodeljivanje drugom (novom) dataframe-u, ali u nekim slučajevima jednostavnije rešenje je brisanje nepotrebnih podataka."
   ]
  },
  {
   "cell_type": "code",
   "execution_count": null,
   "metadata": {},
   "outputs": [],
   "source": [
    "friends2 = friends.copy()   # don't destroy the original data set, make a new one\n",
    "friends2"
   ]
  },
  {
   "attachments": {},
   "cell_type": "markdown",
   "metadata": {},
   "source": [
    "Za delimično brisanje podataka koristi se operator drop.\n",
    "Brisanje fiksne stavke (poznat indeks):"
   ]
  },
  {
   "cell_type": "code",
   "execution_count": null,
   "metadata": {},
   "outputs": [],
   "source": [
    "friends2.drop([5])"
   ]
  },
  {
   "attachments": {},
   "cell_type": "markdown",
   "metadata": {},
   "source": [
    "Primetite kako originalni indeksi ostaju. Skup podataka se ne indeksira ponovo nakon uklanjanja zapisa.\n",
    "Brisanje više zapisa:"
   ]
  },
  {
   "cell_type": "code",
   "execution_count": null,
   "metadata": {},
   "outputs": [],
   "source": [
    "friends2.drop([0, 3, 7])"
   ]
  },
  {
   "attachments": {},
   "cell_type": "markdown",
   "metadata": {},
   "source": [
    "Primetite da je red sa indeksom=5 sada ponovo u podacima. To je zato što je prethodni rezultat izvršen na sigurnoj kopiji dataframe-a, a ne na samom dataframe-u. Pošto ste već kopirali originalne podatke, možete izvršiti trajno brisanje u samom dataframe-u, koristeći operator inplace."
   ]
  },
  {
   "cell_type": "code",
   "execution_count": null,
   "metadata": {},
   "outputs": [],
   "source": [
    "friends2.drop([0, 3, 7],inplace=True)\n",
    "friends2 # note that now the result must be explicitly printed, to see it"
   ]
  },
  {
   "attachments": {},
   "cell_type": "markdown",
   "metadata": {},
   "source": [
    "Brisanje po pravilu (nepoznat indeks):\n"
   ]
  },
  {
   "cell_type": "code",
   "execution_count": null,
   "metadata": {},
   "outputs": [],
   "source": [
    "friends2.drop(friends2[friends2['Gender']=='F'].index, inplace=True)   # remove all females from the data \n",
    "friends2"
   ]
  },
  {
   "attachments": {},
   "cell_type": "markdown",
   "metadata": {},
   "source": [
    "Uklanjanje kolone/a:"
   ]
  },
  {
   "cell_type": "code",
   "execution_count": null,
   "metadata": {},
   "outputs": [],
   "source": [
    "friends2 = friends.copy()   # bring back the data\n",
    "friends2"
   ]
  },
  {
   "attachments": {},
   "cell_type": "markdown",
   "metadata": {},
   "source": [
    "Parametar axis=1 mora biti naveden za brisanje kolone. Takođe se može navesti za brisanje redova (axis=0), ali ako nije naveden, pretpostavka je da se brišu redovi."
   ]
  },
  {
   "cell_type": "code",
   "execution_count": null,
   "metadata": {},
   "outputs": [],
   "source": [
    "friends2.drop(['Name'], axis=1, inplace=True)  # making the data set anonimous\n",
    "friends2"
   ]
  },
  {
   "attachments": {},
   "cell_type": "markdown",
   "metadata": {},
   "source": [
    "Vežba: Pokušajte da uklonite sve zapise ljudi koji su proveli manje od prosečnog vremena na društvenim mrežama."
   ]
  },
  {
   "attachments": {},
   "cell_type": "markdown",
   "metadata": {},
   "source": [
    "3.3.4. Kombinovanje podataka\n",
    "U nekim situacijama, podaci iz više izvora treba da se kombinuju u jedan skup podataka. Da bismo simulirali takav scenario, pokrenite sledeće:"
   ]
  },
  {
   "cell_type": "code",
   "execution_count": null,
   "metadata": {},
   "outputs": [],
   "source": [
    "friends1 = friends.copy()  \n",
    "friends2 = friends.copy()  \n",
    "friends1.drop([0, 2, 5],inplace=True)\n",
    "friends2.drop([1, 3, 7],inplace=True)\n",
    "friends1\n"
   ]
  },
  {
   "cell_type": "code",
   "execution_count": null,
   "metadata": {},
   "outputs": [],
   "source": [
    "friends2"
   ]
  },
  {
   "attachments": {},
   "cell_type": "markdown",
   "metadata": {},
   "source": [
    "Sada imate dva različita skupa podataka. Operator concat spaja ova dva skupa u jedan."
   ]
  },
  {
   "cell_type": "code",
   "execution_count": null,
   "metadata": {},
   "outputs": [],
   "source": [
    "friends_all = pd.concat([friends1, friends2])\n",
    "friends_all"
   ]
  },
  {
   "attachments": {},
   "cell_type": "markdown",
   "metadata": {},
   "source": [
    "Primetite kako je redosled indeksa narušen, i novi skup podataka ima nejedinstvene indekse. To nije problem za operacije sa podacima, ali morate biti vrlo pažljivi, jer sada više zapisa može imati isti indeks.\n",
    "Ako želite da novi skup podataka izgradi svoje nove indekse, treba da koristite prekidač ignore_index:"
   ]
  },
  {
   "cell_type": "code",
   "execution_count": null,
   "metadata": {},
   "outputs": [],
   "source": [
    "friends_all = pd.concat([friends1, friends2], ignore_index = True)\n",
    "friends_all"
   ]
  },
  {
   "attachments": {},
   "cell_type": "markdown",
   "metadata": {},
   "source": [
    "Ili, ako želite zadržati stare indekse, ali i dalje želite jedinstveno dostupne zapise, možete dodati još jedan indeks, sa većim hijerarhijskim značajem od starog."
   ]
  },
  {
   "cell_type": "code",
   "execution_count": null,
   "metadata": {},
   "outputs": [],
   "source": [
    "friends_all = pd.concat([friends1, friends2], keys=['fr1','fr2'])\n",
    "friends_all"
   ]
  },
  {
   "attachments": {},
   "cell_type": "markdown",
   "metadata": {},
   "source": [
    "Sada je svaki zapis jedinstveno dostupan i može mu se dodeliti jedinstvena vrednost:"
   ]
  },
  {
   "cell_type": "code",
   "execution_count": null,
   "metadata": {},
   "outputs": [],
   "source": [
    "friends_all.loc['fr1'].loc[4,'Platform'] = 'TikTok'\n",
    "friends_all.loc['fr2'].loc[4,'Platform'] = 'Instagram'\n",
    "friends_all"
   ]
  },
  {
   "attachments": {},
   "cell_type": "markdown",
   "metadata": {},
   "source": [
    "Šta ako skupovi podataka imaju različite strukture? Pretpostavimo da imate dva skupa podataka, jedan je o prisustvu na društvenim medijima, a drugi o rezultatima testova. Dva skupa podataka imaju neke preklapajuće zapise, ali su drugi različiti. Da bismo ilustrovali takav scenario, prvo izvršite sledeće promene na friends2:"
   ]
  },
  {
   "cell_type": "code",
   "execution_count": null,
   "metadata": {},
   "outputs": [],
   "source": [
    "friends2['Time Daily [min]'] = friends2['Time Daily [min]'].apply(pd.to_numeric)\n",
    "friends2 = friends2.rename(columns={'Time Daily [min]':'Test Score'}) # renaming the column\n",
    "friends2['Test Score'] = friends2['Test Score'] + 48   # changing the values in column, to be different from the previous (just for visual appearance)\n",
    "friends2"
   ]
  },
  {
   "attachments": {},
   "cell_type": "markdown",
   "metadata": {},
   "source": [
    "Sada kombinacija dva skupa podataka rezultira sa:"
   ]
  },
  {
   "cell_type": "code",
   "execution_count": null,
   "metadata": {},
   "outputs": [],
   "source": [
    "friends_all = pd.concat([friends1, friends2])\n",
    "friends_all"
   ]
  },
  {
   "attachments": {},
   "cell_type": "markdown",
   "metadata": {},
   "source": [
    "Primetite NaN.Ovi su parametri koji nisu dostupni u spojenom skupu podataka predstavljeni su kao NaN.\n",
    "Ovaj rezultat je donekle upotrebljiv, ali da bismo zaista spojili podatke, potrebno je napraviti još nekoliko koraka. Prvo, pronađimo zapise koji postoje u oba početna skupa podataka."
   ]
  },
  {
   "cell_type": "code",
   "execution_count": null,
   "metadata": {},
   "outputs": [],
   "source": [
    "friends_common = friends1.merge(friends2,on=['Name','Gender','Platform'])  # assume that Name, Gender and Platform would be same in both data sets, because those are the same people.\n",
    "friends_common"
   ]
  },
  {
   "attachments": {},
   "cell_type": "markdown",
   "metadata": {},
   "source": [
    "Zatim, izbrisati te zapise iz spojenog skupa podataka. Jedno po jedno, sva imena iz friends_common se proveravaju u friends_all i svi zapisi sa tim imenom se brišu."
   ]
  },
  {
   "cell_type": "code",
   "execution_count": null,
   "metadata": {},
   "outputs": [],
   "source": [
    "for i in range (len(friends_common.index)):   \n",
    "  friends_all.drop(friends_all[friends_all['Name']==friends_common.loc[i,'Name']].index, inplace=True)  # try to analyze and understand this code, multiple concepts of selecting, deleting and assigning are used in the same row!\n",
    "friends_all"
   ]
  },
  {
   "attachments": {},
   "cell_type": "markdown",
   "metadata": {},
   "source": [
    "Na kraju, zajednička imena treba dodati ostatku podataka:\n",
    "\n"
   ]
  },
  {
   "cell_type": "code",
   "execution_count": null,
   "metadata": {},
   "outputs": [],
   "source": [
    "friends_all = pd.concat([friends_all, friends_common],ignore_index=True)\n",
    "friends_all"
   ]
  },
  {
   "attachments": {},
   "cell_type": "markdown",
   "metadata": {},
   "source": [
    "Podaci su potpuno spojeni, i za ljude koji postoje u oba skupa podataka, zapisi su potpuno popunjeni.\n",
    "\n",
    "Vežba: iz skupa podataka friends_all izdvojite sve zapise koji ne sadrže podatke za 'Time Daily [min]', u zaseban dataframe. Zatim postavite rezultate testova kao vremena (promenom naziva i brisanjem kolona) i dodajte te zapise nazad u skup podataka friends_all, na dno tabele."
   ]
  }
 ],
 "metadata": {
  "kernelspec": {
   "display_name": "base",
   "language": "python",
   "name": "python3"
  },
  "language_info": {
   "codemirror_mode": {
    "name": "ipython",
    "version": 3
   },
   "file_extension": ".py",
   "mimetype": "text/x-python",
   "name": "python",
   "nbconvert_exporter": "python",
   "pygments_lexer": "ipython3",
   "version": "3.9.13"
  },
  "orig_nbformat": 4,
  "vscode": {
   "interpreter": {
    "hash": "17b278bc7a0163406863801e9ff328cef6bd5f7ace6571203c0c27149f313665"
   }
  }
 },
 "nbformat": 4,
 "nbformat_minor": 2
}
