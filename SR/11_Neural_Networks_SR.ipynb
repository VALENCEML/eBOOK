{
  "cells": [
    {
      "attachments": {},
      "cell_type": "markdown",
      "id": "4e952632",
      "metadata": {
        "id": "4e952632"
      },
      "source": [
        "# 11. Neuralne mreže"
      ]
    },
    {
      "cell_type": "markdown",
      "id": "50b5f4ac-fc78-4b46-a665-b4d1fb4765c9",
      "metadata": {
        "id": "50b5f4ac-fc78-4b46-a665-b4d1fb4765c9"
      },
      "source": [
        "Branislav Gerazov, FEEIT, CMUS"
      ]
    },
    {
      "attachments": {},
      "cell_type": "markdown",
      "id": "243ad81d-8b82-4474-8f66-a8ed47b65ef2",
      "metadata": {
        "id": "243ad81d-8b82-4474-8f66-a8ed47b65ef2"
      },
      "source": [
        "Jedan od najpoznatijih modela za mašinsko učenje, koji je osnova dubokog učenja, su **veštačke neuralne mreže (NN)**.\n",
        "U ovom poglavlju naučićete više o osnovnim gradivnim jedinicama neuralnih mreža - veštačkim neuronima."
      ]
    },
    {
      "attachments": {},
      "cell_type": "markdown",
      "id": "df5a7eff",
      "metadata": {
        "id": "df5a7eff"
      },
      "source": [
        "## 11.0. Biološki neuroni\n",
        "\n",
        "**Nervne ćelije** ili **neuroni** su osnovne gradivne jedinice nervnog sistema.\n",
        "Za razliku od drugih ćelija u telu, neuroni se karakterišu pobuđivošću, osetljivošću i provodljivošću.\n",
        "Ove karakteristike su u skladu sa njihovom specifičnom funkcijom.\n",
        "\n",
        "Struktura neurona prikazana je na slici 1 i sadrži:\n",
        "- telo nervne ćelije ili neurocit,\n",
        "- dendrite (ulazi), i\n",
        "- nervno vlakno ili akson (izlaz)."
      ]
    },
    {
      "attachments": {},
      "cell_type": "markdown",
      "id": "5a8b11a3-e9f6-487b-8690-0f80e9f15f46",
      "metadata": {
        "id": "5a8b11a3-e9f6-487b-8690-0f80e9f15f46"
      },
      "source": [
        "<img align=\"middle\" alt=\"Šema biološkog neurona\" src=\"https://github.com/VALENCEML/eBOOK/blob/main/EN/11/11_neuron_bio.png?raw=1\" width=\"600px\" style=\"display:block; margin-left: auto; margin-right: auto;\">"
      ]
    },
    {
      "attachments": {},
      "cell_type": "markdown",
      "id": "b964afec-9da6-432f-8c45-93702ce8f798",
      "metadata": {
        "id": "b964afec-9da6-432f-8c45-93702ce8f798"
      },
      "source": [
        "**Slika 1.** Struktura bioloških neurona..\n",
        "\n",
        "\\* [Wikimedia - Neuron](https://commons.wikimedia.org/wiki/File:Neuron.svg)"
      ]
    },
    {
      "attachments": {},
      "cell_type": "markdown",
      "id": "fdc8ac22-b52d-4f19-aa37-b9f479bcd51c",
      "metadata": {
        "id": "fdc8ac22-b52d-4f19-aa37-b9f479bcd51c"
      },
      "source": [
        "Za poređenje, slika 2 prikazuje neokortikalni piramidalni neuron obojen Golgijevom metodom.\n",
        "Mogu se videti brojni dendriti koji izlaze, zapravo vodeći do neurocita."
      ]
    },
    {
      "cell_type": "markdown",
      "id": "7fbb501b-d898-428e-b3c4-e3d4919d0f1b",
      "metadata": {
        "id": "7fbb501b-d898-428e-b3c4-e3d4919d0f1b"
      },
      "source": [
        "<img align=\"middle\" alt=\"Biological neuron microscope\" src=\"https://github.com/VALENCEML/eBOOK/blob/main/EN/11/11_neuron_microscope.jpg?raw=1\" width=\"400px\" style=\"display:block; margin-left: auto; margin-right: auto;\">"
      ]
    },
    {
      "attachments": {},
      "cell_type": "markdown",
      "id": "9d4de9a9-3e56-49fc-9178-825f82b733d4",
      "metadata": {
        "id": "9d4de9a9-3e56-49fc-9178-825f82b733d4"
      },
      "source": [
        "**Slika 2.** Ljudski neuron viđen kroz mikroskop.\n",
        "\\* [Wikimedia - GolgiStainedPyramidalCell](https://commons.wikimedia.org/wiki/File:GolgiStainedPyramidalCell.jpg)"
      ]
    },
    {
      "attachments": {},
      "cell_type": "markdown",
      "id": "c14c1817-2929-4c54-a042-3d15edc1feaa",
      "metadata": {
        "id": "c14c1817-2929-4c54-a042-3d15edc1feaa"
      },
      "source": [
        "Osnovna funkcija neurona je da odgovori na pobuđivanje svojih ulaza generisanjem nervnih impulsa (akcionih potencijala).\n",
        "Pobuđivanja mogu biti pozitivna (ekscitatorna) - ona koja povećavaju električnu polarizaciju neurona, i negativna (inhibitorna) - ona koja smanjuju njegovu polarizaciju.\n",
        "\n",
        "Kada zbir pobuđivanja premaši prag napona, u neuronu će doći do brze promene potencijala (depolarizacija), koja će se širiti duž izlaznog aksona u formi nervnog impulsa.\n",
        "Na kraju neurona, ovaj impuls igra ulogu pobuđivanja za drugi neuron, mišićno vlakno, itd."
      ]
    },
    {
      "cell_type": "markdown",
      "id": "96885f99-8b9b-4497-a79f-52eb66e408ed",
      "metadata": {
        "id": "96885f99-8b9b-4497-a79f-52eb66e408ed"
      },
      "source": [
        "<img align=\"middle\" alt=\"Neuron integration\" src=\"https://github.com/VALENCEML/eBOOK/blob/main/EN/11/11_neuron_integration.jpg?raw=1\" width=\"700px\" style=\"display:block; margin-left: auto; margin-right: auto;\">"
      ]
    },
    {
      "attachments": {},
      "cell_type": "markdown",
      "id": "e6045253-ca23-4ab7-9339-6c95e8be3313",
      "metadata": {
        "id": "e6045253-ca23-4ab7-9339-6c95e8be3313"
      },
      "source": [
        "**Slika 3.** Sumiranje pobuđivanja u telu neurona.\n",
        "\n",
        "\\* [Wikimedia - Post Synaptic Potential Summation](https://commons.wikimedia.org/wiki/File:1224_Post_Synaptic_Potential_Summation.jpg)"
      ]
    },
    {
      "attachments": {},
      "cell_type": "markdown",
      "id": "51321d68-92cf-4b89-92ba-ebd78ea79f5e",
      "metadata": {
        "id": "51321d68-92cf-4b89-92ba-ebd78ea79f5e"
      },
      "source": [
        "## 11.1.  Veštački neuron"
      ]
    },
    {
      "attachments": {},
      "cell_type": "markdown",
      "id": "f754914c-6a6d-4444-a639-45725f96effe",
      "metadata": {
        "id": "f754914c-6a6d-4444-a639-45725f96effe"
      },
      "source": [
        "Osnovna građevinska jedinica neuronskih mreža je veštački neuron, čija funkcija je inspirisana fiziologijom bioloških neurona.\n",
        "Dalje u tekstu ćemo govoriti samo o veštačkim neuronima.\n",
        "\n",
        "Svaki neuron ima $K$ ulaza koji primaju ulazni vektor $\\mathbf{x} = [x_0, x_1, ... , x_{K-1}]$.\n",
        "Ulazi neurona se skaliraju koeficijentima težine ili težinama $w_k$, koje mogu biti negativne.\n",
        "Aktivacija neurona $a$ se dobija sumiranjem skaliranih ulaza plus dodavanje pristrasnosti (bias) $b$.\n",
        "\n",
        "$$\n",
        "a = \\sum_{k=0}^{K-1}w_k x_k + b = \\mathbf{w} \\mathbf{x}^T + b\n",
        "$$\n",
        "\n",
        "Ovde je, $\\mathbf{w} = [w_0, w_1, ... \\, w_{K-1}]$  vektor težina ovog neurona.\n",
        "\n",
        "Konačno, izlaz neurona $y$ određuje izlazna nelinearnost $f(a)$, takođe nazvana aktivaciona funkcija. Pristrasnost $b$ odgovara pragu izlazne nelinearnosti.\n",
        "\n",
        "$$\n",
        "y = f(a) = f(\\sum_{k=0}^{K-1}w_k x_k + b) = f(\\mathbf{w} \\mathbf{x}^T + b)\n",
        "$$\n",
        "\n"
      ]
    },
    {
      "cell_type": "markdown",
      "id": "3524511b-e80d-4f75-bcff-48a207d46450",
      "metadata": {
        "id": "3524511b-e80d-4f75-bcff-48a207d46450"
      },
      "source": [
        "<img align=\"middle\" alt=\"Software neuron\" src=\"https://github.com/VALENCEML/eBOOK/blob/main/EN/11/11_software_neuron.png?raw=1\" width=\"400px\" style=\"display:block; margin-left: auto; margin-right: auto;\">"
      ]
    },
    {
      "attachments": {},
      "cell_type": "markdown",
      "id": "dc48ae85-1565-40cc-9ac8-5ae150b45609",
      "metadata": {
        "id": "dc48ae85-1565-40cc-9ac8-5ae150b45609"
      },
      "source": [
        "Slika 4. Šematski prikaz softverskog neurona. Težina $w_1$ je pozitivna, $w_2$ je takođe pozitivna, ali veća, dok je $w_3$ jednaka $w_1$, ali negativna."
      ]
    },
    {
      "attachments": {},
      "cell_type": "markdown",
      "id": "6e316803-fac8-4685-a1af-ec7e578f9bf6",
      "metadata": {
        "id": "6e316803-fac8-4685-a1af-ec7e578f9bf6"
      },
      "source": [
        "Ako se na ulaz neurona dovede niz od $N$ uzoraka ulaznih podataka $\\mathbf{x}_n$, imaćemo:\n",
        "$$\n",
        "y_n = f(a_n) = f(\\mathbf{w} \\mathbf{x}_n^T + b) \\quad \\text{for} \\,\\, n = 0, 1, 2, ... \\, N -1 \\, ,\n",
        "$$\n",
        "\n",
        "$$\n",
        "\\mathbf{y} = f(\\mathbf{a}) = f(\\mathbf{w} \\mathbf{X}^T + b) \\,\n",
        "$$\n",
        "\n",
        "\n",
        "Ovde $\\mathbf{X}$ označava matricu u čijim su redovima postavljeni ulazni uzorci $\\mathbf{x}_n$.\n",
        "\n",
        "Regresioni modeli zasnovani na upotrebi jednog neurona nazivaju se linearna regresija, dok se oni za klasifikaciju nazivaju logistička regresija."
      ]
    },
    {
      "attachments": {},
      "cell_type": "markdown",
      "id": "86e43035-fc31-4714-b4d2-d5f07d8d9cb5",
      "metadata": {
        "id": "86e43035-fc31-4714-b4d2-d5f07d8d9cb5"
      },
      "source": [
        "## 11.2. Implementacija veštačkog neurona\n",
        "\n",
        "Implementirajmo veštački neuron pomoću Python-a."
      ]
    },
    {
      "cell_type": "code",
      "execution_count": null,
      "id": "6210e20f",
      "metadata": {
        "id": "6210e20f"
      },
      "outputs": [],
      "source": [
        "import numpy as np\n",
        "\n",
        "\n",
        "class Neuron:\n",
        "    def __init__(self, weights=None, bias=None, n_inputs=None):\n",
        "        if weights is not None:\n",
        "            self.weights = weights\n",
        "            self.bias = bias\n",
        "        else:\n",
        "            self.weights = np.random.normal(size=n_inputs)\n",
        "            self.bias = np.random.normal()\n",
        "\n",
        "    def __call__(self, x):\n",
        "        a = np.sum(self.weights * x) + self.bias\n",
        "        y = 1 if a > 0 else 0\n",
        "        return y"
      ]
    },
    {
      "attachments": {},
      "cell_type": "markdown",
      "id": "bb125165",
      "metadata": {
        "id": "bb125165"
      },
      "source": [
        "Ovim kodom smo definisali novu `Neuron` klasu za koju smo kreirali inicijalizacionu funkciju, takozvani konstruktor (`__init__`), i funkciju koju će neuron izvršavati kada ga pozovemo (`__call__`).\n",
        "\n",
        "Inicijalizujmo jedan neuron sa dva ulaza sa koeficijentima težine `1` i pristrasnošću (bias) od `-1`."
      ]
    },
    {
      "cell_type": "code",
      "execution_count": null,
      "id": "8459be27",
      "metadata": {
        "id": "8459be27",
        "outputId": "17fcdb1a-1701-4e6d-ccdf-ad831816353f"
      },
      "outputs": [],
      "source": [
        "neuron = Neuron([1, 1], -1)\n",
        "print(neuron.weights, neuron.bias)"
      ]
    },
    {
      "attachments": {},
      "cell_type": "markdown",
      "id": "22251458",
      "metadata": {
        "id": "22251458"
      },
      "source": [
        "Da bismo videli koju logičku funkciju naš neuron izvršava, definisaćemo matricu ulaza kombinacija logičkih 0 i 1 i ispisati izlaz neurona:"
      ]
    },
    {
      "cell_type": "code",
      "execution_count": null,
      "id": "9146eb4c",
      "metadata": {
        "id": "9146eb4c",
        "outputId": "58e86247-9a6d-4296-ddb9-3c57be94a445"
      },
      "outputs": [],
      "source": [
        "xs = np.array([\n",
        "    [0, 0],\n",
        "    [0, 1],\n",
        "    [1, 0],\n",
        "    [1, 1],\n",
        "    ])\n",
        "for x in xs:\n",
        "    print(x, \"->\", neuron(x))"
      ]
    },
    {
      "attachments": {},
      "cell_type": "markdown",
      "id": "5f26ca1c",
      "metadata": {
        "id": "5f26ca1c"
      },
      "source": [
        "Vidimo da neuron izvršava logičku funkciju `AND`.\n",
        "\n",
        "Vežba: Inicijalizujte neuron sa težinama `-1` i pristrasnošću (bias) `1`. Koju logičku funkciju ovaj neuron izvršava?"
      ]
    },
    {
      "attachments": {},
      "cell_type": "markdown",
      "id": "b1ab2028-5a22-4881-968d-3e24e3d90acc",
      "metadata": {
        "id": "b1ab2028-5a22-4881-968d-3e24e3d90acc"
      },
      "source": [
        "## 11.3. Obučavanje neurona\n",
        "\n",
        "Kao eksperiment, inicijalizujmo neuron sa nasumičnim težinama i pristrasnošću i vidimo koju logičku funkciju će izvršiti.\n",
        "Prvo ćemo postaviti stanje generatora slučajnih brojeva na `42` za ponovljivost rezultata."
      ]
    },
    {
      "cell_type": "code",
      "execution_count": null,
      "id": "522aff80",
      "metadata": {
        "id": "522aff80",
        "outputId": "cf5d863c-8f1d-4dac-da9a-911a28500c35"
      },
      "outputs": [],
      "source": [
        "np.random.seed(42)\n",
        "neuron = Neuron(n_inputs=2)\n",
        "print(neuron.weights, neuron.bias)\n",
        "\n",
        "for x in xs:\n",
        "    print(x, \"->\", neuron(x))"
      ]
    },
    {
      "attachments": {},
      "cell_type": "markdown",
      "id": "196fdd56",
      "metadata": {
        "id": "196fdd56"
      },
      "source": [
        "Vidimo da nasumično inicijalizovan neuron neprestano izlazi `1` na svom izlazu, tj. ne izvršava nikakvu logičku funkciju.\n",
        "\n",
        "U stvari, neuroni u veštačkim neuronskim mrežama se uvek inicijalizuju nasumično, a tek onda se obučavaju da nauče neku logičku ili neku drugu funkciju, npr. prepoznavanje rukom pisanih cifara."
      ]
    },
    {
      "attachments": {},
      "cell_type": "markdown",
      "id": "25cd20e4-8512-4cdf-9943-e98ea6ffd75a",
      "metadata": {
        "id": "25cd20e4-8512-4cdf-9943-e98ea6ffd75a"
      },
      "source": [
        "### Gradijentni spust\n",
        "\n",
        "Problem obučavanja neuronskih mreža se svodi na promenu težina i pristrasnosti svakog od neurona u pravcu smanjenja greške koju mreža pravi.\n",
        "Jedan način za to je primenom algoritma gradijentnog spusta (GS), koji je iterativni algoritam za pronalaženje minimuma zadate funkcije.\n",
        "\n",
        "Da bismo primenili ovaj algoritam učenja, definišemo **funkciju gubitka** $\\mathcal{L}(y, \\tilde{y})$ koja zavisi od **stvarne vrednosti**, tj. ciljnog izlaza $y$ i izlaza dobijenog iz mreže $\\tilde{y}$, koji zauzvrat zavisi od parametara neuronske mreže $\\mathbf{\\theta}$ i ulaznog vektora $\\mathbf{x}$.\n",
        "Dakle, kako bismo dostigli minimum funkcije $\\mathcal{L}$, potrebno je promeniti $l$-ti parametar na iteraciji $i$ označen sa $\\theta_l^i$, u pravcu suprotnom od gradijenta:\n",
        "\n",
        "$$\n",
        "   \\theta_l^{i+1} = \\theta_l^i - \\frac{\\partial \\mathcal{L}}{\\partial \\theta_l} \\cdot \\eta\n",
        "       \\quad \\, ,\n",
        "$$\n",
        "\n",
        "gde je $\\frac{\\partial \\mathcal{L}}{\\partial \\theta_l}$ parcijalni izvod funkcije gubitka u odnosu na parametar $\\theta_l$, a $\\eta$ označava veličinu koraka koju preduzimamo u pravcu ka minimumu funkcije gubitka, što se naziva stopa učenja."
      ]
    },
    {
      "cell_type": "markdown",
      "id": "d8154061-988d-426d-a32e-25a9e272efcb",
      "metadata": {
        "id": "d8154061-988d-426d-a32e-25a9e272efcb"
      },
      "source": [
        "<img align=\"middle\" alt=\"Gradient descend\" src=\"https://github.com/VALENCEML/eBOOK/blob/main/EN/11/11_gradient_descend.png?raw=1\" width=\"600px\" style=\"display:block; margin-left: auto; margin-right: auto;\" >"
      ]
    },
    {
      "attachments": {},
      "cell_type": "markdown",
      "id": "c0bacda3-4965-4738-a0db-6d92ff5fbcad",
      "metadata": {
        "id": "c0bacda3-4965-4738-a0db-6d92ff5fbcad"
      },
      "source": [
        "Slika 5. Ilustracija algoritma gradijentnog spusta."
      ]
    },
    {
      "attachments": {},
      "cell_type": "markdown",
      "id": "74404cdb-724c-43d5-b0b7-14e21149b7e6",
      "metadata": {
        "id": "74404cdb-724c-43d5-b0b7-14e21149b7e6"
      },
      "source": [
        "U primeru sa slike 5, parametar $\\theta$ neuronske mreže se nasumično inicijalizuje na vrednost $\\theta_0$. Pošto je u ovoj tački funkcija gubitka $\\mathcal{L}$ strmoglava, gradijent će biti pozitivan, pa će vrednost $\\theta$ biti smanjena za veću vrednost. U sledećoj iteraciji, gradijent je ponovo pozitivan, ali manji, pa će $\\theta$ biti smanjen, ali za manju vrednost, i tako dalje dok ne dostigne svoju konačnu vrednost $\\theta_6$.\n",
        "\n",
        "U neuronskim mrežama koje se sastoje od slojeva neurona, računanje gradijenta za ažuriranje parametara $\\theta$ počinje na izlazu mreže i računa se prema ulaznim slojevima.\n",
        "Zbog toga se izračunavanje gradijenta naziva **povratno širenje** (backpropagation)."
      ]
    },
    {
      "attachments": {},
      "cell_type": "markdown",
      "id": "f56c121e-7a53-4215-b884-6ad7af37c070",
      "metadata": {
        "id": "f56c121e-7a53-4215-b884-6ad7af37c070"
      },
      "source": [
        "## 11.4. Implementacija obučavanja neurona\n",
        "\n",
        "Da bismo mogli da obučavamo naš neuron, implementiraćemo funkciju `backprop()` za izračunavanje gradijenta funkcije gubitka u odnosu na dve težine i pristrasnost (bias).\n",
        "Takođe ćemo implementirati funkciju` update()` za promenu parametara neurona prema izračunatom gradijentu i brzini učenja.\n",
        "Na kraju, implementiraćemo funkciju `fit()` koju možemo pozvati da obučimo neuron."
      ]
    },
    {
      "cell_type": "code",
      "execution_count": null,
      "id": "044d3f85",
      "metadata": {
        "id": "044d3f85"
      },
      "outputs": [],
      "source": [
        "class Neuron:\n",
        "    def __init__(self, weights=None, bias=None, n_inputs=None):\n",
        "        if weights is not None:\n",
        "            self.weights = weights\n",
        "            self.bias = bias\n",
        "        else:\n",
        "            self.weights = np.random.normal(size=n_inputs)\n",
        "            self.bias = np.random.normal()\n",
        "\n",
        "    def __call__(self, x):\n",
        "        a = np.sum(self.weights * x) + self.bias\n",
        "        y = 1 if a > 0 else 0\n",
        "        return y\n",
        "\n",
        "    def backprop(self, loss, x):\n",
        "        # loss = y - y_pred = y - (sum(w * x) + b)\n",
        "        self.grad_weights = - loss * x\n",
        "        self.grad_bias = - loss\n",
        "\n",
        "    def update(self):\n",
        "        self.weights = self.weights - self.grad_weights * self.learn_rate\n",
        "        self.bias = self.bias - self.grad_bias * self.learn_rate\n",
        "\n",
        "    def fit(self, xs, ys, epochs=20, learn_rate=0.1, verbose=True):\n",
        "        self.learn_rate = learn_rate\n",
        "        for epoch in range(epochs):\n",
        "            if verbose:\n",
        "                print(f\"{epoch + 1}/{epochs} loss = \", end=\"\")\n",
        "            epoch_loss = 0\n",
        "            for x, y in zip(xs, ys):\n",
        "                y_pred = self(x)\n",
        "                loss = y - y_pred\n",
        "                self.backprop(loss, x)\n",
        "                self.update()\n",
        "                epoch_loss += loss\n",
        "            if verbose:\n",
        "                print(epoch_loss / x.shape[0])"
      ]
    },
    {
      "attachments": {},
      "cell_type": "markdown",
      "id": "3c2c0af6",
      "metadata": {
        "id": "3c2c0af6"
      },
      "source": [
        "Upotrebimo ove funkcije da obučimo neuron koji smo dobili nasumičnim inicijalizovanjem parametara neurona.\n",
        "U tu svrhu definisaćemo željeni izlaz `ys` za svaki red tabele kombinacija ulaza `xs`.\n",
        "To će predstavljati funkciju koju želimo da naš neuron nauči, i zajedno sa tabelom ulaza činiće obučavajući skup."
      ]
    },
    {
      "cell_type": "code",
      "execution_count": null,
      "id": "b9bb6172",
      "metadata": {
        "id": "b9bb6172",
        "outputId": "32d7ad6b-7e54-4615-9539-5ff9532e7850"
      },
      "outputs": [],
      "source": [
        "np.random.seed(42)\n",
        "neuron = Neuron(n_inputs=2)\n",
        "print(neuron.weights, neuron.bias)\n",
        "for x in xs:\n",
        "    print(x, \"->\", neuron(x))\n",
        "\n",
        "ys = np.array([0, 0, 0, 1])  # AND"
      ]
    },
    {
      "attachments": {},
      "cell_type": "markdown",
      "id": "95af9c73",
      "metadata": {
        "id": "95af9c73"
      },
      "source": [
        "Sada smo spremni da obučimo naš neuron sledećom komandom:"
      ]
    },
    {
      "cell_type": "code",
      "execution_count": null,
      "id": "1a4cbab0",
      "metadata": {
        "id": "1a4cbab0",
        "outputId": "9d1a84d2-ee05-440f-d9c2-41058460ff79"
      },
      "outputs": [],
      "source": [
        "neuron.fit(xs, ys)"
      ]
    },
    {
      "attachments": {},
      "cell_type": "markdown",
      "id": "9547bf03",
      "metadata": {
        "id": "9547bf03"
      },
      "source": [
        "Možemo videti kako greška opada i konvergira ka 0 tokom procesa obučavanja.\n",
        "Da bismo proverili rezultate obučavanja, možemo koristiti sledeći kod:"
      ]
    },
    {
      "cell_type": "code",
      "execution_count": null,
      "id": "830ded16",
      "metadata": {
        "id": "830ded16",
        "outputId": "6a0d55ad-fe5d-4a99-fbe9-92226fa7e65c"
      },
      "outputs": [],
      "source": [
        "print(neuron.weights, neuron.bias)\n",
        "for x in xs:\n",
        "    print(x, \"->\", neuron(x))"
      ]
    },
    {
      "attachments": {},
      "cell_type": "markdown",
      "id": "1c8c6025",
      "metadata": {
        "id": "1c8c6025"
      },
      "source": [
        "Vidimo da je naš neuron zaista naučio logičku funkciju `AND` koju smo mu dali!\n",
        "Osim toga, možemo videti da vrednosti parametara koje smo dobili nisu iste kao one koje smo ručno uneli da bismo dobili funkciju `AND` iznad.\n",
        "\n",
        "Vežba: Kreirajte 3 nova neurona i obučite ih da izvršavaju logičke funkcije `OR`, `NAND` i `NOR`.\n",
        "\n",
        "Vežba: Kreirajte novi neuron i obučite ga da izvršava logičku funkciju `XOR`. Da li neuron može naučiti ovu funkciju?\n",
        "\n",
        "## 11.5. Animacija procesa obučavanja\n",
        "\n",
        "Koristeći interaktivnu opciju za crtanje koju pruža biblioteka `matplotlib`, možemo vizuelno prikazati proces obučavanja našeg neurona.\n",
        "To možemo učiniti sledećim kodom:\n",
        "\n"
      ]
    },
    {
      "cell_type": "code",
      "execution_count": null,
      "id": "56e78a2b",
      "metadata": {
        "id": "56e78a2b",
        "outputId": "d793eb41-7d5e-4508-8fde-920afafcac70"
      },
      "outputs": [],
      "source": [
        "%matplotlib notebook\n",
        "import matplotlib.pyplot as plt\n",
        "from matplotlib.animation import FuncAnimation\n",
        "from IPython import display\n",
        "\n",
        "ys = np.array([0, 1, 1, 1])\n",
        "fig, ax = plt.subplots()\n",
        "x_axis = np.array([-.1, 1.1])\n",
        "colors = {0: \"b\", 1: \"r\"}\n",
        "ax.scatter(xs[:, 0], xs[:, 1], c=[colors[y] for y in ys])\n",
        "decision_boundary = x_axis \n",
        "line, = ax.plot(x_axis, decision_boundary, 'g', lw=2)\n",
        "ax.set_xlim([-.1, 1.1])\n",
        "ax.set_ylim([-0.1, 1.1])\n",
        "\n",
        "def animate(epochs):\n",
        "    np.random.seed(100)\n",
        "    neuron = Neuron(n_inputs=2)\n",
        "    neuron.fit(xs, ys, epochs=epochs, learn_rate=0.01, verbose=False)\n",
        "    decision_boundary = (\n",
        "        -neuron.weights[0] * x_axis - neuron.bias\n",
        "        ) / neuron.weights[1]\n",
        "    line.set_data((x_axis, decision_boundary))\n",
        "    return line\n",
        "\n",
        "anim = FuncAnimation(fig, animate, frames=300, interval=20)\n",
        "video = anim.to_html5_video()\n",
        "html = display.HTML(video)\n",
        "display.display(html)\n",
        "plt.close()"
      ]
    },
    {
      "attachments": {},
      "cell_type": "markdown",
      "id": "3c6cabb8",
      "metadata": {
        "id": "3c6cabb8"
      },
      "source": [
        "Vežba: Pokušajte promeniti logičku funkciju, stanje generatora slučajnih brojeva i brzinu učenja."
      ]
    }
  ],
  "metadata": {
    "colab": {
      "provenance": []
    },
    "kernelspec": {
      "display_name": "Python 3",
      "language": "python",
      "name": "python3"
    },
    "language_info": {
      "codemirror_mode": {
        "name": "ipython",
        "version": 3
      },
      "file_extension": ".py",
      "mimetype": "text/x-python",
      "name": "python",
      "nbconvert_exporter": "python",
      "pygments_lexer": "ipython3",
      "version": "3.9.13"
    }
  },
  "nbformat": 4,
  "nbformat_minor": 5
}
