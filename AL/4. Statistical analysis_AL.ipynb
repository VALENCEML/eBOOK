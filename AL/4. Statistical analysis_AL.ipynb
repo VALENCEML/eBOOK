{
 "cells": [
  {
   "cell_type": "markdown",
   "metadata": {},
   "source": [
    "# 4. Analiza statistikore\n",
    "\n",
    "\n",
    "(nga Arpad Kočiš, ETSMP, Serbia)\n",
    "\n",
    "Statistika luan një rol të rëndësishëm në mësimin e makinerisë, pasi ofron mjete dhe metoda për modelimin, analizimin dhe interpretimin e të dhënave."
   ]
  },
  {
   "cell_type": "markdown",
   "metadata": {},
   "source": [
    "## 4.1 Mjete programimi dhe paketa për analiza statistikore.\n",
    "Në këtë kapitull do të përdoren **python** dhe **Notebook Jupyter**. Ka shumë biblioteka **Python statistics libraries** të disponueshme, por në këtë kapitull, ne do të përdorim të poshtëshënuarat:\n",
    "    <ul>\n",
    "        <li>**NumPy** është një bibliotekë në Python që ju lejon të punoni me vargje të mëdha numrash dhe të kryeni operacione matematikore mbi to si algjebra lineare dhe analiza statistikore. Përdoret gjerësisht në llogaritjen shkencore, analizën e të dhënave dhe mësimin e makinerive.</li>\n",
    "        <li>**SciPy** është një bibliotekë në Python që zgjeron funksionalitetin e NumPy për llogaritjen shkencore. Ai gjithashtu përfshin scipy.stats i cili përdoret për analiza statistikore.</li>\n",
    "        <li>**Pandas** është një bibliotekë Python që e bën të lehtë punën me të dhëna. Ajo siguron mjete për trajtimin dhe manipulimin e të dhënave në format tabelare, të ngjashme me softuerin e fletëllogaritjes. Përdoret zakonisht në detyrat e analizës së të dhënave, pastrimit, manipulimit dhe vizualizimit dhe funksionon mirë me bibliotekat e tjera si NumPy, SciPy dhe Matplotlib.</li>\n",
    "        <li>**Matplotlib** është një bibliotekë për vizualizimin e të dhënave. Mund të kombinohet lehtësisht me NumPy, SciPy dhe Pandas.</li>\n",
    "    </ul>"
   ]
  },
  {
   "cell_type": "markdown",
   "metadata": {},
   "source": [
    "## 4.2 Statistika përshkruese dhe konkluzive \n",
    "Statistikat përshkruese dhe konkluzive janë dy degë kryesore të statistikave që përdoren për qëllime të ndryshme. Statistikat janë një mënyrë për të kuptuar sasi të mëdha të dhënash.\n",
    "\n",
    "**Statistikat përshkruese** përdoren për të përmbledhur, organizuar dhe përshkruar një grup të dhënash. Ndihmon për të siguruar një pamje të përgjithshme të të dhënave, të tilla si mesatarja aritmetike, mesorja dhe rangu. Për shembull, nëse dëshironi të dini gjatësinë mesatare të nxënësve në klasën tuaj, do të përdornit statistika përshkruese për ta llogaritur këtë.\n",
    "\n",
    "**Statistikat konkluzionale**, nga ana tjetër, përdoren për të bërë parashikime ose përgjithësime rreth një popullate bazuar në një mostër të dhënash. Kjo ju lejon të nxirrni përfundime për një grup më të madh duke analizuar një grup më të vogël. Për shembull, nëse dëshironi të dini lartësinë mesatare të të gjithë nxënësve në shkollën tuaj, do të merrnit një mostër të lartësisë së nxënësve nga klasa juaj dhe do të përdornit statistika konkluzive për të vlerësuar lartësinë mesatare të të gjithë popullsisë së shkollës.\n",
    "\n",
    "Pra, me fjalë të thjeshta, **Statistikat përshkruese** ndihmojnë për të kuptuar të dhënat e disponueshme dhe **Statistikat konkluzionale** ndihmojnë në parashikimin e të dhënave që nuk janë ende të disponueshme.\n",
    "Në këtë seksion, ne do të fokusohemi kryesisht në statistikat përshkruese. Ndërsa leksionet përparojnë, ne do ta zhvendosim fokusin tonë më shumë drejt statistikave konkluzive ndërsa gërmojmë më thellë në teknikat e mësimit të makinerisë."
   ]
  },
  {
   "cell_type": "markdown",
   "metadata": {},
   "source": [
    "## 4.3 Analiza e njëanshme\n",
    "Statistikat e njëanshme janë si të shikosh një pjesë të informacionit. Për shembull, mund të dëshironi të dini se si dolën shokët tuaj të klasës në një test. Ju mund të mbledhni rezultatet dhe të përdorni statistika të njëanshme për të kuptuar dhe përshkruar të dhënat.\n",
    "Statistikat e njëanshme në këtë shembull përfshijnë:\n",
    "gjetjen e rezultatit mesatar (i quajtur edhe mesatarja aritmetike),\n",
    "duke parë sa njerëz morën rezultate të ndryshme,\n",
    "duke parë nëse ndonjë rezultat është shumë i ndryshëm nga të tjerat (të jashtme),\n",
    "duke parë se si janë shpërndarë rezultatet (varianca).\n",
    "\n",
    "\n",
    "Statistikat e njëanshme janë një mënyrë e mirë për të marrë një ide të përgjithshme se si duken të dhënat dhe për të parë nëse ka ndonjë model apo trend\n",
    ". Është njësoj si të shikoni një pjesë të enigmës për të parë se çfarë ju tregon për të gjithë figurën.\n",
    "\n"
   ]
  },
  {
   "cell_type": "markdown",
   "metadata": {},
   "source": [
    "## 4.4 Masat e tendencës qendrore\n",
    "Masat e tendencës qendrore janë masa statistikore që përdoren për të përshkruar vlerën qendrore ose tipike të një grupi të dhënash. Masat më të zakonshme të tendencës qendrore janë **mesatarja aritmetike**, **mesorja** dhe **moda**.\n",
    "\n"
   ]
  },
  {
   "cell_type": "markdown",
   "metadata": {},
   "source": [
    "### 4.4.1 Mesatarja aritmetike\n",
    "Mesatarja aritmetike është një mënyrë për të gjetur vlerën e mesme të një grupi numrash. Për të gjetur mesataren, mblidhni të gjithë numrat së bashku dhe më pas pjesëtoni me numrin e artikujve në grup. Për shembull, mesatarja e grupit x= {1, 2, 3} ku numri i artikujve në bashkësinë n = 3 është:\n",
    "\n",
    "\n",
    "$$\n",
    "   \\frac{x1+x2+...+xn}{n} = \\frac{1+2+3}{3} = \\frac{6}{3} = 2\n",
    "$$\n",
    "\n",
    "Në Python, mund të përdorni bibliotekën numpy për të gjetur mesataren aritmetike të një grupi numrash. Ja një shembull:"
   ]
  },
  {
   "cell_type": "code",
   "execution_count": 1,
   "metadata": {},
   "outputs": [
    {
     "name": "stdout",
     "output_type": "stream",
     "text": [
      "2.0\n"
     ]
    }
   ],
   "source": [
    "import numpy as np\n",
    "\n",
    "# Create a set of numbers\n",
    "numbers = np.array([1, 2, 3])\n",
    "\n",
    "# Use the numpy mean() function to find the mean\n",
    "mean = np.mean(numbers)\n",
    "\n",
    "# Print the result\n",
    "print(mean)"
   ]
  },
  {
   "cell_type": "markdown",
   "metadata": {},
   "source": [
    "### 4.4.2 Mesatarja e ponderuar\n",
    "\n",
    "Një mesatare e ponderuar është e ngjashme me një mesatare të rregullt (e quajtur edhe mesatare aritmetike), por i jep më shumë **rëndësi** (ose peshë) **vlerave** të **caktuara** në grup.\n",
    "\n",
    "Për të gjetur mesataren e ponderuar, së pari i caktoni një peshë secilës vlerë në grup dhe më pas shumëzoni secilën vlerë me peshën e saj. Pas kësaj, shtoni të gjitha rezultatet dhe ndani me peshën totale.\n",
    "\n",
    "Për shembull, le të themi se keni një grup pikësh testimi x = {70, 80, 90} dhe peshat përkatëse janë w = {2, 3, 5} numri i artikujve në këto grupe është n = 3.\n",
    "Për të gjetur mesataren e ponderuar, do të veproni si në vijim:\n",
    "\n",
    "$$\n",
    "    m = \\frac{(x_{1}*w_{1}+x_{2}*w_{2}+...+x_{n}*w_{n})}{w_{1}+w_{2}+...+w_{n}} = \\frac{(70*2 + 80*3+ 90*5)}{(2+3+5)} = \\frac{830}{10} = 83\n",
    "$$\n",
    "\n",
    "Është sikur po u jepni më shumë peshë disa numrave në grup, duke i bërë ata të llogariten më shumë drejt mesatares përfundimtare. Përdoret në rastet kur vlerat kanë rëndësi të ndryshme, kështu që ju mund t'i jepni më shumë peshë vlerave që janë më të rëndësishme."
   ]
  },
  {
   "cell_type": "code",
   "execution_count": 2,
   "metadata": {},
   "outputs": [
    {
     "name": "stdout",
     "output_type": "stream",
     "text": [
      "83.0\n"
     ]
    }
   ],
   "source": [
    "import numpy as np\n",
    "\n",
    "# Create a set of numbers\n",
    "numbers = np.array([70, 80, 90])\n",
    "\n",
    "# Assign weights to each number\n",
    "weights = np.array([2, 3, 5])\n",
    "\n",
    "# Use the numpy average() function to find the weighted mean\n",
    "weighted_mean = np.average(numbers, weights=weights)\n",
    "\n",
    "# Print the result\n",
    "print(weighted_mean)"
   ]
  },
  {
   "cell_type": "markdown",
   "metadata": {},
   "source": [
    "### 4.4.3 Mesatarja gjeometrike\n",
    "\n",
    "Mesatarja gjeometrike është një mënyrë për të gjetur mesataren e një grupi numrash duke i shumëzuar së bashku dhe më pas duke marrë rrënjën e n-të (ku n është numri i numrave në bashkësi). Përdoret për të gjetur mesataren e një grupi numrash kur numrat nuk janë të gjithë të njëjtë dhe kur vlerat mund të jenë më të mëdha ose më të vogla se 1.\n",
    "\n",
    "Për shembull, le të themi se keni një grup numrash x = {2, 4, 8} me gjatësi n = 3. Për të gjetur mesataren gjeometrike, do të veproni si në vijim:\n",
    "\n",
    "\n",
    "$$\n",
    "  g = \\sqrt[n]{x_{1}*x_{2}*...*x_{n}} = \\sqrt[3]{2*4*4} = \\sqrt[3]{64} = 4\n",
    "$$\n",
    "\n",
    "Mesatarja gjeometrike përdoret shpesh për të gjetur mesataren e normave të ndryshimit ose normave të rritjes. Përdoret gjithashtu në financa për të llogaritur normën mesatare të kthimit të një investimi gjatë një periudhe kohore.\n",
    "\n",
    "Mbani në mend se mesatarja gjeometrike është gjithmonë më e vogël ose e barabartë me mesataren aritmetike (përveç kur të gjitha vlerat janë të njëjta)\n",
    "\n",
    "Në shumicën e rasteve, përdoret kur grupi i të dhënave është i anuar pozitivisht, pra kur ka më shumë vlera të vogla sesa vlera të mëdha."
   ]
  },
  {
   "cell_type": "code",
   "execution_count": 3,
   "metadata": {},
   "outputs": [
    {
     "name": "stdout",
     "output_type": "stream",
     "text": [
      "4.0\n"
     ]
    }
   ],
   "source": [
    "from scipy.stats import gmean\n",
    "# Create a set of numbers\n",
    "numbers = np.array([2, 4, 8])\n",
    "\n",
    "# Use the numpy geometric mean() function to find the geometric mean\n",
    "geometric_mean = gmean(numbers)\n",
    "\n",
    "# Print the result\n",
    "print(geometric_mean)"
   ]
  },
  {
   "cell_type": "markdown",
   "metadata": {},
   "source": [
    "### 4.4.4 Mesatarja Harmonike\n",
    "Mesatarja harmonike është një mënyrë për të gjetur mesataren e një grupi numrash duke marrë reciprokun e mesatares aritmetike të reciprokeve të numrave. Përdoret për të llogaritur mesataren e normave.\n",
    "\n",
    "Për shembull, le të themi se keni një grup numrash {3, 4, 5}, numrin e elementeve në bashkësinë n = 3. Për të gjetur mesataren harmonike, do të veproni si në vijim:\n",
    "\n",
    "\n",
    "$$\n",
    "    h = \\frac{n}{\\frac{1}{x_{1}}+\\frac{1}{x_{2}}+...+\\frac{1}{x_{n}}} = \\frac{3}{\\frac{1}{3}+\\frac{1}{4}+\\frac{1}{5}} = 3.829\n",
    "$$\n",
    "\n",
    "<br>\n",
    "Mesatarja harmonike përdoret shpesh kur punoni me norma, të tilla si shpejtësitë ose normat e ndryshimit. Përdoret gjithashtu në financë dhe ekonomi për të llogaritur mesataren e normave të interesit, normave të inflacionit dhe normave të rritjes.\n",
    "\n",
    "Mbani në mend se mesatarja harmonike është gjithmonë më e vogël se mesatarja aritmetike dhe ajo gjeometrike, përveç kur të gjitha vlerat në grupin e të dhënave janë të njëjta.\n",
    "\n",
    "Përdoret gjithashtu kur grupi i të dhënave përmban zero, pasi mesatarja gjeometrike nuk përcaktohet kur grupi i të dhënave përmban zero."
   ]
  },
  {
   "cell_type": "code",
   "execution_count": 4,
   "metadata": {},
   "outputs": [
    {
     "name": "stdout",
     "output_type": "stream",
     "text": [
      "3.829787234042554\n"
     ]
    }
   ],
   "source": [
    "from scipy.stats import hmean\n",
    "\n",
    "# Create a set of numbers\n",
    "numbers = np.array([3, 4, 5])\n",
    "\n",
    "# Use the numpy harmonic mean() function to find the harmonic mean\n",
    "harmonic_mean = hmean(numbers)\n",
    "\n",
    "# Print the result\n",
    "print(harmonic_mean)"
   ]
  },
  {
   "cell_type": "markdown",
   "metadata": {},
   "source": [
    "### 4.4.5 Mesorja\n",
    "Mesorja është një mënyrë për të gjetur vlerën e mesme të një grupi numrash. Përdoret për të gjetur vlerën e mesme të një grupi numrash kur ka disa vlera shumë të mëdha ose shumë të vogla (të jashtme) që do të anonin mesataren (aritmetike) e grupit.\n",
    "\n",
    "Për të gjetur mesoren, së pari duhet të renditni të gjithë numrat e grupit në rend numerik. Nëse grupi ka një numër tek artikujsh, mesorja është vlera e mesme. Nëse grupi ka një numër çift artikujsh, mesorja është mesatarja e dy vlerave të mesme.\n",
    "\n",
    "Për shembull, le të themi se keni një grup numrash {5, 2, 4, 8, 10}. Për të gjetur mesoren, duhet t'i renditni numrat sipas rendit numerik: {2, 4, 5, 8, 10}. Meqenëse grupi ka një numër tek artikujsh, mesorja është vlera e mesme, e cila është 5.\n",
    "\n",
    "Nëse grupi ka një numër çift artikujsh për shembull {2,7,1,12,5,6}, nëse e rendisim: {1,2,5,6,7,12}. Mesorja është mesatarja e dy vlerave të mesme (5+6)/2 = 5.5;"
   ]
  },
  {
   "cell_type": "code",
   "execution_count": 5,
   "metadata": {},
   "outputs": [
    {
     "name": "stdout",
     "output_type": "stream",
     "text": [
      "Median of the set that has odd number of items:  5.0\n",
      "Median of the set that has even number of items:  5.5\n"
     ]
    }
   ],
   "source": [
    "import numpy as np\n",
    "\n",
    "# Create a set of numbers\n",
    "numbersOdd = np.array([5, 2, 4, 8, 10])\n",
    "numbersEven = np.array([1, 2, 5, 6, 7, 12])\n",
    "\n",
    "# Use the numpy median() function to find the median\n",
    "medianOdd = np.median(numbersOdd)\n",
    "medianEven = np.median(numbersEven)\n",
    "# Print the result\n",
    "print(\"Median of the set that has odd number of items: \", medianOdd)\n",
    "print(\"Median of the set that has even number of items: \", medianEven)"
   ]
  },
  {
   "cell_type": "markdown",
   "metadata": {},
   "source": [
    "### 4.4.6 Moda\n"
   ]
  },
  {
   "cell_type": "markdown",
   "metadata": {},
   "source": [
    "Moda është një mënyrë për të gjetur vlerën apo vlerat më të zakonshme në një grup numrash. Përdoret për të gjetur vlerën apo vlerat që shfaqen më shpesh në një grup të dhënash. Një grup të dhënash mund të ketë një, më shumë se një ose asnjë modë fare.\n",
    "\n",
    "Për shembull, le të themi se keni një grup numrash {1, 2, 2, 3, 4, 4, 4}. Për të gjetur modën, do të numëroni sa herë çdo numër shfaqet në grup. Numri 4 shfaqet më shpesh, tre herë, kështu që moda është 4.\n",
    "\n",
    "Një grup të dhënash mund të ketë një, më shumë se një ose asnjë modë fare. Nëse një grup të dhënash ka një modë, ai quhet unimodal. Nëse një grup të dhënash ka më shumë se një modë, ai quhet multimodal. Nëse një grup të dhënash nuk ka modë, ai quhet jo-modal.\n",
    "\n",
    "Moda përdoret shpesh në statistikë për të gjetur vlerën po vlerat më të zakonshme në një grup të dhënash. Është e dobishme kur të dhënat kanë disa dallime që do të anonin mesataren ose mesoren. Përdoret gjithashtu në financë dhe ekonomi për të gjetur vlerën apo vlerat më të zakonshme në një grup të dhënash, si çmimi më i zakonshëm i një aksioni ose norma më e zakonshme e interesit."
   ]
  },
  {
   "cell_type": "code",
   "execution_count": 6,
   "metadata": {},
   "outputs": [
    {
     "name": "stdout",
     "output_type": "stream",
     "text": [
      "[4]\n"
     ]
    }
   ],
   "source": [
    "# import the mode function from the scipy.stats library\n",
    "from scipy.stats import mode\n",
    "\n",
    "numbers = np.array([1, 2, 2, 3, 4, 4, 4])\n",
    "# use the mode function on the set of numbers\n",
    "mode, modeCount = mode(numbers)\n",
    "\n",
    "# print the result\n",
    "print(mode)"
   ]
  },
  {
   "cell_type": "markdown",
   "metadata": {},
   "source": [
    "## 4.5 Masat e Variabilitetit\n",
    "\n",
    "Masat e variabilitetit janë masa statistikore që përshkruajnë se sa i përhapur është një grup të dhënash. Ato ofrojnë informacion në lidhje me shkallën në të cilën të dhënat devijojnë nga mesatarja. Disa masa të zakonshme të variabilitetit përfshijnë:\n",
    "\n",
    "<ul>\n",
    "    <li>Varianca</li>\n",
    "    <li>Devijimi standard</li>\n",
    "    <li>Animi</li>\n",
    "    <li>Koeficienti i variabilitetit</li>\n",
    "    <li>Rangu</li>\n",
    "</ul>\n"
   ]
  },
  {
   "cell_type": "markdown",
   "metadata": {},
   "source": [
    "### 4.5.1 Varianca\n",
    "Varianca përdoret për të gjetur sasinë e variacionit ose shpërndarjes në një grup të dhënash. Sa më e madhe të jetë varianca, aq më të përhapura janë të dhënat. Sa më e vogël të jetë varianca, aq më të përqendruara janë të dhënat.\n",
    "\n",
    "Për të gjetur variancën, fillimisht gjeni mesataren e grupit të numrave, dhe më pas për secilin numër, zbrisni mesataren dhe njehsoni katrorin e rezultatit. Pastaj mblidhni të gjitha dallimet në katror dhe ndani me numrin e artikujve në grup. Kjo ju jep variancën.\n",
    "\n",
    "Për shembull, le të themi se keni një grup numrash {1, 2, 3, 4, 5}. Për të gjetur variancën, së pari do të gjeni mesataren e grupit (15/5 = 3), pastaj për çdo numër, zbrisni mesataren dhe njehsoni katrorin e rezultatit:\n",
    "\n",
    "(1-3)² = 4, (2-3)² = 1, (3-3)² = 0, (4-3)² = 1, (5-3)² = 4. \n",
    "\n",
    "Pastaj mblidhni të gjitha dallimet në katror dhe ndani me numrin e artikujve në grup\n",
    "\n",
    "(4+1+0+1+4)/5 = 10/5 = 2. \n",
    "\n",
    "Pra, varianca e grupit është 2.\n",
    "\n",
    "$$\n",
    "    S^2 = \\frac{(x_{1}-m)^2+(x+{2}-m)^2+..+(x_{n}-m)^2}{n} = \\frac{(1-3)^2+(2-3)^2+(3-3)^2+(4-3)^2+(5-3)^2+}{5} = 2\n",
    "$$\n",
    "\n",
    "Varianca është e dobishme në statistika për të ditur se sa variacion ose shpërndarje ka në një grup të dhënash. Përdoret gjithashtu në financë dhe ekonomi për të matur rrezikun e një investimi ose paqëndrueshmërinë e një aksioni."
   ]
  },
  {
   "cell_type": "code",
   "execution_count": 7,
   "metadata": {},
   "outputs": [
    {
     "name": "stdout",
     "output_type": "stream",
     "text": [
      "variance of the data that is spread out:  0.4\n",
      "variance of the data that is concentrated:  200.0\n"
     ]
    },
    {
     "data": {
      "image/png": "[encoded data removed]",
      "text/plain": [
       "<Figure size 432x288 with 1 Axes>"
      ]
     },
     "metadata": {
      "needs_background": "light"
     },
     "output_type": "display_data"
    }
   ],
   "source": [
    "import numpy as np\n",
    "import matplotlib.pyplot as plt\n",
    "\n",
    "# Create a dataset\n",
    "dataSpreadOut = np.array([1, 2, 2, 2, 3])\n",
    "dataConcentrated = np.array([-10,0,10,20,30])\n",
    "\n",
    "# Use the numpy var() function to find the variance along the columns\n",
    "varianceSpread = np.var(dataSpreadOut, axis=0)\n",
    "varianceConcentrated = np.var(dataConcentrated, axis=0)\n",
    "\n",
    "\n",
    "# Print the result\n",
    "print(\"variance of the data that is spread out: \", varianceSpread)\n",
    "print(\"variance of the data that is concentrated: \", varianceConcentrated)\n",
    "\n",
    "\n",
    "# Plot the scatter plot of the data\n",
    "plt.scatter(dataSpreadOut, [0] * dataSpreadOut.shape[0])\n",
    "plt.scatter(dataConcentrated, [0] * dataConcentrated.shape[0])\n",
    "plt.show()"
   ]
  },
  {
   "cell_type": "markdown",
   "metadata": {},
   "source": [
    "### 4.5.2 Devijimi standard\n",
    "Devijimi standard është shumë i ngjashëm me variancën dhe përdoret kryesisht për të njëjtat gjëra. Në thelb është rrënja katrore e variancës.\n",
    "\n",
    "Për shembull, le të themi se keni një grup numrash {1, 2, 3, 4, 5}. Për të gjetur devijimin standard, së pari do të gjeni variancën e grupit (15/5 = 3), varianca është 2 dhe më pas merrni rrënjën katrore të variancës √2 = 1,41. Pra, devijimi standard i grupit është 1.41."
   ]
  },
  {
   "cell_type": "code",
   "execution_count": 8,
   "metadata": {},
   "outputs": [
    {
     "name": "stdout",
     "output_type": "stream",
     "text": [
      "1.4142135623730951\n"
     ]
    }
   ],
   "source": [
    "import numpy as np\n",
    "\n",
    "# Create a set of numbers\n",
    "numbers = np.array([1, 2, 3, 4, 5])\n",
    "\n",
    "# Use the numpy std() function to find the standard deviation\n",
    "std_dev = np.std(numbers)\n",
    "\n",
    "# Print the result\n",
    "print(std_dev)"
   ]
  },
  {
   "cell_type": "markdown",
   "metadata": {},
   "source": [
    "### 4.5.3 Animi\n",
    "Animi është një masë e asimetrisë së një shpërndarje probabiliteti të një ndryshoreje të rastësishme me vlerë reale rreth mesatares së saj. Ai ju tregon se sa të dhënat janë anuar në njërën anë ose në tjetrën. Nëse të dhënat janë simetrike, anshmëria do të jetë 0. Nëse të dhënat anohen majtas, anshmëria do të jetë negative. Nëse të dhënat anohen djathtas, anshmëria do të jetë pozitive\n",
    "\n",
    "Për shembull, nëse keni një grup numrash {1, 2, 3, 4, 5}, mesatarja është 3 dhe të dhënat janë simetrike, pra anshmëria është 0. Nëse keni një grup numrash {1, 2 , 3, 4, 10}, mesatarja është 4, dhe të dhënat janë anuar djathtas, kështu që anshmëria është pozitive.\n",
    "\n",
    "Animi përdoret për të kuptuar shpërndarjen e të dhënave dhe mënyrën se si ato shpërndahen. Një shpërndarje e anuar mund të tregojë praninë e vlerave të jashtme ose ekstreme.\n",
    "\n",
    "Është një masë e simetrisë, ose më saktë, e mungesës së simetrisë. Një anim pozitiv do të thotë që më shumë peshë është në bishtin e majtë të shpërndarjes, bishti në anën e vlerave më të vogla. Një anim negativ do të thotë që më shumë peshë është në bishtin e djathtë, bishti në anën e vlerave më të mëdha.\n",
    "\n",
    "\n",
    "\n"
   ]
  },
  {
   "cell_type": "code",
   "execution_count": 9,
   "metadata": {},
   "outputs": [
    {
     "name": "stdout",
     "output_type": "stream",
     "text": [
      "0.0\n"
     ]
    }
   ],
   "source": [
    "from scipy.stats import skew\n",
    "\n",
    "# Create a set of numbers\n",
    "numbers = [1, 2, 3, 4, 5]\n",
    "\n",
    "# Use the skew() function to find the skewness\n",
    "skewness = skew(numbers)\n",
    "\n",
    "# Print the result\n",
    "print(skewness)"
   ]
  },
  {
   "cell_type": "markdown",
   "metadata": {},
   "source": [
    "### 4.5.4 Koeficienti i variabilitetit\n",
    "Koeficienti i variabilitetit është një masë që ju tregon se sa përqind e vlerave në një grup të dhënash bien nën një vlerë të caktuar. Për shembull, nëse koeficienti i variabilitetit është 90, kjo do të thotë se 90% e vlerave në grupin e të dhënave janë nën atë vlerë. Koeficienti i variabilitetit përdoret shpesh për të kuptuar shpërndarjen e të dhënave dhe për të krahasuar vlerat brenda grupit të të dhënave.\n",
    "\n",
    "Për shembull, le të themi se keni një grup rezultatesh testimi {80, 85, 90, 95, 100}. Për të gjetur nivelin e përqindjes së 50-të, fillimisht do t'i rregulloni rezultatet sipas renditjes: {80, 85, 90, 95, 100}. Atëherë do të gjeni rezultatin që është më i madh ose i barabartë me 50% të pikëve të tjera. Në këtë rast, rezultati i nivelit të përqindjes së 50-të është 90, sepse 50% e pikëve janë nën 90.\n",
    "\n",
    "Koeficienti i variabilitetit përdoret shpesh në statistikë, veçanërisht në arsim dhe në fushën e shëndetësisë. Në arsim, koeficienti i variabilitetit shpesh përdoret për të krahasuar rezultatet e testeve të studentëve me rezultatet e studentëve të tjerë në të njëjtën klasë. Në shëndetësi, koeficienti i variabilitetit shpesh përdoret për të krahasuar rritjen e një fëmije me rritjen e fëmijëve të tjerë të së njëjtës moshë dhe gjini. Koeficienti i variabilitetit përdoret gjithashtu në financë dhe ekonomi për të matur performancën e një aksioni ose portofoli në krahasim me aksionet ose portofolet e tjera.\n",
    "\n",
    "Është e rëndësishme të theksohet se koeficienti i variabilitetit është i ndryshëm nga përqindja. Koeficienti i variabilitetit është një vlerë nën të cilën bie një përqindje e caktuar e vëzhgimeve, ndërsa përqindja është një vlerë që përfaqëson një pjesë të tërësisë."
   ]
  },
  {
   "cell_type": "code",
   "execution_count": 10,
   "metadata": {},
   "outputs": [
    {
     "name": "stdout",
     "output_type": "stream",
     "text": [
      "90.0\n"
     ]
    }
   ],
   "source": [
    "import numpy as np\n",
    "\n",
    "# Create a set of numbers\n",
    "numbers = [80, 85, 90, 95, 100]\n",
    "\n",
    "# Use the numpy percentile() function to find the 50th percentile\n",
    "percentile_50 = np.percentile(numbers, 50)\n",
    "\n",
    "# Print the result\n",
    "print(percentile_50)"
   ]
  },
  {
   "cell_type": "markdown",
   "metadata": {},
   "source": [
    "### 4.5.5 Rangu\n",
    "Rangu është një masë e përhapjes së një grupi numrash. Ai ju tregon ndryshimin midis vlerave më të mëdha dhe më të vogla në një grup të dhënash. Ai llogaritet duke zbritur vlerën më të vogël nga vlera më e madhe.\n",
    "\n",
    "Për shembull, nëse keni një grup numrash {1, 2, 3, 4, 5}, vlera më e vogël është 1 dhe vlera më e madhe është 5, pra rangu është 5 - 1 = 4. Kjo do të thotë se ndryshimi midis vlerat më të vogla dhe më të mëdha në grup është 4.\n",
    "\n",
    "Rangu është një masë e thjeshtë e përhapjes, ai jep një ide se sa të përhapura janë të dhënat, por nuk merr parasysh frekuencën ose shpërndarjen e të dhënave. Mund të ndikohet nga vlerat e jashtme dhe ekstreme. Masat e tjera të përhapjes, si rangu interkuartil ose devijimi standard, janë më të forta dhe marrin parasysh shpërndarjen e të dhënave.\n",
    "\n",
    "Në statistika, rangu shpesh përdoret për të kuptuar përhapjen e të dhënave dhe për të krahasuar përhapjen e grupeve të ndryshme të të dhënave. Përdoret gjithashtu në financë dhe ekonomi për të matur paqëndrueshmërinë ose rrezikun e një investimi ose një stoku."
   ]
  },
  {
   "cell_type": "code",
   "execution_count": 11,
   "metadata": {},
   "outputs": [
    {
     "name": "stdout",
     "output_type": "stream",
     "text": [
      "4\n"
     ]
    }
   ],
   "source": [
    "import numpy as np\n",
    "numbers = [1, 2, 3, 4, 5]\n",
    "\n",
    "# range\n",
    "print(np.ptp(numbers))"
   ]
  },
  {
   "cell_type": "markdown",
   "metadata": {},
   "source": [
    "## 4.6 Analiza Bivariate\n",
    "Analiza bivariate është një mënyrë për të studiuar marrëdhënien midis dy variablave. Ndihmon për të kuptuar se si ndryshimet në një variabël lidhen me ndryshimet në një variabël tjetër. Për shembull, nëse doni të studioni marrëdhënien midis sasisë që mësojnë studentët dhe rezultateve të tyre të testit, analiza bivariate mund t'ju ndihmojë të kuptoni nëse ka një lidhje midis të dyjave.\n",
    "\n",
    "Ka mënyra të ndryshme për të bërë analizë bivariate, por disa metoda të zakonshme janë:\n",
    "\n",
    "Grafikët e shpërndarjes: Një grafik shpërndarës është një grafik që tregon marrëdhënien midis dy variablave duke i paraqitur ato në një bosht x-y.\n",
    "\n",
    "Korrelacioni: Korrelacioni është një numër midis -1 dhe 1 që tregon se sa ngushtë janë të lidhura dy variabla. Një korrelacion prej 1 do të thotë se variablat janë të lidhur në mënyrë të përsosur, ndërsa një korrelacion prej -1 do të thotë se ato janë të lidhura në mënyrë të kundërt të përsosur dhe 0 do të thotë se nuk kanë lidhje.\n",
    "\n",
    "Regresioni: Regresioni është një metodë që përdor të dhënat për të gjetur vijën ose lakoren më të mirë që i përshtatet marrëdhënies midis dy variablave.\n",
    "\n",
    "Analiza bivariate mund të përdoret për të identifikuar modelet dhe trendet në të dhëna, për të testuar hipotezat në lidhje me marrëdhëniet midis variablave dhe për të bërë parashikime për ngjarjet ose trendet e ardhshme. Është e rëndësishme të theksohet se ndihmon për të kuptuar marrëdhënien midis dy variablave, por nuk shpjegon shkakun e marrëdhënies.\n",
    "\n",
    "Mund të jetë e dobishme për studentët që duan të kuptojnë se si faktorë të ndryshëm mund të ndikojnë në performancën e tyre në shkollë. Për shembull, se si nëse mësojnë më shumë mund të ndikojë në rezultatet e tyre të testit ose sesi gjumi i mjaftueshëm mund të ndikojë në fokusin dhe aftësinë e tyre për të mësuar. Kuptimi i marrëdhënies midis këtyre variablave mund t'i ndihmojë ata të marrin vendime më të mira se si të kalojnë kohën e tyre dhe çfarë veprimesh të ndërmarrin për të përmirësuar performancën e tyre."
   ]
  },
  {
   "cell_type": "markdown",
   "metadata": {},
   "source": [
    "## 4.7 Analiza Multivariate\n",
    "\n",
    "Statistikat multivariate janë një degë e statistikave që merret me analizimin dhe kuptimin e marrëdhënieve ndërmjet më shumë se dy variablave. Ndihmon për të kuptuar se si variabla të shumta janë të lidhura dhe si ndikojnë ato njëra-tjetrën.\n",
    "\n",
    "Për shembull, nëse doni të kuptoni se si zakonet e studimit, zakonet e gjumit dhe nivelet e stresit të një studenti lidhen me rezultatet e testit të tyre, statistikat multivariate mund t'ju ndihmojnë të kuptoni se si lidhen të gjitha këto variabla dhe si ndikojnë ato në rezultatet e testit."
   ]
  },
  {
   "cell_type": "markdown",
   "metadata": {},
   "source": [
    "*Ushtrime*\n",
    "\n",
    "- Shtoni grupe të ndryshme në këta shembuj të mëparshëm dhe provoni kodet.\n",
    "\n",
    "- Shkarkoni një grup të dhënash nga kaggle dhe zbatoni këto metoda në të dhënat."
   ]
  },
  {
   "cell_type": "code",
   "execution_count": null,
   "metadata": {},
   "outputs": [],
   "source": []
  }
 ],
 "metadata": {
  "kernelspec": {
   "display_name": "Python 3 (ipykernel)",
   "language": "python",
   "name": "python3"
  },
  "language_info": {
   "codemirror_mode": {
    "name": "ipython",
    "version": 3
   },
   "file_extension": ".py",
   "mimetype": "text/x-python",
   "name": "python",
   "nbconvert_exporter": "python",
   "pygments_lexer": "ipython3",
   "version": "3.9.13"
  },
  "vscode": {
   "interpreter": {
    "hash": "369f2c481f4da34e4445cda3fffd2e751bd1c4d706f27375911949ba6bb62e1c"
   }
  }
 },
 "nbformat": 4,
 "nbformat_minor": 2
}
