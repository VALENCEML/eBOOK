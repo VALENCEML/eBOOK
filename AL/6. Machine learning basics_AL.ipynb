{
 "cells": [
  {
   "cell_type": "markdown",
   "metadata": {
    "id": "vxzXpgMcpfwZ"
   },
   "source": [
    "# 6. Bazat e mësimit të makinerisë\n",
    "\n",
    "(nga Arpad Kočiš,ETSMP,Serbia)\n",
    "\n"
   ]
  },
  {
   "cell_type": "markdown",
   "metadata": {
    "id": "fiVOWkbVpfwf"
   },
   "source": [
    "## 6.1. Çfarë është mësimi i makinerisë?\n",
    "\n",
    "Mësimi i makinerisë është një nënfushë e shkencës kompjuterike që përfshin krijimin e algoritmeve që mësojnë nga shembujt për të zgjidhur probleme praktike. Ai përfshin mbledhjen e një grupi të dhënash dhe ndërtimin e një modeli statistikor prej tij për t'u përdorur në zgjidhjen e problemit.\n",
    "\n",
    "Një shembull i një problemi praktik që mund të zgjidhet duke përdorur mësimin e makinerive është klasifikimi i imazheve.\n",
    "<ol>\n",
    " <li>Mblidhet një grup të dhënash imazhesh, secila e etiketuar me klasën e objektit përkatës (p.sh. qen, mace, makinë, etj.).</li>\n",
    "<li>Një algoritëm përdoret për të trajnuar një model në këtë grup të dhënash, i cili mëson të njohë veçoritë dhe modelet që dallojnë një klasë objekti nga një tjetër.</li>\n",
    "<li>Pasi të trajnohet, modeli mund të përdoret për të klasifikuar imazhet e reja, të papara më parë në klasat e tyre të sakta të objekteve.</li>\n",
    "</ol>\n",
    "\n",
    "Në këtë rast, modeli është një model statistikor që ndërtohet duke përdorur grupin e të dhënave të imazheve të etiketuara dhe përdoret për të klasifikuar imazhet e reja bazuar në veçoritë dhe modelet e mësuara."
   ]
  },
  {
   "cell_type": "markdown",
   "metadata": {
    "id": "V70ytI8jpfwh"
   },
   "source": [
    "## 6.2. Mësimi i mbikëqyrur\n",
    "Mësimi i mbikëqyrur është një lloj mësimi makinerie ku ne kemi një grup të dhënash që përfshin të dhënat hyrëse dhe daljen e saktë përkatëse. Qëllimi është të trajnohet një model në këtë grup të dhënash, në mënyrë që të mund të bëjë parashikime për të dhëna të reja, të padukshme.\n",
    "\n",
    "Imagjinoni që keni një grup të dhënash me fotografi të kafshëve dhe secila foto është etiketuar me emrin e kafshës në figurë (p.sh. \"qen\", \"mace\", \"kalë\"). Ne mund ta përdorim këtë grup të dhënash për të trajnuar një model që mund të marrë një fotografi të re si hyrje dhe të parashikojë se çfarë kafshe është në foto. Ky është një shembull i të mësuarit të mbikëqyrur.\n",
    "\n",
    "Mësimi i mbikëqyrur mund të përdoret për një sërë detyrash, të tilla si klasifikimi i imazheve, njohja e të folurit dhe përpunimi i gjuhës natyrore.\n",
    "\n",
    "Gjatë fazës së trajnimit, modeli paraqitet me shumë shembuj të imazheve dhe etiketat e tyre përkatëse, dhe mëson të njohë modelet dhe marrëdhëniet midis imazheve dhe etiketave. Pasi modeli të trajnohet, ai mund të marrë një imazh të ri si hyrje dhe të parashikojë etiketën (d.m.th. kafshën) që korrespondon me atë imazh.\n",
    "\n",
    "Shembulli tjetër tregon një shembull të thjeshtë, se si mund të parashikohen disa trende. Algoritmet e regresionit do të studiohen më thellë në kapitujt e ardhshëm, kjo është vetëm për qëllime demonstrimi.\n",
    "\n",
    "Ne jemi duke përdorur algoritmin e regresionit linear i cili në thelb na jep një funksion linear, i cili në matematikë duket kështu:\n",
    "\n",
    "**f(x) = mx + b** \n",
    "\n",
    "x - hyrje\n",
    "\n",
    "f - dalje\n",
    "\n",
    "m - koeficienti këndor \n",
    "\n",
    "b - prerje tërthore me boshtin vertikal\n",
    "\n",
    "Nëse algoritmi na jep prerjen dhe koeficientin këndor(pjerrësinë), ne mund të vlerësojmë daljen për çdo hyrje."
   ]
  },
  {
   "cell_type": "code",
   "execution_count": null,
   "metadata": {
    "id": "LbzFfFw2pfwi"
   },
   "outputs": [],
   "source": [
    "import matplotlib.pyplot as plt\n",
    "import numpy as np\n",
    "from scipy import stats"
   ]
  },
  {
   "cell_type": "code",
   "execution_count": null,
   "metadata": {
    "id": "WFogwI_opfwl"
   },
   "outputs": [],
   "source": [
    "# Generate some sample data\n",
    "x = np.array([1, 2, 3, 4, 5])\n",
    "y = np.array([2, 4, 2, 5, 6])"
   ]
  },
  {
   "cell_type": "code",
   "execution_count": null,
   "metadata": {
    "id": "-J5xZRtppfwl"
   },
   "outputs": [],
   "source": [
    "\n",
    "# Train the model using the sample data\n",
    "slope, intercept, _, _, _ = stats.linregress(x, y)"
   ]
  },
  {
   "cell_type": "markdown",
   "metadata": {
    "id": "LEWxb9Zjpfwm"
   },
   "source": [
    "Nënvizat ( _ ) nënkuptojnë se ka një vlerë kthyese e cila nuk është e rëndësishme për momentin.\n",
    "Funksioni *linregress* është vetëm një mënyrë e mundshme për të llogaritur regresionin linear, një algoritëm për të cilin do të mësoni më shumë në kapitullin 8 të këtij kursi. Megjithatë, ata që dëshirojnë të mësojnë më shumë detaje rreth kësaj veçorie mund ta bëjnë këtë [këtu](https://docs.scipy.org/doc/scipy/reference/generated/scipy.stats.linregress.html#scipy-stats-linregress)."
   ]
  },
  {
   "cell_type": "code",
   "execution_count": null,
   "metadata": {
    "id": "Kfj9nxM6pfwn"
   },
   "outputs": [],
   "source": [
    "# Use the model to make predictions\n",
    "x_new = np.array([6, 7, 8])\n",
    "y_pred = intercept + slope * x_new\n",
    "\n"
   ]
  },
  {
   "cell_type": "code",
   "execution_count": null,
   "metadata": {
    "id": "GboBKDunpfwn",
    "outputId": "345da969-6340-4213-c740-98b94d480b80"
   },
   "outputs": [
    {
     "data": {
      "image/png": "[encoded data removed]",
      "text/plain": [
       "<Figure size 432x288 with 1 Axes>"
      ]
     },
     "metadata": {
      "needs_background": "light"
     },
     "output_type": "display_data"
    }
   ],
   "source": [
    "# Plot the sample data\n",
    "plt.scatter(x, y,color='blue')\n",
    "# Plot the linear regression line\n",
    "plt.scatter(x_new, y_pred, color='red')\n",
    "\n",
    "\n",
    "# Add labels and show the plot\n",
    "plt.xlabel('x')\n",
    "plt.ylabel('y')\n",
    "plt.show()"
   ]
  },
  {
   "cell_type": "markdown",
   "metadata": {
    "id": "sugjGvl1pfw2"
   },
   "source": [
    "Pikat blu janë të dhënat që kemi përdorur për të trajnuar modelin. Dhe ato të kuqe janë vlerat e parashikuara për hyrjen [6, 7, 8].\n",
    "\n",
    "Siç mund ta shohim, ne i dhamë algoritmit si hyrjen ashtu edhe daljen, më pas ai formoi një model në të cilin tani mund të japim hyrjen dhe ai do të na japë daljen e saktë. Ky është mësimi i mbikëqyrur."
   ]
  },
  {
   "cell_type": "markdown",
   "metadata": {
    "id": "Zuvo_zuZpfw3"
   },
   "source": [
    "## 6.3. Modeli and instanca\n",
    "Një model është një paraqitje matematikore e një sistemi ose procesi. Mund të përdoret për të bërë parashikime ose vendime të bazuara në të dhëna. Një instancë është një dukuri ose shembull specifik i diçkaje, siç është një objekt ose ngjarje e veçantë. Në kontekstin e mësimit të makinerive, një instancë është një grup specifik të dhënash hyrëse që përdoren për të trajnuar ose testuar një model.\n",
    "\n",
    "Një shembull i një modeli do të ishte një rrokullisje monedhe. Në këtë rast, modeli do të ishte një paraqitje matematikore e probabilitetit të marrjes së kokës ose bishtit kur rrokulliset një monedhë. Modeli do të ishte një shpërndarje binomiale me dy rezultate të mundshme: kokë (H) ose bisht (T) me një probabilitet prej 0.5 për çdo rezultat. Një shembull i këtij modeli do të ishte një rrokullisje specifike e monedhës, ku rezultati (koka ose bishti) do të ishin të dhënat hyrëse dhe modeli do të përdorte probabilitetin prej 0.5 për të parashikuar rezultatin e rrokullisjes së monedhës.\n",
    "\n",
    "Në shembullin tonë të mëparshëm:\n",
    "\n",
    "* **x** është e dhëna hyrëse,\n",
    "* **y** është dalja,\n",
    "* **y_pred = prerja + koeficienti këndor(pjerrësi) * x_new** është modeli\n",
    "* dhe shembulli me hyrjen **6** që rezulton në dalje **7** është instanca"
   ]
  },
  {
   "cell_type": "markdown",
   "metadata": {
    "id": "wnTRlbDypfw7"
   },
   "source": [
    "## 6.4. Regresioni\n",
    "\n",
    "Regresioni është një metodë për të parashikuar një vlerë numerike (etiketë) bazuar në një grup karakteristikash hyrëse. Një shembull është parashikimi i çmimit të një shtëpie bazuar në sipërfaqen e saj, numrin e dhomave të gjumit dhe vendndodhjen. Një algoritëm regresioni merr një grup shembujsh të etiketuar dhe prodhon një model që mund të bëjë parashikime për shembuj të rinj, të paetiketuar. Një lloj algoritmi regresioni është përdorur në shembullin e mëparshëm."
   ]
  },
  {
   "cell_type": "markdown",
   "metadata": {
    "id": "bRx-FZYZpfw8"
   },
   "source": [
    "## 6.5. Klasifikimi\n",
    "\n",
    "Klasifikimi është një detyrë në mësimin e makinerive ku një model është trajnuar për të caktuar një etiketë klase specifike për një hyrje të caktuar. Zbulimi i spamit(mesazhe të parëndësishme ose të papërshtatshme) është një shembull i klasifikimit, ku modeli është i trajnuar për të parashikuar nëse një email është spam(mesazhe të parëndësishme ose të papërshtatshme) apo jo. Një shembull tjetër do të ishte klasifikimi i imazheve, ku për shembull mund të njohim kafshë të ndryshme nga fotografitë.\n",
    "\n",
    "Një algoritëm klasifikimi merr një koleksion shembujsh të etiketuar si hyrje dhe prodhon një model që mund të marrë një shembull të paetiketuar si hyrje dhe të nxjerrë një etiketë ose një numër që mund të përdoret për të nxjerrë me lehtësi etiketën, siç është probabiliteti.\n",
    "\n",
    "Si regresioni ashtu edhe klasifikimi janë algoritme të mbikëqyrura, por regresioni përdoret për të parashikuar vlerat numerike, ndërsa klasifikimi përdoret për të parashikuar kategoritë ose klasat."
   ]
  },
  {
   "cell_type": "markdown",
   "metadata": {
    "id": "9S_qjrVwpfw8"
   },
   "source": [
    "## 6.6. Mësimi i pambikëqyrur"
   ]
  },
  {
   "cell_type": "markdown",
   "metadata": {
    "id": "1INYa6ZSpfw8"
   },
   "source": [
    "Mësimi i pambikëqyrur merret me problemet në të cilat grupi i të dhënave përbëhet nga mostra të paetiketuara. Kjo veti është ajo që e bën atë problematik për shumë aplikime praktike. Mungesa e etiketave që përfaqësojnë sjelljen e dëshiruar të modelit nënkupton gjithashtu mungesën e një pike solide referimi me të cilën mund të vlerësohet cilësia dhe saktësia e \"të mësuarit\". Të mësuarit e pambikëqyrur mund të sillet në mënyrë më të paparashikueshme në krahasim me metodat e tjera natyrore të të mësuarit.\n",
    "\n",
    "Në mësimin e pambikëqyrur, modeli duhet të punojë vetë për të zbuluar modele dhe informacione që ishin të pazbuluara më parë. Megjithatë, algoritmet e mësimit të pambikëqyrur lejojnë kryerjen e detyrave më komplekse në krahasim me mësimin e mbikëqyrur.\n",
    "\n",
    "Një shembull i jetës reale i të mësuarit pa mbikëqyrje është një fëmijë që luan me blloqe dhe zbulon se si ato përshtaten së bashku për të ndërtuar struktura të ndryshme. Fëmijës nuk i jepen udhëzime ose etiketa specifike për blloqet, por në vend të kësaj eksploron dhe eksperimenton vetë për të zbuluar se si mund të përdoren ato. Në mënyrë të ngjashme, një fëmijë që luan me lodra të ndryshme dhe zbulon se si punojnë dhe çfarë mund të bëjë me to është një shembull i të mësuarit të pambikëqyrur. Nëpërmjet këtyre aktiviteteve, fëmija mund të mësojë dhe kuptojë mjedisin e tij pa mbikëqyrje apo udhëzim të drejtpërdrejtë.\n",
    "\n",
    "Një shembull tjetër është grupimi, ku një kompani tregtare mund të grupojë klientët bazuar në zakonet e tyre të blerjes. Algoritmi do të analizojë historinë e blerjeve të secilit klient dhe do t'i grupojë ata në grupe të ndryshme bazuar në produktet që ata priren të blejnë dhe sa shpesh i blejnë ato. Kompania më pas mund ta përdorë këtë informacion për të krijuar fushata marketingu të synuara për çdo grupim (grup) klientësh.\n",
    "\n",
    "Në thelb, mësimi i pambikëqyrur është mënyra se si njerëzit mësojnë. Kjo sjellje është më njerëzore, ndaj është më afër inteligjencës artificiale reale. Në aplikacionet reale, ne nuk kemi gjithmonë të dhëna të etiketuara, dhe të dhënat nuk kategorizohen gjithmonë, gjithashtu jo çdo hyrje ka një dalje përkatëse. Pra, në këto raste ne përdorim mësimin e pambikëqyrur."
   ]
  },
  {
   "cell_type": "code",
   "execution_count": null,
   "metadata": {
    "id": "-b05DkhHGDAF"
   },
   "outputs": [],
   "source": []
  }
 ],
 "metadata": {
  "colab": {
   "provenance": [
    {
     "file_id": "https://github.com/VALENCEML/eBOOK/blob/main/EN/06/6.%20Machine%20learning%20basics.ipynb",
     "timestamp": 1677598295987
    }
   ]
  },
  "kernelspec": {
   "display_name": "Python 3 (ipykernel)",
   "language": "python",
   "name": "python3"
  },
  "language_info": {
   "codemirror_mode": {
    "name": "ipython",
    "version": 3
   },
   "file_extension": ".py",
   "mimetype": "text/x-python",
   "name": "python",
   "nbconvert_exporter": "python",
   "pygments_lexer": "ipython3",
   "version": "3.9.13"
  },
  "vscode": {
   "interpreter": {
    "hash": "17b278bc7a0163406863801e9ff328cef6bd5f7ace6571203c0c27149f313665"
   }
  }
 },
 "nbformat": 4,
 "nbformat_minor": 1
}
