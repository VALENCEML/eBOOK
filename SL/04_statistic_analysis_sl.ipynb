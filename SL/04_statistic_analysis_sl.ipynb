{
 "cells": [
  {
   "cell_type": "markdown",
   "id": "9ec264a8",
   "metadata": {},
   "source": [
    "# 4. Statistična analiza\n",
    "(pripravil Arpad Kočiš, ETSMP, Srbija)\n",
    "\n",
    "Statistika ima pomembno vlogo pri strojnem učenju, saj zagotavlja orodja in metode za modeliranje, analizo in razlago podatkov."
   ]
  },
  {
   "cell_type": "markdown",
   "id": "54165afc",
   "metadata": {},
   "source": [
    "## 4.1 Programerska orodja in paketi za statistično analizo\n",
    "V tem poglavju bomo uporabljali **python** in **Jupyter Notebook**. Na voljo je veliko **Pythonovih statističnih knjižnic**, vendar bomo v tem poglavju uporabljali naslednje:\n",
    "\n",
    "<ul>\n",
    "    <li><b>NumPy</b> je knjižnica v jeziku Python, ki omogoča delo z velikimi množicami števil in izvajanje matematičnih operacij z njimi, kot sta linearna algebra in statistična analiza. Pogosto se uporablja v znanstvenem računalništvu, analizi podatkov in strojnem učenju.</li>\n",
    "    <li><b>SciPy</b> je knjižnica v Pythonu, ki razširja funkcionalnost NumPy za znanstveno računanje. Vključuje tudi scipy.stats, ki se uporablja za statistično analizo.</li>\n",
    "    <li><b>Pandas</b> je knjižnica Pythona, ki omogoča enostavno delo s podatki. Zagotavlja orodja za ravnanje s podatki v tabelarični obliki, podobno kot programska oprema za preglednice. Pogosto se uporablja pri nalogah analize, čiščenja, manipulacije in vizualizacije podatkov ter dobro sodeluje z drugimi knjižnicami, kot so NumPy, SciPy in Matplotlib.</li>\n",
    "    <li><b>Matplotlib</b> je knjižnica za vizualizacijo podatkov. Zlahka jo je mogoče kombinirati z NumPy, SciPy in Pandas knjižnicami.</li>\n",
    "</ul>"
   ]
  },
  {
   "cell_type": "markdown",
   "id": "4162411c",
   "metadata": {},
   "source": [
    "## 4.2 Opisna in inferenčna statistika \n",
    "Opisna in sklepalna statistika sta dve glavni veji statistike, ki se uporabljata za različne namene. Statistika je način za razumevanje velikih količin podatkov. \n",
    "\n",
    "**Opisna statistika** se uporablja za povzemanje, urejanje in opisovanje niza podatkov. Z njo si lahko ustvarimo splošno sliko podatkov, kot so povprečje, mediana in razpon. Če bi na primer želeli izvedeti povprečno višino učencev v vašem razredu, bi za izračun uporabili opisno statistiko.\n",
    "\n",
    "**Inferenčna statistika** pa se uporablja za napovedovanje ali posploševanje o populaciji na podlagi vzorca podatkov. Z njo lahko na podlagi analize manjše skupine sklepate o večji skupini. Če bi na primer želeli izvedeti povprečno višino vseh učencev na vaši šoli, bi vzeli vzorec višine učencev iz vašega razreda in s pomočjo inferenčne statistike ocenili povprečno višino celotne šolske populacije.\n",
    "\n",
    "Preprosto povedano, **opisna statistika** pomaga razumeti razpoložljive podatke, **inferenčna statistika** pa pomaga napovedovati podatke, ki še niso na voljo.\n",
    "V tem poglavju se bomo osredotočili predvsem na opisno statistiko. Z napredovanjem predavanj se bomo bolj osredotočili na inferenčno statistiko, ko se bomo poglobili v tehnike strojnega učenja."
   ]
  },
  {
   "cell_type": "markdown",
   "id": "216741fc",
   "metadata": {},
   "source": [
    "## 4.3 Univariatna analiza\n",
    "Univariatna statistika je podobna obravnavi ene informacije naenkrat. Morda boste na primer želeli vedeti, kako so se vaši sošolci odrezali pri testu. Zberete lahko rezultate in uporabite univariatno statistiko za razumevanje in opis podatkov.\n",
    "Univariatna statistika v tem primeru vključuje:\n",
    "ugotavljanje povprečnega rezultata (imenovanega tudi povprečje), \n",
    "ugotavljanje, koliko ljudi je dobilo različne rezultate, \n",
    "ugotavljanje, ali se kateri od rezultatov zelo razlikuje od drugih (izstopajoči rezultati),\n",
    "ugotavljanje porazdelitve rezultatov (variance).\n",
    "\n",
    "\n",
    "Univariatna statistika je dober način, da dobite splošno predstavo o tem, kako so podatki videti, in ugotovite, ali obstajajo kakšni vzorci ali trendi. To je, kot da bi si ogledali en delček sestavljanke in ugotovili, kaj vam pove o celotni sliki."
   ]
  },
  {
   "cell_type": "markdown",
   "id": "a8138741",
   "metadata": {},
   "source": [
    "## 4.4 Meritve centralne tendence\n",
    "Meritve centralne tendence so statistične mere, ki se uporabljajo za opis osrednje ali tipične vrednosti podatkovne zbirke. Najpogostejše mere centralne tendence so **povprečna vrednost**, **mediana** in **modus**."
   ]
  },
  {
   "cell_type": "markdown",
   "id": "727b3850",
   "metadata": {},
   "source": [
    "### 4.4.1 Aritmetična sredina\n",
    "Aritmetična sredina, znana tudi kot \"**povprečje**\", je način iskanja srednje vrednosti množice števil. Srednjo vrednost poiščemo tako, da vsa števila seštejemo in nato delimo s številom elementov v množici. Na primer, srednja vrednost množice x= {1, 2, 3} število elementov v množici n = 3 je:\n",
    "\n",
    "\n",
    "$$\n",
    "   \\frac{x1+x2+...+xn}{n} = \\frac{1+2+3}{3} = \\frac{6}{3} = 2\n",
    "$$\n",
    "\n",
    "V Pythonu lahko za iskanje aritmetične sredine množice števil uporabite knjižnico numpy. Tukaj je primer:"
   ]
  },
  {
   "cell_type": "code",
   "execution_count": 3,
   "id": "35ffcdb0",
   "metadata": {},
   "outputs": [
    {
     "name": "stdout",
     "output_type": "stream",
     "text": [
      "2.0\n"
     ]
    }
   ],
   "source": [
    "import numpy as np\n",
    "\n",
    "# ustvari množico podatkov\n",
    "numbers = np.array([1, 2, 3])\n",
    "\n",
    "# uporabi funkcijo mean() za izračun povprečja\n",
    "mean = np.mean(numbers)\n",
    "\n",
    "# izpiši povprečje\n",
    "print(mean)"
   ]
  },
  {
   "cell_type": "markdown",
   "id": "caa66d78",
   "metadata": {},
   "source": [
    "### 4.4.2 Uravnoteženo povprečje\n",
    "\n",
    "Uravnoteženo povprečje je podobne običajnemu povprečju (imenovano tudi aritmetična sredina), vendar daje večjo **pomembnost** (ali težo) določenim** **vrednostim** v množici.\n",
    "\n",
    "Da bi našli uravnoteženo povprečje, najprej vsaki vrednosti v množici dodelimo utež, nato pa vsako vrednost pomnožimo z njeno utežjo. Nato seštejemo vse rezultate in jih delimo s skupno utežjo.\n",
    "\n",
    "Recimo, da imate na primer nabor testnih rezultatov x = {70, 80, 90} in ustrezne uteži w = {2, 3, 5} število elementov v teh naborih je n = 3.\n",
    "Če želite ugotoviti uravnoteženo povprečje, morate narediti naslednje:\n",
    "\n",
    "$$\n",
    "    m = \\frac{(x_{1}*w_{1}+x_{2}*w_{2}+...+x_{n}*w_{n})}{w_{1}+w_{2}+...+w_{n}} = \\frac{(70*2 + 80*3+ 90*5)}{(2+3+5)} = \\frac{830}{10} = 83\n",
    "$$\n",
    "Zdi se, kot da nekaterim številkam v nizu dajete večjo težo, tako da se bolj upoštevajo pri končnem povprečju. Uporablja se v primerih, ko so vrednosti različno pomembne, tako lahko vrednostim, ki so pomembnejše, daste večjo težo."
   ]
  },
  {
   "cell_type": "code",
   "execution_count": 4,
   "id": "59d7a9ad",
   "metadata": {},
   "outputs": [
    {
     "name": "stdout",
     "output_type": "stream",
     "text": [
      "83.0\n"
     ]
    }
   ],
   "source": [
    "import numpy as np\n",
    "\n",
    "# ustvari množico števil\n",
    "numbers = np.array([70, 80, 90])\n",
    "\n",
    "# vsakemu številu priredi utež\n",
    "weights = np.array([2, 3, 5])\n",
    "\n",
    "# uporabi funkcijo average() s parametrom weights\n",
    "weighted_mean = np.average(numbers, weights=weights)\n",
    "\n",
    "# izpiši uteženo povprečje\n",
    "print(weighted_mean)"
   ]
  },
  {
   "cell_type": "markdown",
   "id": "7f7cddc9",
   "metadata": {},
   "source": [
    "### 4.4.3 Geometrična sredina\n",
    "\n",
    "Geometrijska sredina je način iskanja povprečja množice števil tako, da jih pomnožimo in nato vzamemo n-ti koren (kjer je n število števil v množici). Uporablja se za iskanje povprečja množice števil, kadar vsa števila niso enaka in kadar so vrednosti lahko večje ali manjše od 1.\n",
    "\n",
    "Recimo, da imamo množico števil x = {2, 4, 8} z dolžino n = 3. Geometrijsko sredino lahko izračunamo tako:\n",
    "\n",
    "\n",
    "$$\n",
    "  g = \\sqrt[n]{x_{1}*x_{2}*...*x_{n}} = \\sqrt[3]{2*4*4} = \\sqrt[3]{64} = 4\n",
    "$$\n",
    "Geometrijsko sredino pogosto uporabljamo za iskanje povprečja stopenj sprememb ali stopenj rasti. Uporablja se tudi v financah za izračun povprečne stopnje donosa naložbe v določenem časovnem obdobju.\n",
    "\n",
    "Ne pozabite, da je geometrijska sredina vedno manjša ali enaka aritmetični sredini (razen kadar so vse vrednosti enake).\n",
    "\n",
    "V večini primerov se uporablja, kadar je niz podatkov pozitivno poševno razporejen, torej kadar je več majhnih vrednosti kot velikih."
   ]
  },
  {
   "cell_type": "code",
   "execution_count": 5,
   "id": "e4e94a46",
   "metadata": {},
   "outputs": [
    {
     "name": "stdout",
     "output_type": "stream",
     "text": [
      "4.0\n"
     ]
    }
   ],
   "source": [
    "from scipy.stats import gmean\n",
    "# ustvari množico števil\n",
    "numbers = np.array([2, 4, 8])\n",
    "\n",
    "# uporabi funkcijo gmean za izračun geometrijskega povprečja\n",
    "geometric_mean = gmean(numbers)\n",
    "\n",
    "# izpiši povprečje\n",
    "print(geometric_mean)"
   ]
  },
  {
   "cell_type": "markdown",
   "id": "9b9eaaef",
   "metadata": {},
   "source": [
    "### 4.4.4 Harmonično povprečje\n",
    "Harmonična sredina je način iskanja povprečja množice števil, tako da vzamemo recipročno vrednost aritmetične sredine recipročnih vrednosti števil. Uporablja se za izračun povprečja stopenj.\n",
    "\n",
    "Recimo, da imamo množico števil {3, 4, 5}, število elementov v množici n = 3. Če želite najti harmonično sredino, naredite naslednje:\n",
    "\n",
    "$$\n",
    "    h = \\frac{n}{\\frac{1}{x_{1}}+\\frac{1}{x_{2}}+...+\\frac{1}{x_{n}}} = \\frac{3}{\\frac{1}{3}+\\frac{1}{4}+\\frac{1}{5}} = 3,829\n",
    "$$\n",
    "\n",
    "<br>\n",
    "Harmonično sredino pogosto uporabljamo pri delu s hitrostmi, kot so hitrosti ali hitrosti sprememb. Uporablja se tudi v financah in ekonomiji za izračun povprečja obrestnih mer, stopenj inflacije in rasti.\n",
    "\n",
    "Upoštevajte, da je harmonična sredina vedno manjša od aritmetične in geometrijske sredine, razen kadar so vse vrednosti v nizu podatkov enake.\n",
    "\n",
    "Uporablja se tudi, kadar niz podatkov vsebuje ničle, saj geometrijska sredina ni določena, kadar niz podatkov vsebuje ničlo."
   ]
  },
  {
   "cell_type": "code",
   "execution_count": 6,
   "id": "d43c4d77",
   "metadata": {},
   "outputs": [
    {
     "name": "stdout",
     "output_type": "stream",
     "text": [
      "3.829787234042554\n"
     ]
    }
   ],
   "source": [
    "from scipy.stats import hmean\n",
    "\n",
    "# ustvari množico števil\n",
    "numbers = np.array([3, 4, 5])\n",
    "\n",
    "# uporabi funkcijo hmean() za izračun harmoničnega povprečja\n",
    "harmonic_mean = hmean(numbers)\n",
    "\n",
    "# izpiši povprečje\n",
    "print(harmonic_mean)"
   ]
  },
  {
   "cell_type": "markdown",
   "id": "44b4f3dd",
   "metadata": {},
   "source": [
    "### 4.4.5 Mediana\n",
    "Mediana je način iskanja srednje vrednosti množice števil. Uporablja se za iskanje srednje vrednosti množice števil, kadar obstajajo zelo velike ali zelo majhne vrednosti (izstopajoče vrednosti), ki bi izkrivljale povprečje (sredino) množice.\n",
    "\n",
    "Da bi našli srednjo vrednost, morate najprej vsa števila v množici razvrstiti po številčnem vrstnem redu. Če ima množica liho število elementov, je mediana srednja vrednost. Če ima množica sodo število elementov, je mediana povprečje dveh srednjih vrednosti.\n",
    "\n",
    "Recimo, da imamo na primer množico številk {5, 2, 4, 8, 10}. Da bi našli mediano, bi števila razvrstili po številčnem vrstnem redu: {2, 4, 5, 8, 10}. Ker ima množica liho število elementov, je mediana srednja vrednost, ki je 5.\n",
    "\n",
    "Če ima množica sodo število elementov, na primer {2,7,1,12,5,6}, če jo razvrstimo: {1,2,5,6,7,12}. Mediana je povprečna vrednost dveh srednjih vrednosti 5+6/2 = 5.5"
   ]
  },
  {
   "cell_type": "code",
   "execution_count": 8,
   "id": "ab3d6e7c",
   "metadata": {},
   "outputs": [
    {
     "name": "stdout",
     "output_type": "stream",
     "text": [
      "Mediana množice lihoStevil je:  5.0\n",
      "Mediana množice sodoStevil je:  5.5\n"
     ]
    }
   ],
   "source": [
    "import numpy as np\n",
    "\n",
    "# ustavri množico števil\n",
    "lihoStevil = np.array([5, 2, 4, 8, 10])\n",
    "sodoStevil = np.array([1, 2, 5, 6, 7, 12])\n",
    "\n",
    "# uporabi funkcijo median()\n",
    "medianLiho = np.median(lihoStevil)\n",
    "medianSodo = np.median(sodoStevil)\n",
    "# izpiši rezultate\n",
    "print(\"Mediana množice lihoStevil je: \", medianLiho)\n",
    "print(\"Mediana množice sodoStevil je: \", medianSodo)"
   ]
  },
  {
   "cell_type": "markdown",
   "id": "1ff09e28",
   "metadata": {},
   "source": [
    "### 4.4.6 Modus"
   ]
  },
  {
   "cell_type": "markdown",
   "id": "f91d18d5",
   "metadata": {},
   "source": [
    "Modus je način iskanja najpogostejših vrednosti v nizu števil. Uporablja se za iskanje vrednosti, ki se najpogosteje pojavlja(jo) v nizu podatkov. Nabor podatkov ima lahko en način, več kot en način ali pa sploh nima načina.\n",
    "\n",
    "Recimo, da imamo na primer množico števil {1, 2, 2, 3, 4, 4, 4}. Da bi našli način, bi prešteli, kolikokrat se posamezno število pojavi v množici. Število 4 se pojavi najpogosteje, trikrat, zato je način 4.\n",
    "\n",
    "Nabor podatkov ima lahko en modus, več kot en modusov ali pa sploh nima modus. Če ima niz podatkov en modus, se imenuje unimodalen. Če ima niz podatkov več kot en modus, se imenuje multimodalen. Če nabor podatkov nima modus, se imenuje nemodalen.\n",
    "\n",
    "Modus se pogosto uporablja v statistiki za iskanje najpogostejših vrednosti v nizu podatkov. Uporaben je takrat, ko so v podatkih kakšna odstopanja, ki bi izkrivila srednjo vrednost ali mediano. Uporablja se tudi v financah in ekonomiji za iskanje najpogostejših vrednosti v nizu podatkov, na primer najpogostejše cene delnice ali najpogostejše obrestne mere."
   ]
  },
  {
   "cell_type": "code",
   "execution_count": 9,
   "id": "4abca0dc",
   "metadata": {},
   "outputs": [
    {
     "name": "stdout",
     "output_type": "stream",
     "text": [
      "[4]\n"
     ]
    }
   ],
   "source": [
    "# vključi modul modus\n",
    "from scipy.stats import mode\n",
    "\n",
    "numbers = np.array([1, 2, 2, 3, 4, 4, 4])\n",
    "# uporabi modus funkcijo\n",
    "mode, modeCount = mode(numbers)\n",
    "\n",
    "# izpiši rezultat\n",
    "print(mode)"
   ]
  },
  {
   "cell_type": "markdown",
   "id": "372b6975",
   "metadata": {},
   "source": [
    "## 4.5 Mere variabilnosti\n",
    "\n",
    "Mere variabilnosti so statistične mere, ki opisujejo, kako razpršen je niz podatkov. Zagotavljajo informacije o stopnji odstopanja podatkov od povprečja. Nekatere pogoste mere variabilnosti vključujejo:\n",
    "\n",
    "<ul>\n",
    "    <li>Varianca</li>\n",
    "    <li>Standardni odklon</li>\n",
    "    <li>Poševnost</li>\n",
    "    <li>Percentili</li>\n",
    "    <li>Razponi</li>\n",
    "</ul>"
   ]
  },
  {
   "cell_type": "markdown",
   "id": "f7e12a0b",
   "metadata": {},
   "source": [
    "### 4.5.1 Varianca\n",
    "Varianco uporabljamo za ugotavljanje količine razpršenosti v nizu podatkov. Večja kot je varianca, bolj razpršeni so podatki. Manjša kot je varianca, bolj zgoščeni so podatki.\n",
    "\n",
    "Da bi ugotovili varianco, najprej ugotovimo srednjo vrednost niza števil, nato pa za vsako število odštejemo srednjo vrednost in rezultat kvadriramo. Nato seštejete vse kvadratne razlike in jih delite s številom elementov v nizu. Tako dobimo varianco.\n",
    "\n",
    "Recimo, da imate na primer niz številk {1, 2, 3, 4, 5}. Da bi ugotovili varianco, bi najprej ugotovili povprečje množice (15/5 = 3), nato pa za vsako število odšteli povprečje in rezultat kvadrirali: \n",
    "\n",
    "(1-3)² = 4, (2-3)² = 1, (3-3)² = 0, (4-3)² = 1, (5-3)² = 4. \n",
    "\n",
    "Nato seštejemo vse kvadratne razlike in jih delimo s številom elementov v nizu \n",
    "\n",
    "(4+1+0+1+4)/5 = 10/5 = 2. \n",
    "\n",
    "Torej je varianta množice 2.\n",
    "\n",
    "$$\n",
    "    S^2 = \\frac{(x_{1}-m)^2+(x+{2}-m)^2+..+(x_{n}-m)^2}{n} = \\frac{(1-3)^2+(2-3)^2+(3-3)^2+(4-3)^2+(5-3)^2+}{5} = 2\n",
    "$$\n",
    "\n",
    "Varianca je v statistiki uporabna za ugotavljanje, koliko variacije ali razpršenosti je v nizu podatkov. Uporablja se tudi v financah in ekonomiji za merjenje tveganja naložbe ali nestanovitnosti delnice."
   ]
  },
  {
   "cell_type": "code",
   "execution_count": 11,
   "id": "1e83cdad",
   "metadata": {},
   "outputs": [
    {
     "name": "stdout",
     "output_type": "stream",
     "text": [
      "varianca podatkov, ki so razpršeni:  0.4\n",
      "varianca podatkov, ki so zgoščeni:  200.0\n"
     ]
    },
    {
     "data": {
      "image/png": "[encoded data removed]",
      "text/plain": [
       "<Figure size 432x288 with 1 Axes>"
      ]
     },
     "metadata": {
      "needs_background": "light"
     },
     "output_type": "display_data"
    }
   ],
   "source": [
    "import numpy as np\n",
    "import matplotlib.pyplot as plt\n",
    "\n",
    "# ukvari podatkovni množici\n",
    "dataSpreadOut = np.array([1, 2, 2, 2, 3])\n",
    "dataConcentrated = np.array([-10,0,10,20,30])\n",
    "\n",
    "# uporabi funkcijo var()\n",
    "varianceSpread = np.var(dataSpreadOut, axis=0)\n",
    "varianceConcentrated = np.var(dataConcentrated, axis=0)\n",
    "\n",
    "\n",
    "# izpiši rezultat\n",
    "print(\"varianca podatkov, ki so razpršeni: \", varianceSpread)\n",
    "print(\"varianca podatkov, ki so zgoščeni: \", varianceConcentrated)\n",
    "\n",
    "\n",
    "# nariši grafa\n",
    "plt.scatter(dataSpreadOut, [0] * dataSpreadOut.shape[0])\n",
    "plt.scatter(dataConcentrated, [0] * dataConcentrated.shape[0])\n",
    "plt.show()"
   ]
  },
  {
   "cell_type": "markdown",
   "id": "b0ecd600",
   "metadata": {},
   "source": [
    "### 4.5.2 Standardni odklon\n",
    "Standardni odklon je zelo podoben varianci in se večinoma uporablja za iste stvari. V bistvu je kvadratni koren variance. \n",
    "\n",
    "Recimo, da imamo na primer niz številk {1, 2, 3, 4, 5}. Če želite ugotoviti standardni odklon, najprej ugotovite varianco množice (15/5 = 3), varianta je 2, nato pa vzemite kvadratni koren variance √2 = 1,41. Torej je standardni odklon množice 1,41."
   ]
  },
  {
   "cell_type": "code",
   "execution_count": 13,
   "id": "25a983bb",
   "metadata": {},
   "outputs": [
    {
     "name": "stdout",
     "output_type": "stream",
     "text": [
      "1.4142135623730951\n"
     ]
    }
   ],
   "source": [
    "import numpy as np\n",
    "\n",
    "# ustvari množico podatkov\n",
    "numbers = np.array([1, 2, 3, 4, 5])\n",
    "\n",
    "# uporabi funcijo std()\n",
    "std_dev = np.std(numbers)\n",
    "\n",
    "# izpiši rezultat\n",
    "print(std_dev)"
   ]
  },
  {
   "cell_type": "markdown",
   "id": "c3d2f15c",
   "metadata": {},
   "source": [
    "### 4.5.3 Poševnost\n",
    "Poševnost je mera asimetrije verjetnostne porazdelitve naključne spremenljivke z realno vrednostjo glede na njeno srednjo vrednost. Pove, koliko so podatki poševni ali nagnjeni na eno ali drugo stran. Če so podatki simetrični, je vrednost skewness enaka 0. Če so podatki nagnjeni v levo, je vrednost skewness negativna. Če so podatki nagnjeni v desno, bo poševnost pozitivna.\n",
    "\n",
    "Na primer, če imate niz števil {1, 2, 3, 4, 5}, srednja vrednost je 3 in podatki so simetrični, zato je poševnost 0. Če imate niz števil {1, 2, 3, 4, 10}, srednja vrednost je 4 in podatki so nagnjeni v desno, zato je poševnost pozitivna.\n",
    "\n",
    "Poštevnost se uporablja za razumevanje porazdelitve podatkov in njihove razporeditve. Poševna porazdelitev lahko kaže na prisotnost izstopajočih ali ekstremnih vrednosti. \n",
    "\n",
    "Je merilo simetrije ali, natančneje, pomanjkanja simetrije. Pozitivna poševnost pomeni, da je večja teža v levem repu porazdelitve, repu na strani manjših vrednosti. Negativna poševnost pomeni, da je več teže v desnem repu, torej na strani večjih vrednosti."
   ]
  },
  {
   "cell_type": "code",
   "execution_count": 14,
   "id": "aedc3462",
   "metadata": {},
   "outputs": [
    {
     "name": "stdout",
     "output_type": "stream",
     "text": [
      "0.0\n"
     ]
    }
   ],
   "source": [
    "from scipy.stats import skew\n",
    "\n",
    "# ustvari množico podatkov\n",
    "numbers = [1, 2, 3, 4, 5]\n",
    "\n",
    "# uporabi skew funkcijo\n",
    "skewness = skew(numbers)\n",
    "\n",
    "# izpiši rezultat\n",
    "print(skewness)"
   ]
  },
  {
   "cell_type": "markdown",
   "id": "b8f931be",
   "metadata": {},
   "source": [
    "### 4.5.4 Percentili\n",
    "Percentil je merilo, ki pove, kolikšen odstotek vrednosti v nizu podatkov je pod določeno vrednostjo. Če je na primer vrednost v 90. centilu, to pomeni, da je 90 % vrednosti v nizu podatkov pod to vrednostjo. Percentili se pogosto uporabljajo za razumevanje porazdelitve podatkov in za primerjavo vrednosti znotraj podatkovnega niza.\n",
    "\n",
    "Recimo, da imate na primer niz rezultatov testov {80, 85, 90, 95, 100}. Če želite poiskati 50. percentil rezultatov, jih najprej razvrstite po vrstnem redu: {80, 85, 90, 95, 100}. Nato poiščite rezultat, ki je večji ali enak 50 % drugih rezultatov. V tem primeru je 50. percentilni rezultat 90, ker je 50 % rezultatov nižjih od 90.\n",
    "\n",
    "Percentili se pogosto uporabljajo v statistiki, zlasti v izobraževanju in na področju zdravstva. V izobraževanju se percentili pogosto uporabljajo za primerjavo rezultatov učenčevih testov z rezultati drugih učencev v istem razredu. V zdravstvu se percentili pogosto uporabljajo za primerjavo otrokove rasti z rastjo drugih otrok iste starosti in spola. Percentili se uporabljajo tudi v financah in ekonomiji za merjenje uspešnosti delnice v primerjavi z drugimi delnicami.\n",
    "\n",
    "Pomembno je opozoriti, da se percentil razlikuje od odstotka, saj je percentil vrednost, pod katero pade določen odstotek opazovanj, medtem ko je odstotek vrednost, ki predstavlja del celote."
   ]
  },
  {
   "cell_type": "code",
   "execution_count": 15,
   "id": "bd35b6f2",
   "metadata": {},
   "outputs": [
    {
     "name": "stdout",
     "output_type": "stream",
     "text": [
      "90.0\n"
     ]
    }
   ],
   "source": [
    "import numpy as np\n",
    "\n",
    "# ustvari množico podatkov\n",
    "numbers = [80, 85, 90, 95, 100]\n",
    "\n",
    "# uporabi funkcijo percentile()\n",
    "percentile_50 = np.percentile(numbers, 50)\n",
    "\n",
    "# izpiši rezultat\n",
    "print(percentile_50)"
   ]
  },
  {
   "cell_type": "markdown",
   "id": "9e00784b",
   "metadata": {},
   "source": [
    "### 4.5.5 Razponi\n",
    "Razpon je merilo razponov niza števil. Pove vam razliko med največjo in najmanjšo vrednostjo v nizu podatkov. Izračunamo ga tako, da od največje vrednosti odštejemo najmanjšo vrednost.\n",
    "\n",
    "Na primer, če imamo nabor števil {1, 2, 3, 4, 5}, je najmanjša vrednost 1, največja pa 5, zato je razpon 5 - 1 = 4. To pomeni, da je razlika med najmanjšo in največjo vrednostjo v množici 4.\n",
    "\n",
    "Razpon je preprosto merilo razpršenosti, ki daje predstavo o tem, kako razpršeni so podatki, vendar ne upošteva pogostosti ali porazdelitve podatkov. Nanj lahko vplivajo izstopajoče in ekstremne vrednosti. Druge mere razpršenosti, kot sta medkvartilni razpon ali standardni odklon, so zanesljivejše in upoštevajo porazdelitev podatkov.\n",
    "\n",
    "V statistiki se razpon pogosto uporablja za razumevanje razpršenosti podatkov in za primerjavo razpršenosti različnih podatkovnih nizov. Uporablja se tudi v financah in ekonomiji za merjenje nestanovitnosti ali tveganja naložbe ali delnice."
   ]
  },
  {
   "cell_type": "code",
   "execution_count": 16,
   "id": "c297bcdd",
   "metadata": {},
   "outputs": [
    {
     "name": "stdout",
     "output_type": "stream",
     "text": [
      "4\n"
     ]
    }
   ],
   "source": [
    "import numpy as np\n",
    "numbers = [1, 2, 3, 4, 5]\n",
    "\n",
    "# razpon\n",
    "print(np.ptp(numbers))"
   ]
  },
  {
   "cell_type": "markdown",
   "id": "7e6dd1e1",
   "metadata": {},
   "source": [
    "## 4.6 Bivariatna analiza\n",
    "Bivariatna analiza je način preučevanja razmerja med dvema spremenljivkama. Pomaga razumeti, kako so spremembe ene spremenljivke povezane s spremembami druge spremenljivke. Če želite na primer preučiti povezavo med tem, koliko se učenci učijo, in njihovimi rezultati na testih, vam lahko bivariatna analiza pomaga razumeti, ali med njima obstaja povezava.\n",
    "\n",
    "Bivariatno analizo lahko izvedete na različne načine, vendar so nekatere pogoste metode naslednje:\n",
    "\n",
    "Diagrami razpršitve: Graf razpršitve je graf, ki prikazuje razmerje med dvema spremenljivkama tako, da ju postavi na os x-y.\n",
    "\n",
    "Korelacija: Korelacija je število med -1 in 1, ki kaže, kako tesno sta dve spremenljivki povezani. Korelacija 1 pomeni, da sta spremenljivki popolnoma povezani, korelacija -1 pomeni, da sta popolnoma obratno povezani, 0 pa pomeni, da nista povezani.\n",
    "\n",
    "Regresija: Regresija je metoda, ki uporablja podatke za iskanje najboljše črte ali krivulje, ki ustreza razmerju med dvema spremenljivkama.\n",
    "\n",
    "Dvodimenzionalno analizo lahko uporabimo za ugotavljanje vzorcev in trendov v podatkih, preverjanje hipotez o razmerju med spremenljivkami in napovedovanje prihodnjih dogodkov ali trendov. Pomembno je poudariti, da pomaga razumeti razmerje med dvema spremenljivkama, ne pojasnjuje pa vzroka za to razmerje.\n",
    "\n",
    "Uporabna je lahko za učence, ki želijo razumeti, kako lahko različni dejavniki vplivajo na njihovo uspešnost v šoli. Na primer, kako bi lahko več učenja vplivalo na njihove rezultate pri testih ali kako bi lahko dovolj spanja vplivalo na njihovo zbranost in sposobnost učenja. Razumevanje razmerja med temi spremenljivkami jim lahko pomaga pri sprejemanju boljših odločitev o tem, kako naj porabijo svoj čas in katere ukrepe naj sprejmejo za izboljšanje svoje uspešnosti."
   ]
  },
  {
   "cell_type": "markdown",
   "id": "f1792113",
   "metadata": {},
   "source": [
    "## 4.7 Večdimenzionalna analiza\n",
    "\n",
    "Večrazsežnostna statistika je veja statistike, ki se ukvarja z analizo in razumevanjem odnosa med več kot dvema spremenljivkama. Pomaga razumeti, kako je več spremenljivk povezanih in kako vplivajo druga na drugo.\n",
    "\n",
    "Če želite na primer razumeti, kako so učenčeve študijske navade, spalne navade in raven stresa povezane z njegovimi rezultati na testih, vam lahko multivariatna statistika pomaga razumeti, kako so vse te spremenljivke povezane in kako vplivajo na rezultate testov."
   ]
  },
  {
   "cell_type": "markdown",
   "id": "18aa60bb",
   "metadata": {},
   "source": [
    "*Vaje*\n",
    "\n",
    "- Dodajte različna polja v te prejšnje primere in preizkusite kode.\n",
    "\n",
    "- Prenesite zbirko podatkov iz programa kaggle in uporabite te metode za podatke."
   ]
  },
  {
   "cell_type": "code",
   "execution_count": null,
   "id": "819c3687",
   "metadata": {},
   "outputs": [],
   "source": []
  }
 ],
 "metadata": {
  "kernelspec": {
   "display_name": "Python 3 (ipykernel)",
   "language": "python",
   "name": "python3"
  },
  "language_info": {
   "codemirror_mode": {
    "name": "ipython",
    "version": 3
   },
   "file_extension": ".py",
   "mimetype": "text/x-python",
   "name": "python",
   "nbconvert_exporter": "python",
   "pygments_lexer": "ipython3",
   "version": "3.10.4"
  }
 },
 "nbformat": 4,
 "nbformat_minor": 5
}
