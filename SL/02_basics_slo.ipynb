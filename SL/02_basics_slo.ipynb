{
 "cells": [
  {
   "cell_type": "markdown",
   "id": "930ad3c0",
   "metadata": {},
   "source": [
    "# 2. Osnove programiranja"
   ]
  },
  {
   "cell_type": "markdown",
   "id": "61026288",
   "metadata": {},
   "source": [
    "Pripravil Branislav Gerazov, FEEIT, CMUS"
   ]
  },
  {
   "cell_type": "markdown",
   "id": "41c7e343",
   "metadata": {},
   "source": [
    "V tem interaktivnem gradivu bomo uporabljali Python kot programski jezik, ki prevladuje na številnih področjih, še posebej pa na področju strojnega učenja in podatkovne znanosti. \n",
    "V tem poglavju bomo predstavili kratek pregled sintakse Pythona, ki bo bodočim študentom zadostoval za spremljanje preostalega gradiva.\n",
    "Predhodno znanje programiranja ni potrebno ali se ne predpostavlja.\n",
    "Pregled ohlapno temelji na publikaciji [Scipy Lecture Notes](https://scipy-lectures.org/), ki je zbirka vodnikov o znanstvenem ekosistemu Python. Ti so kolektivno delo približno 100 sodelavcev in so licencirani s prosto licenco Creative Commons Priznanje avtorstva 4.0 International License (CC-by). Izvorne datoteke so na voljo na [GitHub](https://github.com/scipy-lectures/scipy-lecture-notes)."
   ]
  },
  {
   "cell_type": "markdown",
   "id": "886e2a14",
   "metadata": {},
   "source": [
    "## 2.1. Zakaj Python?"
   ]
  },
  {
   "cell_type": "markdown",
   "id": "9cd3e87d",
   "metadata": {},
   "source": [
    "\\* To poglavje je bilo napisano s pomočjo programa [ChatGPT](https://openai.com/blog/chatgpt/) podjetja Open.ai."
   ]
  },
  {
   "cell_type": "markdown",
   "id": "d30dc43a",
   "metadata": {},
   "source": [
    "Python je interpretirani programski jezik visoke ravni, ki je postal eden najbolj priljubljenih jezikov v industriji razvoja programske opreme. Glede na nedavne raziskave je Python po priljubljenosti in uporabi stalno na vrhu lestvice programskih jezikov.\n",
    "\n",
    "Python se ponaša z več razlogi za to rast priljubljenosti, med drugim:\n",
    "- **lahko učenje in branje**: Python ima preprosto in enostavno sintakso, ki začetnikom omogoča hitro osvojitev jezika, razvijalcem pa vzdrževanje in izboljševanje kode, ki so jo napisali drugi,\n",
    "- **vsestranskost**: Python se lahko uporablja za številne naloge, kot so razvoj spletnih strani, znanstveno računalništvo, analiza podatkov, umetna inteligenca in drugo.\n",
    "- **obsežna skupnost in številne knjižnice**: Python ima veliko in dejavno skupnost, ki prispeva k obsežni zbirki knjižnic in modulov, ki olajšajo reševanje določenih problemov.\n",
    "- **združljivost z različnimi platformami**: Python je privzeto nameščen v distribucijah GNU/Linux, vendar lahko teče na vseh operacijskih sistemih, vključno z Windows in MacOS, zato je idealna izbira za organizacije, ki svoje izdelke uporabljajo ali nameščajo na različnih napravah.\n",
    "- **dinamično tipiziran**: To pomeni, da se podatkovne vrste določijo med izvajanjem, kar olajša pisanje, prototipiranje in odpravljanje napak v kodi.\n",
    "\n",
    "Na splošno se bo priljubljenost Pythona v prihodnosti verjetno še naprej povečevala zaradi njegove preproste uporabe, vsestranskosti in vse večjega povpraševanja po aplikacijah za analizo podatkov in umetno inteligenco."
   ]
  },
  {
   "cell_type": "markdown",
   "id": "6d91219b",
   "metadata": {},
   "source": [
    "### Prednosti in slabosti proti C in C++"
   ]
  },
  {
   "cell_type": "markdown",
   "id": "bcaca49a",
   "metadata": {},
   "source": [
    "- **Sintaksa**: Python ima v primerjavi s programoma C in C++ preprostejšo in bolj berljivo sintakso, kar olajša pisanje in vzdrževanje kode. Po drugi strani pa C in C++ ponujata več nadzora nad operacijami na nizki strojni in sistemski ravni, zaradi česar sta primerna za aplikacije, ki so kritične z vidika zmogljivosti.\n",
    "\n",
    "- **Zmogljivost**: C in C++ sta sestavljena jezika, zato sta hitrejša od Pythona, ki je interpretiran jezik. C in C++ imata tudi večji nadzor nad upravljanjem pomnilnika, kar lahko privede do učinkovitejše uporabe pomnilnika.\n",
    "\n",
    "- **Čas razvoja**: V jezikih C in C++ je na splošno hitrejši in lažji razvoj zaradi preprostejše sintakse in samodejnega upravljanja pomnilnika, medtem ko je pri jezikih C in C++ potrebno bolj ročno upravljanje pomnilnika, razhroščevanje pa je lahko bolj zapleteno.\n",
    "\n",
    "- **Knjižnice in orodja**: Python ima veliko in dejavno skupnost, ki je prispevala k obsežni zbirki knjižnic in orodij, ki olajšajo reševanje določenih problemov. Tudi C in C++ imata veliko število knjižnic in orodij, vendar se razpoložljivost posebnih knjižnic za določen problem lahko razlikuje.\n",
    "\n",
    "- Primeri uporabe**: Python je vsestranski jezik, ki se med drugim pogosto uporablja za spletni razvoj, znanstveno računalništvo, analizo podatkov in umetno inteligenco. C in C++ se običajno uporabljata za programiranje na sistemski ravni, razvoj iger in druge aplikacije, ki so kritične za zmogljivost."
   ]
  },
  {
   "cell_type": "markdown",
   "id": "bcb9c8e2",
   "metadata": {},
   "source": [
    "### Prednosti in slabost proti MATLAB"
   ]
  },
  {
   "cell_type": "markdown",
   "id": "e3751ada",
   "metadata": {},
   "source": [
    "- **Sintaksa**: V primerjavi z MATLAB-om, ki je zasnovan posebej za numerično računanje, ima Python bolj vsestransko sintakso. Python se lahko uporablja za širši nabor nalog, ki presegajo numerično računanje, medtem ko je MATLAB osredotočen posebej na to področje.\n",
    "\n",
    "- **Cena**: MATLAB je lastniška programska oprema z visoko ceno v primerjavi s Pythonom, ki je odprtokoden in prosto dostopen.\n",
    "\n",
    "- **Knjižnice in orodja**: Tako MATLAB kot Python imata veliko zbirko knjižnic in orodij, vendar ima Python večjo in aktivnejšo skupnost, ki je prispevala k širšemu naboru knjižnic in orodij.\n",
    "\n",
    "- **Interoperabilnost**: MATLAB ima bogat nabor funkcij za numerično računanje, zato je zmogljivo orodje za posebne naloge. Vendar pa lahko Python sodeluje s širšim naborom programskih jezikov, zaradi česar ga je lažje povezati z drugimi orodji in sistemi.\n",
    "\n",
    "- Primeri uporabe**: MATLAB je posebej zasnovan za numerično računanje in se pogosto uporablja na področjih, kot so inženirstvo, finance in znanstveno računalništvo. Python pa je bolj vsestranski jezik in se uporablja za širši nabor nalog, vključno z razvojem spletnih strani, znanstvenim računalništvom, analizo podatkov in umetno inteligenco."
   ]
  },
  {
   "cell_type": "markdown",
   "id": "ef0722f9",
   "metadata": {},
   "source": [
    "# 2.2. Osnove pythona"
   ]
  },
  {
   "cell_type": "markdown",
   "id": "97eaa694",
   "metadata": {},
   "source": [
    "\\* Preden začnemo, moramo poudariti, da bomo v tem gradivu uporabljali Python 3. Python 2 je januarja 2020 dosegel konec življenjske dobe in se ne vzdržuje več."
   ]
  },
  {
   "cell_type": "markdown",
   "id": "bcab337c",
   "metadata": {},
   "source": [
    "Če želite slediti kodi, lahko v terminalu sprožite interaktivni poziv Pythona z vnosom `ipython`.\n",
    "To beležnico Jupyter lahko tudi urejate in izvajate celice kode v spletni IDE Jupyter Lab. \n",
    "\n",
    "\\* Če program `ipython` ni nameščen, ga lahko namestite v terminal z uporabo `pip install ipython`.\n",
    "\n",
    "Ko začnemo, lahko izvedemo arhetipski program `Hello world!`:"
   ]
  },
  {
   "cell_type": "code",
   "execution_count": 3,
   "id": "20fa98b8",
   "metadata": {},
   "outputs": [
    {
     "name": "stdout",
     "output_type": "stream",
     "text": [
      "Hello world!\n"
     ]
    }
   ],
   "source": [
    "print(\"Hello world!\")"
   ]
  },
  {
   "cell_type": "markdown",
   "id": "887f0f09",
   "metadata": {},
   "source": [
    "To je bilo lahko :)"
   ]
  },
  {
   "cell_type": "markdown",
   "id": "b0495d1d",
   "metadata": {},
   "source": [
    "### Zen pythona\n",
    "\n",
    "Preden začnemo, je koristno pregledati načela filozofije oblikovanja in kodiranja v Pythonu."
   ]
  },
  {
   "cell_type": "code",
   "execution_count": 4,
   "id": "a2a2c30b",
   "metadata": {},
   "outputs": [
    {
     "name": "stdout",
     "output_type": "stream",
     "text": [
      "The Zen of Python, by Tim Peters\n",
      "\n",
      "Beautiful is better than ugly.\n",
      "Explicit is better than implicit.\n",
      "Simple is better than complex.\n",
      "Complex is better than complicated.\n",
      "Flat is better than nested.\n",
      "Sparse is better than dense.\n",
      "Readability counts.\n",
      "Special cases aren't special enough to break the rules.\n",
      "Although practicality beats purity.\n",
      "Errors should never pass silently.\n",
      "Unless explicitly silenced.\n",
      "In the face of ambiguity, refuse the temptation to guess.\n",
      "There should be one-- and preferably only one --obvious way to do it.\n",
      "Although that way may not be obvious at first unless you're Dutch.\n",
      "Now is better than never.\n",
      "Although never is often better than *right* now.\n",
      "If the implementation is hard to explain, it's a bad idea.\n",
      "If the implementation is easy to explain, it may be a good idea.\n",
      "Namespaces are one honking great idea -- let's do more of those!\n"
     ]
    }
   ],
   "source": [
    "import this"
   ]
  },
  {
   "cell_type": "markdown",
   "id": "751c3d3c",
   "metadata": {},
   "source": [
    "### Tipi spremenljivk"
   ]
  },
  {
   "cell_type": "markdown",
   "id": "c0f1c11c",
   "metadata": {},
   "source": [
    "Python podpira naslednje vrste spremenljivk:\n",
    "- `int` - celo število\n",
    "- `float` - decimalno število\n",
    "- `complex` - kompleksno število\n",
    "- `bool` - logična vrednost (`True` ali `False`)\n",
    "\n",
    "Python je dinamično tipiziran, kar pomeni, da prevajalnik določi tip, ko je spremenljivka deklarirana med izvajanjem. Tip spremenljivke se lahko dinamično spreminja.\n",
    "\n",
    "\\* Python ne zahteva `;` na koncu vsake vrstice kode."
   ]
  },
  {
   "cell_type": "code",
   "execution_count": 5,
   "id": "9b632575",
   "metadata": {},
   "outputs": [
    {
     "data": {
      "text/plain": [
       "int"
      ]
     },
     "execution_count": 5,
     "metadata": {},
     "output_type": "execute_result"
    }
   ],
   "source": [
    "a = 3\n",
    "type(a)"
   ]
  },
  {
   "cell_type": "code",
   "execution_count": 6,
   "id": "94f7c290",
   "metadata": {},
   "outputs": [
    {
     "data": {
      "text/plain": [
       "float"
      ]
     },
     "execution_count": 6,
     "metadata": {},
     "output_type": "execute_result"
    }
   ],
   "source": [
    "c = 0.5\n",
    "type(c)"
   ]
  },
  {
   "cell_type": "code",
   "execution_count": 7,
   "id": "7debdde5",
   "metadata": {},
   "outputs": [
    {
     "data": {
      "text/plain": [
       "False"
      ]
     },
     "execution_count": 7,
     "metadata": {},
     "output_type": "execute_result"
    }
   ],
   "source": [
    "test = (3 > 4)\n",
    "test"
   ]
  },
  {
   "cell_type": "code",
   "execution_count": 8,
   "id": "534de784",
   "metadata": {},
   "outputs": [
    {
     "data": {
      "text/plain": [
       "bool"
      ]
     },
     "execution_count": 8,
     "metadata": {},
     "output_type": "execute_result"
    }
   ],
   "source": [
    "type(test)"
   ]
  },
  {
   "cell_type": "markdown",
   "id": "f6e5b480",
   "metadata": {},
   "source": [
    "### Osnovne matematične operacije\n",
    "\n",
    "Python takoj podpira osnovne matematične operacije `+`, `-`, `*`, `/`, `**` (za `^`) in `%` (modulo).\n",
    "Zato ga lahko zlahka uporabljate kot kalkulator :)"
   ]
  },
  {
   "cell_type": "code",
   "execution_count": 9,
   "id": "dc990503",
   "metadata": {},
   "outputs": [
    {
     "data": {
      "text/plain": [
       "21"
      ]
     },
     "execution_count": 9,
     "metadata": {},
     "output_type": "execute_result"
    }
   ],
   "source": [
    "7 * 3"
   ]
  },
  {
   "cell_type": "code",
   "execution_count": 10,
   "id": "d0140e23",
   "metadata": {},
   "outputs": [
    {
     "data": {
      "text/plain": [
       "2.3333333333333335"
      ]
     },
     "execution_count": 10,
     "metadata": {},
     "output_type": "execute_result"
    }
   ],
   "source": [
    "7 / 3"
   ]
  },
  {
   "cell_type": "code",
   "execution_count": 11,
   "id": "18920874",
   "metadata": {},
   "outputs": [
    {
     "data": {
      "text/plain": [
       "1024"
      ]
     },
     "execution_count": 11,
     "metadata": {},
     "output_type": "execute_result"
    }
   ],
   "source": [
    "2 ** 10"
   ]
  },
  {
   "cell_type": "code",
   "execution_count": 12,
   "id": "96fcc934",
   "metadata": {},
   "outputs": [
    {
     "data": {
      "text/plain": [
       "2"
      ]
     },
     "execution_count": 12,
     "metadata": {},
     "output_type": "execute_result"
    }
   ],
   "source": [
    "8 % 3"
   ]
  },
  {
   "cell_type": "markdown",
   "id": "19c3e9af",
   "metadata": {},
   "source": [
    "### Tipi zabojnikov\n",
    "\n",
    "Python ponuja veliko učinkovitih vrst vsebnikov, v katere lahko shranjujemo zbirke predmetov.\n",
    "- `str` - niz,\n",
    "- `list` - urejena zbirka predmetov, ki so lahko različnih tipov,\n",
    "- `dict` - slovarji, ki vsebujejo pare `ključ: vrednost` in omogočajo hitro iskanje,\n",
    "- `tuple` - seznami, ki so nespremenljivi (ni jih mogoče spremeniti),\n",
    "- `set` - neurejeni seznami edinstvenih elementov."
   ]
  },
  {
   "cell_type": "markdown",
   "id": "aa253995",
   "metadata": {},
   "source": [
    "#### Nizi"
   ]
  },
  {
   "cell_type": "code",
   "execution_count": 13,
   "id": "9883b9b5",
   "metadata": {},
   "outputs": [
    {
     "data": {
      "text/plain": [
       "str"
      ]
     },
     "execution_count": 13,
     "metadata": {},
     "output_type": "execute_result"
    }
   ],
   "source": [
    "b = \"Hello\"\n",
    "type(b)"
   ]
  },
  {
   "cell_type": "markdown",
   "id": "2e7e1d9f",
   "metadata": {},
   "source": [
    "Nizi podpirajo nekatere matematične operacije :) Tudi `'` in `\"` sta v redu."
   ]
  },
  {
   "cell_type": "code",
   "execution_count": 15,
   "id": "9fd14fa4",
   "metadata": {},
   "outputs": [
    {
     "data": {
      "text/plain": [
       "'Hello World!'"
      ]
     },
     "execution_count": 15,
     "metadata": {},
     "output_type": "execute_result"
    }
   ],
   "source": [
    "b + \" World!\""
   ]
  },
  {
   "cell_type": "code",
   "execution_count": 16,
   "id": "1f8bdd73",
   "metadata": {},
   "outputs": [
    {
     "data": {
      "text/plain": [
       "'================================================================================'"
      ]
     },
     "execution_count": 16,
     "metadata": {},
     "output_type": "execute_result"
    }
   ],
   "source": [
    "\"=\" * 80"
   ]
  },
  {
   "cell_type": "markdown",
   "id": "fbc128de",
   "metadata": {},
   "source": [
    "Vse v Pythonu je predmet. Tudi nizi so objekti in vključujejo metode za manipulacijo z nizi.\n",
    "\n",
    "\\* Vse metode si lahko ogledate, če vnesete spremenljivko string `.` in pritisnete tipko `Tab`."
   ]
  },
  {
   "cell_type": "code",
   "execution_count": 17,
   "id": "d1b089ce",
   "metadata": {},
   "outputs": [
    {
     "data": {
      "text/plain": [
       "'HELLO'"
      ]
     },
     "execution_count": 17,
     "metadata": {},
     "output_type": "execute_result"
    }
   ],
   "source": [
    "b.upper()"
   ]
  },
  {
   "cell_type": "code",
   "execution_count": 18,
   "id": "6854a9c2",
   "metadata": {},
   "outputs": [
    {
     "data": {
      "text/plain": [
       "'hello'"
      ]
     },
     "execution_count": 18,
     "metadata": {},
     "output_type": "execute_result"
    }
   ],
   "source": [
    "b.lower()"
   ]
  },
  {
   "cell_type": "code",
   "execution_count": 19,
   "id": "ddf4342a",
   "metadata": {},
   "outputs": [
    {
     "data": {
      "text/plain": [
       "False"
      ]
     },
     "execution_count": 19,
     "metadata": {},
     "output_type": "execute_result"
    }
   ],
   "source": [
    "b.startswith(\"he\")"
   ]
  },
  {
   "cell_type": "code",
   "execution_count": 21,
   "id": "c818f834",
   "metadata": {},
   "outputs": [
    {
     "data": {
      "text/plain": [
       "False"
      ]
     },
     "execution_count": 21,
     "metadata": {},
     "output_type": "execute_result"
    }
   ],
   "source": [
    "b.endswith(\".wav\")"
   ]
  },
  {
   "cell_type": "code",
   "execution_count": 22,
   "id": "faf78c3d",
   "metadata": {},
   "outputs": [
    {
     "data": {
      "text/plain": [
       "'Hallo'"
      ]
     },
     "execution_count": 22,
     "metadata": {},
     "output_type": "execute_result"
    }
   ],
   "source": [
    "b.replace(\"e\", \"a\")"
   ]
  },
  {
   "cell_type": "markdown",
   "id": "c7dd0145",
   "metadata": {},
   "source": [
    "#### Seznami"
   ]
  },
  {
   "cell_type": "code",
   "execution_count": 23,
   "id": "4d8c24fb",
   "metadata": {},
   "outputs": [
    {
     "data": {
      "text/plain": [
       "list"
      ]
     },
     "execution_count": 23,
     "metadata": {},
     "output_type": "execute_result"
    }
   ],
   "source": [
    "colors = ['red', 'blue', 'green', 'black', 'white']\n",
    "type(colors)"
   ]
  },
  {
   "cell_type": "markdown",
   "id": "c180ee1d",
   "metadata": {},
   "source": [
    "Indeksiranje v Pythonu temelji na `0` (kot v C, vendar drugače kot v MATLAB-u), `-1` pa pomeni zadnji element."
   ]
  },
  {
   "cell_type": "code",
   "execution_count": 24,
   "id": "64a3f77a",
   "metadata": {},
   "outputs": [
    {
     "data": {
      "text/plain": [
       "'green'"
      ]
     },
     "execution_count": 24,
     "metadata": {},
     "output_type": "execute_result"
    }
   ],
   "source": [
    "colors[2]"
   ]
  },
  {
   "cell_type": "code",
   "execution_count": 25,
   "id": "5d97e73c",
   "metadata": {},
   "outputs": [
    {
     "data": {
      "text/plain": [
       "'white'"
      ]
     },
     "execution_count": 25,
     "metadata": {},
     "output_type": "execute_result"
    }
   ],
   "source": [
    "colors[-1]"
   ]
  },
  {
   "cell_type": "markdown",
   "id": "50cce837",
   "metadata": {},
   "source": [
    "Rezanje (ali izločanje podseznamov) se izvede s pomočjo `[start:stop]`, ki poda elemente z indeksi `i`, kot so `start` $\\leq$ `i` $<$ `stop` (`i` od start do `stop-1`). \n",
    "Korak lahko dodamo tudi kot tretji vnos `[start:stop:stride]`.\n",
    "Vsi parametri rezanja so neobvezni."
   ]
  },
  {
   "cell_type": "code",
   "execution_count": 26,
   "id": "74b6e1e2",
   "metadata": {},
   "outputs": [
    {
     "data": {
      "text/plain": [
       "['green', 'black']"
      ]
     },
     "execution_count": 26,
     "metadata": {},
     "output_type": "execute_result"
    }
   ],
   "source": [
    "colors[2:4]"
   ]
  },
  {
   "cell_type": "code",
   "execution_count": 27,
   "id": "f0242590",
   "metadata": {},
   "outputs": [
    {
     "data": {
      "text/plain": [
       "['black', 'white']"
      ]
     },
     "execution_count": 27,
     "metadata": {},
     "output_type": "execute_result"
    }
   ],
   "source": [
    "colors[3:]"
   ]
  },
  {
   "cell_type": "code",
   "execution_count": 28,
   "id": "ce74803a",
   "metadata": {},
   "outputs": [
    {
     "data": {
      "text/plain": [
       "['red', 'blue', 'green']"
      ]
     },
     "execution_count": 28,
     "metadata": {},
     "output_type": "execute_result"
    }
   ],
   "source": [
    "colors[:3]"
   ]
  },
  {
   "cell_type": "code",
   "execution_count": 29,
   "id": "7ba24ec8",
   "metadata": {},
   "outputs": [
    {
     "data": {
      "text/plain": [
       "['red', 'green', 'white']"
      ]
     },
     "execution_count": 29,
     "metadata": {},
     "output_type": "execute_result"
    }
   ],
   "source": [
    "colors[::2]"
   ]
  },
  {
   "cell_type": "code",
   "execution_count": 30,
   "id": "d6813999",
   "metadata": {},
   "outputs": [
    {
     "data": {
      "text/plain": [
       "['white', 'black', 'green', 'blue', 'red']"
      ]
     },
     "execution_count": 30,
     "metadata": {},
     "output_type": "execute_result"
    }
   ],
   "source": [
    "colors[::-1]"
   ]
  },
  {
   "cell_type": "markdown",
   "id": "292839af",
   "metadata": {},
   "source": [
    "Seznami so spremenljivi objekti in jih je mogoče spreminjati:"
   ]
  },
  {
   "cell_type": "code",
   "execution_count": 32,
   "id": "95f5d477",
   "metadata": {},
   "outputs": [
    {
     "data": {
      "text/plain": [
       "['yellow', 'blue', 'green', 'black', 'white']"
      ]
     },
     "execution_count": 32,
     "metadata": {},
     "output_type": "execute_result"
    }
   ],
   "source": [
    "colors[0] = \"yellow\"\n",
    "colors"
   ]
  },
  {
   "cell_type": "markdown",
   "id": "cbe9689d",
   "metadata": {},
   "source": [
    "Združevanje in sortiranje:"
   ]
  },
  {
   "cell_type": "code",
   "execution_count": 33,
   "id": "4db02eb0",
   "metadata": {},
   "outputs": [
    {
     "data": {
      "text/plain": [
       "['yellow', 'blue', 'green', 'black', 'white', True, 3.1415]"
      ]
     },
     "execution_count": 33,
     "metadata": {},
     "output_type": "execute_result"
    }
   ],
   "source": [
    "colors + [True, 3.1415]"
   ]
  },
  {
   "cell_type": "code",
   "execution_count": 34,
   "id": "10d19cca",
   "metadata": {},
   "outputs": [
    {
     "data": {
      "text/plain": [
       "['black', 'blue', 'green', 'white', 'yellow']"
      ]
     },
     "execution_count": 34,
     "metadata": {},
     "output_type": "execute_result"
    }
   ],
   "source": [
    "sorted(colors)"
   ]
  },
  {
   "cell_type": "markdown",
   "id": "ddf97864",
   "metadata": {},
   "source": [
    "Seznami podpirajo številne metode za delo z njimi.\n",
    "\n",
    "\\* Spet si jih lahko ogledate, če vnesete spremenljivko seznama `.` in pritisnete tipko `Tab`."
   ]
  },
  {
   "cell_type": "code",
   "execution_count": 35,
   "id": "ee9be1d8",
   "metadata": {},
   "outputs": [
    {
     "data": {
      "text/plain": [
       "['yellow', 'blue', 'green', 'black', 'white', 10]"
      ]
     },
     "execution_count": 35,
     "metadata": {},
     "output_type": "execute_result"
    }
   ],
   "source": [
    "colors.append(10)\n",
    "colors"
   ]
  },
  {
   "cell_type": "code",
   "execution_count": 36,
   "id": "2c92c1c6",
   "metadata": {},
   "outputs": [
    {
     "data": {
      "text/plain": [
       "10"
      ]
     },
     "execution_count": 36,
     "metadata": {},
     "output_type": "execute_result"
    }
   ],
   "source": [
    "colors.pop()"
   ]
  },
  {
   "cell_type": "code",
   "execution_count": 37,
   "id": "be73c899",
   "metadata": {},
   "outputs": [
    {
     "data": {
      "text/plain": [
       "['yellow', 'blue', 'green', 'black', 'white']"
      ]
     },
     "execution_count": 37,
     "metadata": {},
     "output_type": "execute_result"
    }
   ],
   "source": [
    "colors"
   ]
  },
  {
   "cell_type": "markdown",
   "id": "6fe129b3",
   "metadata": {},
   "source": [
    "#### Slovarji"
   ]
  },
  {
   "cell_type": "code",
   "execution_count": 38,
   "id": "43690b13",
   "metadata": {},
   "outputs": [
    {
     "data": {
      "text/plain": [
       "{'Urosh': 5752, 'Arpad': 5578, 'Igor': 5915}"
      ]
     },
     "execution_count": 38,
     "metadata": {},
     "output_type": "execute_result"
    }
   ],
   "source": [
    "tels = {'Urosh': 5752, 'Arpad': 5578}\n",
    "tels['Igor'] = 5915\n",
    "tels"
   ]
  },
  {
   "cell_type": "code",
   "execution_count": 39,
   "id": "d2505dfd",
   "metadata": {},
   "outputs": [
    {
     "data": {
      "text/plain": [
       "5578"
      ]
     },
     "execution_count": 39,
     "metadata": {},
     "output_type": "execute_result"
    }
   ],
   "source": [
    "tels['Arpad']"
   ]
  },
  {
   "cell_type": "code",
   "execution_count": 40,
   "id": "fcd94fa3",
   "metadata": {},
   "outputs": [
    {
     "data": {
      "text/plain": [
       "dict_keys(['Urosh', 'Arpad', 'Igor'])"
      ]
     },
     "execution_count": 40,
     "metadata": {},
     "output_type": "execute_result"
    }
   ],
   "source": [
    "tels.keys() "
   ]
  },
  {
   "cell_type": "code",
   "execution_count": 41,
   "id": "d6d060b0",
   "metadata": {},
   "outputs": [
    {
     "data": {
      "text/plain": [
       "dict_values([5752, 5578, 5915])"
      ]
     },
     "execution_count": 41,
     "metadata": {},
     "output_type": "execute_result"
    }
   ],
   "source": [
    "tels.values()   "
   ]
  },
  {
   "cell_type": "code",
   "execution_count": 42,
   "id": "d28c2daf",
   "metadata": {},
   "outputs": [
    {
     "data": {
      "text/plain": [
       "dict_items([('Urosh', 5752), ('Arpad', 5578), ('Igor', 5915)])"
      ]
     },
     "execution_count": 42,
     "metadata": {},
     "output_type": "execute_result"
    }
   ],
   "source": [
    "tels.items()"
   ]
  },
  {
   "cell_type": "code",
   "execution_count": 43,
   "id": "53133b6d",
   "metadata": {},
   "outputs": [
    {
     "data": {
      "text/plain": [
       "True"
      ]
     },
     "execution_count": 43,
     "metadata": {},
     "output_type": "execute_result"
    }
   ],
   "source": [
    "'Igor' in tels"
   ]
  },
  {
   "cell_type": "markdown",
   "id": "24de8b6e",
   "metadata": {},
   "source": [
    "## 2.3. Control Flow"
   ]
  },
  {
   "cell_type": "markdown",
   "id": "5c29c0b6",
   "metadata": {},
   "source": [
    "### `if/elif/else`\n",
    "\n",
    "Pomembno je, da so bloki kod ločeni z alinejo (privzeto 4 presledki, če pritisnete `Tab`).\n",
    "Zato v Pythonu ni potrebe po zapiranju kode v `{ }`."
   ]
  },
  {
   "cell_type": "code",
   "execution_count": 46,
   "id": "aa6ffb13",
   "metadata": {},
   "outputs": [
    {
     "name": "stdout",
     "output_type": "stream",
     "text": [
      "Veliko\n"
     ]
    }
   ],
   "source": [
    "a = 10\n",
    "\n",
    "if a == 1:\n",
    "    print(1)\n",
    "elif a == 2:\n",
    "    print(2)\n",
    "else:\n",
    "    print('Veliko')"
   ]
  },
  {
   "cell_type": "markdown",
   "id": "4429b8de",
   "metadata": {},
   "source": [
    "`if` se ovrednoti kot `False` za:\n",
    "- poljubno število, enako nič (`0`, `0.0`)\n",
    "- prazen zabojnik (`list`, `dict`)\n",
    "- `False`, `None`\n",
    "\n",
    "za vse ostalo pa ima vrednost `True`."
   ]
  },
  {
   "cell_type": "markdown",
   "id": "0dfcecd4",
   "metadata": {},
   "source": [
    "### `for`"
   ]
  },
  {
   "cell_type": "code",
   "execution_count": 47,
   "id": "049258f5",
   "metadata": {},
   "outputs": [
    {
     "name": "stdout",
     "output_type": "stream",
     "text": [
      "Python je kul\n",
      "Python je močen\n",
      "Python je berljiv\n"
     ]
    }
   ],
   "source": [
    "for word in ('kul', 'močen', 'berljiv'):\n",
    "    print(f'Python je {word}')"
   ]
  },
  {
   "cell_type": "markdown",
   "id": "9bb63a43",
   "metadata": {},
   "source": [
    "Če potrebujemo indeks:"
   ]
  },
  {
   "cell_type": "code",
   "execution_count": 48,
   "id": "46277e11",
   "metadata": {},
   "outputs": [
    {
     "name": "stdout",
     "output_type": "stream",
     "text": [
      "0 yellow\n",
      "1 blue\n",
      "2 green\n",
      "3 black\n",
      "4 white\n"
     ]
    }
   ],
   "source": [
    "for i, item in enumerate(colors):\n",
    "    print(i, item)"
   ]
  },
  {
   "cell_type": "code",
   "execution_count": 49,
   "id": "5799d20e",
   "metadata": {},
   "outputs": [
    {
     "name": "stdout",
     "output_type": "stream",
     "text": [
      "Urosh 5752\n",
      "Arpad 5578\n",
      "Igor 5915\n"
     ]
    }
   ],
   "source": [
    "for name, tel in tels.items():\n",
    "    print(name, tel)"
   ]
  },
  {
   "cell_type": "code",
   "execution_count": 50,
   "id": "e531e378",
   "metadata": {},
   "outputs": [
    {
     "name": "stdout",
     "output_type": "stream",
     "text": [
      "o\n",
      "e\n",
      "u\n"
     ]
    }
   ],
   "source": [
    "vowels = 'aeiouy'\n",
    "\n",
    "for i in 'powerful':\n",
    "    if i in vowels:\n",
    "        print(i)"
   ]
  },
  {
   "cell_type": "code",
   "execution_count": 51,
   "id": "91c128ea",
   "metadata": {},
   "outputs": [
    {
     "name": "stdout",
     "output_type": "stream",
     "text": [
      "1.0\n",
      "0.5\n",
      "0.25\n"
     ]
    }
   ],
   "source": [
    "a = [1, 0, 2, 4]\n",
    "\n",
    "for element in a:\n",
    "    if element == 0:\n",
    "        continue\n",
    "    print(1. / element)"
   ]
  },
  {
   "cell_type": "markdown",
   "id": "49484523",
   "metadata": {},
   "source": [
    "### `while`"
   ]
  },
  {
   "cell_type": "code",
   "execution_count": 52,
   "id": "c5c8b94c",
   "metadata": {},
   "outputs": [
    {
     "name": "stdout",
     "output_type": "stream",
     "text": [
      "1\n",
      "2\n",
      "4\n",
      "8\n",
      "16\n",
      "32\n",
      "64\n"
     ]
    }
   ],
   "source": [
    "n = 1\n",
    "while True:\n",
    "    print(n)\n",
    "    n += n\n",
    "    if n > 100:\n",
    "        break"
   ]
  },
  {
   "cell_type": "markdown",
   "id": "1e0290bd",
   "metadata": {},
   "source": [
    "### Razumevanje seznama\n",
    "\n",
    "Python ponuja mehanizem za ustvarjanje seznama iz drugega z uporabo ene vrstice.\n",
    "To je močno, vendar ga je najbolje uporabljati le v primerih, ko to ne škodi berljivosti kode."
   ]
  },
  {
   "cell_type": "code",
   "execution_count": 53,
   "id": "a47e5396",
   "metadata": {},
   "outputs": [
    {
     "data": {
      "text/plain": [
       "[0, 1, 4, 9, 16, 25, 36, 49, 64, 81]"
      ]
     },
     "execution_count": 53,
     "metadata": {},
     "output_type": "execute_result"
    }
   ],
   "source": [
    "squares = [i**2 for i in range(10)]\n",
    "squares"
   ]
  },
  {
   "cell_type": "markdown",
   "id": "709440dd",
   "metadata": {},
   "source": [
    "## 2.4. Funkcije"
   ]
  },
  {
   "cell_type": "markdown",
   "id": "c36c157b",
   "metadata": {},
   "source": [
    "Funkcije so definirane z alinejo, podobno kot bloki kontrolnega toka."
   ]
  },
  {
   "cell_type": "code",
   "execution_count": 55,
   "id": "609e840b",
   "metadata": {},
   "outputs": [
    {
     "name": "stdout",
     "output_type": "stream",
     "text": [
      "v testni funkciji\n"
     ]
    }
   ],
   "source": [
    "def test():\n",
    "    print('v testni funkciji')\n",
    "\n",
    "test()"
   ]
  },
  {
   "cell_type": "code",
   "execution_count": 56,
   "id": "c28a767d",
   "metadata": {},
   "outputs": [
    {
     "data": {
      "text/plain": [
       "28.273500000000002"
      ]
     },
     "execution_count": 56,
     "metadata": {},
     "output_type": "execute_result"
    }
   ],
   "source": [
    "def disk_area(radius):\n",
    "    return 3.1415 * radius**2\n",
    "disk_area(3)"
   ]
  },
  {
   "cell_type": "markdown",
   "id": "ab5558a8",
   "metadata": {},
   "source": [
    "Funkcije lahko določite z obveznimi (pozicijskimi) in neobveznimi (ključnimi besedami) argumenti."
   ]
  },
  {
   "cell_type": "code",
   "execution_count": 57,
   "id": "e164dc1d",
   "metadata": {},
   "outputs": [
    {
     "data": {
      "text/plain": [
       "354.6436257832055"
      ]
     },
     "execution_count": 57,
     "metadata": {},
     "output_type": "execute_result"
    }
   ],
   "source": [
    "def speed_of_sound(temp, temp_units=\"C\"):\n",
    "    \"\"\"Izračunaj hitrost zvoka za določeno temperaturo zrako\n",
    "    \n",
    "    Parametri\n",
    "    ----------\n",
    "    temp : float\n",
    "        Temperatura.\n",
    "    temp_units : str, optional\n",
    "        Enota temperature. \"C\" za Celzij in \"K\" za Kelvin.\n",
    "        Privzeta temperatura je Celzij.\n",
    "    \n",
    "    Vrne\n",
    "    -------\n",
    "    float\n",
    "        Hitrost v m/s.\n",
    "    \"\"\"\n",
    "    c0 = 331.22  # m/s pri 0 C\n",
    "    temp0 = 273.15  # 0 C\n",
    "    if temp_units == \"C\":\n",
    "        temp += temp0  # pretvori v Kelvin\n",
    "    c = c0 * (temp / temp0)**0.5\n",
    "    return c\n",
    "\n",
    "speed_of_sound(40)"
   ]
  },
  {
   "cell_type": "code",
   "execution_count": 58,
   "id": "b837845a",
   "metadata": {},
   "outputs": [
    {
     "data": {
      "text/plain": [
       "28.34202966325652"
      ]
     },
     "execution_count": 58,
     "metadata": {},
     "output_type": "execute_result"
    }
   ],
   "source": [
    "speed_of_sound(2, \"K\")"
   ]
  },
  {
   "cell_type": "markdown",
   "id": "f612924c",
   "metadata": {},
   "source": [
    "Funkcije imajo `docstring`s, ki lahko pomagajo pri uporabi. Obstaja več konvencij za njihovo oblikovanje, tukaj je [NumPy's](https://numpydoc.readthedocs.io/en/latest/format.html#docstring-standard). Za dostop do pomoči funkcije lahko uporabimo `?`."
   ]
  },
  {
   "cell_type": "code",
   "execution_count": 59,
   "id": "970ea9f3",
   "metadata": {},
   "outputs": [],
   "source": [
    "speed_of_sound?"
   ]
  },
  {
   "cell_type": "markdown",
   "id": "9979c732",
   "metadata": {},
   "source": [
    "## 2.5 NumPy, SciPy and Matplotlib"
   ]
  },
  {
   "cell_type": "markdown",
   "id": "ff76cbd3",
   "metadata": {},
   "source": [
    "NumPy, SciPy in Matplotlib so tri knjižnice, ki postavljajo temelje za uporabo Pythona, ki je jezik splošne rabe, za numerično obdelavo podatkov in tako predstavljajo vstopno točko za uporabo Pythona za strojno učenje in podatkovno znanost.\n",
    "\n",
    "V tem razdelku bomo na kratko prikazali, kako uvoziti in uporabiti nekatere njihove funkcionalnosti. \n",
    "V tem gradivu se bomo vanje poglobili.\n",
    "\n",
    "#### NumPy polja\n",
    "\n",
    "Jedro programa NumPy so podatkovna polja NumPy - pomnilniško učinkoviti vsebniki, ki omogočajo hitre številske operacije. \n",
    "\n",
    "Oglejmo si, kako jih lahko ustvarimo in z njimi opravimo nekaj osnovnih manipulacij."
   ]
  },
  {
   "cell_type": "code",
   "execution_count": 60,
   "id": "752118d0",
   "metadata": {},
   "outputs": [
    {
     "data": {
      "text/plain": [
       "array([0, 1, 2, 3])"
      ]
     },
     "execution_count": 60,
     "metadata": {},
     "output_type": "execute_result"
    }
   ],
   "source": [
    "import numpy as np\n",
    "\n",
    "a = np.array([0, 1, 2, 3])\n",
    "a"
   ]
  },
  {
   "cell_type": "code",
   "execution_count": 61,
   "id": "4ff9f8be",
   "metadata": {},
   "outputs": [
    {
     "data": {
      "text/plain": [
       "dtype('int32')"
      ]
     },
     "execution_count": 61,
     "metadata": {},
     "output_type": "execute_result"
    }
   ],
   "source": [
    "a.dtype"
   ]
  },
  {
   "cell_type": "code",
   "execution_count": 62,
   "id": "ca04db9d",
   "metadata": {},
   "outputs": [
    {
     "data": {
      "text/plain": [
       "1"
      ]
     },
     "execution_count": 62,
     "metadata": {},
     "output_type": "execute_result"
    }
   ],
   "source": [
    "a.ndim"
   ]
  },
  {
   "cell_type": "code",
   "execution_count": 63,
   "id": "20d98c17",
   "metadata": {},
   "outputs": [
    {
     "data": {
      "text/plain": [
       "(4,)"
      ]
     },
     "execution_count": 63,
     "metadata": {},
     "output_type": "execute_result"
    }
   ],
   "source": [
    "a.shape"
   ]
  },
  {
   "cell_type": "code",
   "execution_count": 64,
   "id": "dfb3f22b",
   "metadata": {},
   "outputs": [
    {
     "data": {
      "text/plain": [
       "4"
      ]
     },
     "execution_count": 64,
     "metadata": {},
     "output_type": "execute_result"
    }
   ],
   "source": [
    "a.size"
   ]
  },
  {
   "cell_type": "markdown",
   "id": "f4d631a1",
   "metadata": {},
   "source": [
    "#### Tabele"
   ]
  },
  {
   "cell_type": "code",
   "execution_count": 66,
   "id": "fb6cd508",
   "metadata": {},
   "outputs": [
    {
     "data": {
      "text/plain": [
       "(array([0, 1, 2, 3, 4, 5, 6, 7, 8, 9]),\n",
       " array([1, 3, 5, 7]),\n",
       " array([0. , 0.2, 0.4, 0.6, 0.8, 1. ]),\n",
       " array([[1., 1., 1.],\n",
       "        [1., 1., 1.],\n",
       "        [1., 1., 1.]]),\n",
       " array([[0., 0.],\n",
       "        [0., 0.]]))"
      ]
     },
     "execution_count": 66,
     "metadata": {},
     "output_type": "execute_result"
    }
   ],
   "source": [
    "a = np.arange(10) # 0 .. n-1  (!)\n",
    "b = np.arange(1, 9, 2) # začetek, konec (eksluziven), korak\n",
    "c = np.linspace(0, 1, 6)   # začetek, konec, num-points\n",
    "d = np.ones((3, 3))  # (3, 3) je niz\n",
    "e = np.zeros((2, 2))\n",
    "a, b, c, d, e"
   ]
  },
  {
   "cell_type": "markdown",
   "id": "0eb5635e",
   "metadata": {},
   "source": [
    "#### Večdimenzionalne tabele"
   ]
  },
  {
   "cell_type": "code",
   "execution_count": 68,
   "id": "d5e07cdd",
   "metadata": {},
   "outputs": [
    {
     "data": {
      "text/plain": [
       "array([[0, 1, 2],\n",
       "       [3, 4, 5]])"
      ]
     },
     "execution_count": 68,
     "metadata": {},
     "output_type": "execute_result"
    }
   ],
   "source": [
    "a = np.array([[0, 1, 2], [3, 4, 5]])\n",
    "a"
   ]
  },
  {
   "cell_type": "code",
   "execution_count": 71,
   "id": "822d8d47",
   "metadata": {},
   "outputs": [
    {
     "data": {
      "text/plain": [
       "2"
      ]
     },
     "execution_count": 71,
     "metadata": {},
     "output_type": "execute_result"
    }
   ],
   "source": [
    "a.ndim"
   ]
  },
  {
   "cell_type": "code",
   "execution_count": 72,
   "id": "356fbaa0",
   "metadata": {},
   "outputs": [
    {
     "data": {
      "text/plain": [
       "(2, 3)"
      ]
     },
     "execution_count": 72,
     "metadata": {},
     "output_type": "execute_result"
    }
   ],
   "source": [
    "a.shape"
   ]
  },
  {
   "cell_type": "code",
   "execution_count": 73,
   "id": "ea33947b",
   "metadata": {},
   "outputs": [
    {
     "data": {
      "text/plain": [
       "6"
      ]
     },
     "execution_count": 73,
     "metadata": {},
     "output_type": "execute_result"
    }
   ],
   "source": [
    "a.size"
   ]
  },
  {
   "cell_type": "markdown",
   "id": "3425542e",
   "metadata": {},
   "source": [
    "#### Matematične operacije"
   ]
  },
  {
   "cell_type": "code",
   "execution_count": 75,
   "id": "f618f90c",
   "metadata": {},
   "outputs": [
    {
     "data": {
      "text/plain": [
       "[0, 1, 4, 9, 16, 25, 36, 49, 64, 81]"
      ]
     },
     "execution_count": 75,
     "metadata": {},
     "output_type": "execute_result"
    }
   ],
   "source": [
    "lis = range(10)\n",
    "[i**2 for i in lis]"
   ]
  },
  {
   "cell_type": "code",
   "execution_count": 76,
   "id": "1ba2ad8b",
   "metadata": {},
   "outputs": [
    {
     "data": {
      "text/plain": [
       "array([ 0,  1,  4,  9, 16, 25, 36, 49, 64, 81], dtype=int32)"
      ]
     },
     "execution_count": 76,
     "metadata": {},
     "output_type": "execute_result"
    }
   ],
   "source": [
    "arr = np.arange(10)\n",
    "arr**2"
   ]
  },
  {
   "cell_type": "markdown",
   "id": "48102e86",
   "metadata": {},
   "source": [
    "### Matplotlib grafi"
   ]
  },
  {
   "cell_type": "markdown",
   "id": "15e9c1f1",
   "metadata": {},
   "source": [
    "Matplotlib je prilagodljiva knjižnica za izrisovanje, ki omogoča enostaven in hiter izris ter izdelavo kakovostnih izrisov za poročila in raziskovalne članke.\n",
    "\n",
    "Da bi omogočili interaktivno izrisovanje, moramo v IPythonu poklicati čarobno funkcijo `%matplotlib`, v beležnici Jupyter pa moramo izvesti naslednje."
   ]
  },
  {
   "cell_type": "code",
   "execution_count": 77,
   "id": "ae65c0e8",
   "metadata": {},
   "outputs": [],
   "source": [
    "%matplotlib inline"
   ]
  },
  {
   "cell_type": "markdown",
   "id": "16cdb7a7",
   "metadata": {},
   "source": [
    "Uvozimo knjižnico za izrisovanje."
   ]
  },
  {
   "cell_type": "code",
   "execution_count": 78,
   "id": "56ff47e7",
   "metadata": {},
   "outputs": [],
   "source": [
    "from matplotlib import pyplot as plt"
   ]
  },
  {
   "cell_type": "markdown",
   "id": "f075caad",
   "metadata": {},
   "source": [
    "Zdaj bomo ustvarili nekaj podatkov o sinusu in kosinusu."
   ]
  },
  {
   "cell_type": "code",
   "execution_count": 79,
   "id": "84063a17",
   "metadata": {},
   "outputs": [],
   "source": [
    "x = np.linspace(0, 2*np.pi, 100)\n",
    "sin = np.sin(x)\n",
    "cos = np.cos(x)"
   ]
  },
  {
   "cell_type": "markdown",
   "id": "835cf182",
   "metadata": {},
   "source": [
    "Narišemo graf."
   ]
  },
  {
   "cell_type": "code",
   "execution_count": 80,
   "id": "df39e734",
   "metadata": {},
   "outputs": [
    {
     "data": {
      "text/plain": [
       "[<matplotlib.lines.Line2D at 0x1a9ca63df10>]"
      ]
     },
     "execution_count": 80,
     "metadata": {},
     "output_type": "execute_result"
    },
    {
     "data": {
      "image/png": "[encoded data removed]",
      "text/plain": [
       "<Figure size 432x288 with 1 Axes>"
      ]
     },
     "metadata": {
      "needs_background": "light"
     },
     "output_type": "display_data"
    }
   ],
   "source": [
    "plt.plot(x, sin)\n",
    "plt.plot(x, cos)"
   ]
  },
  {
   "cell_type": "markdown",
   "id": "de064cf3",
   "metadata": {},
   "source": [
    "Graf lahko izboljšamo z dodajanjem informacij in mreže."
   ]
  },
  {
   "cell_type": "code",
   "execution_count": 82,
   "id": "89548a01",
   "metadata": {},
   "outputs": [
    {
     "data": {
      "text/plain": [
       "<matplotlib.legend.Legend at 0x1a9ca6752b0>"
      ]
     },
     "execution_count": 82,
     "metadata": {},
     "output_type": "execute_result"
    },
    {
     "data": {
      "image/png": "[encoded data removed]",
      "text/plain": [
       "<Figure size 432x288 with 1 Axes>"
      ]
     },
     "metadata": {
      "needs_background": "light"
     },
     "output_type": "display_data"
    }
   ],
   "source": [
    "plt.plot(x, sin)\n",
    "plt.plot(x, cos)\n",
    "plt.grid()\n",
    "plt.xlabel(\"Kot [rad]\")\n",
    "plt.ylabel(\"Amplituda\")\n",
    "plt.legend([\"sinus\", \"kosinus\"])"
   ]
  },
  {
   "cell_type": "code",
   "execution_count": null,
   "id": "54206890",
   "metadata": {},
   "outputs": [],
   "source": []
  }
 ],
 "metadata": {
  "kernelspec": {
   "display_name": "Python 3 (ipykernel)",
   "language": "python",
   "name": "python3"
  },
  "language_info": {
   "codemirror_mode": {
    "name": "ipython",
    "version": 3
   },
   "file_extension": ".py",
   "mimetype": "text/x-python",
   "name": "python",
   "nbconvert_exporter": "python",
   "pygments_lexer": "ipython3",
   "version": "3.10.4"
  }
 },
 "nbformat": 4,
 "nbformat_minor": 5
}
