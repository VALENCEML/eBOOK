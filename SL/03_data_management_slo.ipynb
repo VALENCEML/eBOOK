{
 "cells": [
  {
   "cell_type": "markdown",
   "id": "90f49031",
   "metadata": {},
   "source": [
    "# 3. Upravljanje podatkov\n",
    "\n",
    "(pripravil Tomislav Kartalov, FEEIT, CMUS, Makedonija)\n",
    "\n",
    "V tem poglavju se boste naučili, kako podatke **ustvariti ročno** ali jih **uvoziti** iz obstoječega vira ter jih **formirati** za posebne potrebe. Potrebna orodja so **Jupyter Notebook**, **Python** in **Google Forms**.\n",
    "\n",
    "Knjižnice, ki jih boste uporabljali v tem poglavju, so: \n",
    "- knjižnica pandas za manipulacijo in analizo podatkov, \n",
    "- knjižnica numpy za matematične funkcije na visoki ravni"
   ]
  },
  {
   "cell_type": "code",
   "execution_count": 1,
   "id": "f33a70e7",
   "metadata": {},
   "outputs": [],
   "source": [
    "import pandas as pd\n",
    "import numpy as np"
   ]
  },
  {
   "cell_type": "markdown",
   "id": "a6fc56d6",
   "metadata": {},
   "source": [
    "## 3.1. Ročno ustvarjanje nabora podatkov\n",
    "\n",
    "Nabor podatkov lahko ustvarite ročno, na primer z **anketo**. Če nabor podatkov vsebuje tehnične ali naravne podatke, se lahko ustvari z meritvami, senzorji, opazovanji ter drugimi napravami in metodami za pridobivanje podatkov.\n",
    "\n",
    "Ustrezna organizacija ankete, pametna izbira vprašanj, uravnotežena struktura anketirancev (starost, spol, narodnost ...) in anonimnost odgovorov so izrednega pomena za pridobitev uporabnega nabora podatkov z visoko kakovostjo. Vendar razlaga vseh teh meril močno presega obseg tega predmeta. Zaradi preprostosti bomo ta merila na splošno zanemarili, v zameno pa ni mogoče trditi, da imajo tukaj sprejeti sklepi kakršen koli pomen v resničnem svetu. Če na primer v razredu izvedete anketo o najpogosteje uporabljenih platformah družabnih medijev, lahko na podlagi podatkov sklepate, da TikTok močno prekaša Instagram. Vendar bi bil ta rezultat pristranski, saj bi bili anketiranci vaše ankete večinoma najstniki, vi pa niste vključili uravnoteženih starostnih skupin. V resničnem svetu, ko je bilo napisano to besedilo, je Instagram dvakrat večji od TikToka, vendar TikTok prevladuje med mladimi. Če želite oblikovati veljavne zaključke, bi se morali odločiti za nabor podatkov, ki so ga oblikovali strokovni organi in v katerega je bilo vključeno veliko in uravnoteženo število anketirancev. \n",
    "Ko smo to razpravo zaključili, si poglejmo, kako ročno ustvariti nabor podatkov.\n",
    "\n",
    "### 3.1.1. Ročno ustvarjanje nabora podatkov \n",
    "\n",
    "Če ste podatke pridobili na nek staromoden način (npr. na papirju), boste morali podatke vnesti v digitalno obliko in nabor podatkov ustvariti ročno. Ta postopek je počasen in naporen ter ga, zlasti če delate sami, lahko uporabite le za zelo majhne nabore podatkov. \n",
    "\n",
    "Recimo, da ste svoje prijatelje povprašali o njihovih navadah v družabnih medijih in sestavili naslednji seznam:\n",
    "\n",
    "<figure>.\n",
    "<img src=\"https://github.com/VALENCEML/eBOOK/raw/main/EN/03/HandWrittenList.png\" width=\"500px;\"/> \n",
    "<figcaption align =\"left\"> Ročno napisan seznam </figcaption>\n",
    "</figure>\n",
    "\n",
    "Ker ste za zbiranje podatkov uporabili list papirja, jih morate zdaj pretvoriti v digitalne podatke.\n",
    "\n",
    "Najprej opazujmo vnose. Človek te podatke zlahka razreši, vi pa lahko opazite nedoslednosti, ki bi lahko računalnik zmedle. Če na primer poskušate izračunati povprečni čas, ki ga vaši prijatelji dnevno preživijo na platformi družbenih medijev, so ti podatki slabo pripravljeni za takšen izračun, saj so nekateri časi vneseni v urah, drugi pa v minutah. Poleg tega, če želite pripraviti statistiko uporabe platform družbenih medijev, bo računalnik obravnaval **FB** in **Facebook** kot dve različni platformi, čeprav veste, da bi ju bilo treba sešteti. (Enako velja za Insta/Instagram ali YT/YouTube...). To nas spodbuja, da vztrajamo pri doslednih vnosih, morda lahko pripravimo sezname možnih možnosti, še preden začnemo digitalizirati podatke. Recimo, da smo se dogovorili o naslednjih pravilih:\n",
    "- spol bo predstavljen z veliko črko M ali F\n",
    "- čas bo predstavljen s celim številom v minutah (brez enote, samo s številko)\n",
    "- platforma bo predstavljena z nizom črk, ki jih je mogoče najti izključno na tem seznamu: Facebook/Instagram/YouTube/TikTok/WhatsApp/WeChat.\n",
    "\n",
    "Po vsem tem premisleku lahko končno ustvarite nabor podatkov:"
   ]
  },
  {
   "cell_type": "code",
   "execution_count": 2,
   "id": "b8da1f76",
   "metadata": {},
   "outputs": [],
   "source": [
    "friends = pd.DataFrame(columns=['Name','Gender', 'Time Daily [min]', 'Platform'])"
   ]
  },
  {
   "cell_type": "markdown",
   "id": "a4d46f30",
   "metadata": {},
   "source": [
    "Podatkovni niz se imenuje ***friends*** in je zdaj prazen. Za dodajanje prve vrstice v niz podatkov lahko uporabite ukaz 'append':"
   ]
  },
  {
   "cell_type": "code",
   "execution_count": 3,
   "id": "f22d2bbd",
   "metadata": {},
   "outputs": [
    {
     "data": {
      "text/html": [
       "<div>\n",
       "<style scoped>\n",
       "    .dataframe tbody tr th:only-of-type {\n",
       "        vertical-align: middle;\n",
       "    }\n",
       "\n",
       "    .dataframe tbody tr th {\n",
       "        vertical-align: top;\n",
       "    }\n",
       "\n",
       "    .dataframe thead th {\n",
       "        text-align: right;\n",
       "    }\n",
       "</style>\n",
       "<table border=\"1\" class=\"dataframe\">\n",
       "  <thead>\n",
       "    <tr style=\"text-align: right;\">\n",
       "      <th></th>\n",
       "      <th>Name</th>\n",
       "      <th>Gender</th>\n",
       "      <th>Time Daily [min]</th>\n",
       "      <th>Platform</th>\n",
       "    </tr>\n",
       "  </thead>\n",
       "  <tbody>\n",
       "    <tr>\n",
       "      <th>0</th>\n",
       "      <td>Zdravko</td>\n",
       "      <td>M</td>\n",
       "      <td>60</td>\n",
       "      <td>Facebook</td>\n",
       "    </tr>\n",
       "  </tbody>\n",
       "</table>\n",
       "</div>"
      ],
      "text/plain": [
       "      Name Gender Time Daily [min]  Platform\n",
       "0  Zdravko      M               60  Facebook"
      ]
     },
     "execution_count": 3,
     "metadata": {},
     "output_type": "execute_result"
    }
   ],
   "source": [
    "friends = friends.append({'Name': 'Zdravko','Gender': 'M', 'Time Daily [min]': '60',  'Platform': 'Facebook'}, ignore_index=True)\n",
    "friends"
   ]
  },
  {
   "cell_type": "markdown",
   "id": "0246906e",
   "metadata": {},
   "source": [
    "Ukaz 'append' lahko podpira hkratno dodajanje več vrstic v podatkovni niz, vendar jih mora nekdo še vedno vnesti ročno:"
   ]
  },
  {
   "cell_type": "code",
   "execution_count": 4,
   "id": "abb5d6a1",
   "metadata": {},
   "outputs": [
    {
     "data": {
      "text/html": [
       "<div>\n",
       "<style scoped>\n",
       "    .dataframe tbody tr th:only-of-type {\n",
       "        vertical-align: middle;\n",
       "    }\n",
       "\n",
       "    .dataframe tbody tr th {\n",
       "        vertical-align: top;\n",
       "    }\n",
       "\n",
       "    .dataframe thead th {\n",
       "        text-align: right;\n",
       "    }\n",
       "</style>\n",
       "<table border=\"1\" class=\"dataframe\">\n",
       "  <thead>\n",
       "    <tr style=\"text-align: right;\">\n",
       "      <th></th>\n",
       "      <th>Name</th>\n",
       "      <th>Gender</th>\n",
       "      <th>Time Daily [min]</th>\n",
       "      <th>Platform</th>\n",
       "    </tr>\n",
       "  </thead>\n",
       "  <tbody>\n",
       "    <tr>\n",
       "      <th>0</th>\n",
       "      <td>Zdravko</td>\n",
       "      <td>M</td>\n",
       "      <td>60</td>\n",
       "      <td>Facebook</td>\n",
       "    </tr>\n",
       "    <tr>\n",
       "      <th>1</th>\n",
       "      <td>Aleksandra</td>\n",
       "      <td>F</td>\n",
       "      <td>90</td>\n",
       "      <td>Instagram</td>\n",
       "    </tr>\n",
       "    <tr>\n",
       "      <th>2</th>\n",
       "      <td>Ivan</td>\n",
       "      <td>M</td>\n",
       "      <td>120</td>\n",
       "      <td>TikTok</td>\n",
       "    </tr>\n",
       "  </tbody>\n",
       "</table>\n",
       "</div>"
      ],
      "text/plain": [
       "         Name Gender Time Daily [min]   Platform\n",
       "0     Zdravko      M               60   Facebook\n",
       "1  Aleksandra      F               90  Instagram\n",
       "2        Ivan      M              120     TikTok"
      ]
     },
     "execution_count": 4,
     "metadata": {},
     "output_type": "execute_result"
    }
   ],
   "source": [
    "friends = friends.append(pd.DataFrame({\n",
    "                'Name': ['Aleksandra','Ivan'],\n",
    "                'Gender': ['F','M'], \n",
    "                'Time Daily [min]': ['90','120'],  \n",
    "                'Platform': ['Instagram','TikTok']\n",
    "                }) , ignore_index=True)\n",
    "friends"
   ]
  },
  {
   "cell_type": "markdown",
   "id": "618d8dce",
   "metadata": {},
   "source": [
    "Hitrejši in priročnejši način dodajanja samo ene vrstice je naslednja sintaksa:"
   ]
  },
  {
   "cell_type": "code",
   "execution_count": 5,
   "id": "56ac5719",
   "metadata": {},
   "outputs": [
    {
     "data": {
      "text/html": [
       "<div>\n",
       "<style scoped>\n",
       "    .dataframe tbody tr th:only-of-type {\n",
       "        vertical-align: middle;\n",
       "    }\n",
       "\n",
       "    .dataframe tbody tr th {\n",
       "        vertical-align: top;\n",
       "    }\n",
       "\n",
       "    .dataframe thead th {\n",
       "        text-align: right;\n",
       "    }\n",
       "</style>\n",
       "<table border=\"1\" class=\"dataframe\">\n",
       "  <thead>\n",
       "    <tr style=\"text-align: right;\">\n",
       "      <th></th>\n",
       "      <th>Name</th>\n",
       "      <th>Gender</th>\n",
       "      <th>Time Daily [min]</th>\n",
       "      <th>Platform</th>\n",
       "    </tr>\n",
       "  </thead>\n",
       "  <tbody>\n",
       "    <tr>\n",
       "      <th>0</th>\n",
       "      <td>Zdravko</td>\n",
       "      <td>M</td>\n",
       "      <td>60</td>\n",
       "      <td>Facebook</td>\n",
       "    </tr>\n",
       "    <tr>\n",
       "      <th>1</th>\n",
       "      <td>Aleksandra</td>\n",
       "      <td>F</td>\n",
       "      <td>90</td>\n",
       "      <td>Instagram</td>\n",
       "    </tr>\n",
       "    <tr>\n",
       "      <th>2</th>\n",
       "      <td>Ivan</td>\n",
       "      <td>M</td>\n",
       "      <td>120</td>\n",
       "      <td>TikTok</td>\n",
       "    </tr>\n",
       "    <tr>\n",
       "      <th>3</th>\n",
       "      <td>Artim</td>\n",
       "      <td>M</td>\n",
       "      <td>30</td>\n",
       "      <td>Facebook</td>\n",
       "    </tr>\n",
       "  </tbody>\n",
       "</table>\n",
       "</div>"
      ],
      "text/plain": [
       "         Name Gender Time Daily [min]   Platform\n",
       "0     Zdravko      M               60   Facebook\n",
       "1  Aleksandra      F               90  Instagram\n",
       "2        Ivan      M              120     TikTok\n",
       "3       Artim      M               30   Facebook"
      ]
     },
     "execution_count": 5,
     "metadata": {},
     "output_type": "execute_result"
    }
   ],
   "source": [
    "friends.loc[len(friends.index)] = ['Artim','M', '30', 'Facebook']\n",
    "friends"
   ]
  },
  {
   "cell_type": "markdown",
   "id": "f954bf2d",
   "metadata": {},
   "source": [
    "Lahko celo napišete majhno kodo z zanko, ki vam lahko pomaga pri polavtomatskem vnosu podatkov. Poskusite dokončati zgornji seznam ali pa v nabor podatkov dodajte nekaj svojih prijateljev. Dodajte še vsaj 4 osebe, da dobite podatkovni niz z vsaj 8 zapisi (pomembno za prihodnje prikaze v razdelku 3.3.)."
   ]
  },
  {
   "cell_type": "code",
   "execution_count": 6,
   "id": "0b6e50b6",
   "metadata": {},
   "outputs": [
    {
     "name": "stdout",
     "output_type": "stream",
     "text": [
      "Ime?Ziga\n",
      "Spol? [M/Ž]M\n",
      "Povprečje porabljenega časa? [v minutah]60\n",
      "Platforma družabnega omrežja? [Facebook/Instagram/YouTube/TikTok/WhatsApp/WeChat]Facebook\n",
      "Ponovi še enkrat? [Da/Ne]ne\n",
      "Ime?David\n",
      "Spol? [M/Ž]M\n",
      "Povprečje porabljenega časa? [v minutah]10\n",
      "Platforma družabnega omrežja? [Facebook/Instagram/YouTube/TikTok/WhatsApp/WeChat]TikTok\n",
      "Ponovi še enkrat? [Da/Ne]n\n"
     ]
    },
    {
     "data": {
      "text/html": [
       "<div>\n",
       "<style scoped>\n",
       "    .dataframe tbody tr th:only-of-type {\n",
       "        vertical-align: middle;\n",
       "    }\n",
       "\n",
       "    .dataframe tbody tr th {\n",
       "        vertical-align: top;\n",
       "    }\n",
       "\n",
       "    .dataframe thead th {\n",
       "        text-align: right;\n",
       "    }\n",
       "</style>\n",
       "<table border=\"1\" class=\"dataframe\">\n",
       "  <thead>\n",
       "    <tr style=\"text-align: right;\">\n",
       "      <th></th>\n",
       "      <th>Name</th>\n",
       "      <th>Gender</th>\n",
       "      <th>Time Daily [min]</th>\n",
       "      <th>Platform</th>\n",
       "    </tr>\n",
       "  </thead>\n",
       "  <tbody>\n",
       "    <tr>\n",
       "      <th>0</th>\n",
       "      <td>Zdravko</td>\n",
       "      <td>M</td>\n",
       "      <td>60</td>\n",
       "      <td>Facebook</td>\n",
       "    </tr>\n",
       "    <tr>\n",
       "      <th>1</th>\n",
       "      <td>Aleksandra</td>\n",
       "      <td>F</td>\n",
       "      <td>90</td>\n",
       "      <td>Instagram</td>\n",
       "    </tr>\n",
       "    <tr>\n",
       "      <th>2</th>\n",
       "      <td>Ivan</td>\n",
       "      <td>M</td>\n",
       "      <td>120</td>\n",
       "      <td>TikTok</td>\n",
       "    </tr>\n",
       "    <tr>\n",
       "      <th>3</th>\n",
       "      <td>Artim</td>\n",
       "      <td>M</td>\n",
       "      <td>30</td>\n",
       "      <td>Facebook</td>\n",
       "    </tr>\n",
       "    <tr>\n",
       "      <th>4</th>\n",
       "      <td>Ziga</td>\n",
       "      <td>M</td>\n",
       "      <td>60</td>\n",
       "      <td>Facebook</td>\n",
       "    </tr>\n",
       "    <tr>\n",
       "      <th>5</th>\n",
       "      <td>David</td>\n",
       "      <td>M</td>\n",
       "      <td>10</td>\n",
       "      <td>TikTok</td>\n",
       "    </tr>\n",
       "  </tbody>\n",
       "</table>\n",
       "</div>"
      ],
      "text/plain": [
       "         Name Gender Time Daily [min]   Platform\n",
       "0     Zdravko      M               60   Facebook\n",
       "1  Aleksandra      F               90  Instagram\n",
       "2        Ivan      M              120     TikTok\n",
       "3       Artim      M               30   Facebook\n",
       "4        Ziga      M               60   Facebook\n",
       "5       David      M               10     TikTok"
      ]
     },
     "execution_count": 6,
     "metadata": {},
     "output_type": "execute_result"
    }
   ],
   "source": [
    "keepgoing = True  #inicializacija\n",
    "while keepgoing:  # ponavljaj, dokler je keepgoing=True\n",
    "  Name = input(\"Ime?\")\n",
    "  Gender = input(\"Spol? [M/Ž]\")\n",
    "  TimeD = input(\"Povprečje porabljenega časa? [v minutah]\")\n",
    "  Platform = input(\"Platforma družabnega omrežja? [Facebook/Instagram/YouTube/TikTok/WhatsApp/WeChat]\")\n",
    "  AnotherRecord = input(\"Ponovi še enkrat? [Da/Ne]\")\n",
    "  friends.loc[len(friends.index)] = [Name, Gender, TimeD, Platform]\n",
    "  if AnotherRecord == 'n':\n",
    "    keepgoing = False # when the user enters 'n', that breaks the loop\n",
    "friends"
   ]
  },
  {
   "cell_type": "markdown",
   "id": "582813b5",
   "metadata": {},
   "source": [
    "Zdaj imate nabor podatkov. O analizi in vizualizaciji podatkov boste izvedeli v prihodnjih poglavjih, za zdaj pa le majhen napovednik:"
   ]
  },
  {
   "cell_type": "code",
   "execution_count": 7,
   "id": "45b84bf5",
   "metadata": {},
   "outputs": [
    {
     "data": {
      "text/plain": [
       "Text(0.5, 1.0, 'Družabna omrežja mojih prijateljev')"
      ]
     },
     "execution_count": 7,
     "metadata": {},
     "output_type": "execute_result"
    },
    {
     "data": {
      "image/png": "[encoded data removed]",
      "text/plain": [
       "<Figure size 432x288 with 1 Axes>"
      ]
     },
     "metadata": {},
     "output_type": "display_data"
    }
   ],
   "source": [
    "from matplotlib import pyplot as plt\n",
    "counts = friends.Platform.value_counts()\n",
    "plt.pie(counts, labels=friends.Platform.value_counts().index.tolist())\n",
    "plt.title(\"Družabna omrežja mojih prijateljev\") "
   ]
  },
  {
   "cell_type": "markdown",
   "id": "8c832471",
   "metadata": {},
   "source": [
    "Podatkovni niz je v delovnem pomnilniku računalnika v podatkovnem okviru (nekakšna večdimenzionalna spremenljivka). Ko zapustite to sejo, se vsi podatki izgubijo. Če želite podatke shraniti in prenesti za prihodnjo uporabo, lahko to storite z naslednjimi ukazi:"
   ]
  },
  {
   "cell_type": "code",
   "execution_count": 10,
   "id": "87d3e65c",
   "metadata": {},
   "outputs": [],
   "source": [
    "from google.colab import files\n",
    "friends.to_csv('friends.csv', encoding = 'utf-8-sig', index=False)\n",
    "files.download('friends.csv')"
   ]
  },
  {
   "cell_type": "markdown",
   "id": "2d642f77",
   "metadata": {},
   "source": [
    "Nato se niz podatkov shrani lokalno na disk računalnika, v naslednji seji pa ga lahko uvozite in nadaljujete delo z njim.\n",
    "\n",
    "*Daljša vaja*: poskusite ustvariti svoj podatkovni niz z drugimi parametri (nekaj idej: mesec rojstva, barva oči ali las, priljubljena glasbena zvrst ...). Izvedite anketo med prijatelji, iz nje ustvarite podatkovni niz in ga shranite za prihodnjo uporabo! Poiščite datoteko v računalniku, jo odprite (datoteke csv lahko odpre katerikoli urejevalnik besedila, lahko pa uporabite urejevalnik preglednic, kot sta Excel ali Calc) in si oglejte strukturo podatkov v njej. Če želite, lahko v prihodnjih predstavitvah delate z lastnimi podatki, vendar zaradi združljivosti poskrbite, da bodo imeli vsaj 8 zapisov.\n",
    "\n",
    "\n",
    "\n",
    "### 3.1.2. Ustvarjanje nabora podatkov na praktičen način\n",
    "\n",
    "Kot je bilo prikazano v prejšnjem razdelku, je ustvarjanje nabora podatkov z ročnim vnosom zelo počasen in naporen postopek. Kljub temu ste z njegovim učenjem sprejeli koristne veščine za upravljanje podatkov, znanje o strukturiranju podatkov in potrebo po doslednosti podatkov. \n",
    "Zdaj si predstavljajte, da želite svojo raziskavo razširiti na razred ali celo na celotno šolo. Ročno vnašanje podatkov postane skoraj nemogoče za tako velike skupine anketirancev. Rešitev za to težavo je uporaba nekega spletnega obrazca ali vprašalnika, ki ga je mogoče razširiti velikemu številu anketirancev prek interneta, pri čemer se uporabi le naslov URL - ta se zlahka razširja prek družabnih medijev ali klepetalnic, kot sta Viber ali Telegram, ali bolj tradicionalno prek e-pošte.\n",
    "\n",
    "Profesionalni zbiralci podatkov izdelajo svoje specializirane spletne obrazce za ankete, ki jih izvajajo. Vendar je javnosti na voljo nekaj brezplačnih orodij, ki so prav tako zelo priročna. Eno najboljših in najpogosteje uporabljenih orodij za zbiranje podatkov je [**Google Forms**](https://docs.google.com/forms). \n",
    "\n",
    "Poskusimo ustvariti isto anketo iz prejšnjega poglavja z uporabo orodja Google Forms. Če kliknete zgornjo povezavo, se bo v brskalniku odprl nov zavihek, domača stran Google Forms, kjer lahko izberete eno od predlog obrazcev ali preprosto odprete prazen obrazec. Če ste to orodje že uporabili, se bodo na tej strani prikazali tudi prej ustvarjeni obrazci.\n",
    "\n",
    "Zdaj odprite nov prazen obrazec in prikazal se bo naslednji vmesnik:\n",
    "\n",
    "\n",
    "<figure>.\n",
    "<img src=\"https://github.com/VALENCEML/eBOOK/raw/main/EN/03/UntitledGoogleForm.png\" width=\"500px;\"/> \n",
    "<figcaption align = \"left\"> Prazen obrazec Google </figcaption>\n",
    "</figure>\n",
    "\n",
    "V tem intuitivnem vmesniku lahko vnesete naslov in opis obrazca ter vprašanja. Zaradi anonimnosti zamenjajmo vprašanje *Namesto* iz prejšnje ankete z letom študija. Za vprašanja, ki imajo omejeno število možnih odgovorov, kot je leto študija, obrazci Google Forms ponujajo različne vrste vprašanj s predvidenimi seznami odgovorov, kot so izbirni odgovori, potrditvena polja ali spustni odgovori. S tem je zelo enostavno zagotoviti skladnost podatkov (za razliko od ročnega vnosa podatkov).\n",
    "\n",
    "<figure>\n",
    "<img src=\"https://github.com/VALENCEML/eBOOK/raw/main/EN/03/TitledGoogleForm.png\" width=\"500px;\"/> \n",
    "<figcaption align =\"left\"> Odgovori so omejeni na določen seznam možnosti </figcaption>\n",
    "</figure>\n",
    "\n",
    "Znak plus v desnem meniju, na sliki označen z rdečo puščico, doda novo vprašanje. Preostala vprašanja so lahko podobna, vendar lahko eksperimentirate s svojimi zamislimi.\n",
    "\n",
    "<figure>\n",
    "<img src=\"https://github.com/VALENCEML/eBOOK/raw/main/EN/03/Questions2to4.png\" width=\"500px;\"/> \n",
    "<figcaption align = \"left\"> Preostala vprašanja </figcaption>\n",
    "</figure>\n",
    "\n",
    "Ko je obrazec pripravljen, se z gumbom **Send** v zgornjem desnem kotu odpre vmesnik za pošiljanje, v katerem lahko prilagodite način distribucije obrazca. Obrazec se lahko razpošlje po elektronski pošti ali prek povezave, ki jo je mogoče kopirati in razširjati na kateri koli platformi, lahko pa se obrazec vgradi v spletno mesto.\n",
    "\n",
    "*Vaja:* Delo v skupinah. Razdelite razred v 4 ekipe (pri večjih razredih je število ekip lahko večje). Vsaka ekipa naj si zamisli idejo za anketo in izdela obrazec za zbiranje podatkov. Nato obrazce razdelijo po razredu in VSAK učenec odgovori na vse 4 obrazce. \n",
    "\n",
    "Po končanem obdobju anketiranja lahko rezultate prenesete iz razdelka *Odgovori* na vrhu okna za urejanje obrazca in jih po možnosti prenesete v obliki datoteke *csv* (ločene z vejico). \n",
    "\n",
    "*Daljše branje:* več informacij in pomoč o obrazcih Google lahko najdete [tukaj] (https://support.google.com/docs)."
   ]
  },
  {
   "cell_type": "markdown",
   "id": "3f1a0c2a",
   "metadata": {},
   "source": [
    "## 3.2. Uvoz niza podatkov\n",
    "\n",
    "Tukaj se boste naučili, kako uvoziti že obstoječi nabor podatkov. Ustvarite ga lahko vi ali druge osebe ali institucije in je trajno shranjen kot datoteka na vašem računalniku ali nekje na internetu. Najpogostejši format datoteke za shranjevanje podatkov je format *csv*, ki pomeni **C**omma **S**eparated **V**alues. Format *csv* ima več prednosti pred drugimi oblikami shranjevanja podatkov, nekatere med njimi so preprostost, dostopnost prek standardnih urejevalnikov in razumljivost (ko ga odprete, takoj veste, kaj je kaj). Če ste izvedli vajo, predlagano na koncu oddelka 3.1.1, in odprli takšno datoteko s kakšnim programom (urejevalnikom besedila ali preglednic), ste že seznanjeni z notranjo strukturo tega formata datoteke. Običajno je prva vrstica naslov tabele (imena ali opisi podatkov po stolpcih), vse naslednje vrstice pa so sami podatki, pri čemer je vsak podatek od okolice ločen z vejico.\n",
    "\n",
    "Poskusimo uvoziti svoj lasten nabor podatkov, ki ste ga ročno ustvarili in shranili. Vstavite ga v drug podatkovni okvir, *friends_imported*. Vizualno preverite, ali gre za iste podatke. Ali je kakšna razlika?"
   ]
  },
  {
   "cell_type": "code",
   "execution_count": 11,
   "id": "a848dc84",
   "metadata": {},
   "outputs": [
    {
     "data": {
      "text/html": [
       "<div>\n",
       "<style scoped>\n",
       "    .dataframe tbody tr th:only-of-type {\n",
       "        vertical-align: middle;\n",
       "    }\n",
       "\n",
       "    .dataframe tbody tr th {\n",
       "        vertical-align: top;\n",
       "    }\n",
       "\n",
       "    .dataframe thead th {\n",
       "        text-align: right;\n",
       "    }\n",
       "</style>\n",
       "<table border=\"1\" class=\"dataframe\">\n",
       "  <thead>\n",
       "    <tr style=\"text-align: right;\">\n",
       "      <th></th>\n",
       "      <th>Name</th>\n",
       "      <th>Gender</th>\n",
       "      <th>Time Daily [min]</th>\n",
       "      <th>Platform</th>\n",
       "    </tr>\n",
       "  </thead>\n",
       "  <tbody>\n",
       "    <tr>\n",
       "      <th>0</th>\n",
       "      <td>Zdravko</td>\n",
       "      <td>M</td>\n",
       "      <td>60</td>\n",
       "      <td>Facebook</td>\n",
       "    </tr>\n",
       "    <tr>\n",
       "      <th>1</th>\n",
       "      <td>Aleksandra</td>\n",
       "      <td>F</td>\n",
       "      <td>90</td>\n",
       "      <td>Instagram</td>\n",
       "    </tr>\n",
       "    <tr>\n",
       "      <th>2</th>\n",
       "      <td>Ivan</td>\n",
       "      <td>M</td>\n",
       "      <td>120</td>\n",
       "      <td>TikTok</td>\n",
       "    </tr>\n",
       "    <tr>\n",
       "      <th>3</th>\n",
       "      <td>Artim</td>\n",
       "      <td>M</td>\n",
       "      <td>30</td>\n",
       "      <td>Facebook</td>\n",
       "    </tr>\n",
       "    <tr>\n",
       "      <th>4</th>\n",
       "      <td>Ziga</td>\n",
       "      <td>M</td>\n",
       "      <td>60</td>\n",
       "      <td>Facebook</td>\n",
       "    </tr>\n",
       "    <tr>\n",
       "      <th>5</th>\n",
       "      <td>David</td>\n",
       "      <td>M</td>\n",
       "      <td>10</td>\n",
       "      <td>TikTok</td>\n",
       "    </tr>\n",
       "  </tbody>\n",
       "</table>\n",
       "</div>"
      ],
      "text/plain": [
       "         Name Gender  Time Daily [min]   Platform\n",
       "0     Zdravko      M                60   Facebook\n",
       "1  Aleksandra      F                90  Instagram\n",
       "2        Ivan      M               120     TikTok\n",
       "3       Artim      M                30   Facebook\n",
       "4        Ziga      M                60   Facebook\n",
       "5       David      M                10     TikTok"
      ]
     },
     "execution_count": 11,
     "metadata": {},
     "output_type": "execute_result"
    }
   ],
   "source": [
    "friends_imported = pd.read_csv('friends.csv')\n",
    "friends_imported"
   ]
  },
  {
   "cell_type": "code",
   "execution_count": 12,
   "id": "fcc8fdaf",
   "metadata": {},
   "outputs": [
    {
     "data": {
      "text/html": [
       "<div>\n",
       "<style scoped>\n",
       "    .dataframe tbody tr th:only-of-type {\n",
       "        vertical-align: middle;\n",
       "    }\n",
       "\n",
       "    .dataframe tbody tr th {\n",
       "        vertical-align: top;\n",
       "    }\n",
       "\n",
       "    .dataframe thead th {\n",
       "        text-align: right;\n",
       "    }\n",
       "</style>\n",
       "<table border=\"1\" class=\"dataframe\">\n",
       "  <thead>\n",
       "    <tr style=\"text-align: right;\">\n",
       "      <th></th>\n",
       "      <th>Name</th>\n",
       "      <th>Gender</th>\n",
       "      <th>Time Daily [min]</th>\n",
       "      <th>Platform</th>\n",
       "    </tr>\n",
       "  </thead>\n",
       "  <tbody>\n",
       "    <tr>\n",
       "      <th>0</th>\n",
       "      <td>Zdravko</td>\n",
       "      <td>M</td>\n",
       "      <td>60</td>\n",
       "      <td>Facebook</td>\n",
       "    </tr>\n",
       "    <tr>\n",
       "      <th>1</th>\n",
       "      <td>Aleksandra</td>\n",
       "      <td>F</td>\n",
       "      <td>90</td>\n",
       "      <td>Instagram</td>\n",
       "    </tr>\n",
       "    <tr>\n",
       "      <th>2</th>\n",
       "      <td>Ivan</td>\n",
       "      <td>M</td>\n",
       "      <td>120</td>\n",
       "      <td>TikTok</td>\n",
       "    </tr>\n",
       "    <tr>\n",
       "      <th>3</th>\n",
       "      <td>Artim</td>\n",
       "      <td>M</td>\n",
       "      <td>30</td>\n",
       "      <td>Facebook</td>\n",
       "    </tr>\n",
       "    <tr>\n",
       "      <th>4</th>\n",
       "      <td>Ziga</td>\n",
       "      <td>M</td>\n",
       "      <td>60</td>\n",
       "      <td>Facebook</td>\n",
       "    </tr>\n",
       "    <tr>\n",
       "      <th>5</th>\n",
       "      <td>David</td>\n",
       "      <td>M</td>\n",
       "      <td>10</td>\n",
       "      <td>TikTok</td>\n",
       "    </tr>\n",
       "  </tbody>\n",
       "</table>\n",
       "</div>"
      ],
      "text/plain": [
       "         Name Gender Time Daily [min]   Platform\n",
       "0     Zdravko      M               60   Facebook\n",
       "1  Aleksandra      F               90  Instagram\n",
       "2        Ivan      M              120     TikTok\n",
       "3       Artim      M               30   Facebook\n",
       "4        Ziga      M               60   Facebook\n",
       "5       David      M               10     TikTok"
      ]
     },
     "execution_count": 12,
     "metadata": {},
     "output_type": "execute_result"
    }
   ],
   "source": [
    "friends"
   ]
  },
  {
   "cell_type": "markdown",
   "id": "d2852023",
   "metadata": {},
   "source": [
    "Razlika med izvirnim in uvoženim podatkovnim okvirom dejansko JE, vendar je človeškemu očesu nevidna. Če jo želite videti, zaženite naslednji ukaz:"
   ]
  },
  {
   "cell_type": "code",
   "execution_count": 13,
   "id": "ecd0125b",
   "metadata": {},
   "outputs": [
    {
     "data": {
      "text/plain": [
       "Name                object\n",
       "Gender              object\n",
       "Time Daily [min]    object\n",
       "Platform            object\n",
       "dtype: object"
      ]
     },
     "execution_count": 13,
     "metadata": {},
     "output_type": "execute_result"
    }
   ],
   "source": [
    "t = friends.dtypes   # ta ukaz izpiše vse tipe atributov\n",
    "t"
   ]
  },
  {
   "cell_type": "markdown",
   "id": "27445ed0",
   "metadata": {},
   "source": [
    "Poskusimo enako za uvoženi podatkovni okvir:"
   ]
  },
  {
   "cell_type": "code",
   "execution_count": 14,
   "id": "f8d4ed41",
   "metadata": {},
   "outputs": [
    {
     "data": {
      "text/plain": [
       "Name                object\n",
       "Gender              object\n",
       "Time Daily [min]     int64\n",
       "Platform            object\n",
       "dtype: object"
      ]
     },
     "execution_count": 14,
     "metadata": {},
     "output_type": "execute_result"
    }
   ],
   "source": [
    "t2 = friends_imported.dtypes\n",
    "t2"
   ]
  },
  {
   "cell_type": "markdown",
   "id": "63406d58",
   "metadata": {},
   "source": [
    "Ali vidite razliko? Razlog za to je pretvorba vrste parametra *Dnevni čas [min]*. V naš podatkovni okvir smo vnesli čase kot *tekst* (vnesli smo '60' in ne 60). Pri shranjevanju v datoteko *csv* in nato pri branju nazaj so se časi spremenili v številke, ker je *pandas* domneval, da če je nekaj zapisano kot številka, se mora ohraniti kot številka. Bodite pozorni na to vedenje! Praviloma je vedno pametno preveriti vrste** svojih podatkov, zlasti če jih uvažate!!! K tej razpravi se bomo vrnili v razdelku 3.3.2.1."
   ]
  },
  {
   "cell_type": "markdown",
   "id": "259bdab9",
   "metadata": {},
   "source": [
    "*Daljša praksa:* Čeprav se format *csv* najpogosteje uporablja za shranjevanje podatkov, ima svoje omejitve, kadar je treba shraniti kompleksnejše podatkovne strukture. *Knjižnica *pandas* ponuja podporo za več formatov za shranjevanje podatkov, poleg *csv* lahko bere tudi *excel*, *sql*, *json*, *html* in druge vrste datotek. Poskusite shraniti in nato prebrati svoj niz podatkov v nekaterih drugih formatih.  Vmes preverite datoteko, shranjeno v računalniku, in opazujte njeno notranjo strukturo. \n",
    "Tukaj je nekaj predlogov: \n",
    "- *dataframe*.to_excel / pd.read_excel\n",
    "- *dataframe*.to_json / pd.read_json\n",
    "- *dataframe*.to_html / pd.read_html\n",
    "- *dataframe*.to_xml / pd.read_xml\n",
    "\n",
    "Uporaba je podobna tisti, ki ste se jo naučili zgoraj, če pa jo potrebujete, lahko najdete podrobna navodila [tukaj](https://pandas.pydata.org/docs/reference/io.html)."
   ]
  },
  {
   "cell_type": "markdown",
   "id": "5c046896",
   "metadata": {},
   "source": [
    "### 3.2.1. Spletne podatkovne storitve\n",
    "\n",
    "\n",
    "V nekaterih primerih ne bo mogoče ustvariti lastnih podatkovnih nizov. Obsežne in strokovno ustvarjene podatkovne nize lahko pridobite iz nekaterih spletnih podatkovnih storitev. V nadaljevanju navajamo nekaj takih, ki bi jih bilo koristno poznati:\n",
    "- [kaggle](https://www.kaggle.com/datasets), (različni podatki po virih skupnosti)\n",
    "- [Google Dataset](https://datasetsearch.research.google.com/), (različni podatki, Google)\n",
    "- [Global Health](https://apps.who.int/gho/data/node.home), (zdravstveni podatki, WHO)\n",
    "- [Datahub.io](https://datahub.io/collections), (večinoma poslovni in finančni podatki)\n",
    "-[CrimeExplorer](https://crime-data-explorer.fr.cloud.gov/), (podatki o kaznivih dejanjih, FBI)\n",
    "- [EarthData](https://earthdata.nasa.gov/), (okoljski podatki, NASA)\n",
    "- [CERN open data](http://opendata.cern.ch/), (podatki o fiziki delcev, CERN)\n",
    "\n",
    "\n",
    "Nekatere od teh storitev zahtevajo brezplačno registracijo (uporabniški račun), druge so dostopne brez registracije."
   ]
  },
  {
   "cell_type": "markdown",
   "id": "f7790a46",
   "metadata": {},
   "source": [
    "## 3.3. Upravljanje nabora podatkov\n",
    "\n",
    "Zdaj veste, kako ustvariti, shraniti in uvoziti podatke. Preden se lotite analitike in obdelave, morate vedeti še nekaj osnovnih stvari o upravljanju svojega nabora podatkov.\n",
    "\n",
    "### 3.3.1. Dostop do izbranih delov podatkov\n",
    "\n",
    "Za referenco je tukaj še enkrat celoten nabor podatkov:"
   ]
  },
  {
   "cell_type": "code",
   "execution_count": 15,
   "id": "a13e84ed",
   "metadata": {},
   "outputs": [
    {
     "data": {
      "text/html": [
       "<div>\n",
       "<style scoped>\n",
       "    .dataframe tbody tr th:only-of-type {\n",
       "        vertical-align: middle;\n",
       "    }\n",
       "\n",
       "    .dataframe tbody tr th {\n",
       "        vertical-align: top;\n",
       "    }\n",
       "\n",
       "    .dataframe thead th {\n",
       "        text-align: right;\n",
       "    }\n",
       "</style>\n",
       "<table border=\"1\" class=\"dataframe\">\n",
       "  <thead>\n",
       "    <tr style=\"text-align: right;\">\n",
       "      <th></th>\n",
       "      <th>Name</th>\n",
       "      <th>Gender</th>\n",
       "      <th>Time Daily [min]</th>\n",
       "      <th>Platform</th>\n",
       "    </tr>\n",
       "  </thead>\n",
       "  <tbody>\n",
       "    <tr>\n",
       "      <th>0</th>\n",
       "      <td>Zdravko</td>\n",
       "      <td>M</td>\n",
       "      <td>60</td>\n",
       "      <td>Facebook</td>\n",
       "    </tr>\n",
       "    <tr>\n",
       "      <th>1</th>\n",
       "      <td>Aleksandra</td>\n",
       "      <td>F</td>\n",
       "      <td>90</td>\n",
       "      <td>Instagram</td>\n",
       "    </tr>\n",
       "    <tr>\n",
       "      <th>2</th>\n",
       "      <td>Ivan</td>\n",
       "      <td>M</td>\n",
       "      <td>120</td>\n",
       "      <td>TikTok</td>\n",
       "    </tr>\n",
       "    <tr>\n",
       "      <th>3</th>\n",
       "      <td>Artim</td>\n",
       "      <td>M</td>\n",
       "      <td>30</td>\n",
       "      <td>Facebook</td>\n",
       "    </tr>\n",
       "    <tr>\n",
       "      <th>4</th>\n",
       "      <td>Ziga</td>\n",
       "      <td>M</td>\n",
       "      <td>60</td>\n",
       "      <td>Facebook</td>\n",
       "    </tr>\n",
       "    <tr>\n",
       "      <th>5</th>\n",
       "      <td>David</td>\n",
       "      <td>M</td>\n",
       "      <td>10</td>\n",
       "      <td>TikTok</td>\n",
       "    </tr>\n",
       "  </tbody>\n",
       "</table>\n",
       "</div>"
      ],
      "text/plain": [
       "         Name Gender Time Daily [min]   Platform\n",
       "0     Zdravko      M               60   Facebook\n",
       "1  Aleksandra      F               90  Instagram\n",
       "2        Ivan      M              120     TikTok\n",
       "3       Artim      M               30   Facebook\n",
       "4        Ziga      M               60   Facebook\n",
       "5       David      M               10     TikTok"
      ]
     },
     "execution_count": 15,
     "metadata": {},
     "output_type": "execute_result"
    }
   ],
   "source": [
    "friends"
   ]
  },
  {
   "cell_type": "markdown",
   "id": "27caa2c0",
   "metadata": {},
   "source": [
    "Prvi stolpec brez imena zgoraj je stolpec z indeksom. Za dostop do določenega zapisa iz niza podatkov lahko uporabite operator *loc*. Ta operator deluje z indeksom zahtevanega zapisa."
   ]
  },
  {
   "cell_type": "code",
   "execution_count": 16,
   "id": "c6db06dc",
   "metadata": {},
   "outputs": [
    {
     "data": {
      "text/plain": [
       "Name                   Artim\n",
       "Gender                     M\n",
       "Time Daily [min]          30\n",
       "Platform            Facebook\n",
       "Name: 3, dtype: object"
      ]
     },
     "execution_count": 16,
     "metadata": {},
     "output_type": "execute_result"
    }
   ],
   "source": [
    "friends.loc[3]"
   ]
  },
  {
   "cell_type": "markdown",
   "id": "a0ff2697",
   "metadata": {},
   "source": [
    "Če ne potrebujete vseh podatkov za ta zapis, temveč le eno informacijo, lahko to določite:"
   ]
  },
  {
   "cell_type": "code",
   "execution_count": 17,
   "id": "d74f0d5b",
   "metadata": {},
   "outputs": [
    {
     "data": {
      "text/plain": [
       "'Facebook'"
      ]
     },
     "execution_count": 17,
     "metadata": {},
     "output_type": "execute_result"
    }
   ],
   "source": [
    "friends.loc[3,'Platform']"
   ]
  },
  {
   "cell_type": "markdown",
   "id": "52c80269",
   "metadata": {},
   "source": [
    "Prav tako lahko hkrati dostopate do več indeksov, ki so urejeni ali poljubni:"
   ]
  },
  {
   "cell_type": "code",
   "execution_count": 18,
   "id": "d308fc79",
   "metadata": {},
   "outputs": [
    {
     "data": {
      "text/html": [
       "<div>\n",
       "<style scoped>\n",
       "    .dataframe tbody tr th:only-of-type {\n",
       "        vertical-align: middle;\n",
       "    }\n",
       "\n",
       "    .dataframe tbody tr th {\n",
       "        vertical-align: top;\n",
       "    }\n",
       "\n",
       "    .dataframe thead th {\n",
       "        text-align: right;\n",
       "    }\n",
       "</style>\n",
       "<table border=\"1\" class=\"dataframe\">\n",
       "  <thead>\n",
       "    <tr style=\"text-align: right;\">\n",
       "      <th></th>\n",
       "      <th>Name</th>\n",
       "      <th>Gender</th>\n",
       "      <th>Time Daily [min]</th>\n",
       "      <th>Platform</th>\n",
       "    </tr>\n",
       "  </thead>\n",
       "  <tbody>\n",
       "    <tr>\n",
       "      <th>2</th>\n",
       "      <td>Ivan</td>\n",
       "      <td>M</td>\n",
       "      <td>120</td>\n",
       "      <td>TikTok</td>\n",
       "    </tr>\n",
       "    <tr>\n",
       "      <th>3</th>\n",
       "      <td>Artim</td>\n",
       "      <td>M</td>\n",
       "      <td>30</td>\n",
       "      <td>Facebook</td>\n",
       "    </tr>\n",
       "    <tr>\n",
       "      <th>4</th>\n",
       "      <td>Ziga</td>\n",
       "      <td>M</td>\n",
       "      <td>60</td>\n",
       "      <td>Facebook</td>\n",
       "    </tr>\n",
       "  </tbody>\n",
       "</table>\n",
       "</div>"
      ],
      "text/plain": [
       "    Name Gender Time Daily [min]  Platform\n",
       "2   Ivan      M              120    TikTok\n",
       "3  Artim      M               30  Facebook\n",
       "4   Ziga      M               60  Facebook"
      ]
     },
     "execution_count": 18,
     "metadata": {},
     "output_type": "execute_result"
    }
   ],
   "source": [
    "friends.loc[2:4]"
   ]
  },
  {
   "cell_type": "code",
   "execution_count": 20,
   "id": "41b420d9",
   "metadata": {},
   "outputs": [
    {
     "data": {
      "text/html": [
       "<div>\n",
       "<style scoped>\n",
       "    .dataframe tbody tr th:only-of-type {\n",
       "        vertical-align: middle;\n",
       "    }\n",
       "\n",
       "    .dataframe tbody tr th {\n",
       "        vertical-align: top;\n",
       "    }\n",
       "\n",
       "    .dataframe thead th {\n",
       "        text-align: right;\n",
       "    }\n",
       "</style>\n",
       "<table border=\"1\" class=\"dataframe\">\n",
       "  <thead>\n",
       "    <tr style=\"text-align: right;\">\n",
       "      <th></th>\n",
       "      <th>Name</th>\n",
       "      <th>Gender</th>\n",
       "      <th>Time Daily [min]</th>\n",
       "      <th>Platform</th>\n",
       "    </tr>\n",
       "  </thead>\n",
       "  <tbody>\n",
       "    <tr>\n",
       "      <th>0</th>\n",
       "      <td>Zdravko</td>\n",
       "      <td>M</td>\n",
       "      <td>60</td>\n",
       "      <td>Facebook</td>\n",
       "    </tr>\n",
       "    <tr>\n",
       "      <th>2</th>\n",
       "      <td>Ivan</td>\n",
       "      <td>M</td>\n",
       "      <td>120</td>\n",
       "      <td>TikTok</td>\n",
       "    </tr>\n",
       "    <tr>\n",
       "      <th>3</th>\n",
       "      <td>Artim</td>\n",
       "      <td>M</td>\n",
       "      <td>30</td>\n",
       "      <td>Facebook</td>\n",
       "    </tr>\n",
       "    <tr>\n",
       "      <th>4</th>\n",
       "      <td>Ziga</td>\n",
       "      <td>M</td>\n",
       "      <td>60</td>\n",
       "      <td>Facebook</td>\n",
       "    </tr>\n",
       "  </tbody>\n",
       "</table>\n",
       "</div>"
      ],
      "text/plain": [
       "      Name Gender Time Daily [min]  Platform\n",
       "0  Zdravko      M               60  Facebook\n",
       "2     Ivan      M              120    TikTok\n",
       "3    Artim      M               30  Facebook\n",
       "4     Ziga      M               60  Facebook"
      ]
     },
     "execution_count": 20,
     "metadata": {},
     "output_type": "execute_result"
    }
   ],
   "source": [
    "friends.loc[{0,2,3,4}]"
   ]
  },
  {
   "cell_type": "markdown",
   "id": "e476ab2c",
   "metadata": {},
   "source": [
    "Zgornja primera prikazujeta, kako dostopati do podatkov po vrsticah. Če je treba dostopati do stolpcev, na primer, če želite videti vsa imena v naboru podatkov, potem:"
   ]
  },
  {
   "cell_type": "code",
   "execution_count": 21,
   "id": "a901aece",
   "metadata": {},
   "outputs": [
    {
     "data": {
      "text/plain": [
       "0       Zdravko\n",
       "1    Aleksandra\n",
       "2          Ivan\n",
       "3         Artim\n",
       "4          Ziga\n",
       "5         David\n",
       "Name: Name, dtype: object"
      ]
     },
     "execution_count": 21,
     "metadata": {},
     "output_type": "execute_result"
    }
   ],
   "source": [
    "friends['Name']"
   ]
  },
  {
   "cell_type": "markdown",
   "id": "d4576d23",
   "metadata": {},
   "source": [
    "Za pridobivanje več stolpcev iz niza podatkov je treba uporabiti seznam - oglati oklepaji {}."
   ]
  },
  {
   "cell_type": "code",
   "execution_count": 22,
   "id": "f056eca8",
   "metadata": {},
   "outputs": [
    {
     "data": {
      "text/html": [
       "<div>\n",
       "<style scoped>\n",
       "    .dataframe tbody tr th:only-of-type {\n",
       "        vertical-align: middle;\n",
       "    }\n",
       "\n",
       "    .dataframe tbody tr th {\n",
       "        vertical-align: top;\n",
       "    }\n",
       "\n",
       "    .dataframe thead th {\n",
       "        text-align: right;\n",
       "    }\n",
       "</style>\n",
       "<table border=\"1\" class=\"dataframe\">\n",
       "  <thead>\n",
       "    <tr style=\"text-align: right;\">\n",
       "      <th></th>\n",
       "      <th>Gender</th>\n",
       "      <th>Platform</th>\n",
       "    </tr>\n",
       "  </thead>\n",
       "  <tbody>\n",
       "    <tr>\n",
       "      <th>0</th>\n",
       "      <td>M</td>\n",
       "      <td>Facebook</td>\n",
       "    </tr>\n",
       "    <tr>\n",
       "      <th>1</th>\n",
       "      <td>F</td>\n",
       "      <td>Instagram</td>\n",
       "    </tr>\n",
       "    <tr>\n",
       "      <th>2</th>\n",
       "      <td>M</td>\n",
       "      <td>TikTok</td>\n",
       "    </tr>\n",
       "    <tr>\n",
       "      <th>3</th>\n",
       "      <td>M</td>\n",
       "      <td>Facebook</td>\n",
       "    </tr>\n",
       "    <tr>\n",
       "      <th>4</th>\n",
       "      <td>M</td>\n",
       "      <td>Facebook</td>\n",
       "    </tr>\n",
       "    <tr>\n",
       "      <th>5</th>\n",
       "      <td>M</td>\n",
       "      <td>TikTok</td>\n",
       "    </tr>\n",
       "  </tbody>\n",
       "</table>\n",
       "</div>"
      ],
      "text/plain": [
       "  Gender   Platform\n",
       "0      M   Facebook\n",
       "1      F  Instagram\n",
       "2      M     TikTok\n",
       "3      M   Facebook\n",
       "4      M   Facebook\n",
       "5      M     TikTok"
      ]
     },
     "execution_count": 22,
     "metadata": {},
     "output_type": "execute_result"
    }
   ],
   "source": [
    "friends[{'Gender','Platform'}]"
   ]
  },
  {
   "cell_type": "markdown",
   "id": "e75cff41",
   "metadata": {},
   "source": [
    "Včasih ne poznate indeksa zapisa, ki ga želite videti, poznate pa nekatere druge informacije. V tem primeru lahko namesto številke kot indeksa uporabite logično merilo."
   ]
  },
  {
   "cell_type": "code",
   "execution_count": 23,
   "id": "ebeedc1b",
   "metadata": {},
   "outputs": [
    {
     "data": {
      "text/plain": [
       "0    False\n",
       "1    False\n",
       "2     True\n",
       "3    False\n",
       "4    False\n",
       "5    False\n",
       "Name: Name, dtype: bool"
      ]
     },
     "execution_count": 23,
     "metadata": {},
     "output_type": "execute_result"
    }
   ],
   "source": [
    "friends['Name']=='Ivan'"
   ]
  },
  {
   "cell_type": "markdown",
   "id": "8f7e45d9",
   "metadata": {},
   "source": [
    "Če ta rezultat uporabite kot indeks, boste z operatorjem *loc* dobili **saj** zapise, pri katerih je pogoj resničen."
   ]
  },
  {
   "cell_type": "code",
   "execution_count": 24,
   "id": "dadea904",
   "metadata": {},
   "outputs": [
    {
     "data": {
      "text/html": [
       "<div>\n",
       "<style scoped>\n",
       "    .dataframe tbody tr th:only-of-type {\n",
       "        vertical-align: middle;\n",
       "    }\n",
       "\n",
       "    .dataframe tbody tr th {\n",
       "        vertical-align: top;\n",
       "    }\n",
       "\n",
       "    .dataframe thead th {\n",
       "        text-align: right;\n",
       "    }\n",
       "</style>\n",
       "<table border=\"1\" class=\"dataframe\">\n",
       "  <thead>\n",
       "    <tr style=\"text-align: right;\">\n",
       "      <th></th>\n",
       "      <th>Name</th>\n",
       "      <th>Gender</th>\n",
       "      <th>Time Daily [min]</th>\n",
       "      <th>Platform</th>\n",
       "    </tr>\n",
       "  </thead>\n",
       "  <tbody>\n",
       "    <tr>\n",
       "      <th>2</th>\n",
       "      <td>Ivan</td>\n",
       "      <td>M</td>\n",
       "      <td>120</td>\n",
       "      <td>TikTok</td>\n",
       "    </tr>\n",
       "  </tbody>\n",
       "</table>\n",
       "</div>"
      ],
      "text/plain": [
       "   Name Gender Time Daily [min] Platform\n",
       "2  Ivan      M              120   TikTok"
      ]
     },
     "execution_count": 24,
     "metadata": {},
     "output_type": "execute_result"
    }
   ],
   "source": [
    "friends.loc[friends['Name']=='Ivan']"
   ]
  },
  {
   "cell_type": "markdown",
   "id": "9407711e",
   "metadata": {},
   "source": [
    "Ta trik lahko uporabite tudi za filtriranje nabora podatkov. Poglejmo na primer, kdo uporablja TikTok:"
   ]
  },
  {
   "cell_type": "code",
   "execution_count": 25,
   "id": "5225800d",
   "metadata": {},
   "outputs": [
    {
     "data": {
      "text/html": [
       "<div>\n",
       "<style scoped>\n",
       "    .dataframe tbody tr th:only-of-type {\n",
       "        vertical-align: middle;\n",
       "    }\n",
       "\n",
       "    .dataframe tbody tr th {\n",
       "        vertical-align: top;\n",
       "    }\n",
       "\n",
       "    .dataframe thead th {\n",
       "        text-align: right;\n",
       "    }\n",
       "</style>\n",
       "<table border=\"1\" class=\"dataframe\">\n",
       "  <thead>\n",
       "    <tr style=\"text-align: right;\">\n",
       "      <th></th>\n",
       "      <th>Name</th>\n",
       "      <th>Gender</th>\n",
       "      <th>Time Daily [min]</th>\n",
       "      <th>Platform</th>\n",
       "    </tr>\n",
       "  </thead>\n",
       "  <tbody>\n",
       "    <tr>\n",
       "      <th>2</th>\n",
       "      <td>Ivan</td>\n",
       "      <td>M</td>\n",
       "      <td>120</td>\n",
       "      <td>TikTok</td>\n",
       "    </tr>\n",
       "    <tr>\n",
       "      <th>5</th>\n",
       "      <td>David</td>\n",
       "      <td>M</td>\n",
       "      <td>10</td>\n",
       "      <td>TikTok</td>\n",
       "    </tr>\n",
       "  </tbody>\n",
       "</table>\n",
       "</div>"
      ],
      "text/plain": [
       "    Name Gender Time Daily [min] Platform\n",
       "2   Ivan      M              120   TikTok\n",
       "5  David      M               10   TikTok"
      ]
     },
     "execution_count": 25,
     "metadata": {},
     "output_type": "execute_result"
    }
   ],
   "source": [
    "friends.loc[friends['Platform']=='TikTok']"
   ]
  },
  {
   "cell_type": "markdown",
   "id": "ff5f07e5",
   "metadata": {},
   "source": [
    "Opazujte, kako v vseh teh primerih dobite podmnožice prvotnega nabora podatkov. Vsaka od njih podeduje prvotne indekse, zato jo lahko po potrebi uporabite kot ločeno zbirko podatkov. V ta namen lahko izbrano podmnožico pripišete novemu podatkovnemu okviru.\n",
    "\n",
    "*Vaja:* poskusite svoje zamisli za prikaz samo podmnožic podatkov in za filtriranje podatkov z različnimi merili."
   ]
  },
  {
   "cell_type": "markdown",
   "id": "189e5e3e",
   "metadata": {},
   "source": [
    "### 3.3.2. Modificiranje podatkov\n",
    "\n",
    "Ko obvladate tehnike dostopa do podatkov, je spreminjanje podatkov zelo preprosto. Spreminjanje je samo dodeljevanje nove vrednosti izbranemu podatku. Poskusimo zamenjati en zapis (npr. indeks = 4) z drugim. \n",
    "\n",
    "Dostop do zapisa (izbira):"
   ]
  },
  {
   "cell_type": "code",
   "execution_count": 26,
   "id": "be45c752",
   "metadata": {},
   "outputs": [
    {
     "data": {
      "text/plain": [
       "Name                    Ziga\n",
       "Gender                     M\n",
       "Time Daily [min]          60\n",
       "Platform            Facebook\n",
       "Name: 4, dtype: object"
      ]
     },
     "execution_count": 26,
     "metadata": {},
     "output_type": "execute_result"
    }
   ],
   "source": [
    "friends.loc[4]"
   ]
  },
  {
   "cell_type": "markdown",
   "id": "6bf02002",
   "metadata": {},
   "source": [
    "Izbranemu zapisu dodelite novo(-e) vrednost(-i):"
   ]
  },
  {
   "cell_type": "code",
   "execution_count": 27,
   "id": "d8c84cb7",
   "metadata": {},
   "outputs": [
    {
     "data": {
      "text/html": [
       "<div>\n",
       "<style scoped>\n",
       "    .dataframe tbody tr th:only-of-type {\n",
       "        vertical-align: middle;\n",
       "    }\n",
       "\n",
       "    .dataframe tbody tr th {\n",
       "        vertical-align: top;\n",
       "    }\n",
       "\n",
       "    .dataframe thead th {\n",
       "        text-align: right;\n",
       "    }\n",
       "</style>\n",
       "<table border=\"1\" class=\"dataframe\">\n",
       "  <thead>\n",
       "    <tr style=\"text-align: right;\">\n",
       "      <th></th>\n",
       "      <th>Name</th>\n",
       "      <th>Gender</th>\n",
       "      <th>Time Daily [min]</th>\n",
       "      <th>Platform</th>\n",
       "    </tr>\n",
       "  </thead>\n",
       "  <tbody>\n",
       "    <tr>\n",
       "      <th>0</th>\n",
       "      <td>Zdravko</td>\n",
       "      <td>M</td>\n",
       "      <td>60</td>\n",
       "      <td>Facebook</td>\n",
       "    </tr>\n",
       "    <tr>\n",
       "      <th>1</th>\n",
       "      <td>Aleksandra</td>\n",
       "      <td>F</td>\n",
       "      <td>90</td>\n",
       "      <td>Instagram</td>\n",
       "    </tr>\n",
       "    <tr>\n",
       "      <th>2</th>\n",
       "      <td>Ivan</td>\n",
       "      <td>M</td>\n",
       "      <td>120</td>\n",
       "      <td>TikTok</td>\n",
       "    </tr>\n",
       "    <tr>\n",
       "      <th>3</th>\n",
       "      <td>Artim</td>\n",
       "      <td>M</td>\n",
       "      <td>30</td>\n",
       "      <td>Facebook</td>\n",
       "    </tr>\n",
       "    <tr>\n",
       "      <th>4</th>\n",
       "      <td>Maryna</td>\n",
       "      <td>F</td>\n",
       "      <td>80</td>\n",
       "      <td>Instagram</td>\n",
       "    </tr>\n",
       "    <tr>\n",
       "      <th>5</th>\n",
       "      <td>David</td>\n",
       "      <td>M</td>\n",
       "      <td>10</td>\n",
       "      <td>TikTok</td>\n",
       "    </tr>\n",
       "  </tbody>\n",
       "</table>\n",
       "</div>"
      ],
      "text/plain": [
       "         Name Gender Time Daily [min]   Platform\n",
       "0     Zdravko      M               60   Facebook\n",
       "1  Aleksandra      F               90  Instagram\n",
       "2        Ivan      M              120     TikTok\n",
       "3       Artim      M               30   Facebook\n",
       "4      Maryna      F               80  Instagram\n",
       "5       David      M               10     TikTok"
      ]
     },
     "execution_count": 27,
     "metadata": {},
     "output_type": "execute_result"
    }
   ],
   "source": [
    "friends.loc[4] = ['Maryna','F','80','Instagram']\n",
    "friends"
   ]
  },
  {
   "cell_type": "markdown",
   "id": "2ee213bc",
   "metadata": {},
   "source": [
    "Če je treba spremeniti samo eno vrednost, veljajo vsa zgoraj navedena izbirna merila. Spreminjanje vrednosti v fiksni vrstici (znan indeks):"
   ]
  },
  {
   "cell_type": "code",
   "execution_count": 28,
   "id": "e0162cff",
   "metadata": {},
   "outputs": [
    {
     "data": {
      "text/html": [
       "<div>\n",
       "<style scoped>\n",
       "    .dataframe tbody tr th:only-of-type {\n",
       "        vertical-align: middle;\n",
       "    }\n",
       "\n",
       "    .dataframe tbody tr th {\n",
       "        vertical-align: top;\n",
       "    }\n",
       "\n",
       "    .dataframe thead th {\n",
       "        text-align: right;\n",
       "    }\n",
       "</style>\n",
       "<table border=\"1\" class=\"dataframe\">\n",
       "  <thead>\n",
       "    <tr style=\"text-align: right;\">\n",
       "      <th></th>\n",
       "      <th>Name</th>\n",
       "      <th>Gender</th>\n",
       "      <th>Time Daily [min]</th>\n",
       "      <th>Platform</th>\n",
       "    </tr>\n",
       "  </thead>\n",
       "  <tbody>\n",
       "    <tr>\n",
       "      <th>0</th>\n",
       "      <td>Zdravko</td>\n",
       "      <td>M</td>\n",
       "      <td>60</td>\n",
       "      <td>Facebook</td>\n",
       "    </tr>\n",
       "    <tr>\n",
       "      <th>1</th>\n",
       "      <td>Aleksandra</td>\n",
       "      <td>F</td>\n",
       "      <td>90</td>\n",
       "      <td>Instagram</td>\n",
       "    </tr>\n",
       "    <tr>\n",
       "      <th>2</th>\n",
       "      <td>Ivan</td>\n",
       "      <td>M</td>\n",
       "      <td>120</td>\n",
       "      <td>TikTok</td>\n",
       "    </tr>\n",
       "    <tr>\n",
       "      <th>3</th>\n",
       "      <td>Artim</td>\n",
       "      <td>M</td>\n",
       "      <td>30</td>\n",
       "      <td>Facebook</td>\n",
       "    </tr>\n",
       "    <tr>\n",
       "      <th>4</th>\n",
       "      <td>Maryna</td>\n",
       "      <td>F</td>\n",
       "      <td>120</td>\n",
       "      <td>Instagram</td>\n",
       "    </tr>\n",
       "    <tr>\n",
       "      <th>5</th>\n",
       "      <td>David</td>\n",
       "      <td>M</td>\n",
       "      <td>10</td>\n",
       "      <td>TikTok</td>\n",
       "    </tr>\n",
       "  </tbody>\n",
       "</table>\n",
       "</div>"
      ],
      "text/plain": [
       "         Name Gender Time Daily [min]   Platform\n",
       "0     Zdravko      M               60   Facebook\n",
       "1  Aleksandra      F               90  Instagram\n",
       "2        Ivan      M              120     TikTok\n",
       "3       Artim      M               30   Facebook\n",
       "4      Maryna      F              120  Instagram\n",
       "5       David      M               10     TikTok"
      ]
     },
     "execution_count": 28,
     "metadata": {},
     "output_type": "execute_result"
    }
   ],
   "source": [
    "friends.loc[4, 'Time Daily [min]'] = '120'\n",
    "friends"
   ]
  },
  {
   "cell_type": "markdown",
   "id": "5a5141e8",
   "metadata": {},
   "source": [
    "Spreminjanje vrednosti v vrstici na podlagi pravila (neznan indeks):"
   ]
  },
  {
   "cell_type": "code",
   "execution_count": 30,
   "id": "9a9f4d85",
   "metadata": {},
   "outputs": [
    {
     "data": {
      "text/html": [
       "<div>\n",
       "<style scoped>\n",
       "    .dataframe tbody tr th:only-of-type {\n",
       "        vertical-align: middle;\n",
       "    }\n",
       "\n",
       "    .dataframe tbody tr th {\n",
       "        vertical-align: top;\n",
       "    }\n",
       "\n",
       "    .dataframe thead th {\n",
       "        text-align: right;\n",
       "    }\n",
       "</style>\n",
       "<table border=\"1\" class=\"dataframe\">\n",
       "  <thead>\n",
       "    <tr style=\"text-align: right;\">\n",
       "      <th></th>\n",
       "      <th>Name</th>\n",
       "      <th>Gender</th>\n",
       "      <th>Time Daily [min]</th>\n",
       "      <th>Platform</th>\n",
       "    </tr>\n",
       "  </thead>\n",
       "  <tbody>\n",
       "    <tr>\n",
       "      <th>0</th>\n",
       "      <td>Zdravko</td>\n",
       "      <td>M</td>\n",
       "      <td>60</td>\n",
       "      <td>Facebook</td>\n",
       "    </tr>\n",
       "    <tr>\n",
       "      <th>1</th>\n",
       "      <td>Aleksandra</td>\n",
       "      <td>F</td>\n",
       "      <td>90</td>\n",
       "      <td>Instagram</td>\n",
       "    </tr>\n",
       "    <tr>\n",
       "      <th>2</th>\n",
       "      <td>Ivan</td>\n",
       "      <td>M</td>\n",
       "      <td>120</td>\n",
       "      <td>TikTok</td>\n",
       "    </tr>\n",
       "    <tr>\n",
       "      <th>3</th>\n",
       "      <td>Artim</td>\n",
       "      <td>M</td>\n",
       "      <td>30</td>\n",
       "      <td>Facebook</td>\n",
       "    </tr>\n",
       "    <tr>\n",
       "      <th>4</th>\n",
       "      <td>Marina</td>\n",
       "      <td>F</td>\n",
       "      <td>120</td>\n",
       "      <td>Instagram</td>\n",
       "    </tr>\n",
       "    <tr>\n",
       "      <th>5</th>\n",
       "      <td>David</td>\n",
       "      <td>M</td>\n",
       "      <td>10</td>\n",
       "      <td>TikTok</td>\n",
       "    </tr>\n",
       "  </tbody>\n",
       "</table>\n",
       "</div>"
      ],
      "text/plain": [
       "         Name Gender Time Daily [min]   Platform\n",
       "0     Zdravko      M               60   Facebook\n",
       "1  Aleksandra      F               90  Instagram\n",
       "2        Ivan      M              120     TikTok\n",
       "3       Artim      M               30   Facebook\n",
       "4      Marina      F              120  Instagram\n",
       "5       David      M               10     TikTok"
      ]
     },
     "execution_count": 30,
     "metadata": {},
     "output_type": "execute_result"
    }
   ],
   "source": [
    "friends.loc[friends['Name']=='Maryna', 'Name'] = 'Marina'  # to je funkcija \"najdi in zamenjaj\"\n",
    "friends"
   ]
  },
  {
   "cell_type": "markdown",
   "id": "0ab44db1",
   "metadata": {},
   "source": [
    "To storite preudarno, saj gumba \"razveljaviti \"** ni! Če je pravilo izpolnjeno za več vrstic, bodo **spremenjene vse vrstice**!"
   ]
  },
  {
   "cell_type": "code",
   "execution_count": 32,
   "id": "147c061b",
   "metadata": {},
   "outputs": [
    {
     "data": {
      "text/html": [
       "<div>\n",
       "<style scoped>\n",
       "    .dataframe tbody tr th:only-of-type {\n",
       "        vertical-align: middle;\n",
       "    }\n",
       "\n",
       "    .dataframe tbody tr th {\n",
       "        vertical-align: top;\n",
       "    }\n",
       "\n",
       "    .dataframe thead th {\n",
       "        text-align: right;\n",
       "    }\n",
       "</style>\n",
       "<table border=\"1\" class=\"dataframe\">\n",
       "  <thead>\n",
       "    <tr style=\"text-align: right;\">\n",
       "      <th></th>\n",
       "      <th>Name</th>\n",
       "      <th>Gender</th>\n",
       "      <th>Time Daily [min]</th>\n",
       "      <th>Platform</th>\n",
       "    </tr>\n",
       "  </thead>\n",
       "  <tbody>\n",
       "    <tr>\n",
       "      <th>0</th>\n",
       "      <td>Oliver</td>\n",
       "      <td>M</td>\n",
       "      <td>60</td>\n",
       "      <td>Facebook</td>\n",
       "    </tr>\n",
       "    <tr>\n",
       "      <th>1</th>\n",
       "      <td>Aleksandra</td>\n",
       "      <td>F</td>\n",
       "      <td>90</td>\n",
       "      <td>Instagram</td>\n",
       "    </tr>\n",
       "    <tr>\n",
       "      <th>2</th>\n",
       "      <td>Oliver</td>\n",
       "      <td>M</td>\n",
       "      <td>120</td>\n",
       "      <td>TikTok</td>\n",
       "    </tr>\n",
       "    <tr>\n",
       "      <th>3</th>\n",
       "      <td>Oliver</td>\n",
       "      <td>M</td>\n",
       "      <td>30</td>\n",
       "      <td>Facebook</td>\n",
       "    </tr>\n",
       "    <tr>\n",
       "      <th>4</th>\n",
       "      <td>Marina</td>\n",
       "      <td>F</td>\n",
       "      <td>120</td>\n",
       "      <td>Instagram</td>\n",
       "    </tr>\n",
       "    <tr>\n",
       "      <th>5</th>\n",
       "      <td>Oliver</td>\n",
       "      <td>M</td>\n",
       "      <td>10</td>\n",
       "      <td>TikTok</td>\n",
       "    </tr>\n",
       "  </tbody>\n",
       "</table>\n",
       "</div>"
      ],
      "text/plain": [
       "         Name Gender Time Daily [min]   Platform\n",
       "0      Oliver      M               60   Facebook\n",
       "1  Aleksandra      F               90  Instagram\n",
       "2      Oliver      M              120     TikTok\n",
       "3      Oliver      M               30   Facebook\n",
       "4      Marina      F              120  Instagram\n",
       "5      Oliver      M               10     TikTok"
      ]
     },
     "execution_count": 32,
     "metadata": {},
     "output_type": "execute_result"
    }
   ],
   "source": [
    "friends2 = friends.copy()  # kopiramo podatke v nov podatkovni okvir\n",
    "friends2.loc[friends2['Gender']=='M', 'Name'] = 'Oliver'  # to je ukaz, ki uniči vse podatke\n",
    "friends2"
   ]
  },
  {
   "cell_type": "markdown",
   "id": "0f2e12b7",
   "metadata": {},
   "source": [
    "*Vaja:* Ali ste pri ročnem vnosu prijateljev naredili nekaj napak? Morda je kakšna črka zdrsnila med številke? Ali pa ste za spol napisali \"M<\"? Poskusite očistiti podatke in popraviti morebitne napake tako, da spremenite podatkovni okvir!\n",
    "\n",
    "#### 3.3.2.1. Prilagajanje vrste podatkov\n",
    "\n",
    "Ustvarjeni podatkovni okvir vsebuje nekaj številk. Poskusimo z njimi opraviti kakšen izračun, npr. dobiti povprečni dnevni čas na družabnih omrežjih za vse udeležence v anketi."
   ]
  },
  {
   "cell_type": "code",
   "execution_count": 36,
   "id": "76dfda44",
   "metadata": {},
   "outputs": [
    {
     "data": {
      "text/plain": [
       "10150200502001.666"
      ]
     },
     "execution_count": 36,
     "metadata": {},
     "output_type": "execute_result"
    }
   ],
   "source": [
    "friends['Time Daily [min]'].mean()"
   ]
  },
  {
   "cell_type": "markdown",
   "id": "22519a00",
   "metadata": {},
   "source": [
    "Ali menite, da je ta številka točna? Preverite jo lahko z ročnim izračunom, pri čemer uporabite celoten podatkovni okvir."
   ]
  },
  {
   "cell_type": "code",
   "execution_count": 35,
   "id": "078b92da",
   "metadata": {},
   "outputs": [
    {
     "data": {
      "text/html": [
       "<div>\n",
       "<style scoped>\n",
       "    .dataframe tbody tr th:only-of-type {\n",
       "        vertical-align: middle;\n",
       "    }\n",
       "\n",
       "    .dataframe tbody tr th {\n",
       "        vertical-align: top;\n",
       "    }\n",
       "\n",
       "    .dataframe thead th {\n",
       "        text-align: right;\n",
       "    }\n",
       "</style>\n",
       "<table border=\"1\" class=\"dataframe\">\n",
       "  <thead>\n",
       "    <tr style=\"text-align: right;\">\n",
       "      <th></th>\n",
       "      <th>Name</th>\n",
       "      <th>Gender</th>\n",
       "      <th>Time Daily [min]</th>\n",
       "      <th>Platform</th>\n",
       "    </tr>\n",
       "  </thead>\n",
       "  <tbody>\n",
       "    <tr>\n",
       "      <th>0</th>\n",
       "      <td>Zdravko</td>\n",
       "      <td>M</td>\n",
       "      <td>60</td>\n",
       "      <td>Facebook</td>\n",
       "    </tr>\n",
       "    <tr>\n",
       "      <th>1</th>\n",
       "      <td>Aleksandra</td>\n",
       "      <td>F</td>\n",
       "      <td>90</td>\n",
       "      <td>Instagram</td>\n",
       "    </tr>\n",
       "    <tr>\n",
       "      <th>2</th>\n",
       "      <td>Ivan</td>\n",
       "      <td>M</td>\n",
       "      <td>120</td>\n",
       "      <td>TikTok</td>\n",
       "    </tr>\n",
       "    <tr>\n",
       "      <th>3</th>\n",
       "      <td>Artim</td>\n",
       "      <td>M</td>\n",
       "      <td>30</td>\n",
       "      <td>Facebook</td>\n",
       "    </tr>\n",
       "    <tr>\n",
       "      <th>4</th>\n",
       "      <td>Marina</td>\n",
       "      <td>F</td>\n",
       "      <td>120</td>\n",
       "      <td>Instagram</td>\n",
       "    </tr>\n",
       "    <tr>\n",
       "      <th>5</th>\n",
       "      <td>David</td>\n",
       "      <td>M</td>\n",
       "      <td>10</td>\n",
       "      <td>TikTok</td>\n",
       "    </tr>\n",
       "  </tbody>\n",
       "</table>\n",
       "</div>"
      ],
      "text/plain": [
       "         Name Gender Time Daily [min]   Platform\n",
       "0     Zdravko      M               60   Facebook\n",
       "1  Aleksandra      F               90  Instagram\n",
       "2        Ivan      M              120     TikTok\n",
       "3       Artim      M               30   Facebook\n",
       "4      Marina      F              120  Instagram\n",
       "5       David      M               10     TikTok"
      ]
     },
     "execution_count": 35,
     "metadata": {},
     "output_type": "execute_result"
    }
   ],
   "source": [
    "friends"
   ]
  },
  {
   "cell_type": "markdown",
   "id": "5855daeb",
   "metadata": {},
   "source": [
    "Pri tem izračunu je očitno nekaj težav. Poskusimo isti izračun z uvoženim podatkovnim okvirom:"
   ]
  },
  {
   "cell_type": "code",
   "execution_count": 37,
   "id": "b6d7b7d2",
   "metadata": {},
   "outputs": [
    {
     "data": {
      "text/plain": [
       "61.666666666666664"
      ]
     },
     "execution_count": 37,
     "metadata": {},
     "output_type": "execute_result"
    }
   ],
   "source": [
    "friends_imported['Time Daily [min]'].mean()"
   ]
  },
  {
   "cell_type": "markdown",
   "id": "01da44b6",
   "metadata": {},
   "source": [
    "Ta številka je videti natančna. Težava z izračunanim povprečnim časom iz prvotnega podatkovnega okvira je v podatkovni vrsti stolpca \"Dnevni čas [min]\"."
   ]
  },
  {
   "cell_type": "code",
   "execution_count": 38,
   "id": "b71c11f6",
   "metadata": {},
   "outputs": [
    {
     "data": {
      "text/plain": [
       "Name                object\n",
       "Gender              object\n",
       "Time Daily [min]    object\n",
       "Platform            object\n",
       "dtype: object"
      ]
     },
     "execution_count": 38,
     "metadata": {},
     "output_type": "execute_result"
    }
   ],
   "source": [
    "t = friends.dtypes\n",
    "t"
   ]
  },
  {
   "cell_type": "markdown",
   "id": "43c455f7",
   "metadata": {},
   "source": [
    "Ker smo čase v minutah vnesli kot besedilo, so shranjeni kot niz znakov. '60' minut ni število 60, temveč znaka '6' in '0', kar zmoti izračun in vrne tako nelogično število. Rešitev te težave je pretvorba (casting) vseh dnevnih časov v naboru podatkov v številke. To lahko storite tako, da:"
   ]
  },
  {
   "cell_type": "code",
   "execution_count": 39,
   "id": "45b51686",
   "metadata": {},
   "outputs": [
    {
     "data": {
      "text/plain": [
       "Name                object\n",
       "Gender              object\n",
       "Time Daily [min]     int64\n",
       "Platform            object\n",
       "dtype: object"
      ]
     },
     "execution_count": 39,
     "metadata": {},
     "output_type": "execute_result"
    }
   ],
   "source": [
    "friends['Time Daily [min]'] = friends['Time Daily [min]'].apply(pd.to_numeric)\n",
    "t = friends.dtypes\n",
    "t"
   ]
  },
  {
   "cell_type": "markdown",
   "id": "a37b4499",
   "metadata": {},
   "source": [
    "Poskusimo ponovno:"
   ]
  },
  {
   "cell_type": "code",
   "execution_count": 40,
   "id": "e3085231",
   "metadata": {},
   "outputs": [
    {
     "data": {
      "text/plain": [
       "71.66666666666667"
      ]
     },
     "execution_count": 40,
     "metadata": {},
     "output_type": "execute_result"
    }
   ],
   "source": [
    "friends['Time Daily [min]'].mean()"
   ]
  },
  {
   "cell_type": "markdown",
   "id": "baa80064",
   "metadata": {},
   "source": [
    "Ali je ta številka podobna vašemu ročnemu izračunu?\n",
    "\n",
    "Če je potrebna pretvorba v nasprotni smeri (števila v nize), je ukaz:"
   ]
  },
  {
   "cell_type": "code",
   "execution_count": 41,
   "id": "2993d4e2",
   "metadata": {},
   "outputs": [
    {
     "data": {
      "text/plain": [
       "Name                object\n",
       "Gender              object\n",
       "Time Daily [min]    object\n",
       "Platform            object\n",
       "dtype: object"
      ]
     },
     "execution_count": 41,
     "metadata": {},
     "output_type": "execute_result"
    }
   ],
   "source": [
    "friends['Time Daily [min]'] = friends['Time Daily [min]'].apply(str)\n",
    "t = friends.dtypes\n",
    "t"
   ]
  },
  {
   "cell_type": "markdown",
   "id": "7bcd8f88",
   "metadata": {},
   "source": [
    "Enak rezultat lahko dosežemo, če je besedilna vrednost dodeljena nekemu številskemu polju v podatkovnem okviru, potem bo *pandas* samodejno pretvoril polje v niz. Vendar ta pristop ni priporočljiv, saj lahko že majhna malomarnost privede do kaotičnih podatkovnih tipov v celotnem podatkovnem nizu."
   ]
  },
  {
   "cell_type": "markdown",
   "id": "0905b222",
   "metadata": {},
   "source": [
    "### 3.3.3. Brisanje (nekaterih) podatkov\n",
    "\n",
    "Včasih delov podatkovnega okvira ne potrebujemo več ali jih je treba izključiti iz nadaljnje analize. Eden od načinov je, da izberete ustrezen del podatkovnega okvira in ga dodelite drugemu (novemu) podatkovnemu okviru, v nekaterih primerih pa je preprostejša rešitev brisanje nepotrebnih podatkov."
   ]
  },
  {
   "cell_type": "code",
   "execution_count": 42,
   "id": "862fd71c",
   "metadata": {},
   "outputs": [
    {
     "data": {
      "text/html": [
       "<div>\n",
       "<style scoped>\n",
       "    .dataframe tbody tr th:only-of-type {\n",
       "        vertical-align: middle;\n",
       "    }\n",
       "\n",
       "    .dataframe tbody tr th {\n",
       "        vertical-align: top;\n",
       "    }\n",
       "\n",
       "    .dataframe thead th {\n",
       "        text-align: right;\n",
       "    }\n",
       "</style>\n",
       "<table border=\"1\" class=\"dataframe\">\n",
       "  <thead>\n",
       "    <tr style=\"text-align: right;\">\n",
       "      <th></th>\n",
       "      <th>Name</th>\n",
       "      <th>Gender</th>\n",
       "      <th>Time Daily [min]</th>\n",
       "      <th>Platform</th>\n",
       "    </tr>\n",
       "  </thead>\n",
       "  <tbody>\n",
       "    <tr>\n",
       "      <th>0</th>\n",
       "      <td>Zdravko</td>\n",
       "      <td>M</td>\n",
       "      <td>60</td>\n",
       "      <td>Facebook</td>\n",
       "    </tr>\n",
       "    <tr>\n",
       "      <th>1</th>\n",
       "      <td>Aleksandra</td>\n",
       "      <td>F</td>\n",
       "      <td>90</td>\n",
       "      <td>Instagram</td>\n",
       "    </tr>\n",
       "    <tr>\n",
       "      <th>2</th>\n",
       "      <td>Ivan</td>\n",
       "      <td>M</td>\n",
       "      <td>120</td>\n",
       "      <td>TikTok</td>\n",
       "    </tr>\n",
       "    <tr>\n",
       "      <th>3</th>\n",
       "      <td>Artim</td>\n",
       "      <td>M</td>\n",
       "      <td>30</td>\n",
       "      <td>Facebook</td>\n",
       "    </tr>\n",
       "    <tr>\n",
       "      <th>4</th>\n",
       "      <td>Marina</td>\n",
       "      <td>F</td>\n",
       "      <td>120</td>\n",
       "      <td>Instagram</td>\n",
       "    </tr>\n",
       "    <tr>\n",
       "      <th>5</th>\n",
       "      <td>David</td>\n",
       "      <td>M</td>\n",
       "      <td>10</td>\n",
       "      <td>TikTok</td>\n",
       "    </tr>\n",
       "  </tbody>\n",
       "</table>\n",
       "</div>"
      ],
      "text/plain": [
       "         Name Gender Time Daily [min]   Platform\n",
       "0     Zdravko      M               60   Facebook\n",
       "1  Aleksandra      F               90  Instagram\n",
       "2        Ivan      M              120     TikTok\n",
       "3       Artim      M               30   Facebook\n",
       "4      Marina      F              120  Instagram\n",
       "5       David      M               10     TikTok"
      ]
     },
     "execution_count": 42,
     "metadata": {},
     "output_type": "execute_result"
    }
   ],
   "source": [
    "friends2 = friends.copy()   # don't destroy the original data set, make a new one\n",
    "friends2"
   ]
  },
  {
   "cell_type": "markdown",
   "id": "14235713",
   "metadata": {},
   "source": [
    "Za delno brisanje podatkov se uporablja operator *drop*. \n",
    "Brisanje fiksnega zapisa (znan indeks):"
   ]
  },
  {
   "cell_type": "code",
   "execution_count": 43,
   "id": "12dd4ccc",
   "metadata": {},
   "outputs": [
    {
     "data": {
      "text/html": [
       "<div>\n",
       "<style scoped>\n",
       "    .dataframe tbody tr th:only-of-type {\n",
       "        vertical-align: middle;\n",
       "    }\n",
       "\n",
       "    .dataframe tbody tr th {\n",
       "        vertical-align: top;\n",
       "    }\n",
       "\n",
       "    .dataframe thead th {\n",
       "        text-align: right;\n",
       "    }\n",
       "</style>\n",
       "<table border=\"1\" class=\"dataframe\">\n",
       "  <thead>\n",
       "    <tr style=\"text-align: right;\">\n",
       "      <th></th>\n",
       "      <th>Name</th>\n",
       "      <th>Gender</th>\n",
       "      <th>Time Daily [min]</th>\n",
       "      <th>Platform</th>\n",
       "    </tr>\n",
       "  </thead>\n",
       "  <tbody>\n",
       "    <tr>\n",
       "      <th>0</th>\n",
       "      <td>Zdravko</td>\n",
       "      <td>M</td>\n",
       "      <td>60</td>\n",
       "      <td>Facebook</td>\n",
       "    </tr>\n",
       "    <tr>\n",
       "      <th>1</th>\n",
       "      <td>Aleksandra</td>\n",
       "      <td>F</td>\n",
       "      <td>90</td>\n",
       "      <td>Instagram</td>\n",
       "    </tr>\n",
       "    <tr>\n",
       "      <th>2</th>\n",
       "      <td>Ivan</td>\n",
       "      <td>M</td>\n",
       "      <td>120</td>\n",
       "      <td>TikTok</td>\n",
       "    </tr>\n",
       "    <tr>\n",
       "      <th>3</th>\n",
       "      <td>Artim</td>\n",
       "      <td>M</td>\n",
       "      <td>30</td>\n",
       "      <td>Facebook</td>\n",
       "    </tr>\n",
       "    <tr>\n",
       "      <th>4</th>\n",
       "      <td>Marina</td>\n",
       "      <td>F</td>\n",
       "      <td>120</td>\n",
       "      <td>Instagram</td>\n",
       "    </tr>\n",
       "  </tbody>\n",
       "</table>\n",
       "</div>"
      ],
      "text/plain": [
       "         Name Gender Time Daily [min]   Platform\n",
       "0     Zdravko      M               60   Facebook\n",
       "1  Aleksandra      F               90  Instagram\n",
       "2        Ivan      M              120     TikTok\n",
       "3       Artim      M               30   Facebook\n",
       "4      Marina      F              120  Instagram"
      ]
     },
     "execution_count": 43,
     "metadata": {},
     "output_type": "execute_result"
    }
   ],
   "source": [
    "friends2.drop([5])"
   ]
  },
  {
   "cell_type": "markdown",
   "id": "6ec61923",
   "metadata": {},
   "source": [
    "Opazujte, kako se prvotni indeksi ohranijo. Po odstranitvi zapisa se niz podatkov ne indeksira ponovno. Brisanje več zapisov:"
   ]
  },
  {
   "cell_type": "code",
   "execution_count": 45,
   "id": "fd31191d",
   "metadata": {},
   "outputs": [
    {
     "data": {
      "text/html": [
       "<div>\n",
       "<style scoped>\n",
       "    .dataframe tbody tr th:only-of-type {\n",
       "        vertical-align: middle;\n",
       "    }\n",
       "\n",
       "    .dataframe tbody tr th {\n",
       "        vertical-align: top;\n",
       "    }\n",
       "\n",
       "    .dataframe thead th {\n",
       "        text-align: right;\n",
       "    }\n",
       "</style>\n",
       "<table border=\"1\" class=\"dataframe\">\n",
       "  <thead>\n",
       "    <tr style=\"text-align: right;\">\n",
       "      <th></th>\n",
       "      <th>Name</th>\n",
       "      <th>Gender</th>\n",
       "      <th>Time Daily [min]</th>\n",
       "      <th>Platform</th>\n",
       "    </tr>\n",
       "  </thead>\n",
       "  <tbody>\n",
       "    <tr>\n",
       "      <th>1</th>\n",
       "      <td>Aleksandra</td>\n",
       "      <td>F</td>\n",
       "      <td>90</td>\n",
       "      <td>Instagram</td>\n",
       "    </tr>\n",
       "    <tr>\n",
       "      <th>2</th>\n",
       "      <td>Ivan</td>\n",
       "      <td>M</td>\n",
       "      <td>120</td>\n",
       "      <td>TikTok</td>\n",
       "    </tr>\n",
       "    <tr>\n",
       "      <th>5</th>\n",
       "      <td>David</td>\n",
       "      <td>M</td>\n",
       "      <td>10</td>\n",
       "      <td>TikTok</td>\n",
       "    </tr>\n",
       "  </tbody>\n",
       "</table>\n",
       "</div>"
      ],
      "text/plain": [
       "         Name Gender Time Daily [min]   Platform\n",
       "1  Aleksandra      F               90  Instagram\n",
       "2        Ivan      M              120     TikTok\n",
       "5       David      M               10     TikTok"
      ]
     },
     "execution_count": 45,
     "metadata": {},
     "output_type": "execute_result"
    }
   ],
   "source": [
    "friends2.drop([0, 3, 4])"
   ]
  },
  {
   "cell_type": "markdown",
   "id": "286f5ca3",
   "metadata": {},
   "source": [
    "Opazite, da je vrstica z indeksom=5 zdaj spet v podatkih. To je zato, ker je bil zgornji rezultat izveden na varni kopiji podatkovnega okvira in ne na samem podatkovnem okviru. Ker ste izvirne podatke že kopirali, lahko trajno brisanje izvedete v samem podatkovnem okviru z uporabo operatorja *inplace*."
   ]
  },
  {
   "cell_type": "code",
   "execution_count": 46,
   "id": "bf22ece1",
   "metadata": {},
   "outputs": [
    {
     "data": {
      "text/html": [
       "<div>\n",
       "<style scoped>\n",
       "    .dataframe tbody tr th:only-of-type {\n",
       "        vertical-align: middle;\n",
       "    }\n",
       "\n",
       "    .dataframe tbody tr th {\n",
       "        vertical-align: top;\n",
       "    }\n",
       "\n",
       "    .dataframe thead th {\n",
       "        text-align: right;\n",
       "    }\n",
       "</style>\n",
       "<table border=\"1\" class=\"dataframe\">\n",
       "  <thead>\n",
       "    <tr style=\"text-align: right;\">\n",
       "      <th></th>\n",
       "      <th>Name</th>\n",
       "      <th>Gender</th>\n",
       "      <th>Time Daily [min]</th>\n",
       "      <th>Platform</th>\n",
       "    </tr>\n",
       "  </thead>\n",
       "  <tbody>\n",
       "    <tr>\n",
       "      <th>1</th>\n",
       "      <td>Aleksandra</td>\n",
       "      <td>F</td>\n",
       "      <td>90</td>\n",
       "      <td>Instagram</td>\n",
       "    </tr>\n",
       "    <tr>\n",
       "      <th>2</th>\n",
       "      <td>Ivan</td>\n",
       "      <td>M</td>\n",
       "      <td>120</td>\n",
       "      <td>TikTok</td>\n",
       "    </tr>\n",
       "    <tr>\n",
       "      <th>4</th>\n",
       "      <td>Marina</td>\n",
       "      <td>F</td>\n",
       "      <td>120</td>\n",
       "      <td>Instagram</td>\n",
       "    </tr>\n",
       "  </tbody>\n",
       "</table>\n",
       "</div>"
      ],
      "text/plain": [
       "         Name Gender Time Daily [min]   Platform\n",
       "1  Aleksandra      F               90  Instagram\n",
       "2        Ivan      M              120     TikTok\n",
       "4      Marina      F              120  Instagram"
      ]
     },
     "execution_count": 46,
     "metadata": {},
     "output_type": "execute_result"
    }
   ],
   "source": [
    "friends2.drop([0, 3, 5],inplace=True)\n",
    "friends2 # note that now the result must be explicitly printed, to see it"
   ]
  },
  {
   "cell_type": "markdown",
   "id": "b3018dc0",
   "metadata": {},
   "source": [
    "Brisanje po pravilu (neznani indeks):"
   ]
  },
  {
   "cell_type": "code",
   "execution_count": 47,
   "id": "83c5209d",
   "metadata": {},
   "outputs": [
    {
     "data": {
      "text/html": [
       "<div>\n",
       "<style scoped>\n",
       "    .dataframe tbody tr th:only-of-type {\n",
       "        vertical-align: middle;\n",
       "    }\n",
       "\n",
       "    .dataframe tbody tr th {\n",
       "        vertical-align: top;\n",
       "    }\n",
       "\n",
       "    .dataframe thead th {\n",
       "        text-align: right;\n",
       "    }\n",
       "</style>\n",
       "<table border=\"1\" class=\"dataframe\">\n",
       "  <thead>\n",
       "    <tr style=\"text-align: right;\">\n",
       "      <th></th>\n",
       "      <th>Name</th>\n",
       "      <th>Gender</th>\n",
       "      <th>Time Daily [min]</th>\n",
       "      <th>Platform</th>\n",
       "    </tr>\n",
       "  </thead>\n",
       "  <tbody>\n",
       "    <tr>\n",
       "      <th>2</th>\n",
       "      <td>Ivan</td>\n",
       "      <td>M</td>\n",
       "      <td>120</td>\n",
       "      <td>TikTok</td>\n",
       "    </tr>\n",
       "  </tbody>\n",
       "</table>\n",
       "</div>"
      ],
      "text/plain": [
       "   Name Gender Time Daily [min] Platform\n",
       "2  Ivan      M              120   TikTok"
      ]
     },
     "execution_count": 47,
     "metadata": {},
     "output_type": "execute_result"
    }
   ],
   "source": [
    "friends2.drop(friends2[friends2['Gender']=='F'].index, inplace=True)   # odstrani vse ženske\n",
    "friends2"
   ]
  },
  {
   "cell_type": "code",
   "execution_count": 48,
   "id": "6a5eb6d5",
   "metadata": {},
   "outputs": [
    {
     "data": {
      "text/html": [
       "<div>\n",
       "<style scoped>\n",
       "    .dataframe tbody tr th:only-of-type {\n",
       "        vertical-align: middle;\n",
       "    }\n",
       "\n",
       "    .dataframe tbody tr th {\n",
       "        vertical-align: top;\n",
       "    }\n",
       "\n",
       "    .dataframe thead th {\n",
       "        text-align: right;\n",
       "    }\n",
       "</style>\n",
       "<table border=\"1\" class=\"dataframe\">\n",
       "  <thead>\n",
       "    <tr style=\"text-align: right;\">\n",
       "      <th></th>\n",
       "      <th>Name</th>\n",
       "      <th>Gender</th>\n",
       "      <th>Time Daily [min]</th>\n",
       "      <th>Platform</th>\n",
       "    </tr>\n",
       "  </thead>\n",
       "  <tbody>\n",
       "    <tr>\n",
       "      <th>0</th>\n",
       "      <td>Zdravko</td>\n",
       "      <td>M</td>\n",
       "      <td>60</td>\n",
       "      <td>Facebook</td>\n",
       "    </tr>\n",
       "    <tr>\n",
       "      <th>1</th>\n",
       "      <td>Aleksandra</td>\n",
       "      <td>F</td>\n",
       "      <td>90</td>\n",
       "      <td>Instagram</td>\n",
       "    </tr>\n",
       "    <tr>\n",
       "      <th>2</th>\n",
       "      <td>Ivan</td>\n",
       "      <td>M</td>\n",
       "      <td>120</td>\n",
       "      <td>TikTok</td>\n",
       "    </tr>\n",
       "    <tr>\n",
       "      <th>3</th>\n",
       "      <td>Artim</td>\n",
       "      <td>M</td>\n",
       "      <td>30</td>\n",
       "      <td>Facebook</td>\n",
       "    </tr>\n",
       "    <tr>\n",
       "      <th>4</th>\n",
       "      <td>Marina</td>\n",
       "      <td>F</td>\n",
       "      <td>120</td>\n",
       "      <td>Instagram</td>\n",
       "    </tr>\n",
       "    <tr>\n",
       "      <th>5</th>\n",
       "      <td>David</td>\n",
       "      <td>M</td>\n",
       "      <td>10</td>\n",
       "      <td>TikTok</td>\n",
       "    </tr>\n",
       "  </tbody>\n",
       "</table>\n",
       "</div>"
      ],
      "text/plain": [
       "         Name Gender Time Daily [min]   Platform\n",
       "0     Zdravko      M               60   Facebook\n",
       "1  Aleksandra      F               90  Instagram\n",
       "2        Ivan      M              120     TikTok\n",
       "3       Artim      M               30   Facebook\n",
       "4      Marina      F              120  Instagram\n",
       "5       David      M               10     TikTok"
      ]
     },
     "execution_count": 48,
     "metadata": {},
     "output_type": "execute_result"
    }
   ],
   "source": [
    "friends2 = friends.copy() # prinesi nazaj podatke\n",
    "friends"
   ]
  },
  {
   "cell_type": "markdown",
   "id": "bfa2d32b",
   "metadata": {},
   "source": [
    "Za brisanje stolpcev je treba navesti parameter *axis=1*. Lahko je določen tudi za brisanje vrstic (*axis=0*), če pa ni določen, se predpostavlja, da se brišejo vrstice."
   ]
  },
  {
   "cell_type": "code",
   "execution_count": 49,
   "id": "449da329",
   "metadata": {},
   "outputs": [
    {
     "data": {
      "text/html": [
       "<div>\n",
       "<style scoped>\n",
       "    .dataframe tbody tr th:only-of-type {\n",
       "        vertical-align: middle;\n",
       "    }\n",
       "\n",
       "    .dataframe tbody tr th {\n",
       "        vertical-align: top;\n",
       "    }\n",
       "\n",
       "    .dataframe thead th {\n",
       "        text-align: right;\n",
       "    }\n",
       "</style>\n",
       "<table border=\"1\" class=\"dataframe\">\n",
       "  <thead>\n",
       "    <tr style=\"text-align: right;\">\n",
       "      <th></th>\n",
       "      <th>Gender</th>\n",
       "      <th>Time Daily [min]</th>\n",
       "      <th>Platform</th>\n",
       "    </tr>\n",
       "  </thead>\n",
       "  <tbody>\n",
       "    <tr>\n",
       "      <th>0</th>\n",
       "      <td>M</td>\n",
       "      <td>60</td>\n",
       "      <td>Facebook</td>\n",
       "    </tr>\n",
       "    <tr>\n",
       "      <th>1</th>\n",
       "      <td>F</td>\n",
       "      <td>90</td>\n",
       "      <td>Instagram</td>\n",
       "    </tr>\n",
       "    <tr>\n",
       "      <th>2</th>\n",
       "      <td>M</td>\n",
       "      <td>120</td>\n",
       "      <td>TikTok</td>\n",
       "    </tr>\n",
       "    <tr>\n",
       "      <th>3</th>\n",
       "      <td>M</td>\n",
       "      <td>30</td>\n",
       "      <td>Facebook</td>\n",
       "    </tr>\n",
       "    <tr>\n",
       "      <th>4</th>\n",
       "      <td>F</td>\n",
       "      <td>120</td>\n",
       "      <td>Instagram</td>\n",
       "    </tr>\n",
       "    <tr>\n",
       "      <th>5</th>\n",
       "      <td>M</td>\n",
       "      <td>10</td>\n",
       "      <td>TikTok</td>\n",
       "    </tr>\n",
       "  </tbody>\n",
       "</table>\n",
       "</div>"
      ],
      "text/plain": [
       "  Gender Time Daily [min]   Platform\n",
       "0      M               60   Facebook\n",
       "1      F               90  Instagram\n",
       "2      M              120     TikTok\n",
       "3      M               30   Facebook\n",
       "4      F              120  Instagram\n",
       "5      M               10     TikTok"
      ]
     },
     "execution_count": 49,
     "metadata": {},
     "output_type": "execute_result"
    }
   ],
   "source": [
    "friends2.drop(['Name'], axis=1, inplace=True)  # pripravi podatke anonimno\n",
    "friends2"
   ]
  },
  {
   "cell_type": "markdown",
   "id": "a324cb94",
   "metadata": {},
   "source": [
    "*Vaja:* Poskusite odstraniti vse zapise ljudi, ki so v družabnih medijih preživeli podpovprečno veliko časa."
   ]
  },
  {
   "cell_type": "markdown",
   "id": "27d36654",
   "metadata": {},
   "source": [
    "### 3.3.4. Združevanje podatkov\n",
    "\n",
    "V nekaterih primerih je treba podatke iz več virov združiti v en podatkovni niz. Za simulacijo takega scenarija zaženite naslednje:"
   ]
  },
  {
   "cell_type": "code",
   "execution_count": 54,
   "id": "e3179b92",
   "metadata": {},
   "outputs": [
    {
     "data": {
      "text/html": [
       "<div>\n",
       "<style scoped>\n",
       "    .dataframe tbody tr th:only-of-type {\n",
       "        vertical-align: middle;\n",
       "    }\n",
       "\n",
       "    .dataframe tbody tr th {\n",
       "        vertical-align: top;\n",
       "    }\n",
       "\n",
       "    .dataframe thead th {\n",
       "        text-align: right;\n",
       "    }\n",
       "</style>\n",
       "<table border=\"1\" class=\"dataframe\">\n",
       "  <thead>\n",
       "    <tr style=\"text-align: right;\">\n",
       "      <th></th>\n",
       "      <th>Name</th>\n",
       "      <th>Gender</th>\n",
       "      <th>Time Daily [min]</th>\n",
       "      <th>Platform</th>\n",
       "    </tr>\n",
       "  </thead>\n",
       "  <tbody>\n",
       "    <tr>\n",
       "      <th>1</th>\n",
       "      <td>Aleksandra</td>\n",
       "      <td>F</td>\n",
       "      <td>90</td>\n",
       "      <td>Instagram</td>\n",
       "    </tr>\n",
       "    <tr>\n",
       "      <th>3</th>\n",
       "      <td>Artim</td>\n",
       "      <td>M</td>\n",
       "      <td>30</td>\n",
       "      <td>Facebook</td>\n",
       "    </tr>\n",
       "    <tr>\n",
       "      <th>4</th>\n",
       "      <td>Marina</td>\n",
       "      <td>F</td>\n",
       "      <td>120</td>\n",
       "      <td>Instagram</td>\n",
       "    </tr>\n",
       "  </tbody>\n",
       "</table>\n",
       "</div>"
      ],
      "text/plain": [
       "         Name Gender Time Daily [min]   Platform\n",
       "1  Aleksandra      F               90  Instagram\n",
       "3       Artim      M               30   Facebook\n",
       "4      Marina      F              120  Instagram"
      ]
     },
     "execution_count": 54,
     "metadata": {},
     "output_type": "execute_result"
    }
   ],
   "source": [
    "friends1 = friends.copy()  \n",
    "friends2 = friends.copy()  \n",
    "friends1.drop([0, 2, 5],inplace=True)\n",
    "friends2.drop([1, 3, 4],inplace=True)\n",
    "friends1"
   ]
  },
  {
   "cell_type": "code",
   "execution_count": 50,
   "id": "412dfb4c",
   "metadata": {},
   "outputs": [
    {
     "data": {
      "text/html": [
       "<div>\n",
       "<style scoped>\n",
       "    .dataframe tbody tr th:only-of-type {\n",
       "        vertical-align: middle;\n",
       "    }\n",
       "\n",
       "    .dataframe tbody tr th {\n",
       "        vertical-align: top;\n",
       "    }\n",
       "\n",
       "    .dataframe thead th {\n",
       "        text-align: right;\n",
       "    }\n",
       "</style>\n",
       "<table border=\"1\" class=\"dataframe\">\n",
       "  <thead>\n",
       "    <tr style=\"text-align: right;\">\n",
       "      <th></th>\n",
       "      <th>Gender</th>\n",
       "      <th>Time Daily [min]</th>\n",
       "      <th>Platform</th>\n",
       "    </tr>\n",
       "  </thead>\n",
       "  <tbody>\n",
       "    <tr>\n",
       "      <th>0</th>\n",
       "      <td>M</td>\n",
       "      <td>60</td>\n",
       "      <td>Facebook</td>\n",
       "    </tr>\n",
       "    <tr>\n",
       "      <th>1</th>\n",
       "      <td>F</td>\n",
       "      <td>90</td>\n",
       "      <td>Instagram</td>\n",
       "    </tr>\n",
       "    <tr>\n",
       "      <th>2</th>\n",
       "      <td>M</td>\n",
       "      <td>120</td>\n",
       "      <td>TikTok</td>\n",
       "    </tr>\n",
       "    <tr>\n",
       "      <th>3</th>\n",
       "      <td>M</td>\n",
       "      <td>30</td>\n",
       "      <td>Facebook</td>\n",
       "    </tr>\n",
       "    <tr>\n",
       "      <th>4</th>\n",
       "      <td>F</td>\n",
       "      <td>120</td>\n",
       "      <td>Instagram</td>\n",
       "    </tr>\n",
       "    <tr>\n",
       "      <th>5</th>\n",
       "      <td>M</td>\n",
       "      <td>10</td>\n",
       "      <td>TikTok</td>\n",
       "    </tr>\n",
       "  </tbody>\n",
       "</table>\n",
       "</div>"
      ],
      "text/plain": [
       "  Gender Time Daily [min]   Platform\n",
       "0      M               60   Facebook\n",
       "1      F               90  Instagram\n",
       "2      M              120     TikTok\n",
       "3      M               30   Facebook\n",
       "4      F              120  Instagram\n",
       "5      M               10     TikTok"
      ]
     },
     "execution_count": 50,
     "metadata": {},
     "output_type": "execute_result"
    }
   ],
   "source": [
    "friends2"
   ]
  },
  {
   "cell_type": "markdown",
   "id": "63f2b5b9",
   "metadata": {},
   "source": [
    "Zdaj imamo dva različna podatkovna niza. Operator *concat* ta dva niza združi v enega."
   ]
  },
  {
   "cell_type": "code",
   "execution_count": 55,
   "id": "4debcc30",
   "metadata": {},
   "outputs": [
    {
     "data": {
      "text/html": [
       "<div>\n",
       "<style scoped>\n",
       "    .dataframe tbody tr th:only-of-type {\n",
       "        vertical-align: middle;\n",
       "    }\n",
       "\n",
       "    .dataframe tbody tr th {\n",
       "        vertical-align: top;\n",
       "    }\n",
       "\n",
       "    .dataframe thead th {\n",
       "        text-align: right;\n",
       "    }\n",
       "</style>\n",
       "<table border=\"1\" class=\"dataframe\">\n",
       "  <thead>\n",
       "    <tr style=\"text-align: right;\">\n",
       "      <th></th>\n",
       "      <th>Name</th>\n",
       "      <th>Gender</th>\n",
       "      <th>Time Daily [min]</th>\n",
       "      <th>Platform</th>\n",
       "    </tr>\n",
       "  </thead>\n",
       "  <tbody>\n",
       "    <tr>\n",
       "      <th>1</th>\n",
       "      <td>Aleksandra</td>\n",
       "      <td>F</td>\n",
       "      <td>90</td>\n",
       "      <td>Instagram</td>\n",
       "    </tr>\n",
       "    <tr>\n",
       "      <th>3</th>\n",
       "      <td>Artim</td>\n",
       "      <td>M</td>\n",
       "      <td>30</td>\n",
       "      <td>Facebook</td>\n",
       "    </tr>\n",
       "    <tr>\n",
       "      <th>4</th>\n",
       "      <td>Marina</td>\n",
       "      <td>F</td>\n",
       "      <td>120</td>\n",
       "      <td>Instagram</td>\n",
       "    </tr>\n",
       "    <tr>\n",
       "      <th>0</th>\n",
       "      <td>Zdravko</td>\n",
       "      <td>M</td>\n",
       "      <td>60</td>\n",
       "      <td>Facebook</td>\n",
       "    </tr>\n",
       "    <tr>\n",
       "      <th>2</th>\n",
       "      <td>Ivan</td>\n",
       "      <td>M</td>\n",
       "      <td>120</td>\n",
       "      <td>TikTok</td>\n",
       "    </tr>\n",
       "    <tr>\n",
       "      <th>5</th>\n",
       "      <td>David</td>\n",
       "      <td>M</td>\n",
       "      <td>10</td>\n",
       "      <td>TikTok</td>\n",
       "    </tr>\n",
       "  </tbody>\n",
       "</table>\n",
       "</div>"
      ],
      "text/plain": [
       "         Name Gender Time Daily [min]   Platform\n",
       "1  Aleksandra      F               90  Instagram\n",
       "3       Artim      M               30   Facebook\n",
       "4      Marina      F              120  Instagram\n",
       "0     Zdravko      M               60   Facebook\n",
       "2        Ivan      M              120     TikTok\n",
       "5       David      M               10     TikTok"
      ]
     },
     "execution_count": 55,
     "metadata": {},
     "output_type": "execute_result"
    }
   ],
   "source": [
    "friends_all = pd.concat([friends1, friends2])\n",
    "friends_all"
   ]
  },
  {
   "cell_type": "markdown",
   "id": "1e1a4892",
   "metadata": {},
   "source": [
    "Opazujte, kako je vrstni red indeksov uničen in nova podatkovna množica ima neenakovredne indekse. To ni težava pri operacijah s podatki, vendar morate biti zelo previdni, saj ima zdaj lahko več zapisov isti indeks.\n",
    "Če želite, da novi niz podatkov obnovi svoje nove indekse, uporabite stikalo *ignore_index*:"
   ]
  },
  {
   "cell_type": "code",
   "execution_count": 56,
   "id": "2c1daf2a",
   "metadata": {},
   "outputs": [
    {
     "data": {
      "text/html": [
       "<div>\n",
       "<style scoped>\n",
       "    .dataframe tbody tr th:only-of-type {\n",
       "        vertical-align: middle;\n",
       "    }\n",
       "\n",
       "    .dataframe tbody tr th {\n",
       "        vertical-align: top;\n",
       "    }\n",
       "\n",
       "    .dataframe thead th {\n",
       "        text-align: right;\n",
       "    }\n",
       "</style>\n",
       "<table border=\"1\" class=\"dataframe\">\n",
       "  <thead>\n",
       "    <tr style=\"text-align: right;\">\n",
       "      <th></th>\n",
       "      <th>Name</th>\n",
       "      <th>Gender</th>\n",
       "      <th>Time Daily [min]</th>\n",
       "      <th>Platform</th>\n",
       "    </tr>\n",
       "  </thead>\n",
       "  <tbody>\n",
       "    <tr>\n",
       "      <th>0</th>\n",
       "      <td>Aleksandra</td>\n",
       "      <td>F</td>\n",
       "      <td>90</td>\n",
       "      <td>Instagram</td>\n",
       "    </tr>\n",
       "    <tr>\n",
       "      <th>1</th>\n",
       "      <td>Artim</td>\n",
       "      <td>M</td>\n",
       "      <td>30</td>\n",
       "      <td>Facebook</td>\n",
       "    </tr>\n",
       "    <tr>\n",
       "      <th>2</th>\n",
       "      <td>Marina</td>\n",
       "      <td>F</td>\n",
       "      <td>120</td>\n",
       "      <td>Instagram</td>\n",
       "    </tr>\n",
       "    <tr>\n",
       "      <th>3</th>\n",
       "      <td>Zdravko</td>\n",
       "      <td>M</td>\n",
       "      <td>60</td>\n",
       "      <td>Facebook</td>\n",
       "    </tr>\n",
       "    <tr>\n",
       "      <th>4</th>\n",
       "      <td>Ivan</td>\n",
       "      <td>M</td>\n",
       "      <td>120</td>\n",
       "      <td>TikTok</td>\n",
       "    </tr>\n",
       "    <tr>\n",
       "      <th>5</th>\n",
       "      <td>David</td>\n",
       "      <td>M</td>\n",
       "      <td>10</td>\n",
       "      <td>TikTok</td>\n",
       "    </tr>\n",
       "  </tbody>\n",
       "</table>\n",
       "</div>"
      ],
      "text/plain": [
       "         Name Gender Time Daily [min]   Platform\n",
       "0  Aleksandra      F               90  Instagram\n",
       "1       Artim      M               30   Facebook\n",
       "2      Marina      F              120  Instagram\n",
       "3     Zdravko      M               60   Facebook\n",
       "4        Ivan      M              120     TikTok\n",
       "5       David      M               10     TikTok"
      ]
     },
     "execution_count": 56,
     "metadata": {},
     "output_type": "execute_result"
    }
   ],
   "source": [
    "friends_all = pd.concat([friends1, friends2], ignore_index = True)\n",
    "friends_all"
   ]
  },
  {
   "cell_type": "markdown",
   "id": "6f66519b",
   "metadata": {},
   "source": [
    "Če želite ohraniti stare indekse, vendar še vedno želite edinstveno dostopne zapise, lahko dodate še en indeks, ki je hierarhično pomembnejši od starega."
   ]
  },
  {
   "cell_type": "code",
   "execution_count": 57,
   "id": "a38606e9",
   "metadata": {},
   "outputs": [
    {
     "data": {
      "text/html": [
       "<div>\n",
       "<style scoped>\n",
       "    .dataframe tbody tr th:only-of-type {\n",
       "        vertical-align: middle;\n",
       "    }\n",
       "\n",
       "    .dataframe tbody tr th {\n",
       "        vertical-align: top;\n",
       "    }\n",
       "\n",
       "    .dataframe thead th {\n",
       "        text-align: right;\n",
       "    }\n",
       "</style>\n",
       "<table border=\"1\" class=\"dataframe\">\n",
       "  <thead>\n",
       "    <tr style=\"text-align: right;\">\n",
       "      <th></th>\n",
       "      <th></th>\n",
       "      <th>Name</th>\n",
       "      <th>Gender</th>\n",
       "      <th>Time Daily [min]</th>\n",
       "      <th>Platform</th>\n",
       "    </tr>\n",
       "  </thead>\n",
       "  <tbody>\n",
       "    <tr>\n",
       "      <th rowspan=\"3\" valign=\"top\">fr1</th>\n",
       "      <th>1</th>\n",
       "      <td>Aleksandra</td>\n",
       "      <td>F</td>\n",
       "      <td>90</td>\n",
       "      <td>Instagram</td>\n",
       "    </tr>\n",
       "    <tr>\n",
       "      <th>3</th>\n",
       "      <td>Artim</td>\n",
       "      <td>M</td>\n",
       "      <td>30</td>\n",
       "      <td>Facebook</td>\n",
       "    </tr>\n",
       "    <tr>\n",
       "      <th>4</th>\n",
       "      <td>Marina</td>\n",
       "      <td>F</td>\n",
       "      <td>120</td>\n",
       "      <td>Instagram</td>\n",
       "    </tr>\n",
       "    <tr>\n",
       "      <th rowspan=\"3\" valign=\"top\">fr2</th>\n",
       "      <th>0</th>\n",
       "      <td>Zdravko</td>\n",
       "      <td>M</td>\n",
       "      <td>60</td>\n",
       "      <td>Facebook</td>\n",
       "    </tr>\n",
       "    <tr>\n",
       "      <th>2</th>\n",
       "      <td>Ivan</td>\n",
       "      <td>M</td>\n",
       "      <td>120</td>\n",
       "      <td>TikTok</td>\n",
       "    </tr>\n",
       "    <tr>\n",
       "      <th>5</th>\n",
       "      <td>David</td>\n",
       "      <td>M</td>\n",
       "      <td>10</td>\n",
       "      <td>TikTok</td>\n",
       "    </tr>\n",
       "  </tbody>\n",
       "</table>\n",
       "</div>"
      ],
      "text/plain": [
       "             Name Gender Time Daily [min]   Platform\n",
       "fr1 1  Aleksandra      F               90  Instagram\n",
       "    3       Artim      M               30   Facebook\n",
       "    4      Marina      F              120  Instagram\n",
       "fr2 0     Zdravko      M               60   Facebook\n",
       "    2        Ivan      M              120     TikTok\n",
       "    5       David      M               10     TikTok"
      ]
     },
     "execution_count": 57,
     "metadata": {},
     "output_type": "execute_result"
    }
   ],
   "source": [
    "friends_all = pd.concat([friends1, friends2], keys=['fr1','fr2'])\n",
    "friends_all"
   ]
  },
  {
   "cell_type": "markdown",
   "id": "703dd21a",
   "metadata": {},
   "source": [
    "Zdaj je vsak zapis edinstveno dostopen in mu je mogoče dodeliti edinstveno vrednost:"
   ]
  },
  {
   "cell_type": "code",
   "execution_count": 58,
   "id": "c9ad0d55",
   "metadata": {},
   "outputs": [
    {
     "data": {
      "text/html": [
       "<div>\n",
       "<style scoped>\n",
       "    .dataframe tbody tr th:only-of-type {\n",
       "        vertical-align: middle;\n",
       "    }\n",
       "\n",
       "    .dataframe tbody tr th {\n",
       "        vertical-align: top;\n",
       "    }\n",
       "\n",
       "    .dataframe thead th {\n",
       "        text-align: right;\n",
       "    }\n",
       "</style>\n",
       "<table border=\"1\" class=\"dataframe\">\n",
       "  <thead>\n",
       "    <tr style=\"text-align: right;\">\n",
       "      <th></th>\n",
       "      <th></th>\n",
       "      <th>Name</th>\n",
       "      <th>Gender</th>\n",
       "      <th>Time Daily [min]</th>\n",
       "      <th>Platform</th>\n",
       "    </tr>\n",
       "  </thead>\n",
       "  <tbody>\n",
       "    <tr>\n",
       "      <th rowspan=\"3\" valign=\"top\">fr1</th>\n",
       "      <th>1</th>\n",
       "      <td>Aleksandra</td>\n",
       "      <td>F</td>\n",
       "      <td>90</td>\n",
       "      <td>Instagram</td>\n",
       "    </tr>\n",
       "    <tr>\n",
       "      <th>3</th>\n",
       "      <td>Artim</td>\n",
       "      <td>M</td>\n",
       "      <td>30</td>\n",
       "      <td>Facebook</td>\n",
       "    </tr>\n",
       "    <tr>\n",
       "      <th>4</th>\n",
       "      <td>Marina</td>\n",
       "      <td>F</td>\n",
       "      <td>120</td>\n",
       "      <td>TikTok</td>\n",
       "    </tr>\n",
       "    <tr>\n",
       "      <th rowspan=\"3\" valign=\"top\">fr2</th>\n",
       "      <th>0</th>\n",
       "      <td>Zdravko</td>\n",
       "      <td>M</td>\n",
       "      <td>60</td>\n",
       "      <td>Facebook</td>\n",
       "    </tr>\n",
       "    <tr>\n",
       "      <th>2</th>\n",
       "      <td>Ivan</td>\n",
       "      <td>M</td>\n",
       "      <td>120</td>\n",
       "      <td>TikTok</td>\n",
       "    </tr>\n",
       "    <tr>\n",
       "      <th>5</th>\n",
       "      <td>David</td>\n",
       "      <td>M</td>\n",
       "      <td>10</td>\n",
       "      <td>TikTok</td>\n",
       "    </tr>\n",
       "  </tbody>\n",
       "</table>\n",
       "</div>"
      ],
      "text/plain": [
       "             Name Gender Time Daily [min]   Platform\n",
       "fr1 1  Aleksandra      F               90  Instagram\n",
       "    3       Artim      M               30   Facebook\n",
       "    4      Marina      F              120     TikTok\n",
       "fr2 0     Zdravko      M               60   Facebook\n",
       "    2        Ivan      M              120     TikTok\n",
       "    5       David      M               10     TikTok"
      ]
     },
     "execution_count": 58,
     "metadata": {},
     "output_type": "execute_result"
    }
   ],
   "source": [
    "friends_all.loc['fr1'].loc[4,'Platform'] = 'TikTok'\n",
    "friends_all.loc['fr2'].loc[4,'Platform'] = 'Instagram'\n",
    "friends_all"
   ]
  },
  {
   "cell_type": "markdown",
   "id": "9e6aa9f7",
   "metadata": {},
   "source": [
    "Kaj pa, če imajo podatkovni nizi različne strukture? Recimo, da imate dva podatkovna niza, enega o prisotnosti v družabnih medijih, drugega pa o rezultatih testov. Dva podatkovna niza imata nekatere zapise, ki se prekrivajo, drugi pa so različni. Za ponazoritev takega scenarija najprej izvedite naslednje spremembe v *friends2*:"
   ]
  },
  {
   "cell_type": "code",
   "execution_count": 59,
   "id": "f47e34ca",
   "metadata": {},
   "outputs": [
    {
     "data": {
      "text/html": [
       "<div>\n",
       "<style scoped>\n",
       "    .dataframe tbody tr th:only-of-type {\n",
       "        vertical-align: middle;\n",
       "    }\n",
       "\n",
       "    .dataframe tbody tr th {\n",
       "        vertical-align: top;\n",
       "    }\n",
       "\n",
       "    .dataframe thead th {\n",
       "        text-align: right;\n",
       "    }\n",
       "</style>\n",
       "<table border=\"1\" class=\"dataframe\">\n",
       "  <thead>\n",
       "    <tr style=\"text-align: right;\">\n",
       "      <th></th>\n",
       "      <th>Name</th>\n",
       "      <th>Gender</th>\n",
       "      <th>Test Score</th>\n",
       "      <th>Platform</th>\n",
       "    </tr>\n",
       "  </thead>\n",
       "  <tbody>\n",
       "    <tr>\n",
       "      <th>0</th>\n",
       "      <td>Zdravko</td>\n",
       "      <td>M</td>\n",
       "      <td>108</td>\n",
       "      <td>Facebook</td>\n",
       "    </tr>\n",
       "    <tr>\n",
       "      <th>2</th>\n",
       "      <td>Ivan</td>\n",
       "      <td>M</td>\n",
       "      <td>168</td>\n",
       "      <td>TikTok</td>\n",
       "    </tr>\n",
       "    <tr>\n",
       "      <th>5</th>\n",
       "      <td>David</td>\n",
       "      <td>M</td>\n",
       "      <td>58</td>\n",
       "      <td>TikTok</td>\n",
       "    </tr>\n",
       "  </tbody>\n",
       "</table>\n",
       "</div>"
      ],
      "text/plain": [
       "      Name Gender  Test Score  Platform\n",
       "0  Zdravko      M         108  Facebook\n",
       "2     Ivan      M         168    TikTok\n",
       "5    David      M          58    TikTok"
      ]
     },
     "execution_count": 59,
     "metadata": {},
     "output_type": "execute_result"
    }
   ],
   "source": [
    "friends2['Time Daily [min]'] = friends2['Time Daily [min]'].apply(pd.to_numeric)\n",
    "friends2 = friends2.rename(columns={'Time Daily [min]':'Test Score'}) # preimenuj stolpec\n",
    "friends2['Test Score'] = friends2['Test Score'] + 48 # spremeni vrednosti v stolpcih tako, da bodo drugačni od prejšnjih \n",
    "friends2"
   ]
  },
  {
   "cell_type": "markdown",
   "id": "6f29b72f",
   "metadata": {},
   "source": [
    "Rezultat kombinacije obeh podatkovnih zbirk je:"
   ]
  },
  {
   "cell_type": "code",
   "execution_count": 60,
   "id": "19a436f1",
   "metadata": {},
   "outputs": [
    {
     "data": {
      "text/html": [
       "<div>\n",
       "<style scoped>\n",
       "    .dataframe tbody tr th:only-of-type {\n",
       "        vertical-align: middle;\n",
       "    }\n",
       "\n",
       "    .dataframe tbody tr th {\n",
       "        vertical-align: top;\n",
       "    }\n",
       "\n",
       "    .dataframe thead th {\n",
       "        text-align: right;\n",
       "    }\n",
       "</style>\n",
       "<table border=\"1\" class=\"dataframe\">\n",
       "  <thead>\n",
       "    <tr style=\"text-align: right;\">\n",
       "      <th></th>\n",
       "      <th>Name</th>\n",
       "      <th>Gender</th>\n",
       "      <th>Time Daily [min]</th>\n",
       "      <th>Platform</th>\n",
       "      <th>Test Score</th>\n",
       "    </tr>\n",
       "  </thead>\n",
       "  <tbody>\n",
       "    <tr>\n",
       "      <th>1</th>\n",
       "      <td>Aleksandra</td>\n",
       "      <td>F</td>\n",
       "      <td>90</td>\n",
       "      <td>Instagram</td>\n",
       "      <td>NaN</td>\n",
       "    </tr>\n",
       "    <tr>\n",
       "      <th>3</th>\n",
       "      <td>Artim</td>\n",
       "      <td>M</td>\n",
       "      <td>30</td>\n",
       "      <td>Facebook</td>\n",
       "      <td>NaN</td>\n",
       "    </tr>\n",
       "    <tr>\n",
       "      <th>4</th>\n",
       "      <td>Marina</td>\n",
       "      <td>F</td>\n",
       "      <td>120</td>\n",
       "      <td>Instagram</td>\n",
       "      <td>NaN</td>\n",
       "    </tr>\n",
       "    <tr>\n",
       "      <th>0</th>\n",
       "      <td>Zdravko</td>\n",
       "      <td>M</td>\n",
       "      <td>NaN</td>\n",
       "      <td>Facebook</td>\n",
       "      <td>108.0</td>\n",
       "    </tr>\n",
       "    <tr>\n",
       "      <th>2</th>\n",
       "      <td>Ivan</td>\n",
       "      <td>M</td>\n",
       "      <td>NaN</td>\n",
       "      <td>TikTok</td>\n",
       "      <td>168.0</td>\n",
       "    </tr>\n",
       "    <tr>\n",
       "      <th>5</th>\n",
       "      <td>David</td>\n",
       "      <td>M</td>\n",
       "      <td>NaN</td>\n",
       "      <td>TikTok</td>\n",
       "      <td>58.0</td>\n",
       "    </tr>\n",
       "  </tbody>\n",
       "</table>\n",
       "</div>"
      ],
      "text/plain": [
       "         Name Gender Time Daily [min]   Platform  Test Score\n",
       "1  Aleksandra      F               90  Instagram         NaN\n",
       "3       Artim      M               30   Facebook         NaN\n",
       "4      Marina      F              120  Instagram         NaN\n",
       "0     Zdravko      M              NaN   Facebook       108.0\n",
       "2        Ivan      M              NaN     TikTok       168.0\n",
       "5       David      M              NaN     TikTok        58.0"
      ]
     },
     "execution_count": 60,
     "metadata": {},
     "output_type": "execute_result"
    }
   ],
   "source": [
    "friends_all = pd.concat([friends1, friends2])\n",
    "friends_all"
   ]
  },
  {
   "cell_type": "markdown",
   "id": "c0057e40",
   "metadata": {},
   "source": [
    "Upoštevajte prazne vrednosti *NaN*. Parametri, ki niso na voljo v združenem podatkovnem nizu, so označeni z *NaN*.\n",
    "Ta rezultat je nekoliko uporaben, vendar je za resnično združitev podatkov potrebnih še nekaj korakov. Najprej poiščimo zapise, ki obstajajo v obeh začetnih podatkovnih zbirkah."
   ]
  },
  {
   "cell_type": "code",
   "execution_count": 61,
   "id": "2bc7c713",
   "metadata": {},
   "outputs": [
    {
     "data": {
      "text/html": [
       "<div>\n",
       "<style scoped>\n",
       "    .dataframe tbody tr th:only-of-type {\n",
       "        vertical-align: middle;\n",
       "    }\n",
       "\n",
       "    .dataframe tbody tr th {\n",
       "        vertical-align: top;\n",
       "    }\n",
       "\n",
       "    .dataframe thead th {\n",
       "        text-align: right;\n",
       "    }\n",
       "</style>\n",
       "<table border=\"1\" class=\"dataframe\">\n",
       "  <thead>\n",
       "    <tr style=\"text-align: right;\">\n",
       "      <th></th>\n",
       "      <th>Name</th>\n",
       "      <th>Gender</th>\n",
       "      <th>Time Daily [min]</th>\n",
       "      <th>Platform</th>\n",
       "      <th>Test Score</th>\n",
       "    </tr>\n",
       "  </thead>\n",
       "  <tbody>\n",
       "  </tbody>\n",
       "</table>\n",
       "</div>"
      ],
      "text/plain": [
       "Empty DataFrame\n",
       "Columns: [Name, Gender, Time Daily [min], Platform, Test Score]\n",
       "Index: []"
      ]
     },
     "execution_count": 61,
     "metadata": {},
     "output_type": "execute_result"
    }
   ],
   "source": [
    "friends_common = friends1.merge(friends2,on=['Name','Gender','Platform'])  # predpostavite, da bodo Name,Gender in Platform v obeh podatkovnih zbirkah\n",
    "friends_common"
   ]
  },
  {
   "cell_type": "markdown",
   "id": "50113800",
   "metadata": {},
   "source": [
    "Nato izbrišimo te zapise iz združenega podatkovnega niza. V *friends_all* preverimo vsa imena iz *friends_common* in izbrišemo vse zapise s tem imenom."
   ]
  },
  {
   "cell_type": "code",
   "execution_count": null,
   "id": "11303025",
   "metadata": {},
   "outputs": [],
   "source": [
    "for i in range (len(friends_common.index)):   \n",
    "    friends_all.drop(friends_all[friends_all['Name']==friends_common.loc[i,'Name']].index, inplace=True)  # try to analyze and understand this code, multiple concepts of selecting, deleting and assigning are used in the same row!\n",
    "friends_all"
   ]
  },
  {
   "cell_type": "markdown",
   "id": "54381fd3",
   "metadata": {},
   "source": [
    "Na koncu je treba splošna imena dodati ostalim podatkom:"
   ]
  },
  {
   "cell_type": "code",
   "execution_count": null,
   "id": "8eb0bc5d",
   "metadata": {},
   "outputs": [],
   "source": [
    "friends_all = pd.concat([friends_all, friends_common],ignore_index=True)\n",
    "friends_all"
   ]
  },
  {
   "cell_type": "markdown",
   "id": "2037b053",
   "metadata": {},
   "source": [
    "Podatki so v celoti združeni in za osebe, ki obstajajo v obeh zbirkah podatkov, so zapisi v celoti izpolnjeni.\n",
    "\n",
    "*Vaja:* iz podatkovnega niza *friends_all* izberite vse zapise, ki ne vsebujejo podatkov za \"Čas dnevno [min]\", v ločenem podatkovnem okviru. Nato postavite rezultate testov kot čase (s preimenovanjem in brisanjem stolpcev) in te zapise dodajte nazaj v podatkovni niz *friends_all* na dno tabele."
   ]
  },
  {
   "cell_type": "code",
   "execution_count": null,
   "id": "5d413b77",
   "metadata": {},
   "outputs": [],
   "source": []
  }
 ],
 "metadata": {
  "kernelspec": {
   "display_name": "Python 3 (ipykernel)",
   "language": "python",
   "name": "python3"
  },
  "language_info": {
   "codemirror_mode": {
    "name": "ipython",
    "version": 3
   },
   "file_extension": ".py",
   "mimetype": "text/x-python",
   "name": "python",
   "nbconvert_exporter": "python",
   "pygments_lexer": "ipython3",
   "version": "3.10.4"
  }
 },
 "nbformat": 4,
 "nbformat_minor": 5
}
