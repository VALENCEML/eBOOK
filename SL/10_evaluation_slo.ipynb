{
  "cells": [
    {
      "cell_type": "markdown",
      "id": "c7474ceb",
      "metadata": {
        "id": "c7474ceb"
      },
      "source": [
        "# 10. Metrike učinkovitosti in tehnike vrednotenja\n",
        "\n",
        "(pripravil Gjorgji Noveski, IJS, Slovenija)"
      ]
    },
    {
      "cell_type": "markdown",
      "id": "cb3b41f6",
      "metadata": {
        "id": "cb3b41f6"
      },
      "source": [
        "Vrednotenje algoritma strojnega učenja je bistven del vsakega projekta. V tem poglavju bomo obravnavali standardne metrike in tehnike za vrednotenje danega modela. Začnimo z uvozom običajnih paketov strojnega učenja."
      ]
    },
    {
      "cell_type": "code",
      "execution_count": null,
      "id": "f429796d",
      "metadata": {
        "id": "f429796d"
      },
      "outputs": [],
      "source": [
        "import pandas\n",
        "import numpy as np\n",
        "from sklearn.svm import SVC\n",
        "from sklearn.model_selection import train_test_split, cross_val_score\n",
        "from sklearn.metrics import confusion_matrix, ConfusionMatrixDisplay, precision_score, accuracy_score, recall_score, roc_curve, auc, RocCurveDisplay\n",
        "np.random.seed(41)"
      ]
    },
    {
      "cell_type": "markdown",
      "id": "b84d0ea2",
      "metadata": {
        "id": "b84d0ea2"
      },
      "source": [
        "V tem primeru si bomo ogledali en običajen nabor podatkov, in sicer za vrsto cvetov irisa. Vsebuje podatke o treh vrstah cvetov irisa: Iris-setosa, Iris-virginica in Iris-versicolor. Ima 4 atribute, ki predstavljajo dimenzije delov cveta."
      ]
    },
    {
      "cell_type": "code",
      "execution_count": null,
      "id": "ff48b808",
      "metadata": {
        "id": "ff48b808"
      },
      "outputs": [],
      "source": [
        "flower_dataset = pandas.read_csv('https://raw.githubusercontent.com/VALENCEML/eBOOK/main/EN/10/iris.csv')\n",
        "flower_dataset.drop('Id', axis=1, inplace=True)"
      ]
    },
    {
      "cell_type": "code",
      "execution_count": null,
      "id": "75e9ff3e",
      "metadata": {
        "id": "75e9ff3e",
        "outputId": "b8400689-ca1c-4cfc-d99f-e193b0f52cc1"
      },
      "outputs": [
        {
          "data": {
            "text/html": [
              "<div>\n",
              "<style scoped>\n",
              "    .dataframe tbody tr th:only-of-type {\n",
              "        vertical-align: middle;\n",
              "    }\n",
              "\n",
              "    .dataframe tbody tr th {\n",
              "        vertical-align: top;\n",
              "    }\n",
              "\n",
              "    .dataframe thead th {\n",
              "        text-align: right;\n",
              "    }\n",
              "</style>\n",
              "<table border=\"1\" class=\"dataframe\">\n",
              "  <thead>\n",
              "    <tr style=\"text-align: right;\">\n",
              "      <th></th>\n",
              "      <th>SepalLengthCm</th>\n",
              "      <th>SepalWidthCm</th>\n",
              "      <th>PetalLengthCm</th>\n",
              "      <th>PetalWidthCm</th>\n",
              "      <th>Species</th>\n",
              "    </tr>\n",
              "  </thead>\n",
              "  <tbody>\n",
              "    <tr>\n",
              "      <th>0</th>\n",
              "      <td>5.1</td>\n",
              "      <td>3.5</td>\n",
              "      <td>1.4</td>\n",
              "      <td>0.2</td>\n",
              "      <td>Iris-setosa</td>\n",
              "    </tr>\n",
              "    <tr>\n",
              "      <th>1</th>\n",
              "      <td>4.9</td>\n",
              "      <td>3.0</td>\n",
              "      <td>1.4</td>\n",
              "      <td>0.2</td>\n",
              "      <td>Iris-setosa</td>\n",
              "    </tr>\n",
              "    <tr>\n",
              "      <th>2</th>\n",
              "      <td>4.7</td>\n",
              "      <td>3.2</td>\n",
              "      <td>1.3</td>\n",
              "      <td>0.2</td>\n",
              "      <td>Iris-setosa</td>\n",
              "    </tr>\n",
              "    <tr>\n",
              "      <th>3</th>\n",
              "      <td>4.6</td>\n",
              "      <td>3.1</td>\n",
              "      <td>1.5</td>\n",
              "      <td>0.2</td>\n",
              "      <td>Iris-setosa</td>\n",
              "    </tr>\n",
              "    <tr>\n",
              "      <th>4</th>\n",
              "      <td>5.0</td>\n",
              "      <td>3.6</td>\n",
              "      <td>1.4</td>\n",
              "      <td>0.2</td>\n",
              "      <td>Iris-setosa</td>\n",
              "    </tr>\n",
              "  </tbody>\n",
              "</table>\n",
              "</div>"
            ],
            "text/plain": [
              "   SepalLengthCm  SepalWidthCm  PetalLengthCm  PetalWidthCm      Species\n",
              "0            5.1           3.5            1.4           0.2  Iris-setosa\n",
              "1            4.9           3.0            1.4           0.2  Iris-setosa\n",
              "2            4.7           3.2            1.3           0.2  Iris-setosa\n",
              "3            4.6           3.1            1.5           0.2  Iris-setosa\n",
              "4            5.0           3.6            1.4           0.2  Iris-setosa"
            ]
          },
          "execution_count": 4,
          "metadata": {},
          "output_type": "execute_result"
        }
      ],
      "source": [
        "flower_dataset.head()"
      ]
    },
    {
      "cell_type": "markdown",
      "id": "e0068d3b",
      "metadata": {
        "id": "e0068d3b"
      },
      "source": [
        "Za usposabljanje modela strojnega učenja podatke razdelimo na nabor podatkov za učenje in testiranje. Ciljna spremenljivka je stolpec \"Vrsta\", medtem ko bodo ostali 4 stolpci vhodni podatki za model."
      ]
    },
    {
      "cell_type": "code",
      "execution_count": null,
      "id": "9407cbfa",
      "metadata": {
        "id": "9407cbfa"
      },
      "outputs": [],
      "source": [
        "x = flower_dataset.iloc[:, :-1]\n",
        "y = flower_dataset.iloc[:, -1]\n",
        "x_train, x_test, y_train, y_test = train_test_split(x,y, test_size=0.4)"
      ]
    },
    {
      "cell_type": "markdown",
      "id": "b7f53a45",
      "metadata": {
        "id": "b7f53a45"
      },
      "source": [
        "## 10.1. Model"
      ]
    },
    {
      "cell_type": "markdown",
      "id": "4680fe4c",
      "metadata": {
        "id": "4680fe4c"
      },
      "source": [
        "Model, ki ga bomo uporabili za usposabljanje in napovedovanje tipov irisa, je **metoda podpornih vektorjev**."
      ]
    },
    {
      "cell_type": "code",
      "execution_count": null,
      "id": "ac4cb549",
      "metadata": {
        "id": "ac4cb549"
      },
      "outputs": [],
      "source": [
        "model = SVC(random_state=42, probability=True)\n",
        "model.fit(x_train, y_train)\n",
        "y_predicted = model.predict(x_test)"
      ]
    },
    {
      "cell_type": "markdown",
      "id": "5a287805",
      "metadata": {
        "id": "5a287805"
      },
      "source": [
        "### 10.1.1. Generiranje matrike zmede"
      ]
    },
    {
      "cell_type": "markdown",
      "id": "c1c7382c",
      "metadata": {
        "id": "c1c7382c"
      },
      "source": [
        "Matrika zmede je eno od orodij, ki nam pomaga ugotoviti, kako dobro deluje model. Je dvodimenzionalna, ena os predstavlja napovedani razred, druga os pa dejanski pravi razred. Iz nje se lahko naučimo veliko stvari in izpeljemo naslednje metrike:\n",
        "- Pravi pozitivni\n",
        "- Lažno pozitiven\n",
        "- Pravi negativni\n",
        "- Lažno negativen\n",
        "\n",
        "Te metrike nam povedo, ali je bil vzorec podatkov pravilno ali napačno razvrščen v pozitivni ali negativni razred. Vizualno lahko bolje razumemo, kako deluje."
      ]
    },
    {
      "cell_type": "code",
      "execution_count": null,
      "id": "2125d39b",
      "metadata": {
        "id": "2125d39b",
        "outputId": "7945ec47-dbdc-4f46-f674-5fea393e5c38"
      },
      "outputs": [
        {
          "data": {
            "text/plain": [
              "<sklearn.metrics._plot.confusion_matrix.ConfusionMatrixDisplay at 0x1f02dac4b80>"
            ]
          },
          "execution_count": 8,
          "metadata": {},
          "output_type": "execute_result"
        },
        {
          "data": {
            "image/png": "[encoded data removed]",
            "text/plain": [
              "<Figure size 432x288 with 2 Axes>"
            ]
          },
          "metadata": {
            "needs_background": "light"
          },
          "output_type": "display_data"
        }
      ],
      "source": [
        "matrix = confusion_matrix(y_test, y_predicted)\n",
        "display = ConfusionMatrixDisplay(matrix, display_labels=model.classes_)\n",
        "display.plot()"
      ]
    },
    {
      "cell_type": "markdown",
      "id": "dbc0aa2d",
      "metadata": {
        "id": "dbc0aa2d"
      },
      "source": [
        "## 10.2. Metrike"
      ]
    },
    {
      "cell_type": "markdown",
      "id": "108fabf7",
      "metadata": {
        "id": "108fabf7"
      },
      "source": [
        "Za merjenje uspešnosti modela strojnega učenja (klasifikatorja) lahko uporabimo veliko različnih metrik. Na prvi pogled lahko dajejo podobne ali enake rezultate. Toda glede na problem, ki ga obravnavamo, in podatke so nekatere metrike primernejše od drugih. V naslednjih delih bomo razložili in prikazali različne metrike, ki jih lahko uporabimo pri merjenju uspešnosti modela strojnega učenja. Pomembno je, da razumemo razlike med metrikami. Ko omenimo \"pozitiven primer\", imamo v mislih opazovanje podatkov, ki pripada ciljnemu razredu, ki ga želimo napovedati. Če imamo na primer problem klasifikacije slik in moramo razvrstiti, ali slika vsebuje mačko, potem tiste slike, ki vsebujejo mačko, imenujemo \"pozitivni primeri\", tiste, ki je ne vsebujejo, pa \"negativni primeri\"."
      ]
    },
    {
      "cell_type": "markdown",
      "id": "014e1db7",
      "metadata": {
        "id": "014e1db7"
      },
      "source": [
        "## 10.3. Točnost"
      ]
    },
    {
      "cell_type": "markdown",
      "id": "d6950d1c",
      "metadata": {
        "id": "d6950d1c"
      },
      "source": [
        "Metrika točnosti upošteva vse napovedi modela in predstavlja delež napovedi, ki jih je model pravilno izvedel. Pri nalogi binarne klasifikacije je točnost delež pravilnih napovedi **med vsemi napovedmi**. Pomembno je razumeti, da v našem primeru, ko imamo opravka z naborom podatkov o cvetovih, napoved, da je cvet vrste Iris-setosa, medtem ko je dejansko vrsta cvet Iris-Virginica, vpliva na to metriko."
      ]
    },
    {
      "cell_type": "code",
      "execution_count": null,
      "id": "3b53bb3a",
      "metadata": {
        "id": "3b53bb3a"
      },
      "outputs": [],
      "source": [
        "accuracy = accuracy_score(y_true=y_test, y_pred=y_predicted)"
      ]
    },
    {
      "cell_type": "code",
      "execution_count": null,
      "id": "504f55cb",
      "metadata": {
        "id": "504f55cb",
        "outputId": "8b09ac6d-e132-4e01-9aef-49b1ee866689"
      },
      "outputs": [
        {
          "data": {
            "text/plain": [
              "0.9166666666666666"
            ]
          },
          "execution_count": 10,
          "metadata": {},
          "output_type": "execute_result"
        }
      ],
      "source": [
        "accuracy"
      ]
    },
    {
      "cell_type": "markdown",
      "id": "b28cd13b",
      "metadata": {
        "id": "b28cd13b"
      },
      "source": [
        "### 10.3.1. Stroškovno občutljiva točnost"
      ]
    },
    {
      "cell_type": "markdown",
      "id": "98b0d6b2",
      "metadata": {
        "id": "98b0d6b2"
      },
      "source": [
        "Druga vrsta metrike točnosti je točnost, občutljiva na stroške.\n",
        "\n",
        "V nekaterih primerih imamo v naši zbirki podatkov zelo malo vzorcev podatkov ciljnega razreda v primerjavi z drugim razredom. Če želimo na primer razvrstiti, ali ima bolnik raka ali ne, imamo morda nabor podatkov, ki ga sestavlja le 100 vzorcev z bolniki, ki imajo raka, in 900 vzorcev brez njega. V teh primerih želimo algoritmu povedati, da je pomembneje, da lahko izbere bolnike z rakom, in da bi morala biti za napačno razvrstitev teh bolnikov višja kazen. To je posledica uporabe stroškovno občutljive natančnosti. Vzorcem podatkov dodelimo uteži, večje uteži vzorcem, ki so za nas pomembni in jih želimo razvrstiti."
      ]
    },
    {
      "cell_type": "code",
      "execution_count": null,
      "id": "ba93cb19",
      "metadata": {
        "id": "ba93cb19"
      },
      "outputs": [],
      "source": [
        "model = SVC(random_state=42, probability=True, class_weight='balanced')\n",
        "model.fit(x_train, y_train)\n",
        "y_predicted = model.predict(x_test)"
      ]
    },
    {
      "cell_type": "markdown",
      "id": "4b1f15f9",
      "metadata": {
        "id": "4b1f15f9"
      },
      "source": [
        "Tu model treniramo z uporabo stroškovno občutljive točnosti z dodatnim parametrom \"**razredna_utež**\". Vrednost \"uravnotežen\" samodejno dodeli uteži razredom, ki so obratno sorazmerne s frekvencami razredov."
      ]
    },
    {
      "cell_type": "markdown",
      "id": "9df71ada",
      "metadata": {
        "id": "9df71ada"
      },
      "source": [
        "## 10.4. Točnost"
      ]
    },
    {
      "cell_type": "markdown",
      "id": "2b123412",
      "metadata": {
        "id": "2b123412"
      },
      "source": [
        "Točnost kot metrika upošteva le en razred hkrati. Njen cilj je ugotoviti, koliko naših napovedi za določen razred je dejansko pravilnih. Z drugimi besedami, točnost je delež pravilnih napovedi **med pozitivnimi <u>napovedmi</u>**.\n",
        "V našem scenariju ne moremo uporabiti metrike točnosti, če želimo povedati, kako dobro je model deloval v vseh razredih tipov cvetpv, lahko pa uporabimo točnost, če želimo povedati, kako dobro je deloval v vsakem razredu posebej."
      ]
    },
    {
      "cell_type": "code",
      "execution_count": null,
      "id": "0fd29af0",
      "metadata": {
        "id": "0fd29af0"
      },
      "outputs": [],
      "source": [
        "precision = precision_score(y_true=y_test, y_pred=y_predicted, average=None)"
      ]
    },
    {
      "cell_type": "code",
      "execution_count": null,
      "id": "4d010b72",
      "metadata": {
        "id": "4d010b72",
        "outputId": "83ff3441-e55d-4392-ae50-3f100668c5ee"
      },
      "outputs": [
        {
          "data": {
            "text/plain": [
              "array([1.        , 0.86956522, 0.9       ])"
            ]
          },
          "execution_count": 13,
          "metadata": {},
          "output_type": "execute_result"
        }
      ],
      "source": [
        "precision"
      ]
    },
    {
      "cell_type": "markdown",
      "id": "88a90ac7",
      "metadata": {
        "id": "88a90ac7"
      },
      "source": [
        "## 10.5. Priklic"
      ]
    },
    {
      "cell_type": "markdown",
      "id": "56ff9efc",
      "metadata": {
        "id": "56ff9efc"
      },
      "source": [
        "Priklic je enak kot natančnost, vendar upošteva le en razred naenkrat. Priklic uporabimo, kadar želimo preveriti, kako dobro naš model zazna ciljni razred. Odpoklic je delež pravilnih napovedi **med pozitivnimi <u>primeri</u>**. Ko rečemo pozitivni primeri, mislimo na ciljni razred za naš problem."
      ]
    },
    {
      "cell_type": "code",
      "execution_count": null,
      "id": "e05c7a8f",
      "metadata": {
        "id": "e05c7a8f",
        "outputId": "c14b5ab8-7415-4c9a-e345-470e535be8db"
      },
      "outputs": [
        {
          "data": {
            "text/plain": [
              "array([1.        , 0.90909091, 0.85714286])"
            ]
          },
          "execution_count": 14,
          "metadata": {},
          "output_type": "execute_result"
        }
      ],
      "source": [
        "recall = recall_score(y_true=y_test, y_pred=y_predicted, average=None)\n",
        "recall"
      ]
    },
    {
      "cell_type": "markdown",
      "id": "3f712b95",
      "metadata": {
        "id": "3f712b95"
      },
      "source": [
        "## 10.6. ROC krivulja"
      ]
    },
    {
      "cell_type": "markdown",
      "id": "097620ec",
      "metadata": {
        "id": "097620ec"
      },
      "source": [
        "Krivulja ROC (Receiver Operating Characteristic) ocenjuje kakovost klasifikatorja, ko ta izpisuje verjetnosti. Na primer, namesto da bi klasifikator izpisal strogo 1 ali 0, če vzorec pripada ciljnemu razredu ali ne, mora napovedati določeno verjetnost, da vzorec pripada ciljnemu razredu. Običajno je razpon verjetnosti od 0,0 (0 % verjetnost) do 1,0 (100 % verjetnost).\n",
        "\n",
        "Ko imamo verjetnosti, določimo prag, ki določa, od katere verjetnosti naprej so vsi napovedani vzorci razvrščeni v ciljni razred, drugi pa ne. S spreminjanjem te mejne vrednosti se spreminja število pozitivnih in negativnih primerov. Če določimo visok prag, na primer 0,9, bomo dobili manjše število pozitivnih primerov, vendar bomo bolj prepričani, da gre za pravilno napoved. Podobno, če nastavimo nizek prag, bomo bolj prepričani, da smo pravilno določili večje število pozitivnih vzorcev, vendar bo tudi veliko negativnih vzorcev nepravilno razvrščenih.\n",
        "\n",
        "Krivulja ROC nam pomaga poiskati vrednost praga, ki bo za nas najboljša."
      ]
    },
    {
      "cell_type": "markdown",
      "id": "43fb7628",
      "metadata": {
        "id": "43fb7628"
      },
      "source": [
        "Ker metrika ROC obravnava le največ dva razreda (pozitivni in negativni razred), bomo morali odstraniti enega od treh razredov, ki jih imamo v našem naboru podatkov o šarenici. Odstranili bomo primere \"Iris-setosa\", zdaj pa bomo ugotovili, ali je primer iz vrste \"Iris-versicolor\"."
      ]
    },
    {
      "cell_type": "code",
      "execution_count": null,
      "id": "038e9323",
      "metadata": {
        "id": "038e9323"
      },
      "outputs": [],
      "source": [
        "two_class_dataset = flower_dataset[flower_dataset['Species'] != \"Iris-setosa\"].copy()\n",
        "two_class_dataset['Species'] = np.where(two_class_dataset['Species'] == 'Iris-versicolor', 1, 0)"
      ]
    },
    {
      "cell_type": "code",
      "execution_count": null,
      "id": "28f91e14",
      "metadata": {
        "id": "28f91e14"
      },
      "outputs": [],
      "source": [
        "x = two_class_dataset.iloc[:, :-1]\n",
        "y = two_class_dataset.iloc[:, -1]\n",
        "x_train, x_test, y_train, y_test = train_test_split(x,y, test_size=0.3)"
      ]
    },
    {
      "cell_type": "markdown",
      "id": "cfe28d9c",
      "metadata": {
        "id": "cfe28d9c"
      },
      "source": [
        "Vrnjene so verjetnosti za oba razreda, ker pa sta oba razreda enaka 1, lahko vzamemo samo ciljni razred, ki nas zanima."
      ]
    },
    {
      "cell_type": "code",
      "execution_count": null,
      "id": "61c2de4b",
      "metadata": {
        "id": "61c2de4b"
      },
      "outputs": [],
      "source": [
        "model.fit(x_train, y_train)\n",
        "y_predicted = model.predict_proba(x_test)[:,1]"
      ]
    },
    {
      "cell_type": "code",
      "execution_count": null,
      "id": "98b4580d",
      "metadata": {
        "id": "98b4580d",
        "outputId": "095d7347-321c-4f24-bbdc-e7ad449d37dc"
      },
      "outputs": [
        {
          "data": {
            "text/plain": [
              "<sklearn.metrics._plot.roc_curve.RocCurveDisplay at 0x1f02dcb08b0>"
            ]
          },
          "execution_count": 24,
          "metadata": {},
          "output_type": "execute_result"
        },
        {
          "data": {
            "image/png": "[encoded data removed]",
            "text/plain": [
              "<Figure size 432x288 with 1 Axes>"
            ]
          },
          "metadata": {
            "needs_background": "light"
          },
          "output_type": "display_data"
        }
      ],
      "source": [
        "fpr, tpr, thresholds = roc_curve(y_test, y_predicted)\n",
        "roc_auc = auc(fpr, tpr)\n",
        "display = RocCurveDisplay(fpr=fpr, tpr=tpr, roc_auc=roc_auc, estimator_name='napovedovalec')\n",
        "display.plot()"
      ]
    },
    {
      "cell_type": "markdown",
      "id": "b7e0f0c5",
      "metadata": {
        "id": "b7e0f0c5"
      },
      "source": [
        "## 10.7. Prečno preverjanje"
      ]
    },
    {
      "cell_type": "markdown",
      "id": "33648db9",
      "metadata": {
        "id": "33648db9"
      },
      "source": [
        "V resničnem svetu samo usposabljanje in testiranje klasifikatorja na naboru podatkov ne zadostuje za zagotovitev, da bo uspešnost, ki jo vidimo na podlagi metrik, tudi takšna, kot jo bomo dosegli. Obstaja možnost, da smo imeli srečo, ko je funkcija za razdelitev podatkov za usposabljanje/testiranje razdelila naše podatke. Če želimo biti bolj prepričani o sposobnosti modela za obdelavo novih in nevidenih podatkov, ga lahko večkrat preverimo in izberemo čas, ko se je najbolje odrezal. To se imenuje prečno preverjanje.\n",
        "\n",
        "K-kratno prečno preverjanje razdeli nabor podatkov na **k** več manjših naborov podatkov, od katerih je eden namenjen učenju, drugi pa preverjanju, in sicer k-krat. Po končanem usposabljanju in potrjevanju shrani rezultate potrjevanja in ponovno izvede enako, vendar zdaj z različnimi podatki, ki so vključeni v nabor podatkov za učenje in potrjevanje. Na ta način bodo vsi podatki imeli priložnost sodelovati pri učenju in potrjevanju.\n",
        "\n",
        "Ko nabor podatkov razdelimo na nabor podatkov za učenje in preverjanje, moramo biti prepričani, da bomo del prvotnega nabora podatkov pustili za testiranje. Ti podatki za testiranje ne bodo del cikla navzkrižnega potrjevanja, saj želimo po izbiri klasifikatorja, ki se je najbolje izkazal med k iteracijami, testirati na njem, da dobimo nepristransko oceno končne uspešnosti modela."
      ]
    },
    {
      "cell_type": "code",
      "execution_count": null,
      "id": "b00e60fd",
      "metadata": {
        "id": "b00e60fd"
      },
      "outputs": [],
      "source": [
        "scores = cross_val_score(model, x_train, y_train, cv=5)"
      ]
    },
    {
      "cell_type": "code",
      "execution_count": null,
      "id": "155bbdd5",
      "metadata": {
        "id": "155bbdd5",
        "outputId": "2aa170c6-d7e0-4521-fe7a-535c6a837e69"
      },
      "outputs": [
        {
          "name": "stdout",
          "output_type": "stream",
          "text": [
            "Točnost 0.93 s standardnim odklonom 0.08\n"
          ]
        }
      ],
      "source": [
        "print(\"Točnost %0.2f s standardnim odklonom %0.2f\" % (scores.mean(), scores.std()))"
      ]
    },
    {
      "cell_type": "code",
      "execution_count": null,
      "id": "73684ec8",
      "metadata": {
        "id": "73684ec8"
      },
      "outputs": [],
      "source": [
        "scores = cross_val_score(model, x_train, y_train, cv=11)"
      ]
    },
    {
      "cell_type": "code",
      "execution_count": null,
      "id": "8a7f75f3",
      "metadata": {
        "id": "8a7f75f3",
        "outputId": "887fdc42-348f-4afc-d566-ee5303d5b667"
      },
      "outputs": [
        {
          "name": "stdout",
          "output_type": "stream",
          "text": [
            "Točnost 0.96 s standardnim odklonom 0.07\n"
          ]
        }
      ],
      "source": [
        "print(\"Točnost %0.2f s standardnim odklonom %0.2f\" % (scores.mean(), scores.std()))"
      ]
    },
    {
      "cell_type": "code",
      "execution_count": null,
      "id": "3c7424c0",
      "metadata": {
        "id": "3c7424c0"
      },
      "outputs": [],
      "source": []
    }
  ],
  "metadata": {
    "kernelspec": {
      "display_name": "Python 3",
      "language": "python",
      "name": "python3"
    },
    "language_info": {
      "codemirror_mode": {
        "name": "ipython",
        "version": 3
      },
      "file_extension": ".py",
      "mimetype": "text/x-python",
      "name": "python",
      "nbconvert_exporter": "python",
      "pygments_lexer": "ipython3",
      "version": "3.8.8"
    },
    "colab": {
      "provenance": []
    }
  },
  "nbformat": 4,
  "nbformat_minor": 5
}