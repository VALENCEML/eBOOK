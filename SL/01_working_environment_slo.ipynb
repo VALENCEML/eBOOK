{
 "cells": [
  {
   "cell_type": "markdown",
   "id": "beee7905-97b2-4da3-a1ea-be7aa5c716d2",
   "metadata": {
    "id": "beee7905-97b2-4da3-a1ea-be7aa5c716d2"
   },
   "source": [
    "# 1. DELOVNO OKOLJE"
   ]
  },
  {
   "cell_type": "markdown",
   "id": "c02b4b86",
   "metadata": {
    "id": "c02b4b86"
   },
   "source": [
    "Pripravila Marija Markovska Dimitrovska, FEEIT, CMUS, Macedonija\n",
    "\n",
    "in Branislav Gerazov, FEEIT, CMUS, Macedonija"
   ]
  },
  {
   "cell_type": "markdown",
   "id": "ad8551f7",
   "metadata": {
    "id": "ad8551f7"
   },
   "source": [
    "V tem poglavju boste izvedeli, kako namestiti Jupyter Lab, ki je potreben za izvajanje nalog podatkovne znanosti in strojnega učenja, obravnavanih v tem zvezku."
   ]
  },
  {
   "cell_type": "markdown",
   "id": "c542ceba",
   "metadata": {
    "id": "c542ceba"
   },
   "source": [
    "## 1.1. Namestitev Jupyter Laba na Windowsu"
   ]
  },
  {
   "cell_type": "markdown",
   "id": "148fe620",
   "metadata": {
    "id": "148fe620"
   },
   "source": [
    "Laboratorij Jupyter Lab v operacijskem sistemu Windows najlažje namestite tako, da namestite **Anaconda**.\n",
    "\n",
    "Anaconda je priljubljena odprtokodna distribucija programskih jezikov Python in R, ki vključuje obsežen nabor orodij za podatkovno znanost in strojno učenje. Zagotavlja uporabniku prijazen grafični vmesnik (**Anaconda Navigator**) in sistem za upravljanje paketov (**conda**), ki razvijalcem omogoča enostavno nameščanje, upravljanje in posodabljanje paketov in odvisnosti Pythona in R.\n",
    "\n",
    "Anaconda vključuje več kot 1 500 paketov za podatkovno znanost, strojno učenje in znanstveno računalništvo, vključno s priljubljenimi paketi, kot so **NumPy**, **pandas** in **scikit-learn**. Vključuje tudi **Jupyter Notebook**, spletno interaktivno računalniško okolje, ki omogoča analizo in vizualizacijo podatkov, ter **Spyder**, integrirano razvojno okolje (IDE) za znanstveno računalništvo.\n",
    "\n",
    "Ena glavnih prednosti uporabe programa Anaconda je, da poenostavi namestitev in upravljanje paketov ter odvisnosti, kar razvijalcem olajša vzpostavitev okolja za podatkovno znanost na lokalnem računalniku ali v oblaku. Široko se uporablja v industriji in akademskih krogih.\n",
    "\n",
    "Anaconda omogoča enostaven postopek namestitve za operacijske sisteme Windows, Linux in macOS."
   ]
  },
  {
   "cell_type": "markdown",
   "id": "f90064cc-9119-40ff-8b88-0b1929353a0b",
   "metadata": {
    "id": "f90064cc-9119-40ff-8b88-0b1929353a0b"
   },
   "source": [
    "### 1.1.1. Namestitev Anaconde"
   ]
  },
  {
   "cell_type": "markdown",
   "id": "d502fb0d",
   "metadata": {
    "id": "d502fb0d"
   },
   "source": [
    "Za namestitev programa Anaconda v operacijskem sistemu Windows sledite naslednjim korakom:\n",
    "\n",
    "1. S spletnega mesta Anaconda prenesite ustrezen namestitveni program Anaconda za svoj operacijski sistem: <a href=\"https://www.anaconda.com/distribution/#download-section\" title=\"Optional Title\">https://www.anaconda.com/distribution/#download-section</a>.</p>\n",
    "\n",
    "2. Dvakrat kliknite preneseno datoteko, da zaženete čarovnika za namestitev programa Anaconda.</p>\n",
    "    \n",
    "3. Ko se prikaže spodnji zaslon, kliknite **Next**."
   ]
  },
  {
   "cell_type": "markdown",
   "id": "ac28b49c",
   "metadata": {
    "id": "ac28b49c"
   },
   "source": [
    "<figure>\n",
    "<img src=\"https://raw.githubusercontent.com/VALENCEML/eBOOK/main/EN/01/InstallAnacondaStep1.png\" width=\"500px;\"/> \n",
    "</figure>"
   ]
  },
  {
   "cell_type": "markdown",
   "id": "10351835",
   "metadata": {
    "id": "10351835"
   },
   "source": [
    "4. Preberite licenčno pogodbo in kliknite **I Agree**."
   ]
  },
  {
   "cell_type": "markdown",
   "id": "121de9d0",
   "metadata": {
    "id": "121de9d0"
   },
   "source": [
    "<figure>\n",
    "<img src=\"https://raw.githubusercontent.com/VALENCEML/eBOOK/main/EN/01/InstallAnacondaStep2.png\" width=\"500px;\"/> \n",
    "</figure>"
   ]
  },
  {
   "cell_type": "markdown",
   "id": "f6f8a5fc",
   "metadata": {
    "id": "f6f8a5fc"
   },
   "source": [
    "5. Kliknite **Next**."
   ]
  },
  {
   "cell_type": "markdown",
   "id": "f6cad50a",
   "metadata": {
    "id": "f6cad50a"
   },
   "source": [
    "<figure>\n",
    "<img src=\"https://raw.githubusercontent.com/VALENCEML/eBOOK/main/EN/01/InstallAnacondaStep3.png\" width=\"500px;\"/> \n",
    "</figure>"
   ]
  },
  {
   "cell_type": "markdown",
   "id": "85ce9623",
   "metadata": {
    "id": "85ce9623"
   },
   "source": [
    "6. Upoštevajte lokacijo namestitve in kliknite **Next**."
   ]
  },
  {
   "cell_type": "markdown",
   "id": "d6c29f5c",
   "metadata": {
    "id": "d6c29f5c"
   },
   "source": [
    "<figure>\n",
    "<img src=\"https://raw.githubusercontent.com/VALENCEML/eBOOK/main/EN/01/InstallAnacondaStep4.png\" width=\"500px;\"/> \n",
    "</figure>"
   ]
  },
  {
   "cell_type": "markdown",
   "id": "31dbe02d",
   "metadata": {
    "id": "31dbe02d"
   },
   "source": [
    "7. To je pomemben korak v postopku namestitve. Priporočljivo je, da ne označite polja za dodajanje programa Anaconda na pot. To pomeni, da boste morali uporabiti program Anaconda Navigator ali ukazno vrstico Anaconda (ki se nahaja v meniju Start pod \"Anaconda\"), ko boste želeli uporabiti program Anaconda. Če želite imeti možnost uporabe programa Anaconda v ukazni vrstici, morate uporabiti alternativni pristop in označiti to polje. Po izbiri kliknite **Install**."
   ]
  },
  {
   "cell_type": "markdown",
   "id": "f6571ce0",
   "metadata": {
    "id": "f6571ce0"
   },
   "source": [
    "<figure>\n",
    "<img src=\"https://raw.githubusercontent.com/VALENCEML/eBOOK/main/EN/01/InstallAnacondaStep5.png\" /> \n",
    "</figure>"
   ]
  },
  {
   "cell_type": "markdown",
   "id": "29a1e1f9",
   "metadata": {
    "id": "29a1e1f9"
   },
   "source": [
    "8. Kliknite **Next**."
   ]
  },
  {
   "cell_type": "markdown",
   "id": "4ea9bb10",
   "metadata": {
    "id": "4ea9bb10"
   },
   "source": [
    "<figure>\n",
    "<img src=\"https://raw.githubusercontent.com/VALENCEML/eBOOK/main/EN/01/InstallAnacondaStep6.png\" width=\"500px;\"/> \n",
    "</figure>"
   ]
  },
  {
   "cell_type": "markdown",
   "id": "f0bc738c",
   "metadata": {
    "id": "f0bc738c"
   },
   "source": [
    "9. Kliknite **Next**."
   ]
  },
  {
   "cell_type": "markdown",
   "id": "ec138bc6",
   "metadata": {
    "id": "ec138bc6"
   },
   "source": [
    "<figure>\n",
    "<img src=\"https://raw.githubusercontent.com/VALENCEML/eBOOK/main/EN/01/InstallAnacondaStep7.png\" width=\"500px;\"/> \n",
    "</figure>"
   ]
  },
  {
   "cell_type": "markdown",
   "id": "12270443",
   "metadata": {
    "id": "12270443"
   },
   "source": [
    "10. Če želite prebrati več o Anaconda.org in o tem, kako začeti uporabljati Anacondo, kliknite **Finish**. V nasprotnem primeru najprej odkljukajte polji \"Anaconda Distribution Tutorial\" in \"Getting Started with Anaconda\" ter nato kliknite **Finish**."
   ]
  },
  {
   "cell_type": "markdown",
   "id": "a1373ac6",
   "metadata": {
    "id": "a1373ac6"
   },
   "source": [
    "<figure>\n",
    "<img src=\"https://raw.githubusercontent.com/VALENCEML/eBOOK/main/EN/01/InstallAnacondaStep8.png\" width=\"500px;\"/> \n",
    "</figure>"
   ]
  },
  {
   "cell_type": "markdown",
   "id": "08ebfeaf",
   "metadata": {
    "id": "08ebfeaf"
   },
   "source": [
    "### 1.1.2. Ustvarjanje navideznega okolja s programom conda"
   ]
  },
  {
   "cell_type": "markdown",
   "id": "a5a536f8",
   "metadata": {
    "id": "a5a536f8"
   },
   "source": [
    "Da bi se izognili razbijanju obstoječih namestitev pythona v smislu odvisnosti, morate ustvariti ločeno delovno okolje pythona, ki bo služilo kot okolje za gostovanje JupyterLaba. Koraki za ustvarjanje okolja so naslednji:\n",
    "\n",
    "Z iskalno vrstico v meniju Start poiščite in odprite aplikacijo **Anaconda Prompt** ter vnesite ukaz:\n",
    "   \n",
    "```bash\n",
    "conda create --name valence python=3.7 -c conda-forge\n",
    "```\n",
    "\n",
    "Nato aktivirajte okolje conda.\n",
    "\n",
    "```bash\n",
    "conda activate valence\n",
    "```\n",
    "\n",
    "Delovno okolje je aktivirano. Ko je okolje aktivno, se vsak naslednji paket, ki je nameščen z ukazom **conda install**, namesti samo v aktivno okolje, s čimer vse druge namestitve Pythona ostanejo čiste."
   ]
  },
  {
   "cell_type": "markdown",
   "id": "380cc0ee",
   "metadata": {
    "id": "380cc0ee"
   },
   "source": [
    "### 1.1.3. Namestitev Jupyter Laba"
   ]
  },
  {
   "cell_type": "markdown",
   "id": "48562c30",
   "metadata": {
    "id": "48562c30"
   },
   "source": [
    "Za namestitev programa Jupyter Lab lahko uporabite naslednji ukaz conda:\n",
    "\n",
    "````bash\n",
    "conda install -c conda-forge jupyterlab\n",
    "````\n",
    "\n",
    "S tem namestite Jupyter Lab, ki je pripravljen za uporabo.\n"
   ]
  },
  {
   "cell_type": "markdown",
   "id": "3f049209",
   "metadata": {
    "id": "3f049209"
   },
   "source": [
    "### 1.1.4. Prenos gradiva in odpiranje z Jupyter Lab"
   ]
  },
  {
   "cell_type": "markdown",
   "id": "80901105",
   "metadata": {
    "id": "80901105"
   },
   "source": [
    "Za prenos gradiva bomo uporabili ukaz **git**, ki ga morate namestiti z ukazom conda:\n",
    "\n",
    "```bash\n",
    "conda install -c anaconda git \n",
    "```\n",
    "Ustvarite mapo, v katero boste prenesli gradivo:\n",
    "\n",
    "```bash\n",
    "mkdir valence\n",
    "\n",
    "cd valence\n",
    "\n",
    "git clone https://github.com/VALENCEML/eBOOK.git\n",
    "\n",
    "Cloning into 'eBOOK'...\n",
    "remote: Enumerating objects: 704, done.\n",
    "remote: Counting objects: 100% (191/191), done.\n",
    "remote: Compressing objects: 100% (129/129), done.\n",
    "Rremote: Total 704 (delta 102), reused 116 (delta 60), pack-reused 513\n",
    "Receiving objects: 100% (704/704), 22.78 MiB | 1010.00 KiB/s, done.\n",
    "Resolving deltas: 100% (311/311), done.\n",
    "```\n",
    "Zdaj lahko vstopite v mapo, v kateri je preneseno gradivo, in namestite potrebne pakete.\n",
    "\n",
    "```bash\n",
    "cd eBOOK\n",
    "\n",
    "conda install --file requirements.txt\n",
    "```\n",
    "\n",
    "S tem ste pripravljeni, da zaženete Jupyter Lab in začnete preučevati gradivo.\n",
    "\n",
    "```bash\n",
    "jupyter lab\n",
    "```"
   ]
  },
  {
   "cell_type": "markdown",
   "id": "82646213",
   "metadata": {
    "id": "82646213"
   },
   "source": [
    "## 1.2. Namestitev Jupyter Laba na Linuxu"
   ]
  },
  {
   "cell_type": "markdown",
   "id": "4308e9df-785f-4864-838a-5d2fc02b23e2",
   "metadata": {
    "id": "4308e9df-785f-4864-838a-5d2fc02b23e2"
   },
   "source": [
    "Vsaka distribucija GNU/Linuxa je opremljena s sistemsko namestitvijo programa Python.\n",
    "Standardno orodje za nameščanje paketov v Pythonu je `pip` (Python Install Package).\n",
    "\n",
    "Namestitev paketov Python z `pip` neposredno v operacijski sistem ni priporočljiva zaradi možnosti konfliktov med paketi, ki so nameščeni v operacijskem sistemu GNU/Linux.\n",
    "Da bi se izognili tej težavi in da bi izolirali ekosisteme od nameščenih modulov vsakega posameznega projekta, moramo za svoje delo najprej izdelati navidezno okolje Python.\n",
    "\n",
    "V ta namen bomo uporabili paket `mamba`.\n",
    "\n",
    "### 1.2.1. Ustvarjanje navideznega okolja s programom mamba\n",
    "\n",
    "[`Mamba`](https://mamba.readthedocs.io) je zmogljiv in hiter paket za upravljanje virtualnih okolij v Pythonu.\n",
    "Za njegovo namestitev moramo prenesti namestitveno skripto in jo zagnati z naslednjima dvema ukazoma:\n",
    "\n",
    "```bash\n",
    "$ wget https://github.com/conda-forge/miniforge/releases/latest/download/Mambaforge-Linux-x86_64.sh\n",
    "\n",
    "$ ./Mambaforge-Linux-x86_64.sh\n",
    "```\n",
    "\n",
    "Zdaj bomo ustvarili navidezno okolje:\n",
    "\n",
    "```bash\n",
    "~ $ mamba create -n valence python\n",
    "```\n",
    "\n",
    "In ga bomo aktivirali z:\n",
    "\n",
    "```bash\n",
    "~ $ mamba activate valence\n",
    "\n",
    "(valence) ~ $\n",
    "```\n",
    "\n",
    "### 1.2.2. Namestitev laboratorija Jupyter Lab\n",
    "\n",
    "Zdaj, ko smo ustvarili virtualno okolje, lahko namestimo Jupyter Lab.\n",
    "\n",
    "```bash\n",
    "(valence) ~ $ mamba install jupyterlab\n",
    "```\n",
    "\n",
    "S tem namestimo Jupyter Lab, ki je pripravljen za uporabo.\n",
    "\n",
    "### 1.2.3. Prenos gradiva in odpiranje z Jupyter Labom\n",
    "\n",
    "Za prenos gradiva bomo uporabili ukaz `git`, ki ga morate namestiti v svoj operacijski sistem GNU/Linux, če tega še niste storili.\n",
    "V ta namen uporabite upravitelja paketov svoje distribucije.\n",
    "V Ubuntuju in drugih distribucijah, ki temeljijo na Debianu, lahko to storimo z naslednjim ukazom:\n",
    "\n",
    "```bash\n",
    "(valence) ~ $ sudo apt install git\n",
    "```\n",
    "\n",
    "Zdaj bomo ustvarili mapo, v katero bomo prenesli gradivo:\n",
    "\n",
    "```bash\n",
    "(valence) ~ $ mkdir valence\n",
    "\n",
    "(valence) ~ $ cd valence\n",
    "\n",
    "(valence) ~/valence $ git clone https://github.com/VALENCEML/eBOOK.git\n",
    "Cloning into 'eBOOK'...\n",
    "remote: Enumerating objects: 639, done.\n",
    "remote: Counting objects: 100% (126/126), done.\n",
    "remote: Compressing objects: 100% (72/72), done.\n",
    "remote: Total 639 (delta 65), reused 97 (delta 52), pack-reused 513\n",
    "Receiving objects: 100% (639/639), 22.62 MiB | 2.42 MiB/s, done.\n",
    "Resolving deltas: 100% (274/274), done.\n",
    "```\n",
    "\n",
    "Zdaj lahko vstopimo v mapo, iz katere smo prenesli gradivo, in namestimo potrebne pakete.\n",
    "\n",
    "```bash\n",
    "(valence) ~/valence $ cd eBOOK\n",
    "\n",
    "(valence) ~/valence/eBOOK $ mamba install --file requirements.txt\n",
    "```\n",
    "\n",
    "S tem smo pripravljeni, da zaženemo Jupyter Lab in začnemo preučevati gradivo.\n",
    "\n",
    "```bash\n",
    "(valence) ~/valence/eBOOK $ jupyter lab\n",
    "```"
   ]
  },
  {
   "cell_type": "code",
   "execution_count": null,
   "id": "a7ed4dc9",
   "metadata": {},
   "outputs": [],
   "source": []
  }
 ],
 "metadata": {
  "colab": {
   "provenance": []
  },
  "kernelspec": {
   "display_name": "Python 3",
   "language": "python",
   "name": "python3"
  },
  "language_info": {
   "codemirror_mode": {
    "name": "ipython",
    "version": 3
   },
   "file_extension": ".py",
   "mimetype": "text/x-python",
   "name": "python",
   "nbconvert_exporter": "python",
   "pygments_lexer": "ipython3",
   "version": "3.8.8"
  }
 },
 "nbformat": 4,
 "nbformat_minor": 5
}
