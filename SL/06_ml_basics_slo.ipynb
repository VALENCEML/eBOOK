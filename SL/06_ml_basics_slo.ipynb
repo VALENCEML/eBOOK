{
 "cells": [
  {
   "cell_type": "markdown",
   "id": "f02af0f2",
   "metadata": {},
   "source": [
    "# 6. Osnove strojnega učenja\n",
    "\n",
    "(pripravil Arpad Kočiš, ETSMP, Srbija)"
   ]
  },
  {
   "cell_type": "markdown",
   "id": "edc18e2f",
   "metadata": {},
   "source": [
    "## 6.1. Kaj je strojno učenje?\n",
    "\n",
    "Strojno učenje je področje računalništva, ki vključuje ustvarjanje algoritmov, ki se učijo iz primerov za reševanje praktičnih problemov. Vključuje zbiranje nabora podatkov in izdelavo statističnega modela, ki se uporabi pri reševanju problema. \n",
    "\n",
    "Primer praktičnega problema, ki ga je mogoče rešiti s strojnim učenjem, je razvrščanje slik.\n",
    "\n",
    "<ol>\n",
    " <li>Najprej zberemo podatkovno zbirko slik, ki so označene s pripadajočim razredom (npr. pes, mačka, avto, ipd.).</li>\n",
    "<li>S pomočjo algoritma se na tem naboru podatkov uporabi model, ki se nauči prepoznavati značilnosti in vzorce, po katerih se en razred predmetov razlikuje od drugega.</li>\n",
    "<li>Ko je model naučen, ga je mogoče uporabiti za razvrščanje novih, prej nevidenih slik v pravilne razrede predmetov.</li>\n",
    "</ol>\n",
    "\n",
    "V tem primeru je model statistični model, ki je zgrajen na podlagi nabora podatkov označenih slik in se uporablja za razvrščanje novih slik na podlagi naučenih značilnosti in vzorcev."
   ]
  },
  {
   "cell_type": "markdown",
   "id": "d2221191",
   "metadata": {},
   "source": [
    "## 6.2. Nadzorovano učenje \n",
    "Nadzorovano učenje je vrsta strojnega učenja, pri katerem imamo nabor podatkov, ki vključuje vhodne podatke in ustrezne pravilne izhodne podatke. Cilj je na tem naboru podatkov naučiti model, da bo lahko napovedoval nove, nevidene podatke.\n",
    "\n",
    "Predstavljajte si, da imate nabor podatkov s slikami živali in vsaka slika je označena z imenom živali na sliki (npr. \"pes\", \"mačka\", \"konj\"). Ta nabor podatkov lahko uporabimo za učenje modela, ki lahko sprejme novo sliko kot vhodni podatek in predvidi, katera žival je na sliki. To je primer nadzorovanega učenja.\n",
    "\n",
    "Pri nadzorovanem učenju imamo nabor podatkov, ki vključuje primere vhodnih podatkov (kot so slike) in ustrezne pravilne izhodne podatke (kot so oznake). Z algoritmom na tem naboru podatkov naučimo model, da se lahko nauči vzorcev in razmerij med vhodi in izhodi. Ko je model naučen, ga lahko uporabimo za napovedovanje novih podatkov.\n",
    "\n",
    "Nadzorovano učenje se lahko uporablja za različne naloge, kot so razvrščanje slik, prepoznavanje govora in obdelava naravnega jezika.\n",
    "\n",
    "V tem primeru sta modelu predstavljena slika in oznaka (npr. \"pes\", \"mačka\", \"konj\"), ki ustreza živali na sliki, model pa se nauči povezati določene značilnosti slike s pravilno oznako.\n",
    "\n",
    "Med fazo učenja je modelu predstavljenih veliko primerov slik in pripadajočih oznak, model pa se nauči prepoznavati vzorce in odnose med slikami in oznakami. Ko je model naučen, lahko kot vhodno informacijo sprejme novo sliko in predvidi oznako (tj. žival), ki ustreza tej sliki.\n",
    "\n",
    "Naslednji primer prikazuje preprost primer, kako je mogoče napovedati nekatere trende. Regresijski algoritmi bodo podrobneje preučeni v prihodnjih poglavjih, to je le za demonstracijo. \n",
    "\n",
    "Uporabljamo algoritem linearne regresije, ki nam v bistvu da linearno funkcijo, ki v matematiki izgleda takole : \n",
    "\n",
    "**f(x) = mx + b** \n",
    "\n",
    "x - vhodni podatek\n",
    "\n",
    "f - izhod\n",
    "\n",
    "m - naklon \n",
    "\n",
    "b - presečišče\n",
    "\n",
    " Če nam algoritem poda presečišče in naklon, lahko za vsak vhod ocenimo izhod."
   ]
  },
  {
   "cell_type": "code",
   "execution_count": 1,
   "id": "16eaa822",
   "metadata": {},
   "outputs": [],
   "source": [
    "import matplotlib.pyplot as plt\n",
    "import numpy as np\n",
    "from scipy import stats"
   ]
  },
  {
   "cell_type": "code",
   "execution_count": 2,
   "id": "3b83a739",
   "metadata": {},
   "outputs": [],
   "source": [
    "# pripravi vzorčne podatke\n",
    "x = np.array([1, 2, 3, 4, 5])\n",
    "y = np.array([2, 4, 2, 5, 6])"
   ]
  },
  {
   "cell_type": "code",
   "execution_count": 3,
   "id": "358f213f",
   "metadata": {},
   "outputs": [],
   "source": [
    "# nauči model na vzorčnih podatkih\n",
    "slope, intercept, _, _, _ = stats.linregress(x, y)"
   ]
  },
  {
   "cell_type": "code",
   "execution_count": 4,
   "id": "43d7b388",
   "metadata": {},
   "outputs": [],
   "source": [
    "# uporabi model pri napovedih\n",
    "x_new = np.array([6, 7, 8])\n",
    "y_pred = intercept + slope * x_new"
   ]
  },
  {
   "cell_type": "code",
   "execution_count": 6,
   "id": "eb82627e",
   "metadata": {},
   "outputs": [
    {
     "data": {
      "image/png": "[encoded data removed]",
      "text/plain": [
       "<Figure size 432x288 with 1 Axes>"
      ]
     },
     "metadata": {
      "needs_background": "light"
     },
     "output_type": "display_data"
    }
   ],
   "source": [
    "# nariši vzorčne podatke\n",
    "plt.scatter(x, y,color='blue')\n",
    "# nariši napovedane primere\n",
    "plt.scatter(x_new, y_pred, color='red')\n",
    "\n",
    "# doday oznake x in y osi\n",
    "plt.xlabel('x')\n",
    "plt.ylabel('y')\n",
    "plt.show()"
   ]
  },
  {
   "cell_type": "markdown",
   "id": "19a8502f",
   "metadata": {},
   "source": [
    "Modre pike so podatki, ki smo jih uporabili za usposabljanje modela. Rdeče pa so napovedane vrednosti za vhodne podatke [6, 7, 8]. \n",
    "\n",
    "Kot vidimo, smo algoritmu dali tako vhodne kot izhodne podatke, nato pa je oblikoval model, v katerega zdaj lahko damo vhodne podatke in nam bo dal pravilne izhodne podatke. To je nadzorovano učenje."
   ]
  },
  {
   "cell_type": "markdown",
   "id": "60a62ddc",
   "metadata": {},
   "source": [
    "## 6.3. Model in primer\n",
    "Model je matematična predstavitev sistema ali procesa. Uporablja se lahko za napovedovanje ali sprejemanje odločitev na podlagi podatkov. Primer je poseben pojav ali primer nečesa, na primer določenega predmeta ali dogodka. V kontekstu strojnega učenja je primer določen niz vhodnih podatkov, ki se uporablja za usposabljanje ali testiranje modela.\n",
    "\n",
    "Primer modela je met kovanca. V tem primeru bi bil model matematična predstavitev verjetnosti, da se pri metanju kovanca pojavi glava ali rep. Model bi bil binomska porazdelitev z dvema možnima izidoma: glavo (H) ali repom (T) z verjetnostjo 0,5 za vsak izid. Primer tega modela bi bil določen met kovanca, pri čemer bi bil vhodni podatek izid (glava ali rep), model pa bi uporabil verjetnost 0,5, da bi napovedal izid meta kovanca.\n",
    "\n",
    "V našem prejšnjem primeru je model x vhodni podatek y izhodni podatek, model je y_pred = intercept + slope * x_new in primer je na primer za vhodni podatek 6 izhodni podatek 7."
   ]
  },
  {
   "cell_type": "markdown",
   "id": "ab2d3def",
   "metadata": {},
   "source": [
    "## 6.4. Regresija\n",
    "\n",
    "Regresija je metoda napovedovanja številčne vrednosti (oznake) na podlagi niza vhodnih značilnosti. Primer je napovedovanje cene hiše na podlagi njene površine, števila spalnic in lokacije. Regresijski algoritem vzame niz označenih primerov in ustvari model, ki lahko napoveduje nove, neoznačene primere. Vrsta regresijskega algoritma je bila uporabljena v prejšnjem primeru."
   ]
  },
  {
   "cell_type": "markdown",
   "id": "92fccbd4",
   "metadata": {},
   "source": [
    "## 6.5. Razvrščanje\n",
    "\n",
    "Klasifikacija je naloga v strojnem učenju, pri kateri se model usposobi za dodelitev določene oznake razreda danemu vhodu. Odkrivanje nezaželene pošte je primer klasifikacije, kjer je model usposobljen za napovedovanje, ali je elektronsko sporočilo nezaželena pošta ali ne. Drug primer je klasifikacija slik, pri kateri lahko na primer na slikah prepoznamo različne živali. \n",
    "\n",
    "Klasifikacijski algoritem vzame zbirko označenih primerov kot vhodne podatke in ustvari model, ki lahko vzame neoznačen primer kot vhodni podatek in izpiše oznako ali število, iz katerega je mogoče enostavno sklepati o oznaki, na primer verjetnost. \n",
    "\n",
    "Tako regresija kot klasifikacija sta nadzorovana algoritma, vendar se regresija uporablja za napovedovanje številčnih vrednosti, klasifikacija pa za napovedovanje kategorij ali razredov."
   ]
  },
  {
   "cell_type": "markdown",
   "id": "efa8bbc4",
   "metadata": {},
   "source": [
    "## 6.6. Nenadzorovano učenje\n",
    "\n",
    "Nenadzorovano učenje se ukvarja s težavami, pri katerih nabor podatkov nima oznak. Zaradi te lastnosti zelo je ta metoda lahko zelo problematična za številne praktične aplikacije. Odsotnost, ki predstavljajo želeno obnašanje vašega modela, pomeni, da ni trdne referenčne točke za ocenjevanje kakovosti vašega modela.\n",
    "\n",
    "Nenadzorovano učenje je tehnika strojnega učenja, pri kateri uporabnikom ni treba nadzorovati modela. Namesto tega omogoča, da model deluje sam in odkriva vzorce in informacije, ki jih prej ni zaznal. Ukvarja se predvsem z neoznačenimi podatki.\n",
    "\n",
    "Algoritmi nenadzorovanega učenja omogočajo uporabnikom, da v primerjavi z nadzorovanim učenjem opravljajo bolj zapletene naloge obdelave. Čeprav je lahko nenadzorovano učenje v primerjavi z drugimi metodami naravnega učenja bolj nepredvidljivo. \n",
    "\n",
    "Vzemimo za primer nenadzorovanega učenja otroka, ki se igra s kockami in ugotavlja, kako se prilegajo skupaj, da bi zgradil različne strukture. Otrok ne dobi posebnih navodil ali oznak za kocke, temveč raziskuje in eksperimentira, da bi ugotovil, kako jih lahko uporabi. Podobno je primer nenadzorovanega učenja, ko se otrok igra z različnimi igračami in odkriva, kako delujejo in kaj lahko z njimi počne. S temi dejavnostmi se lahko otrok uči in razume svoje okolje brez neposrednega nadzora ali vodenja.\n",
    "\n",
    "Drug primer je združevanje v skupine, pri katerem lahko maloprodajno podjetje združuje stranke glede na njihove nakupne navade. Algoritem bi analiziral zgodovino nakupov vsake stranke in jih razvrstil v različne gruče glede na izdelke, ki jih običajno kupujejo in pogostost nakupov. Podjetje bi lahko nato te informacije uporabilo za oblikovanje ciljno usmerjenih tržnih kampanj za vsako gručo (skupino) kupcev.\n",
    "\n",
    "V osnovi se ljudje učimo na način, ki ni nadzorovan. Zato je takšno obnašanje bolj človeško, zato je bližje pravi umetni inteligenci. V resničnih aplikacijah nimamo vedno označenih podatkov in podatki niso vedno kategorizirani, prav tako vsak vhodni podatek nima ustreznega izhodnega podatka. Zato v teh primerih uporabljamo nenadzorovano učenje."
   ]
  },
  {
   "cell_type": "code",
   "execution_count": null,
   "id": "b84522fa",
   "metadata": {},
   "outputs": [],
   "source": []
  }
 ],
 "metadata": {
  "kernelspec": {
   "display_name": "Python 3 (ipykernel)",
   "language": "python",
   "name": "python3"
  },
  "language_info": {
   "codemirror_mode": {
    "name": "ipython",
    "version": 3
   },
   "file_extension": ".py",
   "mimetype": "text/x-python",
   "name": "python",
   "nbconvert_exporter": "python",
   "pygments_lexer": "ipython3",
   "version": "3.10.4"
  }
 },
 "nbformat": 4,
 "nbformat_minor": 5
}
