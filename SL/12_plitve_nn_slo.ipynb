{
  "cells": [
    {
      "cell_type": "markdown",
      "id": "8070c8b0",
      "metadata": {
        "id": "8070c8b0"
      },
      "source": [
        "# 12. Plitve Nevronske Mreže"
      ]
    },
    {
      "cell_type": "markdown",
      "id": "3374ba87",
      "metadata": {
        "id": "3374ba87"
      },
      "source": [
        "Pripravil Branislav Gerazov, FEEIT, CMUS"
      ]
    },
    {
      "cell_type": "markdown",
      "id": "7b1ccba1",
      "metadata": {
        "id": "7b1ccba1"
      },
      "source": [
        "Z uporabo samo enega nevrona lahko model strojnega učenja rešuje samo linearne probleme.\n",
        "Z drugimi besedami, če se želimo naučiti funkcijo, lahko model odda le linearno funkcijo - **linearna regresija**, v primeru klasifikacije pa lahko nevron loči dva razreda le s črto v 2D ali ravnino v večdimenzionalnem prostoru lastnosti - **logistična regresija**. \n",
        "\n",
        "Tako **nelinearnih problemov**, ki se običajno pojavljajo v praksi, ni mogoče rešiti z enim nevronom.\n",
        "V ta namen se programski nevroni skoraj vedno uporabljajo v arhitekturah, v katerih je medsebojno povezanih več nevronov.\n",
        "Te strukture imenujemo **nevronske mreže**."
      ]
    },
    {
      "cell_type": "markdown",
      "id": "00f9dcb7",
      "metadata": {
        "id": "00f9dcb7"
      },
      "source": [
        "## 12.0. Arhitektura plitvih nevronskih omrežij\n",
        "\n",
        "V najpreprostejšem primeru imajo nevronske mreže eno **skrito plast** in eno **izhodno plast** nevronov, kot je prikazano na sliki 1.\n",
        "Takšni modeli se imenujejo **plitve nevronske mreže**."
      ]
    },
    {
      "cell_type": "markdown",
      "id": "a3f4a31e",
      "metadata": {
        "id": "a3f4a31e"
      },
      "source": [
        "<img align=\"middle\" alt=\"Colored_neural_network\" src=\"https://raw.githubusercontent.com/VALENCEML/eBOOK/main/EN/12/12_Colored_neural_network.png\" width=\"300px\" style=\"display:block; margin-left: auto; margin-right: auto;\">"
      ]
    },
    {
      "cell_type": "markdown",
      "id": "7754f22b",
      "metadata": {
        "id": "7754f22b"
      },
      "source": [
        "**Slika 1.** Plitka nevronska mreža z eno skrito plastjo, ki jo sestavljajo štirje nevroni (modra), in eno izhodno plastjo, ki jo sestavljata 2 nevrona (zelena). Vhodni podatki (funkcije) imajo tukaj 3 dimenzije in so običajno narisani kot vhodna plast (rdeča).\n",
        "\n",
        "* [Wikimedia - Artificial neural network](https://commons.wikimedia.org/w/index.php?curid=24913461)\n"
      ]
    },
    {
      "cell_type": "markdown",
      "id": "3069b2c4",
      "metadata": {
        "id": "3069b2c4"
      },
      "source": [
        "Kot je razvidno iz slike 1, je vsak nevron skrite plasti povezan z vsakim od koeficientov vhodnega vektorja $\\mathbf{x}$.\n",
        "Vsak nevron v izhodnem sloju je povezan z vsakim nevronom v skritem sloju.\n",
        "\n",
        "Zaradi te medsebojne povezanosti se ta vrsta slojev imenuje **polno povezani** ali **gosti** sloji.\n",
        "Čeprav je ta arhitektura preprosta, omogoča nevronskim mrežam modeliranje katere koli nelinearne funkcije, tj. so **univerzalni ocenjevalci**.\n",
        "\n",
        "Izhod plitve nevronske mreže za dani vhodni podatkovni vektor $\\mathbf{x}$ lahko izračunamo z:\n",
        "\n",
        "$$\n",
        "    \\mathbf{y}_h = f_h(\\mathbf{a}_h) = f_h(\\mathbf{W}_h \\mathbf{x}^T + \\mathbf{b}_h) \\, , \\\\\n",
        "    \\mathbf{y} = f_o(\\mathbf{a}_o) = f_o(\\mathbf{W}_o \\mathbf{y}_h + \\mathbf{b}_o) \\\\\n",
        "    \\mathbf{y} = f_o(\\mathbf{W}_o \\cdot f_h(\\mathbf{W}_h \\mathbf{x}^T + \\mathbf{b}_h) + \\mathbf{b}_o) \\, ,\n",
        "$$\n",
        "\n",
        "kjer $_h$ označuje parametre in izhode, pridobljene iz skritega sloja, $_o$ pa tiste iz izhodnega sloja.\n",
        "Ker imamo tokrat v vsaki plasti več nevronov, so njihove uteži porazdeljene po vrsticah matrik uteži $\\mathbf{W}$, njihove pristranskosti pa v stolpčnih vektorjih $\\mathbf{b}$.\n",
        "\n",
        "Izhodne podatke omrežja dobimo z obdelavo vhodnih podatkov po slojih, dokler ne dosežemo izhodnega sloja omrežja.\n",
        "Ta postopek se imenuje **podaja naprej** ali **prehod naprej**.\n",
        "\n",
        "\\* Globoke nevronske mreže imajo več skritih slojev, ki jih bomo obravnavali v naslednjem poglavju.\n",
        "\n",
        "Če na vhod pripeljemo zaporedje $N$ vzorcev vhodnih podatkov $\\mathbf{x}_n$, dobimo:\n",
        "\n",
        "$$\n",
        "    \\mathbf{Y}_h = f_h(\\mathbf{A}_h) = f_h(\\mathbf{W}_h \\mathbf{X}^T + \\mathbf{b}_h) \\, , \\\\\n",
        "    \\mathbf{Y} = f_o(\\mathbf{A}_o) = f_o(\\mathbf{W}_o \\mathbf{Y}_h + \\mathbf{b}_o) \\\\\n",
        "    \\mathbf{Y} = f_o(\\mathbf{W}_o \\cdot f_h(\\mathbf{W}_h \\mathbf{X}^T + \\mathbf{b}_h) + \\mathbf{b}_o) \\, .\n",
        "$$"
      ]
    },
    {
      "cell_type": "markdown",
      "id": "93f8d221",
      "metadata": {
        "id": "93f8d221"
      },
      "source": [
        "## 12.1. Aktivacijske funkcije\n",
        "\n",
        "Da bi lahko za usposabljanje nevronskih mrež uporabili algoritem gradientnega spuščanja (GD), morajo biti vse aktivacijske funkcije (izhodne nelinearnosti) nevronov v mreži in tudi funkcija izgube odvodljive.\n",
        "V nasprotnem primeru ne bi bilo mogoče izračunati odvod za vsak parameter vsakega od nevronov v omrežju.\n",
        "\n",
        "Zato ni mogoče uporabiti izhodne funkcije, npr. prekinitve aktivacije z ostrim pragom:\n",
        "$$\n",
        "   y = f(a) = \\begin{cases}\n",
        "     1 & \\mbox{če } a > 0,5 \\\\\n",
        "     0 & \\mbox{v nasprotnem primeru}\n",
        "     \\end{cases} \\, .\n",
        "$$\n",
        "\n",
        "V ta namen se uporablja več zveznih (diferenciranih) funkcij.\n",
        "V nevronski mreži so izhodne nelinearnosti nevronov v skritem in izhodnem sloju običajno različne, zato jih bomo obravnavali ločeno."
      ]
    },
    {
      "cell_type": "markdown",
      "id": "3bc81127",
      "metadata": {
        "id": "3bc81127"
      },
      "source": [
        "### Aktivacijske funkcije v skritih plasteh\n",
        "\n",
        "Tipične izbire nelinearnosti v skritem sloju so:\n",
        "\n",
        "   - **sigmoidna funkcija** - z izhodom v območju 0-1\n",
        "\n",
        "$$\n",
        "\\sigma(a) = \\frac{1}{1+e^{-a}}\n",
        "$$\n",
        "\n",
        "   - **hiperbolični tangens** - z izhodom v območju od -1 do 1 in\n",
        "   \n",
        "$$\n",
        "\\tanh(a) = \\frac{e^{2a} - 1}{e^{2a} + 1}\n",
        "$$\n",
        "\n",
        "   - **polvalovni usmernik**\n",
        "$$\n",
        "ReLU(a) = \\begin{cases}\n",
        "     a & \\mbox{if } a > 0 \\\\\n",
        "     0 & \\mbox{v nasprotnem primeru}\n",
        "\\end{cases}\n",
        "$$\n",
        "\n",
        "Polvalovni usmernik ima številne prednosti, med drugim: enostavnejši izračun izhoda nevronov, boljše širjenje gradienta v procesu učenja ter redkost aktivacije nevronov - pri naključni inicializaciji uteži bo polovica nevronov dala 0.\n",
        "Zato se pogosto uporablja v skritih plasteh nevronskih mrež.\n",
        "\n",
        "Druga motivacija za uporabo te nelinearnosti je asimetrija glede na os $y$, ki je analogna načinu delovanja bioloških nevronov.\n",
        "\n",
        "Prikažimo te izhodne nelinearnosti s programom Python."
      ]
    },
    {
      "cell_type": "markdown",
      "id": "f7fcef86",
      "metadata": {
        "id": "f7fcef86"
      },
      "source": [
        "### Aktivacijske funkcije v skritih plasteh\n",
        "\n",
        "Tipične izbire nelinearnosti v skritem sloju so:\n",
        "\n",
        "   - **sigmoidna funkcija** - z izhodom v območju 0-1\n",
        "\n",
        "$$\n",
        "\\sigma(a) = \\frac{1}{1+e^{-a}}\n",
        "$$\n",
        "\n",
        "   - **hiperbolični tangens** - z izhodom v območju od -1 do 1 in\n",
        "   \n",
        "$$\n",
        "\\tanh(a) = \\frac{e^{2a} - 1}{e^{2a} + 1}\n",
        "$$\n",
        "\n",
        "   - **polvalovni usmernik (ReLu)**\n",
        "$$\n",
        "ReLU(a) = \\begin{cases}\n",
        "     a & \\mbox{if } a > 0 \\\\\n",
        "     0 & \\mbox{v nasprotnem primeru}\n",
        "\\end{cases}\n",
        "$$\n",
        "\n",
        "Polvalovni usmernik ima številne prednosti, med drugim: enostavnejši izračun izhoda nevronov, boljše širjenje gradienta v procesu učenja ter redkost aktivacije nevronov - pri naključni inicializaciji uteži bo polovica nevronov dala 0.\n",
        "Zato se pogosto uporablja v skritih plasteh nevronskih mrež.\n",
        "\n",
        "Druga motivacija za uporabo te nelinearnosti je asimetrija glede na os $y$, ki je analogna načinu delovanja bioloških nevronov.\n",
        "\n",
        "Prikažimo te izhodne nelinearnosti s programom Python."
      ]
    },
    {
      "cell_type": "code",
      "execution_count": null,
      "id": "593ef458",
      "metadata": {
        "id": "593ef458",
        "outputId": "d4889c6d-d5ac-4bfb-f668-71026af6ab87"
      },
      "outputs": [
        {
          "data": {
            "text/plain": [
              "Text(0, 0.5, 'Izhodna funkcija')"
            ]
          },
          "execution_count": 2,
          "metadata": {},
          "output_type": "execute_result"
        },
        {
          "data": {
            "image/png": "[encoded data removed]",
            "text/plain": [
              "<Figure size 432x288 with 1 Axes>"
            ]
          },
          "metadata": {
            "needs_background": "light"
          },
          "output_type": "display_data"
        }
      ],
      "source": [
        "import numpy as np\n",
        "from matplotlib import pyplot as plt\n",
        "\n",
        "a = np.linspace(-3, 3, 100)\n",
        "y_sigmoid = 1 / (1 + np.exp(-a))\n",
        "y_tanh = (np.exp(2 * a) - 1) / (np.exp(2 * a) + 1)\n",
        "y_relu = a.copy() \n",
        "y_relu[a < 0] = 0 \n",
        "plt.plot(a, y_sigmoid, lw=2, alpha=0.7)\n",
        "plt.plot(a, y_tanh, lw=2, alpha=0.7)\n",
        "plt.plot(a, y_relu, lw=2, alpha=0.7)\n",
        "plt.axis([-3.1, 3.1, -2.1, 2.1])\n",
        "plt.grid(True)\n",
        "plt.legend([\"sigmoid\", \"tanh\", \"ReLU\"])\n",
        "plt.xlabel(\"Aktivacija\")\n",
        "plt.ylabel(\"Izhodna funkcija\")"
      ]
    },
    {
      "cell_type": "markdown",
      "id": "11548ca5",
      "metadata": {
        "id": "11548ca5"
      },
      "source": [
        "#### Aktivacijske funkcije v izhodnem sloju\n",
        "\n",
        "Za nevrone v izhodnem sloju se običajno uporabljajo:\n",
        "\n",
        "   - **sigmoidna funkcija**  za klasifikacijo,\n",
        "   - **softmax funkcija** - za klasifikacijo z več izhodnimi razredi $J$:\n",
        "\n",
        "$$\n",
        "f(a_j) = \\frac{e^{a_j}}{\\sum_{j=0}^{J-1} e^{a_j}} \\, ,\n",
        "$$\n",
        "\n",
        "kjer je $a_j$ aktivacija nevrona, ki ustreza razredu $j$; funkcija softmax normalizira vsoto izhodov vseh izhodnih nevronov, zato si jo lahko predstavljamo kot približek verjetnosti vsakega razreda $f(a_j) \\approx P(y = j \\mid \\mathbf{a})$,\n",
        "\n",
        "   - **linearna funkcij** - v regresijskih modelih\n",
        "\n",
        "$$\n",
        "f(a) = a\n",
        "$$"
      ]
    },
    {
      "cell_type": "markdown",
      "id": "9795e1f3",
      "metadata": {
        "id": "9795e1f3"
      },
      "source": [
        "## 12.2. Funkcija izgube\n",
        "\n",
        "Izbira nelinearnosti v izhodnem sloju bo določila izbiro funkcije izgube mreže.\n",
        "Nekatere funkcije izgub imajo ugodnejše lastnosti za nekatere izhodne nelinearnosti v primerjavi z drugimi.\n",
        "\n",
        "Običajno se uporabljajo naslednje funkcije izgube:\n",
        "\n",
        "   - **srednja kvadratna napaka** - osnovna funkcija napake za regresijo in binarno klasifikacijo,\n",
        "\n",
        "$$\n",
        "MSE = \\frac{1}{N} \\sum_{n=0}^{N-1} (y - \\tilde{y})^2\n",
        "$$\n",
        "\n",
        "   - **križna entropija** - ima izpeljanko z boljšimi značilnostmi v klasifikacijskih modelih, pri katerih je izhodna nelinearnost sigmoida,\n",
        "\n",
        "$$\n",
        "CE = - \\frac{1}{N} \\sum_{n=0}^{N-1} y \\ln \\tilde{y} + (1-y) \\ln(1-\\tilde{y})\n",
        "$$\n",
        "   - **log-podobnost** - v modelih z izhodno funkcijo softmax.\n",
        "\n",
        "$$\n",
        "LL = - \\ln \\tilde{y}\n",
        "$$"
      ]
    },
    {
      "cell_type": "markdown",
      "id": "634d3eb1",
      "metadata": {
        "id": "634d3eb1"
      },
      "source": [
        "## 12.3. Učenje plitvih nevronskih mrež\n",
        "\n",
        "Kot smo povedali v prejšnjem poglavju, nevronske mreže običajno učimo z algoritmom **gradientnega spuščanja (GD)**."
      ]
    },
    {
      "cell_type": "markdown",
      "id": "d4fe2bf8",
      "metadata": {
        "id": "d4fe2bf8"
      },
      "source": [
        "Kot je omenjeno v poglavju 11., se v plitvih in globokih nevronskih mrežah izračun gradienta za nastavitev parametrov $\\theta$ začne z izračunom gradientov za izhodni sloj in se nato vrne skozi (vse) skrite plasti. \n",
        "Zaradi tega se ta postopek imenuje **sestopanje**.\n",
        "\n",
        "\\* Postopek sestopanje gradientov je bolj izrazit v globokih nevronskih mrežah, ki imajo več skritih slojev.\n",
        "\n",
        "Za izračun delnega derivata glede na vsak parameter omrežja se uporablja **verižno pravilo** iz kalkulacije:\n",
        "$$\n",
        "   \\frac{\\partial \\mathcal{L}}{\\partial \\theta_l} =\n",
        "   \\frac{\\partial \\mathcal{L}}{\\partial \\tilde{y}}\n",
        "   \\cdot \\frac{\\partial \\tilde{y}}{\\partial y_{L-2}}\n",
        "   \\, \\cdots \\, \\frac{\\partial y_{l+1}}{\\partial \\theta_{l+1}}\n",
        "   \\cdot \\frac{\\partial y_{l}}{\\partial \\theta_{l}}\n",
        "   \\, ,\n",
        "$$\n",
        "\n",
        "kjer je $y_l$ izhod $l$-tega sloja mreže, $L$ pa je skupno število slojev."
      ]
    },
    {
      "cell_type": "markdown",
      "id": "d57f1c2c",
      "metadata": {
        "id": "d57f1c2c"
      },
      "source": [
        "#### Inicializacija parametrov omrežja\n",
        "\n",
        "Običajno se začetne vrednosti parametrov omrežja določijo naključno med njegovo inicializacijo. \n",
        "Zavedati se moramo, da bo natančna vrednost parametrov vplivala na proces učenja. \n",
        "Če torej predpostavimo, da je funkcija izgube $\\mathcal{L}$ odvisna od parametra $\\theta$, kot je prikazano na sliki 2, lahko vidimo, da bi bilo učenje omrežja hitrejše, če bi bila začetna vrednost $\\theta$ bližje minimumu $\\mathcal{L}$, npr. v položaju $\\theta_B$ ali $\\theta_C$ namesto $\\theta_A$. \n",
        "Seveda ne vemo, kje je minimum $\\mathcal{L}$, vendar je lahko koristno opraviti več postopkov učenja istega omrežja z različnimi začetnimi vrednostmi parametrov."
      ]
    },
    {
      "cell_type": "markdown",
      "id": "8856df30",
      "metadata": {
        "id": "8856df30"
      },
      "source": [
        "<img align=\"middle\" alt=\"Gradient descend start positions\" src=\"https://raw.githubusercontent.com/VALENCEML/eBOOK/main/EN/12/12_gradient_descend_start.png\" width=\"600px\" style=\"display:block; margin-left: auto; margin-right: auto;\">"
      ]
    },
    {
      "cell_type": "markdown",
      "id": "e5cdb2e8",
      "metadata": {
        "id": "e5cdb2e8"
      },
      "source": [
        "**Slika 2.** Izbira začetne vrednosti parametra $\\theta$."
      ]
    },
    {
      "cell_type": "markdown",
      "id": "4cd4e8fa",
      "metadata": {
        "id": "4cd4e8fa"
      },
      "source": [
        "Problem izbire začetne točke je še večji, če je funkcija izgube $\\mathcal{L}$ bolj kompleksno odvisna od parametra $\\theta$, kot na sliki 3. Takrat je izbira začetne vrednosti $\\theta$ lahko ključna za optimalno usposabljanje mreže. Izmed treh ponujenih začetnih vrednosti lahko le z vrednostjo $\\theta_C$ dosežemo optimalno vrednost $\\theta$, za katero ima $\\mathcal{L}$ najmanjšo vrednost, imenovano **globalni minimum**, s pomočjo gradientnega spuščanja. Če začnemo z $\\theta_B$ ali $\\theta_A$, se bo postopek usposabljanja končal z vrednostmi $\\theta$, za katere ima vrednost $\\mathcal{L}$ **lokalni minimum**.\n",
        "\n",
        "\\* Upoštevajte, da je $\\theta_B$ bližje globalnemu minimumu kot $\\theta_C$!"
      ]
    },
    {
      "cell_type": "markdown",
      "id": "fdfbb911",
      "metadata": {
        "id": "fdfbb911"
      },
      "source": [
        "<img align=\"middle\" alt=\"Gradient descend global and local minimum\" src=\"https://raw.githubusercontent.com/VALENCEML/eBOOK/main/EN/12/12_gradient_descend_start_global_local.png\" width=\"600px\" style=\"display:block; margin-left: auto; margin-right: auto;\">"
      ]
    },
    {
      "cell_type": "markdown",
      "id": "2df53b51",
      "metadata": {
        "id": "2df53b51"
      },
      "source": [
        "**Slika 3.** Primer začetnih vrednosti parametra $\\theta$ s kompleksnejšo funkcijo izgube."
      ]
    },
    {
      "cell_type": "markdown",
      "id": "e7b8d191",
      "metadata": {
        "id": "e7b8d191"
      },
      "source": [
        "### Stopnja učenja\n",
        "\n",
        "Pri uporabi GD je stopnja učenja eden najpomembnejših parametrov pri usposabljanju nevronske mreže.\n",
        "Če je prevelik, lahko optimizacija zgreši minimum funkcije napake, če pa je premajhen, bo algoritem potreboval veliko iteracij, da dokonča usposabljanje."
      ]
    },
    {
      "cell_type": "markdown",
      "id": "f0debd8b",
      "metadata": {
        "id": "f0debd8b"
      },
      "source": [
        "<img align=\"middle\" alt=\"Gradient descend large learning rate\" src=\"https://raw.githubusercontent.com/VALENCEML/eBOOK/main/EN/12/12_gradient_descend_large_rate.png\" width=\"600px\" style=\"display:block; margin-left: auto; margin-right: auto;\">"
      ]
    },
    {
      "cell_type": "markdown",
      "id": "dbd6d3f8",
      "metadata": {
        "id": "dbd6d3f8"
      },
      "source": [
        "<img align=\"middle\" alt=\"Gradient descend small learning rate\"  src=\"https://raw.githubusercontent.com/VALENCEML/eBOOK/main/EN/12/12_gradient_descend_small_rate.png\" width=\"600px\" style=\"display:block; margin-left: auto; margin-right: auto;\">"
      ]
    },
    {
      "cell_type": "markdown",
      "id": "fcfefced",
      "metadata": {
        "id": "fcfefced"
      },
      "source": [
        "**Slika 4.** Ilustracija vpliva koraka učenja na postopek usposabljanja: če je korak velik, se bo omrežje hitro približalo minimumu funkcije izgube, vendar ga ne bo moglo doseči; če je korak majhen, lahko omrežje doseže minimum, vendar bo za usposabljanje potrebno večje število iteracij."
      ]
    },
    {
      "cell_type": "markdown",
      "id": "8b0b0618",
      "metadata": {
        "id": "8b0b0618"
      },
      "source": [
        "Za optimizacijo procesa učenja se običajno uporablja **razporeditev stopnje učenja**.\n",
        "\n",
        "Ena od preprostih strategij je uporaba večje stopnje učenja na začetku učenja, ko omrežje ne ve ničesar o problemu, da bi hitreje napredovalo.\n",
        "Nato se ta sprva velika stopnja postopoma zmanjša, da se lahko usposabljanje približa minimumu funkcije izgube.\n",
        "\n",
        "Obstajajo tudi naprednejši algoritmi, kot je **Adam**, ki se pogosto uporablja pri usposabljanju nevronskih mrež. Pri prilagajanju koraka učenja upošteva prvi in drugi moment, tj. hitrost in pospešek spremembe gradienta glede na prejšnje iteracije.\n",
        "\n",
        "Ena glavnih težav pri usposabljanju nevronskih mrež je možnost, da proces obtiči v lokalnem minimumu na račun izpuščanja globalnega minimuma.\n",
        "To je bolj izrazito pri manjših nevronskih mrežah.\n",
        "To težavo lahko rešimo tako, da po določenem številu iteracij učni korak ponovno inicializiramo na začetno veliko vrednost."
      ]
    },
    {
      "cell_type": "markdown",
      "id": "97bb76c4",
      "metadata": {
        "id": "97bb76c4"
      },
      "source": [
        "#### Razdelitev testne množice na serije\n",
        "\n",
        "Pri učenju nevronskih mrež so nabori podatkov običajno veliki in jih ni mogoče shraniti v delovni pomnilnik, zato je treba med usposabljanjem podatke razdeliti na dele.\n",
        "\n",
        "Ena skrajnost je optimizacija parametrov mreže z gradientom, izračunanim za vsakega od vzorcev iz učne množice posebej.\n",
        "Ta različica algoritma GD se imenuje **stohastični gradientni spust**.\n",
        "Prehod celotne učne množice se imenuje **epoh**.\n",
        "Naključnost vhodnih vzorcev se izvede tako, da se pred vsakim epohom naključno premeša nabor podatkov, čemur sledi zaporedno vzorčenje.\n",
        "\n",
        "Vendar izračun gradienta na vzorec ne zagotavlja dobre ocene pravega gradienta funkcije izgube.\n",
        "Rešitev je, da se za izračun gradienta in posodobitev parametrov uporabi naključno izbrana podmnožica ali **skupina** vzorcev iz učne množice.\n",
        "Ta različica algoritma GD se imenuje **sklopni gradientni spust (BGD)*** in **mini sklopni gradientni spust (MBGD)**.\n",
        "\n",
        "\\* Tehnično je med MBGD in BGD razlika - pri MBGD se parametri posodobijo za vsako serijo, pri BGD pa se to stori po prehodu skozi celotno učno množico.\n",
        "\n",
        "Skoraj vedno se za učenje nevronskih mrež in drugih algoritmov strojnega učenja uporablja algoritem MBGD, vendar pod imenom SGD."
      ]
    },
    {
      "cell_type": "markdown",
      "id": "dce6ada2",
      "metadata": {
        "id": "dce6ada2"
      },
      "source": [
        "## 12.4. Regularizacija nevronskih mrež\n",
        "\n",
        "Pri usposabljanju nevronskih mrež obstaja nevarnost, da se parametri nevronske mreže **preveč prilagodijo**.\n",
        "To se zgodi, ko se omrežje preveč prilagodi na učno množico, zaradi česar se njegova učinkovitost na testni množici poslabša.\n",
        "Zato je treba v postopku usposabljanja kaznovati pretirano prilagajanje.\n",
        "To se imenuje **regularizacija**.\n",
        "\n",
        "Ker pri pretiranem prilagajanju parametri omrežja dobijo izjemno visoke vrednosti, je eden od načinov za regularizacijo ta, da v funkcijo izgube vključimo izraz, ki to kaznuje.\n",
        "To storimo tako, da uvedemo normo $L^2$ parametrov modela $\\theta$.\n",
        "Na primer, če kot primer uporabimo srednjo kvadratno napako, bi imeli:\n",
        "\n",
        "$$\n",
        "   L(y, \\tilde{y}, \\theta) = L(y, \\tilde{y}) + \\lambda \\sum_{l=0}^{L-1} (\\mathbf{W}_l^T \\mathbf{W}_l + \\mathbf{b}_l^T \\mathbf{b}_l) \\, ,\n",
        "$$\n",
        "\n",
        "kjer je $\\lambda$ **koeficient regulacije**, $\\mathbf{W}_l^T \\mathbf{W}_l$ in $\\mathbf{b}_l^T \\mathbf{b}_l$ pa sta vsote vseh kvadratov parametrov nevronov plasti $l$."
      ]
    },
    {
      "cell_type": "markdown",
      "id": "0aed78d4",
      "metadata": {
        "id": "0aed78d4"
      },
      "source": [
        "## 12.3. Regresija s plitko nevronsko mrežo\n",
        "\n",
        "Izdelajmo nevronsko mrežo za napovedovanje izhoda sinusne funkcije za vhodne podatke, ki niso del učnega niza.\n",
        "Za delo z nevronskimi mrežami bomo uporabljali paket `scikit-learn`."
      ]
    },
    {
      "cell_type": "code",
      "execution_count": null,
      "id": "d4a03710",
      "metadata": {
        "id": "d4a03710"
      },
      "outputs": [],
      "source": [
        "import numpy as np\n",
        "from matplotlib import pyplot as plt\n",
        "from sklearn import neural_network"
      ]
    },
    {
      "cell_type": "markdown",
      "id": "bcfc0d02",
      "metadata": {
        "id": "bcfc0d02"
      },
      "source": [
        "Najprej ustvarimo učno množico.\n",
        "Vzamemo 10 enakomerno razporejenih vrednosti v intervalu od 0 do 2$\\pi$ in zanje izračunamo sinusno vrednost.\n",
        "Poleg sinusne funkcije bomo dodali še beli šum."
      ]
    },
    {
      "cell_type": "code",
      "execution_count": null,
      "id": "121262a8",
      "metadata": {
        "id": "121262a8"
      },
      "outputs": [],
      "source": [
        "xs = np.linspace(0, 2 * np.pi, 10)\n",
        "np.random.seed(42)\n",
        "ys = np.sin(xs) + np.random.normal(size=xs.size) * 0.2"
      ]
    },
    {
      "cell_type": "markdown",
      "id": "f0f5c303",
      "metadata": {
        "id": "f0f5c303"
      },
      "source": [
        "Pokažimo nastali učni niz in sinusno funkcijo, ki bo predstavljala ciljno funkcijo, ki se je želimo naučiti."
      ]
    },
    {
      "cell_type": "code",
      "execution_count": null,
      "id": "202e3a40",
      "metadata": {
        "id": "202e3a40",
        "outputId": "52b2b393-a722-4d1b-bcd8-36cbe39c5d67"
      },
      "outputs": [
        {
          "data": {
            "image/png": "[encoded data removed]",
            "text/plain": [
              "<Figure size 432x288 with 1 Axes>"
            ]
          },
          "metadata": {
            "needs_background": "light"
          },
          "output_type": "display_data"
        }
      ],
      "source": [
        "x_axis = np.linspace(-.1, 2 * np.pi + .1, 100)\n",
        "y_sin = np.sin(x_axis)\n",
        "\n",
        "xs = np.expand_dims(xs, 1)\n",
        "x_axis = np.expand_dims(x_axis, 1)\n",
        "\n",
        "plt.figure()\n",
        "plt.scatter(xs, ys)\n",
        "plt.plot(x_axis, y_sin, ':', lw=4, alpha=0.2)\n",
        "plt.grid()"
      ]
    },
    {
      "cell_type": "markdown",
      "id": "5d50fd00",
      "metadata": {
        "id": "5d50fd00"
      },
      "source": [
        "Inicializirajmo nevronsko mrežo z razredom `MLPRegressor`, ki bo ustvaril nevronsko mrežo z linearno izhodno funkcijo v nevronu izhodne plasti."
      ]
    },
    {
      "cell_type": "code",
      "execution_count": null,
      "id": "cd2d1270",
      "metadata": {
        "id": "cd2d1270"
      },
      "outputs": [],
      "source": [
        "reg = neural_network.MLPRegressor(\n",
        "    hidden_layer_sizes=(5),\n",
        "    activation=\"tanh\",\n",
        "    solver=\"adam\",\n",
        "    alpha=0.0001,\n",
        "    batch_size=\"auto\",\n",
        "    learning_rate_init=0.01,\n",
        "    max_iter=50,\n",
        "    tol=1e-4,\n",
        "    early_stopping=False,\n",
        "    random_state=42,\n",
        "    verbose=True,    \n",
        "    )"
      ]
    },
    {
      "cell_type": "markdown",
      "id": "6bc53c53",
      "metadata": {
        "id": "6bc53c53"
      },
      "source": [
        "Z vhodnimi parametri določimo naslednje vrednosti:\n",
        "- `hidden_layer_sizes` - število nevronov v skritem sloju mreže,\n",
        "- `activation` - izbira nelinearnosti izhoda nevronov v skritem sloju mreže,\n",
        "- `solver` - izbira učnega algoritma\n",
        "- `alpha` - koeficient regularizacije $L^2$, ki smo ga zgoraj označili z $\\lambda$,\n",
        "- `batch_size` - velikost serije,\n",
        "- `learning_rate_init` - začetna vrednost stopnje učenja\n",
        "- `max_iter` - največje število epoh učenja omrežja,\n",
        "- `tol` - če se izguba v 10 epohah spremeni manj, kot je ta tolerančni prag, se učenje ustavi, čeprav največje število epoh še ni doseženo,\n",
        "- `early_stopping` - parameter, ki omogoča zgodnjo prekinitev usposabljanja, če začnejo naraščati izgube, izračunane na podmnožici za preverjanje, ki se samodejno naključno loči od učne množice,\n",
        "- `random_state` - nastavitev generatorja naključnih števil, da se med naključno inicializacijo pridobijo enaki parametri omrežja,\n",
        "- `verbose` - stopnja podrobnosti, ki se izpiše v postopku usposabljanja omrežja.\n",
        "\n",
        "Vsi ti argumenti, ki opisujejo arhitekturo omrežja in nadzorujejo postopek usposabljanja, so znani kot **hiperparametri** in se razlikujejo od dejanskih **parametrov** nevronov v omrežju - slednji se v postopku učenja posodabljajo, prvi pa ne.\n",
        "\n",
        "Če si želimo ogledati vse razpoložljive nastavitve nevronske mreže in več podrobnosti o vsaki od njih, lahko vnesemo `neural_network.MLPRegressor?`"
      ]
    },
    {
      "cell_type": "markdown",
      "id": "897f45b9",
      "metadata": {
        "id": "897f45b9"
      },
      "source": [
        "Ko smo omrežje inicializirali, ga lahko treniramo z naslednjim ukazom:"
      ]
    },
    {
      "cell_type": "code",
      "execution_count": null,
      "id": "b1f84212",
      "metadata": {
        "id": "b1f84212",
        "outputId": "3c3f660a-e93b-4dd3-fc4e-5278e4a4e437"
      },
      "outputs": [
        {
          "name": "stdout",
          "output_type": "stream",
          "text": [
            "Iteration 1, loss = 1.79730213\n",
            "Iteration 2, loss = 1.69205954\n",
            "Iteration 3, loss = 1.59169986\n",
            "Iteration 4, loss = 1.49621502\n",
            "Iteration 5, loss = 1.40556850\n",
            "Iteration 6, loss = 1.31969700\n",
            "Iteration 7, loss = 1.23851098\n",
            "Iteration 8, loss = 1.16189426\n",
            "Iteration 9, loss = 1.08970298\n",
            "Iteration 10, loss = 1.02176477\n",
            "Iteration 11, loss = 0.95787993\n",
            "Iteration 12, loss = 0.89782678\n",
            "Iteration 13, loss = 0.84137310\n",
            "Iteration 14, loss = 0.78829203\n",
            "Iteration 15, loss = 0.73837773\n",
            "Iteration 16, loss = 0.69145581\n",
            "Iteration 17, loss = 0.64738671\n",
            "Iteration 18, loss = 0.60606433\n",
            "Iteration 19, loss = 0.56741246\n",
            "Iteration 20, loss = 0.53138080\n",
            "Iteration 21, loss = 0.49794070\n",
            "Iteration 22, loss = 0.46707996\n",
            "Iteration 23, loss = 0.43879543\n",
            "Iteration 24, loss = 0.41308237\n",
            "Iteration 25, loss = 0.38992005\n",
            "Iteration 26, loss = 0.36925447\n",
            "Iteration 27, loss = 0.35098048\n",
            "Iteration 28, loss = 0.33492811\n",
            "Iteration 29, loss = 0.32085881\n",
            "Iteration 30, loss = 0.30847557\n",
            "Iteration 31, loss = 0.29744608\n",
            "Iteration 32, loss = 0.28743256\n",
            "Iteration 33, loss = 0.27811973\n",
            "Iteration 34, loss = 0.26923529\n",
            "Iteration 35, loss = 0.26056173\n",
            "Iteration 36, loss = 0.25194070\n",
            "Iteration 37, loss = 0.24327205\n",
            "Iteration 38, loss = 0.23450905\n",
            "Iteration 39, loss = 0.22565115\n",
            "Iteration 40, loss = 0.21673529\n",
            "Iteration 41, loss = 0.20782640\n",
            "Iteration 42, loss = 0.19900791\n",
            "Iteration 43, loss = 0.19037268\n",
            "Iteration 44, loss = 0.18201478\n",
            "Iteration 45, loss = 0.17402239\n",
            "Iteration 46, loss = 0.16647195\n",
            "Iteration 47, loss = 0.15942381\n",
            "Iteration 48, loss = 0.15291934\n",
            "Iteration 49, loss = 0.14697958\n",
            "Iteration 50, loss = 0.14160532\n"
          ]
        },
        {
          "name": "stderr",
          "output_type": "stream",
          "text": [
            "C:\\Users\\ziga\\anaconda3\\lib\\site-packages\\sklearn\\neural_network\\_multilayer_perceptron.py:614: ConvergenceWarning: Stochastic Optimizer: Maximum iterations (50) reached and the optimization hasn't converged yet.\n",
            "  warnings.warn(\n"
          ]
        },
        {
          "data": {
            "text/plain": [
              "MLPRegressor(activation='tanh', hidden_layer_sizes=5, learning_rate_init=0.01,\n",
              "             max_iter=50, random_state=42, verbose=True)"
            ]
          },
          "execution_count": 7,
          "metadata": {},
          "output_type": "execute_result"
        }
      ],
      "source": [
        "reg.fit(xs, ys)"
      ]
    },
    {
      "cell_type": "markdown",
      "id": "9669071b",
      "metadata": {
        "id": "9669071b"
      },
      "source": [
        "Iz izpisa je razvidno, da usposabljanje ni konvergiralo, kar pomeni, da se je izguba še vedno zmanjševala, preden se je učenje ustavilo zaradi doseganja največjega števila epoh. Z drugimi besedami, naše omrežje je **neprilagojeno**.\n",
        "\n",
        "Zdaj lahko uporabimo naučeno mrežo za napovedovanje vrednosti naučene funkcije:"
      ]
    },
    {
      "cell_type": "code",
      "execution_count": null,
      "id": "8c63b1c6",
      "metadata": {
        "id": "8c63b1c6"
      },
      "outputs": [],
      "source": [
        "y_pred_under = reg.predict(x_axis)"
      ]
    },
    {
      "cell_type": "markdown",
      "id": "c2ea3d56",
      "metadata": {
        "id": "c2ea3d56"
      },
      "source": [
        "In prikažemo rezultate:"
      ]
    },
    {
      "cell_type": "code",
      "execution_count": null,
      "id": "8c77bbdd",
      "metadata": {
        "id": "8c77bbdd",
        "outputId": "6d589659-9091-418e-ce91-a8a98cd3dfe0"
      },
      "outputs": [
        {
          "data": {
            "image/png": "[encoded data removed]",
            "text/plain": [
              "<Figure size 432x288 with 1 Axes>"
            ]
          },
          "metadata": {
            "needs_background": "light"
          },
          "output_type": "display_data"
        }
      ],
      "source": [
        "# %% plot results\n",
        "plt.figure()\n",
        "plt.scatter(xs, ys, c='k')\n",
        "plt.plot(x_axis, y_sin, ':', lw=4, alpha=0.2)\n",
        "plt.plot(x_axis, y_pred_under)\n",
        "plt.grid()\n",
        "plt.tight_layout()"
      ]
    },
    {
      "cell_type": "markdown",
      "id": "cf36df46",
      "metadata": {
        "id": "cf36df46"
      },
      "source": [
        "Vidimo, da jemreža razmeroma dobro opisala točke učne množice, vendar se ni naučila ciljne funkcije.\n",
        "\n",
        "Da bi omrežje ponovno usposobili, ga bomo inicializirali z novimi parametri in ponovno izvedli učenje."
      ]
    },
    {
      "cell_type": "code",
      "execution_count": null,
      "id": "5b0909df",
      "metadata": {
        "id": "5b0909df",
        "outputId": "327b93c8-cbe6-463c-ed93-2d3b28efc8ec"
      },
      "outputs": [
        {
          "data": {
            "text/plain": [
              "MLPRegressor(activation='tanh', hidden_layer_sizes=5, learning_rate_init=0.01,\n",
              "             max_iter=500, random_state=42)"
            ]
          },
          "execution_count": 10,
          "metadata": {},
          "output_type": "execute_result"
        }
      ],
      "source": [
        "reg = neural_network.MLPRegressor(\n",
        "    hidden_layer_sizes=(5),\n",
        "    activation=\"tanh\",\n",
        "    alpha=0.0001,\n",
        "    learning_rate_init=0.01,\n",
        "    max_iter=500,\n",
        "    tol=1e-4,\n",
        "    random_state=42,\n",
        "    )\n",
        "reg.fit(xs, ys)"
      ]
    },
    {
      "cell_type": "markdown",
      "id": "ca359c20",
      "metadata": {
        "id": "ca359c20"
      },
      "source": [
        "Vidimo, da se je učenje zdaj končalo. Prikažimo rezultate."
      ]
    },
    {
      "cell_type": "code",
      "execution_count": null,
      "id": "49f3cc2d",
      "metadata": {
        "id": "49f3cc2d",
        "outputId": "2f947160-3334-4bb8-8322-7d7afe311685"
      },
      "outputs": [
        {
          "data": {
            "text/plain": [
              "<matplotlib.legend.Legend at 0x271fbab0700>"
            ]
          },
          "execution_count": 12,
          "metadata": {},
          "output_type": "execute_result"
        },
        {
          "data": {
            "image/png": "[encoded data removed]",
            "text/plain": [
              "<Figure size 432x288 with 1 Axes>"
            ]
          },
          "metadata": {
            "needs_background": "light"
          },
          "output_type": "display_data"
        }
      ],
      "source": [
        "y_pred = reg.predict(x_axis)\n",
        "\n",
        "plt.figure()\n",
        "plt.scatter(xs, ys, c='k')\n",
        "plt.plot(x_axis, y_sin, ':', lw=4, alpha=0.2)\n",
        "plt.plot(x_axis, y_pred_under, label=\"under fitting\")\n",
        "plt.plot(x_axis, y_pred, label=\"converged\")\n",
        "plt.grid()\n",
        "plt.legend()"
      ]
    },
    {
      "cell_type": "markdown",
      "id": "14bd245a",
      "metadata": {
        "id": "14bd245a"
      },
      "source": [
        "Vidimo, da se je omrežje po konvergenci približalo ciljni funkciji.\n",
        "\n",
        "Prikažimo parametre treniranega omrežja:\n",
        "- zadnjo vrednost izgube,\n",
        "- število epoh pri usposabljanju,\n",
        "- uteži nevronov v omrežju in\n",
        "- pristranskosti nevronov v omrežju."
      ]
    },
    {
      "cell_type": "code",
      "execution_count": null,
      "id": "21b0f7ca",
      "metadata": {
        "id": "21b0f7ca",
        "outputId": "75efe50e-89ca-4172-e671-393ca8839157"
      },
      "outputs": [
        {
          "name": "stdout",
          "output_type": "stream",
          "text": [
            "loss 0.05925160789377685\n",
            "epochs 274\n",
            "weights [array([[ 0.45417082,  1.30731649,  0.57117395,  0.35249836, -1.01839051]]), array([[-0.82887394],\n",
            "       [ 0.79547048],\n",
            "       [ 0.51462409],\n",
            "       [-0.86270602],\n",
            "       [-0.46653341]])]\n",
            "biases [array([-0.92192804, -0.58288423,  1.25031575, -0.38712043,  0.04991098]), array([-0.7600417])]\n"
          ]
        }
      ],
      "source": [
        "print(\"loss\", reg.loss_)\n",
        "print(\"epochs\", reg.n_iter_)\n",
        "print(\"weights\", reg.coefs_)\n",
        "print(\"biases\", reg.intercepts_)"
      ]
    },
    {
      "cell_type": "markdown",
      "id": "f27d9894",
      "metadata": {
        "id": "f27d9894"
      },
      "source": [
        "Vidimo, da se je učenje končalo v 274 epohah, končna vrednost izgube pa je bila 0,059. To je manj kot zadnja izguba, ko smo učenje ustavili v 50. epohu (0,14).\n",
        "\n",
        "Izdelajmo tudi graf spremembe izgube med učenjem."
      ]
    },
    {
      "cell_type": "code",
      "execution_count": null,
      "id": "43c08cb5",
      "metadata": {
        "id": "43c08cb5",
        "outputId": "6b722142-ad0f-429f-9b4b-b85443c45dc9"
      },
      "outputs": [
        {
          "data": {
            "image/png": "[encoded data removed]",
            "text/plain": [
              "<Figure size 432x288 with 1 Axes>"
            ]
          },
          "metadata": {
            "needs_background": "light"
          },
          "output_type": "display_data"
        }
      ],
      "source": [
        "plt.plot(reg.loss_curve_)\n",
        "plt.grid()"
      ]
    },
    {
      "cell_type": "markdown",
      "id": "fe6fd08d",
      "metadata": {
        "id": "fe6fd08d"
      },
      "source": [
        "Videli smo že, kako je sprememba enega od hiperparametrov (največje število epoh) vplivala na postopek učenje.\n",
        "\n",
        "Izvedimo nekaj poskusov, da vidimo, kako preostali hiperparametri vplivajo na delovanje dobljene mreže."
      ]
    },
    {
      "cell_type": "markdown",
      "id": "5c575026",
      "metadata": {
        "id": "5c575026"
      },
      "source": [
        "### Poskus 1. Spreminjanje števila nevronov"
      ]
    },
    {
      "cell_type": "code",
      "execution_count": null,
      "id": "9e535f9a",
      "metadata": {
        "id": "9e535f9a",
        "outputId": "d501a32d-01b8-4a04-ed3f-7ce9f9a4fc85"
      },
      "outputs": [
        {
          "data": {
            "text/plain": [
              "<matplotlib.legend.Legend at 0x271fcb73e80>"
            ]
          },
          "execution_count": 16,
          "metadata": {},
          "output_type": "execute_result"
        },
        {
          "data": {
            "image/png": "[encoded data removed]",
            "text/plain": [
              "<Figure size 432x288 with 1 Axes>"
            ]
          },
          "metadata": {
            "needs_background": "light"
          },
          "output_type": "display_data"
        }
      ],
      "source": [
        "plt.figure()\n",
        "plt.scatter(xs, ys)\n",
        "plt.plot(x_axis, y_sin, ':', lw=4, alpha=0.2)\n",
        "plt.grid()\n",
        "for neurons in [1, 2, 5]:\n",
        "    reg = neural_network.MLPRegressor(\n",
        "        hidden_layer_sizes=neurons,\n",
        "        activation=\"tanh\",\n",
        "        alpha=0.0001,\n",
        "        learning_rate_init=0.01,\n",
        "        max_iter=500,\n",
        "        tol=1e-4,\n",
        "        random_state=42,\n",
        "        )\n",
        "    reg.fit(xs, ys)\n",
        "    y_preds = reg.predict(x_axis)\n",
        "    plt.plot(x_axis, y_preds, lw=2, alpha=0.5, label=neurons)\n",
        "\n",
        "plt.legend()"
      ]
    },
    {
      "cell_type": "markdown",
      "id": "db9fe308",
      "metadata": {
        "id": "db9fe308"
      },
      "source": [
        "Vidimo, da z 1 nevronom v skritem sloju na izhodu mreže dobimo njeno izhodno nelinearno funkcijo `tanh`. Že z dvema nevronoma se lahko omrežje nauči funkcije, ki je blizu ciljne. To ponazarja, da mora biti sposobnost modela primerna problemu, ki ga želimo rešiti."
      ]
    },
    {
      "cell_type": "markdown",
      "id": "1a139f4e",
      "metadata": {
        "id": "1a139f4e"
      },
      "source": [
        "### Poskus 2. Spreminjanje hitrosti učenja"
      ]
    },
    {
      "cell_type": "code",
      "execution_count": null,
      "id": "b9823e50",
      "metadata": {
        "id": "b9823e50",
        "outputId": "06e92aa7-458b-41e9-f979-d092678ff937"
      },
      "outputs": [
        {
          "name": "stderr",
          "output_type": "stream",
          "text": [
            "C:\\Users\\ziga\\anaconda3\\lib\\site-packages\\sklearn\\neural_network\\_multilayer_perceptron.py:614: ConvergenceWarning: Stochastic Optimizer: Maximum iterations (500) reached and the optimization hasn't converged yet.\n",
            "  warnings.warn(\n"
          ]
        },
        {
          "data": {
            "text/plain": [
              "<matplotlib.legend.Legend at 0x271fcd83820>"
            ]
          },
          "execution_count": 20,
          "metadata": {},
          "output_type": "execute_result"
        },
        {
          "data": {
            "image/png": "[encoded data removed]",
            "text/plain": [
              "<Figure size 432x288 with 1 Axes>"
            ]
          },
          "metadata": {
            "needs_background": "light"
          },
          "output_type": "display_data"
        }
      ],
      "source": [
        "# %% poskusi različne stopnje učenja\n",
        "plt.figure()\n",
        "plt.scatter(xs, ys)\n",
        "plt.plot(x_axis, y_sin, ':', lw=4, alpha=0.2)\n",
        "plt.grid()\n",
        "for learn in [0.001, 0.01, 0.1, 1]:\n",
        "    reg = neural_network.MLPRegressor(\n",
        "        hidden_layer_sizes=(5),\n",
        "        activation=\"tanh\",\n",
        "        alpha=0.0001,\n",
        "        learning_rate_init=learn,\n",
        "        max_iter=500,\n",
        "        tol=1e-4,\n",
        "        random_state=42,\n",
        "        )\n",
        "    reg.fit(xs, ys)\n",
        "    y_preds = reg.predict(x_axis)\n",
        "    plt.plot(x_axis, y_preds, lw=2, alpha=0.5, label=learn)\n",
        "\n",
        "plt.legend()"
      ]
    },
    {
      "cell_type": "markdown",
      "id": "c32e59d7",
      "metadata": {
        "id": "c32e59d7"
      },
      "source": [
        "Iz grafa je jasno razviden vpliv stopnje učenja na proces učenja. Pri zelo velikih vrednostih (1) lahko vidimo, da je učenje popolnoma neuspešno. Pri vrednostih 0,1 in 0,01 so rezultati boljši. Pri majhnih vrednostih (0,001) vidimo, da učenje ni konvergiralo v enakem številu epoh kot pri večjih vrednostih."
      ]
    },
    {
      "cell_type": "markdown",
      "id": "d3d1b97d",
      "metadata": {
        "id": "d3d1b97d"
      },
      "source": [
        "### Poskus 3. Spreminjanje začetne faze učenja"
      ]
    },
    {
      "cell_type": "code",
      "execution_count": null,
      "id": "a64c7dbd",
      "metadata": {
        "id": "a64c7dbd",
        "outputId": "8f0d6f3d-d0f8-4ae9-c71c-e43b17ba015a"
      },
      "outputs": [
        {
          "data": {
            "text/plain": [
              "<matplotlib.legend.Legend at 0x271fcd03820>"
            ]
          },
          "execution_count": 19,
          "metadata": {},
          "output_type": "execute_result"
        },
        {
          "data": {
            "image/png": "[encoded data removed]",
            "text/plain": [
              "<Figure size 432x288 with 1 Axes>"
            ]
          },
          "metadata": {
            "needs_background": "light"
          },
          "output_type": "display_data"
        }
      ],
      "source": [
        "# %% poskusi različne začetne točke\n",
        "plt.figure()\n",
        "plt.scatter(xs, ys)\n",
        "plt.plot(x_axis, y_sin, ':', lw=4, alpha=0.2)\n",
        "plt.grid()\n",
        "for seed in [1, 10, 42, 100]:\n",
        "    reg = neural_network.MLPRegressor(\n",
        "        hidden_layer_sizes=(5),\n",
        "        activation=\"tanh\",\n",
        "        alpha=0.0001,\n",
        "        learning_rate_init=0.01,\n",
        "        max_iter=500,\n",
        "        tol=1e-4,\n",
        "        random_state=seed,\n",
        "        )\n",
        "    reg.fit(xs, ys)\n",
        "    y_preds = reg.predict(x_axis)\n",
        "    plt.plot(x_axis, y_preds, lw=2, alpha=0.5, label=seed)\n",
        "\n",
        "plt.legend()"
      ]
    },
    {
      "cell_type": "markdown",
      "id": "ed3868bb",
      "metadata": {
        "id": "ed3868bb"
      },
      "source": [
        "Vidimo, da začetna točka dejansko vpliva na končni rezultat postopka učenja."
      ]
    },
    {
      "cell_type": "markdown",
      "id": "312358d3",
      "metadata": {
        "id": "312358d3"
      },
      "source": [
        "### Poskus 4. Regularizacija"
      ]
    },
    {
      "cell_type": "markdown",
      "id": "74b75bc4",
      "metadata": {
        "id": "74b75bc4"
      },
      "source": [
        "Za ponazoritev potrebe po regularizaciji omrežja poglejmo, kaj se zgodi, če zmanjšamo toleranco ustavljanja in povečamo največje število epoh."
      ]
    },
    {
      "cell_type": "code",
      "execution_count": null,
      "id": "790c2e95",
      "metadata": {
        "id": "790c2e95",
        "outputId": "07c2e13e-c51d-4920-c5ef-701931afa902"
      },
      "outputs": [
        {
          "data": {
            "text/plain": [
              "MLPRegressor(activation='tanh', hidden_layer_sizes=5, learning_rate_init=0.01,\n",
              "             max_iter=5000, random_state=42, tol=1e-09)"
            ]
          },
          "execution_count": 22,
          "metadata": {},
          "output_type": "execute_result"
        }
      ],
      "source": [
        "reg = neural_network.MLPRegressor(\n",
        "    hidden_layer_sizes=(5),\n",
        "    activation=\"tanh\",\n",
        "    alpha=0.0001,\n",
        "    learning_rate_init=0.01,\n",
        "    max_iter=5000,\n",
        "    tol=1e-9,\n",
        "    random_state=42,\n",
        "    )\n",
        "reg.fit(xs, ys)"
      ]
    },
    {
      "cell_type": "code",
      "execution_count": null,
      "id": "23e92a15",
      "metadata": {
        "id": "23e92a15",
        "outputId": "cdb5c2bc-0370-406a-ab60-e3b01adedb97"
      },
      "outputs": [
        {
          "data": {
            "text/plain": [
              "<matplotlib.legend.Legend at 0x271fcb32a00>"
            ]
          },
          "execution_count": 26,
          "metadata": {},
          "output_type": "execute_result"
        },
        {
          "data": {
            "image/png": "[encoded data removed]",
            "text/plain": [
              "<Figure size 432x288 with 1 Axes>"
            ]
          },
          "metadata": {
            "needs_background": "light"
          },
          "output_type": "display_data"
        }
      ],
      "source": [
        "y_pred_over = reg.predict(x_axis)\n",
        "\n",
        "plt.figure()\n",
        "plt.scatter(xs, ys, c='k')\n",
        "plt.plot(x_axis, y_sin, ':', lw=4, alpha=0.2)\n",
        "plt.plot(x_axis, y_pred_under, label=\"premajhno prileganje\")\n",
        "plt.plot(x_axis, y_pred, label=\"konvergirano\")\n",
        "plt.plot(x_axis, y_pred_over, label=\"pretirano prileganje\")\n",
        "plt.grid()\n",
        "plt.legend()"
      ]
    },
    {
      "cell_type": "markdown",
      "id": "7acfd4ec",
      "metadata": {
        "id": "7acfd4ec"
      },
      "source": [
        "Vidimo lahko, da se je mreža odlično naučila nabora za učenje. Temu pravimo **pretirano prileganje**. To je seveda nezaželen rezultat, saj želimo, da bi omrežje lahko dobro delovalo tudi na podatkih, ki niso del učne množice.\n",
        "\n",
        "Sklepamo lahko, da je višja vrednost `tol` ustavila učenje, preden so bili parametri omrežja ponovno nastavljeni. Dejansko je povzročila **predčasno zaustavitev**, kar je druga strategija za regularizacijo.\n",
        "\n",
        "Poglejmo, kakšen vpliv bo imela regularizacija na postopek učenja."
      ]
    },
    {
      "cell_type": "code",
      "execution_count": null,
      "id": "04b27d22",
      "metadata": {
        "id": "04b27d22",
        "outputId": "f1f36ac3-255a-4b57-85ac-da10ca718d43"
      },
      "outputs": [
        {
          "data": {
            "text/plain": [
              "<matplotlib.legend.Legend at 0x271fcf66340>"
            ]
          },
          "execution_count": 28,
          "metadata": {},
          "output_type": "execute_result"
        },
        {
          "data": {
            "image/png": "[encoded data removed]",
            "text/plain": [
              "<Figure size 432x288 with 1 Axes>"
            ]
          },
          "metadata": {
            "needs_background": "light"
          },
          "output_type": "display_data"
        }
      ],
      "source": [
        "# %% spreminjaj regularizacijo\n",
        "plt.figure()\n",
        "plt.scatter(xs, ys)\n",
        "plt.plot(x_axis, y_sin, ':', lw=4, alpha=0.2)\n",
        "plt.grid()\n",
        "for alpha in [1, 0.5, 0.1, 0.01]:\n",
        "    reg = neural_network.MLPRegressor(\n",
        "        hidden_layer_sizes=(5),\n",
        "        activation=\"tanh\",\n",
        "        alpha=alpha,\n",
        "        learning_rate_init=0.01,\n",
        "        max_iter=10000,\n",
        "        tol=1e-9,\n",
        "        random_state=42,\n",
        "        )\n",
        "    reg.fit(xs, ys)\n",
        "    y_preds = reg.predict(x_axis)\n",
        "    plt.plot(x_axis, y_preds, lw=2, alpha=0.5, label=alpha)\n",
        "\n",
        "plt.legend()"
      ]
    },
    {
      "cell_type": "markdown",
      "id": "0f565ba4",
      "metadata": {
        "id": "0f565ba4"
      },
      "source": [
        "Vidimo lahko učinek prevelike regularizacije. V primeru, ko je $\\lambda$ 1, se mreža sploh ne uči iz učne množice. Pri premajhnih vrednostih (0,01) se omrežje spet pretirano prilega. Pri vrednosti 0,1 dobimo najboljše rezultate ne le v tem poskusu, temveč tudi na splošno - za vse poskuse do zdaj."
      ]
    },
    {
      "cell_type": "code",
      "execution_count": null,
      "id": "b1cbb8f4",
      "metadata": {
        "id": "b1cbb8f4"
      },
      "outputs": [],
      "source": []
    }
  ],
  "metadata": {
    "kernelspec": {
      "display_name": "Python 3",
      "language": "python",
      "name": "python3"
    },
    "language_info": {
      "codemirror_mode": {
        "name": "ipython",
        "version": 3
      },
      "file_extension": ".py",
      "mimetype": "text/x-python",
      "name": "python",
      "nbconvert_exporter": "python",
      "pygments_lexer": "ipython3",
      "version": "3.8.8"
    },
    "colab": {
      "provenance": []
    }
  },
  "nbformat": 4,
  "nbformat_minor": 5
}
